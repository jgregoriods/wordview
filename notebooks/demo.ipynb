{
 "cells": [
  {
   "cell_type": "code",
   "execution_count": 1,
   "id": "b1ec5af2",
   "metadata": {},
   "outputs": [],
   "source": [
    "from wordview.text_analysis import TextStatsPlots, LabelStatsPlots\n",
    "from wordview.anomaly import NormalDistAnomalies\n",
    "import pandas as pd\n",
    "import json\n",
    "from tabulate import tabulate\n",
    "from sklearn.feature_extraction.text import TfidfVectorizer\n",
    "import plotly.figure_factory as ff"
   ]
  },
  {
   "cell_type": "code",
   "execution_count": 2,
   "id": "a1ea4b12",
   "metadata": {},
   "outputs": [],
   "source": [
    "imdb_train = pd.read_csv('../data/imdb_train_sample.tsv', sep='\\t', names=['label', 'text'])\n",
    "imdb_train = imdb_train.sample(100)"
   ]
  },
  {
   "cell_type": "code",
   "execution_count": 6,
   "id": "04a7a0a2",
   "metadata": {},
   "outputs": [
    {
     "name": "stderr",
     "output_type": "stream",
     "text": [
      "core            - 258 - INFO - Processing text in text column of the input DataFrame...\n",
      "100%|███████████████████████████████████████████████████████████████████████████████████████████████| 100/100 [00:01<00:00, 65.68it/s]\n",
      "core            - 299 - INFO - Calculating Empirical and Theoretical Zipf values...\n",
      "core            - 304 - INFO - Time to measure predicted proportion for 4650 rows: 0.0037679672241210938\n"
     ]
    }
   ],
   "source": [
    "tsp = TextStatsPlots(df=imdb_train, text_column='text')"
   ]
  },
  {
   "cell_type": "code",
   "execution_count": 7,
   "id": "1caa0d0f",
   "metadata": {},
   "outputs": [
    {
     "data": {
      "application/vnd.plotly.v1+json": {
       "config": {
        "plotlyServerURL": "https://plot.ly"
       },
       "data": [
        {
         "hoverinfo": "text",
         "hovertext": [
          "good: 67",
          "bad: 41",
          "much: 33",
          "great: 31",
          "br: 29",
          "best: 25",
          "young: 22",
          "first: 18",
          "little: 17",
          "black: 16",
          "last: 16",
          "old: 14",
          "original: 13",
          "main: 12",
          "whole: 12",
          "least: 12",
          "new: 12",
          "classic: 11",
          "real: 11",
          "many: 10",
          "different: 10",
          "enjoyable: 9",
          "white: 9",
          "right: 9",
          "funny: 9",
          "wrong: 8",
          "nice: 8",
          "beautiful: 8",
          "better: 8",
          "next: 8",
          "worse: 8",
          "wonderful: 8",
          "poor: 7",
          "human: 7",
          "full: 7",
          "favorite: 7",
          "true: 7",
          "freeman: 7",
          "overall: 7",
          "british: 7",
          "decent: 6",
          "strong: 6",
          "simple: 6",
          "believable: 6",
          "evil: 6",
          "less: 6",
          "unique: 6",
          "excellent: 6",
          "second: 6",
          "long: 6",
          "sure: 6",
          "french: 6",
          "emotional: 6",
          "stupid: 6",
          "enough: 6",
          "single: 5",
          "special: 5",
          "top: 5",
          "watched: 5",
          "mary: 5",
          "several: 5",
          "perfect: 5",
          "sexual: 5",
          "screen: 5",
          "final: 5",
          "happy: 5",
          "live: 5",
          "african: 5",
          "difficult: 5",
          "worst: 5",
          "see: 5",
          "american: 5",
          "guy: 5",
          "terrible: 5",
          "wild: 5",
          "awful: 5",
          "give: 5",
          "low: 5",
          "small: 5",
          "spanish: 4",
          "legendary: 4",
          "suspense: 4",
          "west: 4",
          "exterior: 4",
          "big: 4",
          "realistic: 4",
          "brilliant: 4",
          "dvd: 4",
          "scary: 4",
          "similar: 4",
          "complete: 4",
          "late: 4",
          "else: 4",
          "biggest: 4",
          "huge: 4",
          "wish: 4",
          "lesbian: 4",
          "important: 4",
          "present: 4",
          "morgan: 4",
          "ridiculous: 4",
          "various: 4",
          "subject: 4",
          "easy: 4",
          "cast: 4",
          "worth: 4",
          "odd: 4",
          "high: 4",
          "able: 4",
          "ok: 4",
          "interesting: 4",
          "cool: 4",
          "hard: 4",
          "gillian: 4",
          "lady: 4",
          "teen: 4",
          "red: 4",
          "personal: 4",
          "slow: 4",
          "normal: 4",
          "memorable: 4",
          "tyrannous: 4",
          "bettie: 4",
          "come: 4",
          "n'dour: 4",
          "free: 3",
          "supernatural: 3",
          "certain: 3",
          "silly: 3",
          "creative: 3",
          "horrible: 3",
          "girl: 3",
          "close: 3",
          "uncomfortable: 3",
          "ten: 3",
          "magnificent: 3",
          "hot: 3",
          "rich: 3",
          "musical: 3",
          "past: 3",
          "alison: 3",
          "elderly: 3",
          "spiritual: 3",
          "future: 3",
          "positive: 3",
          "fine: 3",
          "remarkable: 3",
          "fresh: 3",
          "miss: 3",
          "social: 3"
         ],
         "mode": "text",
         "text": [
          "good",
          "bad",
          "much",
          "great",
          "br",
          "best",
          "young",
          "first",
          "little",
          "black",
          "last",
          "old",
          "original",
          "main",
          "whole",
          "least",
          "new",
          "classic",
          "real",
          "many",
          "different",
          "enjoyable",
          "white",
          "right",
          "funny",
          "wrong",
          "nice",
          "beautiful",
          "better",
          "next",
          "worse",
          "wonderful",
          "poor",
          "human",
          "full",
          "favorite",
          "true",
          "freeman",
          "overall",
          "british",
          "decent",
          "strong",
          "simple",
          "believable",
          "evil",
          "less",
          "unique",
          "excellent",
          "second",
          "long",
          "sure",
          "french",
          "emotional",
          "stupid",
          "enough",
          "single",
          "special",
          "top",
          "watched",
          "mary",
          "several",
          "perfect",
          "sexual",
          "screen",
          "final",
          "happy",
          "live",
          "african",
          "difficult",
          "worst",
          "see",
          "american",
          "guy",
          "terrible",
          "wild",
          "awful",
          "give",
          "low",
          "small",
          "spanish",
          "legendary",
          "suspense",
          "west",
          "exterior",
          "big",
          "realistic",
          "brilliant",
          "dvd",
          "scary",
          "similar",
          "complete",
          "late",
          "else",
          "biggest",
          "huge",
          "wish",
          "lesbian",
          "important",
          "present",
          "morgan",
          "ridiculous",
          "various",
          "subject",
          "easy",
          "cast",
          "worth",
          "odd",
          "high",
          "able",
          "ok",
          "interesting",
          "cool",
          "hard",
          "gillian",
          "lady",
          "teen",
          "red",
          "personal",
          "slow",
          "normal",
          "memorable",
          "tyrannous",
          "bettie",
          "come",
          "n'dour",
          "free",
          "supernatural",
          "certain",
          "silly",
          "creative",
          "horrible",
          "girl",
          "close",
          "uncomfortable",
          "ten",
          "magnificent",
          "hot",
          "rich",
          "musical",
          "past",
          "alison",
          "elderly",
          "spiritual",
          "future",
          "positive",
          "fine",
          "remarkable",
          "fresh",
          "miss",
          "social"
         ],
         "textfont": {
          "color": [
           "rgb(0, 0, 99)",
           "rgb(0, 0, 255)",
           "rgb(0, 0, 246)",
           "rgb(0, 0, 111)",
           "rgb(0, 0, 161)",
           "rgb(0, 0, 78)",
           "rgb(0, 0, 105)",
           "rgb(0, 0, 76)",
           "rgb(0, 0, 178)",
           "rgb(0, 0, 82)",
           "rgb(0, 0, 153)",
           "rgb(0, 0, 131)",
           "rgb(0, 0, 169)",
           "rgb(0, 0, 251)",
           "rgb(0, 0, 165)",
           "rgb(0, 0, 135)",
           "rgb(0, 0, 60)",
           "rgb(0, 0, 58)",
           "rgb(0, 0, 82)",
           "rgb(0, 0, 174)",
           "rgb(0, 0, 57)",
           "rgb(0, 0, 156)",
           "rgb(0, 0, 127)",
           "rgb(0, 0, 181)",
           "rgb(0, 0, 65)",
           "rgb(0, 0, 66)",
           "rgb(0, 0, 182)",
           "rgb(0, 0, 212)",
           "rgb(0, 0, 82)",
           "rgb(0, 0, 105)",
           "rgb(0, 0, 238)",
           "rgb(0, 0, 144)",
           "rgb(0, 0, 150)",
           "rgb(0, 0, 177)",
           "rgb(0, 0, 212)",
           "rgb(0, 0, 123)",
           "rgb(0, 0, 165)",
           "rgb(0, 0, 227)",
           "rgb(0, 0, 188)",
           "rgb(0, 0, 116)",
           "rgb(0, 0, 173)",
           "rgb(0, 0, 137)",
           "rgb(0, 0, 155)",
           "rgb(0, 0, 119)",
           "rgb(0, 0, 115)",
           "rgb(0, 0, 184)",
           "rgb(0, 0, 79)",
           "rgb(0, 0, 199)",
           "rgb(0, 0, 240)",
           "rgb(0, 0, 74)",
           "rgb(0, 0, 175)",
           "rgb(0, 0, 149)",
           "rgb(0, 0, 185)",
           "rgb(0, 0, 59)",
           "rgb(0, 0, 128)",
           "rgb(0, 0, 114)",
           "rgb(0, 0, 91)",
           "rgb(0, 0, 233)",
           "rgb(0, 0, 59)",
           "rgb(0, 0, 132)",
           "rgb(0, 0, 212)",
           "rgb(0, 0, 51)",
           "rgb(0, 0, 157)",
           "rgb(0, 0, 228)",
           "rgb(0, 0, 247)",
           "rgb(0, 0, 248)",
           "rgb(0, 0, 121)",
           "rgb(0, 0, 206)",
           "rgb(0, 0, 89)",
           "rgb(0, 0, 177)",
           "rgb(0, 0, 140)",
           "rgb(0, 0, 115)",
           "rgb(0, 0, 169)",
           "rgb(0, 0, 218)",
           "rgb(0, 0, 163)",
           "rgb(0, 0, 170)",
           "rgb(0, 0, 137)",
           "rgb(0, 0, 116)",
           "rgb(0, 0, 72)",
           "rgb(0, 0, 150)",
           "rgb(0, 0, 215)",
           "rgb(0, 0, 131)",
           "rgb(0, 0, 63)",
           "rgb(0, 0, 94)",
           "rgb(0, 0, 53)",
           "rgb(0, 0, 239)",
           "rgb(0, 0, 82)",
           "rgb(0, 0, 230)",
           "rgb(0, 0, 145)",
           "rgb(0, 0, 62)",
           "rgb(0, 0, 82)",
           "rgb(0, 0, 84)",
           "rgb(0, 0, 156)",
           "rgb(0, 0, 108)",
           "rgb(0, 0, 155)",
           "rgb(0, 0, 127)",
           "rgb(0, 0, 245)",
           "rgb(0, 0, 168)",
           "rgb(0, 0, 99)",
           "rgb(0, 0, 115)",
           "rgb(0, 0, 79)",
           "rgb(0, 0, 241)",
           "rgb(0, 0, 84)",
           "rgb(0, 0, 91)",
           "rgb(0, 0, 244)",
           "rgb(0, 0, 153)",
           "rgb(0, 0, 149)",
           "rgb(0, 0, 174)",
           "rgb(0, 0, 95)",
           "rgb(0, 0, 235)",
           "rgb(0, 0, 85)",
           "rgb(0, 0, 181)",
           "rgb(0, 0, 58)",
           "rgb(0, 0, 173)",
           "rgb(0, 0, 234)",
           "rgb(0, 0, 185)",
           "rgb(0, 0, 133)",
           "rgb(0, 0, 72)",
           "rgb(0, 0, 159)",
           "rgb(0, 0, 253)",
           "rgb(0, 0, 235)",
           "rgb(0, 0, 68)",
           "rgb(0, 0, 165)",
           "rgb(0, 0, 84)",
           "rgb(0, 0, 222)",
           "rgb(0, 0, 177)",
           "rgb(0, 0, 152)",
           "rgb(0, 0, 131)",
           "rgb(0, 0, 117)",
           "rgb(0, 0, 177)",
           "rgb(0, 0, 199)",
           "rgb(0, 0, 218)",
           "rgb(0, 0, 74)",
           "rgb(0, 0, 112)",
           "rgb(0, 0, 158)",
           "rgb(0, 0, 98)",
           "rgb(0, 0, 219)",
           "rgb(0, 0, 116)",
           "rgb(0, 0, 133)",
           "rgb(0, 0, 150)",
           "rgb(0, 0, 55)",
           "rgb(0, 0, 146)",
           "rgb(0, 0, 231)",
           "rgb(0, 0, 129)",
           "rgb(0, 0, 154)",
           "rgb(0, 0, 162)",
           "rgb(0, 0, 144)",
           "rgb(0, 0, 248)",
           "rgb(0, 0, 86)",
           "rgb(0, 0, 110)"
          ],
          "size": [
           100,
           61.194,
           49.2537,
           46.2687,
           43.2836,
           37.3134,
           32.8358,
           26.8657,
           25.3731,
           23.8806,
           23.8806,
           20.8955,
           19.403,
           17.9104,
           17.9104,
           17.9104,
           17.9104,
           16.4179,
           16.4179,
           14.9254,
           14.9254,
           13.4328,
           13.4328,
           13.4328,
           13.4328,
           11.9403,
           11.9403,
           11.9403,
           11.9403,
           11.9403,
           11.9403,
           11.9403,
           10.4478,
           10.4478,
           10.4478,
           10.4478,
           10.4478,
           10.4478,
           10.4478,
           10.4478,
           8.9552,
           8.9552,
           8.9552,
           8.9552,
           8.9552,
           8.9552,
           8.9552,
           8.9552,
           8.9552,
           8.9552,
           8.9552,
           8.9552,
           8.9552,
           8.9552,
           8.9552,
           7.4627,
           7.4627,
           7.4627,
           7.4627,
           7.4627,
           7.4627,
           7.4627,
           7.4627,
           7.4627,
           7.4627,
           7.4627,
           7.4627,
           7.4627,
           7.4627,
           7.4627,
           7.4627,
           7.4627,
           7.4627,
           7.4627,
           7.4627,
           7.4627,
           7.4627,
           7.4627,
           7.4627,
           5.9701,
           5.9701,
           5.9701,
           5.9701,
           5.9701,
           5.9701,
           5.9701,
           5.9701,
           5.9701,
           5.9701,
           5.9701,
           5.9701,
           5.9701,
           5.9701,
           5.9701,
           5.9701,
           5.9701,
           5.9701,
           5.9701,
           5.9701,
           5.9701,
           5.9701,
           5.9701,
           5.9701,
           5.9701,
           5.9701,
           5.9701,
           5.9701,
           5.9701,
           5.9701,
           5.9701,
           5.9701,
           5.9701,
           5.9701,
           5.9701,
           5.9701,
           5.9701,
           5.9701,
           5.9701,
           5.9701,
           5.9701,
           5.9701,
           5.9701,
           5.9701,
           5.9701,
           5.9701,
           4.4776,
           4.4776,
           4.4776,
           4.4776,
           4.4776,
           4.4776,
           4.4776,
           4.4776,
           4.4776,
           4.4776,
           4.4776,
           4.4776,
           4.4776,
           4.4776,
           4.4776,
           4.4776,
           4.4776,
           4.4776,
           4.4776,
           4.4776,
           4.4776,
           4.4776,
           4.4776,
           4.4776,
           4.4776
          ]
         },
         "type": "scattergl",
         "x": [
          39,
          131,
          3,
          136,
          84,
          5,
          115,
          4,
          58,
          102,
          114,
          115,
          87,
          23,
          183,
          183,
          4,
          43,
          6,
          42,
          4,
          82,
          3,
          21,
          1,
          2,
          134,
          135,
          138,
          134,
          191,
          136,
          5,
          191,
          165,
          191,
          187,
          68,
          105,
          147,
          69,
          95,
          28,
          58,
          6,
          81,
          46,
          70,
          160,
          58,
          192,
          38,
          2,
          105,
          156,
          84,
          174,
          45,
          135,
          78,
          167,
          156,
          65,
          107,
          48,
          43,
          120,
          95,
          15,
          76,
          136,
          20,
          160,
          34,
          6,
          51,
          121,
          108,
          91,
          13,
          28,
          180,
          69,
          193,
          85,
          10,
          32,
          69,
          146,
          58,
          157,
          183,
          175,
          1,
          57,
          20,
          122,
          101,
          166,
          59,
          153,
          89,
          71,
          32,
          167,
          112,
          146,
          49,
          169,
          160,
          127,
          171,
          52,
          1,
          29,
          11,
          34,
          53,
          41,
          75,
          120,
          31,
          7,
          84,
          189,
          112,
          91,
          176,
          113,
          15,
          74,
          42,
          174,
          165,
          113,
          75,
          98,
          172,
          153,
          54,
          169,
          27,
          76,
          160,
          12,
          120,
          173,
          1,
          68,
          168
         ],
         "y": [
          120,
          233,
          52,
          24,
          21,
          215,
          247,
          357,
          1,
          369,
          174,
          81,
          2,
          2,
          148,
          81,
          107,
          236,
          4,
          5,
          383,
          51,
          249,
          320,
          59,
          320,
          53,
          263,
          222,
          161,
          271,
          95,
          146,
          242,
          86,
          311,
          209,
          170,
          86,
          321,
          261,
          99,
          152,
          289,
          196,
          315,
          346,
          231,
          61,
          115,
          1,
          152,
          4,
          347,
          286,
          196,
          82,
          195,
          24,
          370,
          122,
          83,
          356,
          283,
          317,
          215,
          139,
          142,
          132,
          194,
          209,
          110,
          185,
          91,
          224,
          216,
          356,
          35,
          198,
          332,
          77,
          89,
          49,
          369,
          251,
          151,
          356,
          317,
          271,
          223,
          255,
          35,
          295,
          292,
          103,
          371,
          232,
          59,
          19,
          33,
          275,
          312,
          37,
          190,
          346,
          299,
          144,
          371,
          393,
          212,
          368,
          186,
          175,
          241,
          197,
          47,
          302,
          13,
          301,
          138,
          393,
          62,
          292,
          3,
          63,
          81,
          19,
          181,
          228,
          273,
          313,
          373,
          368,
          232,
          144,
          347,
          260,
          344,
          154,
          136,
          46,
          116,
          270,
          342,
          301,
          322,
          141,
          191,
          73,
          208
         ]
        }
       ],
       "layout": {
        "plot_bgcolor": "rgba(0, 0, 0, 0)",
        "template": {
         "data": {
          "bar": [
           {
            "error_x": {
             "color": "#2a3f5f"
            },
            "error_y": {
             "color": "#2a3f5f"
            },
            "marker": {
             "line": {
              "color": "#E5ECF6",
              "width": 0.5
             },
             "pattern": {
              "fillmode": "overlay",
              "size": 10,
              "solidity": 0.2
             }
            },
            "type": "bar"
           }
          ],
          "barpolar": [
           {
            "marker": {
             "line": {
              "color": "#E5ECF6",
              "width": 0.5
             },
             "pattern": {
              "fillmode": "overlay",
              "size": 10,
              "solidity": 0.2
             }
            },
            "type": "barpolar"
           }
          ],
          "carpet": [
           {
            "aaxis": {
             "endlinecolor": "#2a3f5f",
             "gridcolor": "white",
             "linecolor": "white",
             "minorgridcolor": "white",
             "startlinecolor": "#2a3f5f"
            },
            "baxis": {
             "endlinecolor": "#2a3f5f",
             "gridcolor": "white",
             "linecolor": "white",
             "minorgridcolor": "white",
             "startlinecolor": "#2a3f5f"
            },
            "type": "carpet"
           }
          ],
          "choropleth": [
           {
            "colorbar": {
             "outlinewidth": 0,
             "ticks": ""
            },
            "type": "choropleth"
           }
          ],
          "contour": [
           {
            "colorbar": {
             "outlinewidth": 0,
             "ticks": ""
            },
            "colorscale": [
             [
              0,
              "#0d0887"
             ],
             [
              0.1111111111111111,
              "#46039f"
             ],
             [
              0.2222222222222222,
              "#7201a8"
             ],
             [
              0.3333333333333333,
              "#9c179e"
             ],
             [
              0.4444444444444444,
              "#bd3786"
             ],
             [
              0.5555555555555556,
              "#d8576b"
             ],
             [
              0.6666666666666666,
              "#ed7953"
             ],
             [
              0.7777777777777778,
              "#fb9f3a"
             ],
             [
              0.8888888888888888,
              "#fdca26"
             ],
             [
              1,
              "#f0f921"
             ]
            ],
            "type": "contour"
           }
          ],
          "contourcarpet": [
           {
            "colorbar": {
             "outlinewidth": 0,
             "ticks": ""
            },
            "type": "contourcarpet"
           }
          ],
          "heatmap": [
           {
            "colorbar": {
             "outlinewidth": 0,
             "ticks": ""
            },
            "colorscale": [
             [
              0,
              "#0d0887"
             ],
             [
              0.1111111111111111,
              "#46039f"
             ],
             [
              0.2222222222222222,
              "#7201a8"
             ],
             [
              0.3333333333333333,
              "#9c179e"
             ],
             [
              0.4444444444444444,
              "#bd3786"
             ],
             [
              0.5555555555555556,
              "#d8576b"
             ],
             [
              0.6666666666666666,
              "#ed7953"
             ],
             [
              0.7777777777777778,
              "#fb9f3a"
             ],
             [
              0.8888888888888888,
              "#fdca26"
             ],
             [
              1,
              "#f0f921"
             ]
            ],
            "type": "heatmap"
           }
          ],
          "heatmapgl": [
           {
            "colorbar": {
             "outlinewidth": 0,
             "ticks": ""
            },
            "colorscale": [
             [
              0,
              "#0d0887"
             ],
             [
              0.1111111111111111,
              "#46039f"
             ],
             [
              0.2222222222222222,
              "#7201a8"
             ],
             [
              0.3333333333333333,
              "#9c179e"
             ],
             [
              0.4444444444444444,
              "#bd3786"
             ],
             [
              0.5555555555555556,
              "#d8576b"
             ],
             [
              0.6666666666666666,
              "#ed7953"
             ],
             [
              0.7777777777777778,
              "#fb9f3a"
             ],
             [
              0.8888888888888888,
              "#fdca26"
             ],
             [
              1,
              "#f0f921"
             ]
            ],
            "type": "heatmapgl"
           }
          ],
          "histogram": [
           {
            "marker": {
             "pattern": {
              "fillmode": "overlay",
              "size": 10,
              "solidity": 0.2
             }
            },
            "type": "histogram"
           }
          ],
          "histogram2d": [
           {
            "colorbar": {
             "outlinewidth": 0,
             "ticks": ""
            },
            "colorscale": [
             [
              0,
              "#0d0887"
             ],
             [
              0.1111111111111111,
              "#46039f"
             ],
             [
              0.2222222222222222,
              "#7201a8"
             ],
             [
              0.3333333333333333,
              "#9c179e"
             ],
             [
              0.4444444444444444,
              "#bd3786"
             ],
             [
              0.5555555555555556,
              "#d8576b"
             ],
             [
              0.6666666666666666,
              "#ed7953"
             ],
             [
              0.7777777777777778,
              "#fb9f3a"
             ],
             [
              0.8888888888888888,
              "#fdca26"
             ],
             [
              1,
              "#f0f921"
             ]
            ],
            "type": "histogram2d"
           }
          ],
          "histogram2dcontour": [
           {
            "colorbar": {
             "outlinewidth": 0,
             "ticks": ""
            },
            "colorscale": [
             [
              0,
              "#0d0887"
             ],
             [
              0.1111111111111111,
              "#46039f"
             ],
             [
              0.2222222222222222,
              "#7201a8"
             ],
             [
              0.3333333333333333,
              "#9c179e"
             ],
             [
              0.4444444444444444,
              "#bd3786"
             ],
             [
              0.5555555555555556,
              "#d8576b"
             ],
             [
              0.6666666666666666,
              "#ed7953"
             ],
             [
              0.7777777777777778,
              "#fb9f3a"
             ],
             [
              0.8888888888888888,
              "#fdca26"
             ],
             [
              1,
              "#f0f921"
             ]
            ],
            "type": "histogram2dcontour"
           }
          ],
          "mesh3d": [
           {
            "colorbar": {
             "outlinewidth": 0,
             "ticks": ""
            },
            "type": "mesh3d"
           }
          ],
          "parcoords": [
           {
            "line": {
             "colorbar": {
              "outlinewidth": 0,
              "ticks": ""
             }
            },
            "type": "parcoords"
           }
          ],
          "pie": [
           {
            "automargin": true,
            "type": "pie"
           }
          ],
          "scatter": [
           {
            "marker": {
             "colorbar": {
              "outlinewidth": 0,
              "ticks": ""
             }
            },
            "type": "scatter"
           }
          ],
          "scatter3d": [
           {
            "line": {
             "colorbar": {
              "outlinewidth": 0,
              "ticks": ""
             }
            },
            "marker": {
             "colorbar": {
              "outlinewidth": 0,
              "ticks": ""
             }
            },
            "type": "scatter3d"
           }
          ],
          "scattercarpet": [
           {
            "marker": {
             "colorbar": {
              "outlinewidth": 0,
              "ticks": ""
             }
            },
            "type": "scattercarpet"
           }
          ],
          "scattergeo": [
           {
            "marker": {
             "colorbar": {
              "outlinewidth": 0,
              "ticks": ""
             }
            },
            "type": "scattergeo"
           }
          ],
          "scattergl": [
           {
            "marker": {
             "colorbar": {
              "outlinewidth": 0,
              "ticks": ""
             }
            },
            "type": "scattergl"
           }
          ],
          "scattermapbox": [
           {
            "marker": {
             "colorbar": {
              "outlinewidth": 0,
              "ticks": ""
             }
            },
            "type": "scattermapbox"
           }
          ],
          "scatterpolar": [
           {
            "marker": {
             "colorbar": {
              "outlinewidth": 0,
              "ticks": ""
             }
            },
            "type": "scatterpolar"
           }
          ],
          "scatterpolargl": [
           {
            "marker": {
             "colorbar": {
              "outlinewidth": 0,
              "ticks": ""
             }
            },
            "type": "scatterpolargl"
           }
          ],
          "scatterternary": [
           {
            "marker": {
             "colorbar": {
              "outlinewidth": 0,
              "ticks": ""
             }
            },
            "type": "scatterternary"
           }
          ],
          "surface": [
           {
            "colorbar": {
             "outlinewidth": 0,
             "ticks": ""
            },
            "colorscale": [
             [
              0,
              "#0d0887"
             ],
             [
              0.1111111111111111,
              "#46039f"
             ],
             [
              0.2222222222222222,
              "#7201a8"
             ],
             [
              0.3333333333333333,
              "#9c179e"
             ],
             [
              0.4444444444444444,
              "#bd3786"
             ],
             [
              0.5555555555555556,
              "#d8576b"
             ],
             [
              0.6666666666666666,
              "#ed7953"
             ],
             [
              0.7777777777777778,
              "#fb9f3a"
             ],
             [
              0.8888888888888888,
              "#fdca26"
             ],
             [
              1,
              "#f0f921"
             ]
            ],
            "type": "surface"
           }
          ],
          "table": [
           {
            "cells": {
             "fill": {
              "color": "#EBF0F8"
             },
             "line": {
              "color": "white"
             }
            },
            "header": {
             "fill": {
              "color": "#C8D4E3"
             },
             "line": {
              "color": "white"
             }
            },
            "type": "table"
           }
          ]
         },
         "layout": {
          "annotationdefaults": {
           "arrowcolor": "#2a3f5f",
           "arrowhead": 0,
           "arrowwidth": 1
          },
          "autotypenumbers": "strict",
          "coloraxis": {
           "colorbar": {
            "outlinewidth": 0,
            "ticks": ""
           }
          },
          "colorscale": {
           "diverging": [
            [
             0,
             "#8e0152"
            ],
            [
             0.1,
             "#c51b7d"
            ],
            [
             0.2,
             "#de77ae"
            ],
            [
             0.3,
             "#f1b6da"
            ],
            [
             0.4,
             "#fde0ef"
            ],
            [
             0.5,
             "#f7f7f7"
            ],
            [
             0.6,
             "#e6f5d0"
            ],
            [
             0.7,
             "#b8e186"
            ],
            [
             0.8,
             "#7fbc41"
            ],
            [
             0.9,
             "#4d9221"
            ],
            [
             1,
             "#276419"
            ]
           ],
           "sequential": [
            [
             0,
             "#0d0887"
            ],
            [
             0.1111111111111111,
             "#46039f"
            ],
            [
             0.2222222222222222,
             "#7201a8"
            ],
            [
             0.3333333333333333,
             "#9c179e"
            ],
            [
             0.4444444444444444,
             "#bd3786"
            ],
            [
             0.5555555555555556,
             "#d8576b"
            ],
            [
             0.6666666666666666,
             "#ed7953"
            ],
            [
             0.7777777777777778,
             "#fb9f3a"
            ],
            [
             0.8888888888888888,
             "#fdca26"
            ],
            [
             1,
             "#f0f921"
            ]
           ],
           "sequentialminus": [
            [
             0,
             "#0d0887"
            ],
            [
             0.1111111111111111,
             "#46039f"
            ],
            [
             0.2222222222222222,
             "#7201a8"
            ],
            [
             0.3333333333333333,
             "#9c179e"
            ],
            [
             0.4444444444444444,
             "#bd3786"
            ],
            [
             0.5555555555555556,
             "#d8576b"
            ],
            [
             0.6666666666666666,
             "#ed7953"
            ],
            [
             0.7777777777777778,
             "#fb9f3a"
            ],
            [
             0.8888888888888888,
             "#fdca26"
            ],
            [
             1,
             "#f0f921"
            ]
           ]
          },
          "colorway": [
           "#636efa",
           "#EF553B",
           "#00cc96",
           "#ab63fa",
           "#FFA15A",
           "#19d3f3",
           "#FF6692",
           "#B6E880",
           "#FF97FF",
           "#FECB52"
          ],
          "font": {
           "color": "#2a3f5f"
          },
          "geo": {
           "bgcolor": "white",
           "lakecolor": "white",
           "landcolor": "#E5ECF6",
           "showlakes": true,
           "showland": true,
           "subunitcolor": "white"
          },
          "hoverlabel": {
           "align": "left"
          },
          "hovermode": "closest",
          "mapbox": {
           "style": "light"
          },
          "paper_bgcolor": "white",
          "plot_bgcolor": "#E5ECF6",
          "polar": {
           "angularaxis": {
            "gridcolor": "white",
            "linecolor": "white",
            "ticks": ""
           },
           "bgcolor": "#E5ECF6",
           "radialaxis": {
            "gridcolor": "white",
            "linecolor": "white",
            "ticks": ""
           }
          },
          "scene": {
           "xaxis": {
            "backgroundcolor": "#E5ECF6",
            "gridcolor": "white",
            "gridwidth": 2,
            "linecolor": "white",
            "showbackground": true,
            "ticks": "",
            "zerolinecolor": "white"
           },
           "yaxis": {
            "backgroundcolor": "#E5ECF6",
            "gridcolor": "white",
            "gridwidth": 2,
            "linecolor": "white",
            "showbackground": true,
            "ticks": "",
            "zerolinecolor": "white"
           },
           "zaxis": {
            "backgroundcolor": "#E5ECF6",
            "gridcolor": "white",
            "gridwidth": 2,
            "linecolor": "white",
            "showbackground": true,
            "ticks": "",
            "zerolinecolor": "white"
           }
          },
          "shapedefaults": {
           "line": {
            "color": "#2a3f5f"
           }
          },
          "ternary": {
           "aaxis": {
            "gridcolor": "white",
            "linecolor": "white",
            "ticks": ""
           },
           "baxis": {
            "gridcolor": "white",
            "linecolor": "white",
            "ticks": ""
           },
           "bgcolor": "#E5ECF6",
           "caxis": {
            "gridcolor": "white",
            "linecolor": "white",
            "ticks": ""
           }
          },
          "title": {
           "x": 0.05
          },
          "xaxis": {
           "automargin": true,
           "gridcolor": "white",
           "linecolor": "white",
           "ticks": "",
           "title": {
            "standoff": 15
           },
           "zerolinecolor": "white",
           "zerolinewidth": 2
          },
          "yaxis": {
           "automargin": true,
           "gridcolor": "white",
           "linecolor": "white",
           "ticks": "",
           "title": {
            "standoff": 15
           },
           "zerolinecolor": "white",
           "zerolinewidth": 2
          }
         }
        }
       }
      },
      "text/html": [
       "<div>                            <div id=\"3d4521d5-6b4c-4bfe-ba99-f3ed65d7cc5b\" class=\"plotly-graph-div\" style=\"height:525px; width:100%;\"></div>            <script type=\"text/javascript\">                require([\"plotly\"], function(Plotly) {                    window.PLOTLYENV=window.PLOTLYENV || {};                                    if (document.getElementById(\"3d4521d5-6b4c-4bfe-ba99-f3ed65d7cc5b\")) {                    Plotly.newPlot(                        \"3d4521d5-6b4c-4bfe-ba99-f3ed65d7cc5b\",                        [{\"hoverinfo\":\"text\",\"hovertext\":[\"good: 67\",\"bad: 41\",\"much: 33\",\"great: 31\",\"br: 29\",\"best: 25\",\"young: 22\",\"first: 18\",\"little: 17\",\"black: 16\",\"last: 16\",\"old: 14\",\"original: 13\",\"main: 12\",\"whole: 12\",\"least: 12\",\"new: 12\",\"classic: 11\",\"real: 11\",\"many: 10\",\"different: 10\",\"enjoyable: 9\",\"white: 9\",\"right: 9\",\"funny: 9\",\"wrong: 8\",\"nice: 8\",\"beautiful: 8\",\"better: 8\",\"next: 8\",\"worse: 8\",\"wonderful: 8\",\"poor: 7\",\"human: 7\",\"full: 7\",\"favorite: 7\",\"true: 7\",\"freeman: 7\",\"overall: 7\",\"british: 7\",\"decent: 6\",\"strong: 6\",\"simple: 6\",\"believable: 6\",\"evil: 6\",\"less: 6\",\"unique: 6\",\"excellent: 6\",\"second: 6\",\"long: 6\",\"sure: 6\",\"french: 6\",\"emotional: 6\",\"stupid: 6\",\"enough: 6\",\"single: 5\",\"special: 5\",\"top: 5\",\"watched: 5\",\"mary: 5\",\"several: 5\",\"perfect: 5\",\"sexual: 5\",\"screen: 5\",\"final: 5\",\"happy: 5\",\"live: 5\",\"african: 5\",\"difficult: 5\",\"worst: 5\",\"see: 5\",\"american: 5\",\"guy: 5\",\"terrible: 5\",\"wild: 5\",\"awful: 5\",\"give: 5\",\"low: 5\",\"small: 5\",\"spanish: 4\",\"legendary: 4\",\"suspense: 4\",\"west: 4\",\"exterior: 4\",\"big: 4\",\"realistic: 4\",\"brilliant: 4\",\"dvd: 4\",\"scary: 4\",\"similar: 4\",\"complete: 4\",\"late: 4\",\"else: 4\",\"biggest: 4\",\"huge: 4\",\"wish: 4\",\"lesbian: 4\",\"important: 4\",\"present: 4\",\"morgan: 4\",\"ridiculous: 4\",\"various: 4\",\"subject: 4\",\"easy: 4\",\"cast: 4\",\"worth: 4\",\"odd: 4\",\"high: 4\",\"able: 4\",\"ok: 4\",\"interesting: 4\",\"cool: 4\",\"hard: 4\",\"gillian: 4\",\"lady: 4\",\"teen: 4\",\"red: 4\",\"personal: 4\",\"slow: 4\",\"normal: 4\",\"memorable: 4\",\"tyrannous: 4\",\"bettie: 4\",\"come: 4\",\"n'dour: 4\",\"free: 3\",\"supernatural: 3\",\"certain: 3\",\"silly: 3\",\"creative: 3\",\"horrible: 3\",\"girl: 3\",\"close: 3\",\"uncomfortable: 3\",\"ten: 3\",\"magnificent: 3\",\"hot: 3\",\"rich: 3\",\"musical: 3\",\"past: 3\",\"alison: 3\",\"elderly: 3\",\"spiritual: 3\",\"future: 3\",\"positive: 3\",\"fine: 3\",\"remarkable: 3\",\"fresh: 3\",\"miss: 3\",\"social: 3\"],\"mode\":\"text\",\"text\":[\"good\",\"bad\",\"much\",\"great\",\"br\",\"best\",\"young\",\"first\",\"little\",\"black\",\"last\",\"old\",\"original\",\"main\",\"whole\",\"least\",\"new\",\"classic\",\"real\",\"many\",\"different\",\"enjoyable\",\"white\",\"right\",\"funny\",\"wrong\",\"nice\",\"beautiful\",\"better\",\"next\",\"worse\",\"wonderful\",\"poor\",\"human\",\"full\",\"favorite\",\"true\",\"freeman\",\"overall\",\"british\",\"decent\",\"strong\",\"simple\",\"believable\",\"evil\",\"less\",\"unique\",\"excellent\",\"second\",\"long\",\"sure\",\"french\",\"emotional\",\"stupid\",\"enough\",\"single\",\"special\",\"top\",\"watched\",\"mary\",\"several\",\"perfect\",\"sexual\",\"screen\",\"final\",\"happy\",\"live\",\"african\",\"difficult\",\"worst\",\"see\",\"american\",\"guy\",\"terrible\",\"wild\",\"awful\",\"give\",\"low\",\"small\",\"spanish\",\"legendary\",\"suspense\",\"west\",\"exterior\",\"big\",\"realistic\",\"brilliant\",\"dvd\",\"scary\",\"similar\",\"complete\",\"late\",\"else\",\"biggest\",\"huge\",\"wish\",\"lesbian\",\"important\",\"present\",\"morgan\",\"ridiculous\",\"various\",\"subject\",\"easy\",\"cast\",\"worth\",\"odd\",\"high\",\"able\",\"ok\",\"interesting\",\"cool\",\"hard\",\"gillian\",\"lady\",\"teen\",\"red\",\"personal\",\"slow\",\"normal\",\"memorable\",\"tyrannous\",\"bettie\",\"come\",\"n'dour\",\"free\",\"supernatural\",\"certain\",\"silly\",\"creative\",\"horrible\",\"girl\",\"close\",\"uncomfortable\",\"ten\",\"magnificent\",\"hot\",\"rich\",\"musical\",\"past\",\"alison\",\"elderly\",\"spiritual\",\"future\",\"positive\",\"fine\",\"remarkable\",\"fresh\",\"miss\",\"social\"],\"textfont\":{\"color\":[\"rgb(0, 0, 99)\",\"rgb(0, 0, 255)\",\"rgb(0, 0, 246)\",\"rgb(0, 0, 111)\",\"rgb(0, 0, 161)\",\"rgb(0, 0, 78)\",\"rgb(0, 0, 105)\",\"rgb(0, 0, 76)\",\"rgb(0, 0, 178)\",\"rgb(0, 0, 82)\",\"rgb(0, 0, 153)\",\"rgb(0, 0, 131)\",\"rgb(0, 0, 169)\",\"rgb(0, 0, 251)\",\"rgb(0, 0, 165)\",\"rgb(0, 0, 135)\",\"rgb(0, 0, 60)\",\"rgb(0, 0, 58)\",\"rgb(0, 0, 82)\",\"rgb(0, 0, 174)\",\"rgb(0, 0, 57)\",\"rgb(0, 0, 156)\",\"rgb(0, 0, 127)\",\"rgb(0, 0, 181)\",\"rgb(0, 0, 65)\",\"rgb(0, 0, 66)\",\"rgb(0, 0, 182)\",\"rgb(0, 0, 212)\",\"rgb(0, 0, 82)\",\"rgb(0, 0, 105)\",\"rgb(0, 0, 238)\",\"rgb(0, 0, 144)\",\"rgb(0, 0, 150)\",\"rgb(0, 0, 177)\",\"rgb(0, 0, 212)\",\"rgb(0, 0, 123)\",\"rgb(0, 0, 165)\",\"rgb(0, 0, 227)\",\"rgb(0, 0, 188)\",\"rgb(0, 0, 116)\",\"rgb(0, 0, 173)\",\"rgb(0, 0, 137)\",\"rgb(0, 0, 155)\",\"rgb(0, 0, 119)\",\"rgb(0, 0, 115)\",\"rgb(0, 0, 184)\",\"rgb(0, 0, 79)\",\"rgb(0, 0, 199)\",\"rgb(0, 0, 240)\",\"rgb(0, 0, 74)\",\"rgb(0, 0, 175)\",\"rgb(0, 0, 149)\",\"rgb(0, 0, 185)\",\"rgb(0, 0, 59)\",\"rgb(0, 0, 128)\",\"rgb(0, 0, 114)\",\"rgb(0, 0, 91)\",\"rgb(0, 0, 233)\",\"rgb(0, 0, 59)\",\"rgb(0, 0, 132)\",\"rgb(0, 0, 212)\",\"rgb(0, 0, 51)\",\"rgb(0, 0, 157)\",\"rgb(0, 0, 228)\",\"rgb(0, 0, 247)\",\"rgb(0, 0, 248)\",\"rgb(0, 0, 121)\",\"rgb(0, 0, 206)\",\"rgb(0, 0, 89)\",\"rgb(0, 0, 177)\",\"rgb(0, 0, 140)\",\"rgb(0, 0, 115)\",\"rgb(0, 0, 169)\",\"rgb(0, 0, 218)\",\"rgb(0, 0, 163)\",\"rgb(0, 0, 170)\",\"rgb(0, 0, 137)\",\"rgb(0, 0, 116)\",\"rgb(0, 0, 72)\",\"rgb(0, 0, 150)\",\"rgb(0, 0, 215)\",\"rgb(0, 0, 131)\",\"rgb(0, 0, 63)\",\"rgb(0, 0, 94)\",\"rgb(0, 0, 53)\",\"rgb(0, 0, 239)\",\"rgb(0, 0, 82)\",\"rgb(0, 0, 230)\",\"rgb(0, 0, 145)\",\"rgb(0, 0, 62)\",\"rgb(0, 0, 82)\",\"rgb(0, 0, 84)\",\"rgb(0, 0, 156)\",\"rgb(0, 0, 108)\",\"rgb(0, 0, 155)\",\"rgb(0, 0, 127)\",\"rgb(0, 0, 245)\",\"rgb(0, 0, 168)\",\"rgb(0, 0, 99)\",\"rgb(0, 0, 115)\",\"rgb(0, 0, 79)\",\"rgb(0, 0, 241)\",\"rgb(0, 0, 84)\",\"rgb(0, 0, 91)\",\"rgb(0, 0, 244)\",\"rgb(0, 0, 153)\",\"rgb(0, 0, 149)\",\"rgb(0, 0, 174)\",\"rgb(0, 0, 95)\",\"rgb(0, 0, 235)\",\"rgb(0, 0, 85)\",\"rgb(0, 0, 181)\",\"rgb(0, 0, 58)\",\"rgb(0, 0, 173)\",\"rgb(0, 0, 234)\",\"rgb(0, 0, 185)\",\"rgb(0, 0, 133)\",\"rgb(0, 0, 72)\",\"rgb(0, 0, 159)\",\"rgb(0, 0, 253)\",\"rgb(0, 0, 235)\",\"rgb(0, 0, 68)\",\"rgb(0, 0, 165)\",\"rgb(0, 0, 84)\",\"rgb(0, 0, 222)\",\"rgb(0, 0, 177)\",\"rgb(0, 0, 152)\",\"rgb(0, 0, 131)\",\"rgb(0, 0, 117)\",\"rgb(0, 0, 177)\",\"rgb(0, 0, 199)\",\"rgb(0, 0, 218)\",\"rgb(0, 0, 74)\",\"rgb(0, 0, 112)\",\"rgb(0, 0, 158)\",\"rgb(0, 0, 98)\",\"rgb(0, 0, 219)\",\"rgb(0, 0, 116)\",\"rgb(0, 0, 133)\",\"rgb(0, 0, 150)\",\"rgb(0, 0, 55)\",\"rgb(0, 0, 146)\",\"rgb(0, 0, 231)\",\"rgb(0, 0, 129)\",\"rgb(0, 0, 154)\",\"rgb(0, 0, 162)\",\"rgb(0, 0, 144)\",\"rgb(0, 0, 248)\",\"rgb(0, 0, 86)\",\"rgb(0, 0, 110)\"],\"size\":[100.0,61.194,49.2537,46.2687,43.2836,37.3134,32.8358,26.8657,25.3731,23.8806,23.8806,20.8955,19.403,17.9104,17.9104,17.9104,17.9104,16.4179,16.4179,14.9254,14.9254,13.4328,13.4328,13.4328,13.4328,11.9403,11.9403,11.9403,11.9403,11.9403,11.9403,11.9403,10.4478,10.4478,10.4478,10.4478,10.4478,10.4478,10.4478,10.4478,8.9552,8.9552,8.9552,8.9552,8.9552,8.9552,8.9552,8.9552,8.9552,8.9552,8.9552,8.9552,8.9552,8.9552,8.9552,7.4627,7.4627,7.4627,7.4627,7.4627,7.4627,7.4627,7.4627,7.4627,7.4627,7.4627,7.4627,7.4627,7.4627,7.4627,7.4627,7.4627,7.4627,7.4627,7.4627,7.4627,7.4627,7.4627,7.4627,5.9701,5.9701,5.9701,5.9701,5.9701,5.9701,5.9701,5.9701,5.9701,5.9701,5.9701,5.9701,5.9701,5.9701,5.9701,5.9701,5.9701,5.9701,5.9701,5.9701,5.9701,5.9701,5.9701,5.9701,5.9701,5.9701,5.9701,5.9701,5.9701,5.9701,5.9701,5.9701,5.9701,5.9701,5.9701,5.9701,5.9701,5.9701,5.9701,5.9701,5.9701,5.9701,5.9701,5.9701,5.9701,5.9701,4.4776,4.4776,4.4776,4.4776,4.4776,4.4776,4.4776,4.4776,4.4776,4.4776,4.4776,4.4776,4.4776,4.4776,4.4776,4.4776,4.4776,4.4776,4.4776,4.4776,4.4776,4.4776,4.4776,4.4776,4.4776]},\"x\":[39,131,3,136,84,5,115,4,58,102,114,115,87,23,183,183,4,43,6,42,4,82,3,21,1,2,134,135,138,134,191,136,5,191,165,191,187,68,105,147,69,95,28,58,6,81,46,70,160,58,192,38,2,105,156,84,174,45,135,78,167,156,65,107,48,43,120,95,15,76,136,20,160,34,6,51,121,108,91,13,28,180,69,193,85,10,32,69,146,58,157,183,175,1,57,20,122,101,166,59,153,89,71,32,167,112,146,49,169,160,127,171,52,1,29,11,34,53,41,75,120,31,7,84,189,112,91,176,113,15,74,42,174,165,113,75,98,172,153,54,169,27,76,160,12,120,173,1,68,168],\"y\":[120,233,52,24,21,215,247,357,1,369,174,81,2,2,148,81,107,236,4,5,383,51,249,320,59,320,53,263,222,161,271,95,146,242,86,311,209,170,86,321,261,99,152,289,196,315,346,231,61,115,1,152,4,347,286,196,82,195,24,370,122,83,356,283,317,215,139,142,132,194,209,110,185,91,224,216,356,35,198,332,77,89,49,369,251,151,356,317,271,223,255,35,295,292,103,371,232,59,19,33,275,312,37,190,346,299,144,371,393,212,368,186,175,241,197,47,302,13,301,138,393,62,292,3,63,81,19,181,228,273,313,373,368,232,144,347,260,344,154,136,46,116,270,342,301,322,141,191,73,208],\"type\":\"scattergl\"}],                        {\"template\":{\"data\":{\"bar\":[{\"error_x\":{\"color\":\"#2a3f5f\"},\"error_y\":{\"color\":\"#2a3f5f\"},\"marker\":{\"line\":{\"color\":\"#E5ECF6\",\"width\":0.5},\"pattern\":{\"fillmode\":\"overlay\",\"size\":10,\"solidity\":0.2}},\"type\":\"bar\"}],\"barpolar\":[{\"marker\":{\"line\":{\"color\":\"#E5ECF6\",\"width\":0.5},\"pattern\":{\"fillmode\":\"overlay\",\"size\":10,\"solidity\":0.2}},\"type\":\"barpolar\"}],\"carpet\":[{\"aaxis\":{\"endlinecolor\":\"#2a3f5f\",\"gridcolor\":\"white\",\"linecolor\":\"white\",\"minorgridcolor\":\"white\",\"startlinecolor\":\"#2a3f5f\"},\"baxis\":{\"endlinecolor\":\"#2a3f5f\",\"gridcolor\":\"white\",\"linecolor\":\"white\",\"minorgridcolor\":\"white\",\"startlinecolor\":\"#2a3f5f\"},\"type\":\"carpet\"}],\"choropleth\":[{\"colorbar\":{\"outlinewidth\":0,\"ticks\":\"\"},\"type\":\"choropleth\"}],\"contour\":[{\"colorbar\":{\"outlinewidth\":0,\"ticks\":\"\"},\"colorscale\":[[0.0,\"#0d0887\"],[0.1111111111111111,\"#46039f\"],[0.2222222222222222,\"#7201a8\"],[0.3333333333333333,\"#9c179e\"],[0.4444444444444444,\"#bd3786\"],[0.5555555555555556,\"#d8576b\"],[0.6666666666666666,\"#ed7953\"],[0.7777777777777778,\"#fb9f3a\"],[0.8888888888888888,\"#fdca26\"],[1.0,\"#f0f921\"]],\"type\":\"contour\"}],\"contourcarpet\":[{\"colorbar\":{\"outlinewidth\":0,\"ticks\":\"\"},\"type\":\"contourcarpet\"}],\"heatmap\":[{\"colorbar\":{\"outlinewidth\":0,\"ticks\":\"\"},\"colorscale\":[[0.0,\"#0d0887\"],[0.1111111111111111,\"#46039f\"],[0.2222222222222222,\"#7201a8\"],[0.3333333333333333,\"#9c179e\"],[0.4444444444444444,\"#bd3786\"],[0.5555555555555556,\"#d8576b\"],[0.6666666666666666,\"#ed7953\"],[0.7777777777777778,\"#fb9f3a\"],[0.8888888888888888,\"#fdca26\"],[1.0,\"#f0f921\"]],\"type\":\"heatmap\"}],\"heatmapgl\":[{\"colorbar\":{\"outlinewidth\":0,\"ticks\":\"\"},\"colorscale\":[[0.0,\"#0d0887\"],[0.1111111111111111,\"#46039f\"],[0.2222222222222222,\"#7201a8\"],[0.3333333333333333,\"#9c179e\"],[0.4444444444444444,\"#bd3786\"],[0.5555555555555556,\"#d8576b\"],[0.6666666666666666,\"#ed7953\"],[0.7777777777777778,\"#fb9f3a\"],[0.8888888888888888,\"#fdca26\"],[1.0,\"#f0f921\"]],\"type\":\"heatmapgl\"}],\"histogram\":[{\"marker\":{\"pattern\":{\"fillmode\":\"overlay\",\"size\":10,\"solidity\":0.2}},\"type\":\"histogram\"}],\"histogram2d\":[{\"colorbar\":{\"outlinewidth\":0,\"ticks\":\"\"},\"colorscale\":[[0.0,\"#0d0887\"],[0.1111111111111111,\"#46039f\"],[0.2222222222222222,\"#7201a8\"],[0.3333333333333333,\"#9c179e\"],[0.4444444444444444,\"#bd3786\"],[0.5555555555555556,\"#d8576b\"],[0.6666666666666666,\"#ed7953\"],[0.7777777777777778,\"#fb9f3a\"],[0.8888888888888888,\"#fdca26\"],[1.0,\"#f0f921\"]],\"type\":\"histogram2d\"}],\"histogram2dcontour\":[{\"colorbar\":{\"outlinewidth\":0,\"ticks\":\"\"},\"colorscale\":[[0.0,\"#0d0887\"],[0.1111111111111111,\"#46039f\"],[0.2222222222222222,\"#7201a8\"],[0.3333333333333333,\"#9c179e\"],[0.4444444444444444,\"#bd3786\"],[0.5555555555555556,\"#d8576b\"],[0.6666666666666666,\"#ed7953\"],[0.7777777777777778,\"#fb9f3a\"],[0.8888888888888888,\"#fdca26\"],[1.0,\"#f0f921\"]],\"type\":\"histogram2dcontour\"}],\"mesh3d\":[{\"colorbar\":{\"outlinewidth\":0,\"ticks\":\"\"},\"type\":\"mesh3d\"}],\"parcoords\":[{\"line\":{\"colorbar\":{\"outlinewidth\":0,\"ticks\":\"\"}},\"type\":\"parcoords\"}],\"pie\":[{\"automargin\":true,\"type\":\"pie\"}],\"scatter\":[{\"marker\":{\"colorbar\":{\"outlinewidth\":0,\"ticks\":\"\"}},\"type\":\"scatter\"}],\"scatter3d\":[{\"line\":{\"colorbar\":{\"outlinewidth\":0,\"ticks\":\"\"}},\"marker\":{\"colorbar\":{\"outlinewidth\":0,\"ticks\":\"\"}},\"type\":\"scatter3d\"}],\"scattercarpet\":[{\"marker\":{\"colorbar\":{\"outlinewidth\":0,\"ticks\":\"\"}},\"type\":\"scattercarpet\"}],\"scattergeo\":[{\"marker\":{\"colorbar\":{\"outlinewidth\":0,\"ticks\":\"\"}},\"type\":\"scattergeo\"}],\"scattergl\":[{\"marker\":{\"colorbar\":{\"outlinewidth\":0,\"ticks\":\"\"}},\"type\":\"scattergl\"}],\"scattermapbox\":[{\"marker\":{\"colorbar\":{\"outlinewidth\":0,\"ticks\":\"\"}},\"type\":\"scattermapbox\"}],\"scatterpolar\":[{\"marker\":{\"colorbar\":{\"outlinewidth\":0,\"ticks\":\"\"}},\"type\":\"scatterpolar\"}],\"scatterpolargl\":[{\"marker\":{\"colorbar\":{\"outlinewidth\":0,\"ticks\":\"\"}},\"type\":\"scatterpolargl\"}],\"scatterternary\":[{\"marker\":{\"colorbar\":{\"outlinewidth\":0,\"ticks\":\"\"}},\"type\":\"scatterternary\"}],\"surface\":[{\"colorbar\":{\"outlinewidth\":0,\"ticks\":\"\"},\"colorscale\":[[0.0,\"#0d0887\"],[0.1111111111111111,\"#46039f\"],[0.2222222222222222,\"#7201a8\"],[0.3333333333333333,\"#9c179e\"],[0.4444444444444444,\"#bd3786\"],[0.5555555555555556,\"#d8576b\"],[0.6666666666666666,\"#ed7953\"],[0.7777777777777778,\"#fb9f3a\"],[0.8888888888888888,\"#fdca26\"],[1.0,\"#f0f921\"]],\"type\":\"surface\"}],\"table\":[{\"cells\":{\"fill\":{\"color\":\"#EBF0F8\"},\"line\":{\"color\":\"white\"}},\"header\":{\"fill\":{\"color\":\"#C8D4E3\"},\"line\":{\"color\":\"white\"}},\"type\":\"table\"}]},\"layout\":{\"annotationdefaults\":{\"arrowcolor\":\"#2a3f5f\",\"arrowhead\":0,\"arrowwidth\":1},\"autotypenumbers\":\"strict\",\"coloraxis\":{\"colorbar\":{\"outlinewidth\":0,\"ticks\":\"\"}},\"colorscale\":{\"diverging\":[[0,\"#8e0152\"],[0.1,\"#c51b7d\"],[0.2,\"#de77ae\"],[0.3,\"#f1b6da\"],[0.4,\"#fde0ef\"],[0.5,\"#f7f7f7\"],[0.6,\"#e6f5d0\"],[0.7,\"#b8e186\"],[0.8,\"#7fbc41\"],[0.9,\"#4d9221\"],[1,\"#276419\"]],\"sequential\":[[0.0,\"#0d0887\"],[0.1111111111111111,\"#46039f\"],[0.2222222222222222,\"#7201a8\"],[0.3333333333333333,\"#9c179e\"],[0.4444444444444444,\"#bd3786\"],[0.5555555555555556,\"#d8576b\"],[0.6666666666666666,\"#ed7953\"],[0.7777777777777778,\"#fb9f3a\"],[0.8888888888888888,\"#fdca26\"],[1.0,\"#f0f921\"]],\"sequentialminus\":[[0.0,\"#0d0887\"],[0.1111111111111111,\"#46039f\"],[0.2222222222222222,\"#7201a8\"],[0.3333333333333333,\"#9c179e\"],[0.4444444444444444,\"#bd3786\"],[0.5555555555555556,\"#d8576b\"],[0.6666666666666666,\"#ed7953\"],[0.7777777777777778,\"#fb9f3a\"],[0.8888888888888888,\"#fdca26\"],[1.0,\"#f0f921\"]]},\"colorway\":[\"#636efa\",\"#EF553B\",\"#00cc96\",\"#ab63fa\",\"#FFA15A\",\"#19d3f3\",\"#FF6692\",\"#B6E880\",\"#FF97FF\",\"#FECB52\"],\"font\":{\"color\":\"#2a3f5f\"},\"geo\":{\"bgcolor\":\"white\",\"lakecolor\":\"white\",\"landcolor\":\"#E5ECF6\",\"showlakes\":true,\"showland\":true,\"subunitcolor\":\"white\"},\"hoverlabel\":{\"align\":\"left\"},\"hovermode\":\"closest\",\"mapbox\":{\"style\":\"light\"},\"paper_bgcolor\":\"white\",\"plot_bgcolor\":\"#E5ECF6\",\"polar\":{\"angularaxis\":{\"gridcolor\":\"white\",\"linecolor\":\"white\",\"ticks\":\"\"},\"bgcolor\":\"#E5ECF6\",\"radialaxis\":{\"gridcolor\":\"white\",\"linecolor\":\"white\",\"ticks\":\"\"}},\"scene\":{\"xaxis\":{\"backgroundcolor\":\"#E5ECF6\",\"gridcolor\":\"white\",\"gridwidth\":2,\"linecolor\":\"white\",\"showbackground\":true,\"ticks\":\"\",\"zerolinecolor\":\"white\"},\"yaxis\":{\"backgroundcolor\":\"#E5ECF6\",\"gridcolor\":\"white\",\"gridwidth\":2,\"linecolor\":\"white\",\"showbackground\":true,\"ticks\":\"\",\"zerolinecolor\":\"white\"},\"zaxis\":{\"backgroundcolor\":\"#E5ECF6\",\"gridcolor\":\"white\",\"gridwidth\":2,\"linecolor\":\"white\",\"showbackground\":true,\"ticks\":\"\",\"zerolinecolor\":\"white\"}},\"shapedefaults\":{\"line\":{\"color\":\"#2a3f5f\"}},\"ternary\":{\"aaxis\":{\"gridcolor\":\"white\",\"linecolor\":\"white\",\"ticks\":\"\"},\"baxis\":{\"gridcolor\":\"white\",\"linecolor\":\"white\",\"ticks\":\"\"},\"bgcolor\":\"#E5ECF6\",\"caxis\":{\"gridcolor\":\"white\",\"linecolor\":\"white\",\"ticks\":\"\"}},\"title\":{\"x\":0.05},\"xaxis\":{\"automargin\":true,\"gridcolor\":\"white\",\"linecolor\":\"white\",\"ticks\":\"\",\"title\":{\"standoff\":15},\"zerolinecolor\":\"white\",\"zerolinewidth\":2},\"yaxis\":{\"automargin\":true,\"gridcolor\":\"white\",\"linecolor\":\"white\",\"ticks\":\"\",\"title\":{\"standoff\":15},\"zerolinecolor\":\"white\",\"zerolinewidth\":2}}},\"plot_bgcolor\":\"rgba(0, 0, 0, 0)\"},                        {\"responsive\": true}                    ).then(function(){\n",
       "                            \n",
       "var gd = document.getElementById('3d4521d5-6b4c-4bfe-ba99-f3ed65d7cc5b');\n",
       "var x = new MutationObserver(function (mutations, observer) {{\n",
       "        var display = window.getComputedStyle(gd).display;\n",
       "        if (!display || display === 'none') {{\n",
       "            console.log([gd, 'removed!']);\n",
       "            Plotly.purge(gd);\n",
       "            observer.disconnect();\n",
       "        }}\n",
       "}});\n",
       "\n",
       "// Listen for the removal of the full notebook cells\n",
       "var notebookContainer = gd.closest('#notebook-container');\n",
       "if (notebookContainer) {{\n",
       "    x.observe(notebookContainer, {childList: true});\n",
       "}}\n",
       "\n",
       "// Listen for the clearing of the current output cell\n",
       "var outputEl = gd.closest('.output');\n",
       "if (outputEl) {{\n",
       "    x.observe(outputEl, {childList: true});\n",
       "}}\n",
       "\n",
       "                        })                };                });            </script>        </div>"
      ]
     },
     "metadata": {},
     "output_type": "display_data"
    }
   ],
   "source": [
    "tsp.show_word_clouds('JJ', \n",
    "                    go_plot_settings={'plot_bgcolor': 'rgba(0, 0, 0, 0)'},\n",
    "                    wc_settings={'color':'blue', 'max_words':1000})"
   ]
  },
  {
   "cell_type": "code",
   "execution_count": null,
   "id": "8fb4f2c8",
   "metadata": {},
   "outputs": [],
   "source": [
    "tsp.show_distplot('doc_len')"
   ]
  },
  {
   "cell_type": "code",
   "execution_count": null,
   "id": "1a105a29",
   "metadata": {},
   "outputs": [],
   "source": [
    "# IDF\n",
    "# vectorizer = TfidfVectorizer(min_df=1)\n",
    "# X = vectorizer.fit_transform(imdb_train[\"text\"])\n",
    "# idf = vectorizer.idf_\n",
    "# token_score_dict = dict(zip(vectorizer.get_feature_names(), idf))\n",
    "\n",
    "# Word Count\n",
    "token_score_dict = tsp.analysis.token_to_count_dict"
   ]
  },
  {
   "cell_type": "code",
   "execution_count": null,
   "id": "e9241d81",
   "metadata": {},
   "outputs": [],
   "source": [
    "nda = NormalDistAnomalies(items=token_score_dict, gaussianization_strategy='brute')"
   ]
  },
  {
   "cell_type": "code",
   "execution_count": null,
   "id": "61f888a2",
   "metadata": {},
   "outputs": [],
   "source": [
    "nda.item_value_df.head(1000)"
   ]
  },
  {
   "cell_type": "code",
   "execution_count": null,
   "id": "f1192867",
   "metadata": {},
   "outputs": [],
   "source": [
    "nda.show_plot(type='normal', bin_size=1)"
   ]
  },
  {
   "cell_type": "code",
   "execution_count": null,
   "id": "18d3c83b",
   "metadata": {
    "scrolled": true
   },
   "outputs": [],
   "source": [
    "nda.show_plot()"
   ]
  },
  {
   "cell_type": "markdown",
   "id": "ac975326",
   "metadata": {},
   "source": [
    "## Anomaly Experiments"
   ]
  },
  {
   "cell_type": "code",
   "execution_count": null,
   "id": "baf9dafb",
   "metadata": {},
   "outputs": [],
   "source": [
    "from wordview.anomaly import gaussianize\n",
    "from numpy.random import randn\n",
    "\n",
    "# values = data = randn(1000)\n",
    "values = nda.item_value_df['guassian_values']\n",
    "values2 = nda.item_value_df['representative_value']\n",
    "\n",
    "g = gaussianize.Gaussianize(strategy='lambert')\n",
    "g.fit(values)\n",
    "res = g.transform(values)\n",
    "# res = res.flatten().tolist()\n",
    "\n",
    "\n",
    "print(shapiro(res).pvalue)\n",
    "\n",
    "def show_fig(x, curve_type):\n",
    "    fig = ff.create_distplot(\n",
    "            [x],\n",
    "            group_labels=['Value'],\n",
    "            bin_size=1,\n",
    "            curve_type=curve_type,  # override default 'kde'\n",
    "        )\n",
    "    fig.show()\n",
    "\n",
    "# show_fig(x=values, curve_type='normal')\n",
    "# show_fig(x=values2, curve_type='kde')\n",
    "\n",
    "\n",
    "# print(values)\n",
    "# print('==========')\n",
    "# print(res.flatten().tolist())"
   ]
  },
  {
   "cell_type": "markdown",
   "id": "58634a67",
   "metadata": {},
   "source": [
    "### Use of shapiro test"
   ]
  },
  {
   "cell_type": "code",
   "execution_count": null,
   "id": "8bc06acb",
   "metadata": {},
   "outputs": [],
   "source": [
    "# from scipy.stats import norm\n",
    "from scipy.stats import shapiro\n",
    "\n",
    "my_data = nda.item_value_df['representative_value']\n",
    "shapiro(my_data.to_list())"
   ]
  },
  {
   "cell_type": "code",
   "execution_count": null,
   "id": "e798aefa",
   "metadata": {},
   "outputs": [],
   "source": [
    "my_data = nda.item_value_df['guassian_values']\n",
    "shapiro(my_data.to_list())"
   ]
  },
  {
   "cell_type": "code",
   "execution_count": null,
   "id": "305df50a",
   "metadata": {},
   "outputs": [],
   "source": [
    "from numpy.random import randn\n",
    "my_data = randn(1000)\n",
    "print(shapiro(my_data))\n",
    "print(kstest(my_data, 'norm'))"
   ]
  },
  {
   "cell_type": "code",
   "execution_count": null,
   "id": "9e4b663d",
   "metadata": {},
   "outputs": [],
   "source": [
    "print(shapiro(nda.item_value_df['guassian_values'].tolist()))\n",
    "print(kstest(nda.item_value_df['guassian_values'].tolist(), 'norm'))\n",
    "show_fig(x=nda.item_value_df['guassian_values'], curve_type='normal')"
   ]
  },
  {
   "cell_type": "markdown",
   "id": "d6b0c7b9",
   "metadata": {},
   "source": [
    "### Use of px"
   ]
  },
  {
   "cell_type": "code",
   "execution_count": null,
   "id": "e10e293e",
   "metadata": {},
   "outputs": [],
   "source": [
    "import plotly.express as px\n",
    "df = px.data.tips()\n",
    "fig = px.histogram(df, x=\"total_bill\", y=\"tip\", color=\"sex\", marginal=\"rug\",\n",
    "                   hover_data=df.columns)\n",
    "fig.show()\n",
    "df.head()"
   ]
  },
  {
   "cell_type": "code",
   "execution_count": null,
   "id": "9173518b",
   "metadata": {},
   "outputs": [],
   "source": [
    "fig = px.histogram(nda.item_value_df, x=\"guassian_values\")\n",
    "fig.show()\n",
    "fig2 = px.histogram(nda.item_value_df, x=\"representative_value\")\n",
    "fig2.show()"
   ]
  },
  {
   "cell_type": "markdown",
   "id": "46f38316",
   "metadata": {},
   "source": [
    "## Text Analysis"
   ]
  },
  {
   "cell_type": "code",
   "execution_count": null,
   "id": "b11fa835",
   "metadata": {},
   "outputs": [],
   "source": [
    "tsp.show_stats()"
   ]
  },
  {
   "cell_type": "code",
   "execution_count": null,
   "id": "be1b1d2e",
   "metadata": {},
   "outputs": [],
   "source": [
    "# tsp.show_distplot(plot='doc_len')\n",
    "tsp.show_distplot(plot='word_frequency_zipf')"
   ]
  },
  {
   "cell_type": "code",
   "execution_count": null,
   "id": "0b37c7ae",
   "metadata": {},
   "outputs": [],
   "source": [
    "tsp.show_word_clouds(type=\"JJ\")"
   ]
  },
  {
   "cell_type": "code",
   "execution_count": null,
   "id": "7c4cd67f",
   "metadata": {},
   "outputs": [],
   "source": [
    "# import plotly.graph_objs as go\n",
    "# import plotly.figure_factory as ff\n",
    "# fig_w_freq = go.Figure()\n",
    "# fig_w_freq.add_trace(go.Scattergl(x=tsp.analysis.zipf_x,\n",
    "#                                               y=tsp.analysis.zipf_y_emp,\n",
    "#                                               mode='markers',\n",
    "#                                               marker=dict(\n",
    "#                                                     color=tsp.analysis.zipf_x,\n",
    "#                                                     colorscale='Tealgrn',\n",
    "#                                                     )\n",
    "#                                             )\n",
    "#                                 )\n",
    "# fig_w_freq.add_trace(go.Scattergl(x=tsp.analysis.zipf_x,\n",
    "#                                   y=tsp.analysis.zipf_y_theory,\n",
    "#                                   mode='markers',\n",
    "#                                   marker=dict(color=tsp.analysis.zipf_x,\n",
    "#                                               colorscale='Reds'\n",
    "#                                              )\n",
    "#                                  )\n",
    "#                     )\n",
    "\n",
    "# dist_plot_setup = {\n",
    "#             # 'paper_bgcolor': '#007A78',\n",
    "#             'showlegend' : False\n",
    "#             }\n",
    "# fig_w_freq.update_layout(dist_plot_setup)\n",
    "# fig_w_freq.show()"
   ]
  },
  {
   "cell_type": "code",
   "execution_count": null,
   "id": "87bb4ad5",
   "metadata": {},
   "outputs": [],
   "source": [
    "import numpy as np\n",
    "import random\n",
    "\n",
    "# In addition to the original label, for illustration purpose, let's create two random labels:\n",
    "imdb_train['numerical_label'] = np.random.randint(1, 500, imdb_train.shape[0])\n",
    "imdb_train['label2'] = random.choices(['a', 'b', 'c', 'd'], [0.2, 0.5, 0.8, 0.9], k=imdb_train.shape[0])\n",
    "imdb_train['numerical_label2'] = np.random.randint(1, 500, imdb_train.shape[0])"
   ]
  },
  {
   "cell_type": "code",
   "execution_count": null,
   "id": "83c89ab6",
   "metadata": {},
   "outputs": [],
   "source": [
    "lsp = LabelStatsPlots(df=imdb_train, label_columns=[('label', 'categorical'),\n",
    "                                                    ('label2', 'categorical'),\n",
    "                                                    ('numerical_label', 'numerical'),\n",
    "                                                    ('numerical_label2', 'numerical')\n",
    "                                                   ]\n",
    "                     )"
   ]
  },
  {
   "cell_type": "code",
   "execution_count": null,
   "id": "1c104f2d",
   "metadata": {},
   "outputs": [],
   "source": [
    "lsp.show_label_plots()"
   ]
  },
  {
   "cell_type": "code",
   "execution_count": null,
   "id": "316c670f",
   "metadata": {},
   "outputs": [],
   "source": [
    "# lsp.labels_fig.write_html('tmp.html')"
   ]
  },
  {
   "cell_type": "code",
   "execution_count": null,
   "id": "13b42dc2",
   "metadata": {},
   "outputs": [],
   "source": [
    "import plotly.graph_objects as go\n",
    "from plotly.subplots import make_subplots\n",
    "t1 = go.Histogram(x=imdb_train['numerical_labe2'],\n",
    "                  marker=dict(line=dict(width=0.8,\n",
    "                                        color=\"white\")\n",
    "                             )\n",
    "                 )\n",
    "figure = make_subplots(rows=1, cols=1)\n",
    "figure.append_trace(t1, 1, 1)\n",
    "figure.show()"
   ]
  },
  {
   "cell_type": "code",
   "execution_count": null,
   "id": "f451dddd",
   "metadata": {},
   "outputs": [],
   "source": [
    "t1 = go.Histogram(x=imdb_train['numerical_labe2'],\n",
    "                  marker=dict(line=dict(width=0.8,\n",
    "                                        color=\"white\")\n",
    "                             )\n",
    "                 )\n",
    "figure = make_subplots(rows=1, cols=1)\n",
    "figure.append_trace(t1, 1, 1)\n",
    "figure.show()"
   ]
  },
  {
   "cell_type": "code",
   "execution_count": null,
   "id": "0663a142",
   "metadata": {},
   "outputs": [],
   "source": [
    "import plotly.express as px\n",
    "res = imdb_train['new_label'].value_counts()\n",
    "res.columns = ['label', 'count']\n",
    "fig = px.box(res)\n",
    "\n",
    "fig.update_traces(quartilemethod=\"exclusive\") # or \"inclusive\", or \"linear\" by default\n",
    "fig.show()"
   ]
  },
  {
   "cell_type": "code",
   "execution_count": null,
   "id": "b4cbfa32",
   "metadata": {},
   "outputs": [],
   "source": [
    "from wordview.mwes import MWE"
   ]
  },
  {
   "cell_type": "code",
   "execution_count": null,
   "id": "d113aeed",
   "metadata": {},
   "outputs": [],
   "source": [
    "mwe = MWE(df=imdb_train, mwe_types=[\"NC\", \"JNC\"], text_column='text')"
   ]
  },
  {
   "cell_type": "code",
   "execution_count": null,
   "id": "ca69da3f",
   "metadata": {},
   "outputs": [],
   "source": [
    "mwe.build_counts(counts_filename='../tmp/counts.json')"
   ]
  },
  {
   "cell_type": "code",
   "execution_count": null,
   "id": "2eec30d1",
   "metadata": {},
   "outputs": [],
   "source": [
    "mwes_dict = mwe.extract_mwes(counts_filename='../tmp/counts.json', mwes_filename='../tmp/mwes1.json')\n",
    "mwes_nc = {k: v for k, v in mwes_dict['NC'].items()}\n",
    "top_mwes_nc = [[k, v] for k,v in mwes_nc.items()][:10]\n",
    "print(tabulate(top_mwes_nc, tablefmt=\"double_outline\"))"
   ]
  },
  {
   "cell_type": "code",
   "execution_count": null,
   "id": "a03eb424",
   "metadata": {},
   "outputs": [],
   "source": [
    "mwe.extract_mwes(counts_filename='../tmp/counts.json', mwes_filename='../tmp/mwes.json')"
   ]
  },
  {
   "cell_type": "code",
   "execution_count": null,
   "id": "94d83f5f",
   "metadata": {},
   "outputs": [],
   "source": [
    "from wordview.mwes import hyphenate_mwes"
   ]
  },
  {
   "cell_type": "code",
   "execution_count": null,
   "id": "bbb4c377",
   "metadata": {},
   "outputs": [],
   "source": [
    "new_df = hyphenate_mwes(path_to_mwes='../tmp/mwes.json', mwe_types=['NC', 'JNC'], df=imdb_train, text_column='text')"
   ]
  },
  {
   "cell_type": "code",
   "execution_count": null,
   "id": "25d891ff",
   "metadata": {},
   "outputs": [],
   "source": [
    "from wordview.preprocessing import RedunTerms\n",
    "rt = RedunTerms(imdb_train[\"text\"], method='idf')"
   ]
  },
  {
   "cell_type": "code",
   "execution_count": null,
   "id": "1382733a",
   "metadata": {},
   "outputs": [],
   "source": [
    "with open('../tmp/counts.json') as json_file:\n",
    "    counts_dict = json.load(json_file)\n",
    "with open('../tmp/mwes.json') as json_file:\n",
    "    mwes_dict = json.load(json_file)"
   ]
  },
  {
   "cell_type": "code",
   "execution_count": null,
   "id": "911de241",
   "metadata": {},
   "outputs": [],
   "source": [
    "nc_counts = {k: v for k, v in sorted(counts_dict['NC'].items(), key=lambda item: item[1], reverse=True)}\n",
    "nc_association = {k: v for k, v in mwes_dict['NC'].items()}"
   ]
  },
  {
   "cell_type": "code",
   "execution_count": null,
   "id": "d1b8d3cc",
   "metadata": {},
   "outputs": [],
   "source": [
    "top_nc_table = [[k, v] for k,v in nc_counts.items()][:10]\n",
    "top_nc_association_table = [[k, v] for k,v in nc_association.items()][:10]"
   ]
  },
  {
   "cell_type": "code",
   "execution_count": null,
   "id": "0161b1c3",
   "metadata": {},
   "outputs": [],
   "source": [
    "print(tabulate(top_nc_table, tablefmt=\"simple_grid\"))"
   ]
  },
  {
   "cell_type": "code",
   "execution_count": null,
   "id": "c566f4fa",
   "metadata": {},
   "outputs": [],
   "source": [
    "tformat = \"double_outline\" #simple_grid\"\n",
    "print(tabulate(top_nc_association_table, tablefmt=tformat))"
   ]
  },
  {
   "cell_type": "code",
   "execution_count": null,
   "id": "9a3b9045",
   "metadata": {},
   "outputs": [],
   "source": []
  }
 ],
 "metadata": {
  "kernelspec": {
   "display_name": "Python 3 (ipykernel)",
   "language": "python",
   "name": "python3"
  },
  "language_info": {
   "codemirror_mode": {
    "name": "ipython",
    "version": 3
   },
   "file_extension": ".py",
   "mimetype": "text/x-python",
   "name": "python",
   "nbconvert_exporter": "python",
   "pygments_lexer": "ipython3",
   "version": "3.9.10"
  }
 },
 "nbformat": 4,
 "nbformat_minor": 5
}
