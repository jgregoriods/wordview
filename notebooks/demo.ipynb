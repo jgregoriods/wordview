{
 "cells": [
  {
   "cell_type": "code",
   "execution_count": 1,
   "id": "b1ec5af2",
   "metadata": {},
   "outputs": [],
   "source": [
    "from wordview.text_analysis import TextStatsPlots, LabelStatsPlots\n",
    "from wordview.anomaly import NormalDistAnomalies\n",
    "import pandas as pd\n",
    "import json\n",
    "from tabulate import tabulate\n",
    "from sklearn.feature_extraction.text import TfidfVectorizer\n",
    "import plotly.figure_factory as ff"
   ]
  },
  {
   "cell_type": "code",
   "execution_count": 2,
   "id": "a1ea4b12",
   "metadata": {},
   "outputs": [],
   "source": [
    "imdb_train = pd.read_csv('../data/imdb_train_sample.tsv', sep='\\t', names=['label', 'text'])\n",
    "imdb_train = imdb_train.sample(100)"
   ]
  },
  {
   "cell_type": "code",
   "execution_count": 3,
   "id": "04a7a0a2",
   "metadata": {},
   "outputs": [
    {
     "name": "stderr",
     "output_type": "stream",
     "text": [
      "core            - 258 - INFO - Processing text in text column of the input DataFrame...\n",
      "100%|██████████████████████████████████████████████████████████████████████████████████████████████████████████| 100/100 [00:02<00:00, 39.79it/s]\n",
      "core            - 299 - INFO - Calculating Empirical and Theoretical Zipf values...\n",
      "core            - 304 - INFO - Time to measure predicted proportion for 5125 rows: 0.005500316619873047\n"
     ]
    }
   ],
   "source": [
    "tsp = TextStatsPlots(df=imdb_train, text_column='text')"
   ]
  },
  {
   "cell_type": "code",
   "execution_count": 7,
   "id": "1caa0d0f",
   "metadata": {},
   "outputs": [
    {
     "data": {
      "application/vnd.plotly.v1+json": {
       "config": {
        "plotlyServerURL": "https://plot.ly"
       },
       "data": [
        {
         "hoverinfo": "text",
         "hovertext": [
          "br: 384",
          "movie: 213",
          "film: 139",
          "story: 61",
          "time: 51",
          "way: 41",
          "people: 39",
          "plot: 37",
          "man: 33",
          "character: 32",
          "films: 31",
          "characters: 28",
          "thing: 27",
          "life: 26",
          "movies: 24",
          "something: 24",
          "end: 23",
          "scenes: 19",
          "watch: 19",
          "kind: 18",
          "director: 18",
          "years: 18",
          "actors: 18",
          "lot: 18",
          "family: 18",
          "horror: 17",
          "show: 17",
          "kids: 17",
          "world: 17",
          "minutes: 16",
          "production: 15",
          "job: 15",
          "everything: 15",
          "scene: 15",
          "woman: 15",
          "money: 14",
          "reason: 14",
          "idea: 14",
          "wife: 14",
          "things: 14",
          "see: 14",
          "nothing: 13",
          "course: 13",
          "flick: 13",
          "everyone: 13",
          "anything: 13",
          "action: 12",
          "music: 11",
          "game: 11",
          "place: 11",
          "cinema: 11",
          "cast: 11",
          "anyone: 11",
          "tv: 11",
          "title: 11",
          "audience: 11",
          "budget: 11",
          "work: 11",
          "mind: 10",
          "times: 10",
          "night: 10",
          "couple: 10",
          "performances: 10",
          "killer: 10",
          "space: 10",
          "get: 10",
          "role: 10",
          "bit: 10",
          "case: 10",
          "fact: 10",
          "year: 10",
          "age: 10",
          "water: 10",
          "child: 10",
          "sense: 9",
          "script: 9",
          "john: 9",
          "someone: 9",
          "friends: 9",
          "house: 9",
          "point: 9",
          "performance: 9",
          "murder: 9",
          "look: 9",
          "sex: 9",
          "sequence: 9",
          "kid: 8",
          "death: 8",
          "example: 8",
          "hell: 8",
          "adult: 8",
          "love: 8",
          "madsen: 8",
          "half: 8",
          "actor: 8",
          "children: 8",
          "hollywood: 8",
          "effects: 8",
          "guy: 8",
          "attention: 8"
         ],
         "mode": "text",
         "text": [
          "br",
          "movie",
          "film",
          "story",
          "time",
          "way",
          "people",
          "plot",
          "man",
          "character",
          "films",
          "characters",
          "thing",
          "life",
          "movies",
          "something",
          "end",
          "scenes",
          "watch",
          "kind",
          "director",
          "years",
          "actors",
          "lot",
          "family",
          "horror",
          "show",
          "kids",
          "world",
          "minutes",
          "production",
          "job",
          "everything",
          "scene",
          "woman",
          "money",
          "reason",
          "idea",
          "wife",
          "things",
          "see",
          "nothing",
          "course",
          "flick",
          "everyone",
          "anything",
          "action",
          "music",
          "game",
          "place",
          "cinema",
          "cast",
          "anyone",
          "tv",
          "title",
          "audience",
          "budget",
          "work",
          "mind",
          "times",
          "night",
          "couple",
          "performances",
          "killer",
          "space",
          "get",
          "role",
          "bit",
          "case",
          "fact",
          "year",
          "age",
          "water",
          "child",
          "sense",
          "script",
          "john",
          "someone",
          "friends",
          "house",
          "point",
          "performance",
          "murder",
          "look",
          "sex",
          "sequence",
          "kid",
          "death",
          "example",
          "hell",
          "adult",
          "love",
          "madsen",
          "half",
          "actor",
          "children",
          "hollywood",
          "effects",
          "guy",
          "attention"
         ],
         "textfont": {
          "color": [
           "rgb(0, 166, 222)",
           "rgb(0, 134, 179)",
           "rgb(0, 151, 202)",
           "rgb(0, 146, 195)",
           "rgb(0, 69, 92)",
           "rgb(0, 143, 191)",
           "rgb(0, 98, 130)",
           "rgb(0, 64, 86)",
           "rgb(0, 110, 147)",
           "rgb(0, 146, 195)",
           "rgb(0, 58, 78)",
           "rgb(0, 51, 68)",
           "rgb(0, 117, 157)",
           "rgb(0, 177, 236)",
           "rgb(0, 52, 69)",
           "rgb(0, 61, 81)",
           "rgb(0, 175, 233)",
           "rgb(0, 139, 185)",
           "rgb(0, 132, 177)",
           "rgb(0, 106, 141)",
           "rgb(0, 158, 211)",
           "rgb(0, 62, 83)",
           "rgb(0, 187, 250)",
           "rgb(0, 124, 166)",
           "rgb(0, 109, 145)",
           "rgb(0, 94, 126)",
           "rgb(0, 116, 155)",
           "rgb(0, 52, 69)",
           "rgb(0, 131, 175)",
           "rgb(0, 77, 103)",
           "rgb(0, 182, 243)",
           "rgb(0, 157, 210)",
           "rgb(0, 134, 179)",
           "rgb(0, 42, 56)",
           "rgb(0, 93, 124)",
           "rgb(0, 145, 194)",
           "rgb(0, 117, 156)",
           "rgb(0, 182, 243)",
           "rgb(0, 190, 253)",
           "rgb(0, 134, 179)",
           "rgb(0, 138, 184)",
           "rgb(0, 62, 83)",
           "rgb(0, 48, 64)",
           "rgb(0, 93, 124)",
           "rgb(0, 125, 167)",
           "rgb(0, 164, 219)",
           "rgb(0, 98, 131)",
           "rgb(0, 189, 253)",
           "rgb(0, 139, 185)",
           "rgb(0, 176, 235)",
           "rgb(0, 104, 139)",
           "rgb(0, 42, 56)",
           "rgb(0, 150, 201)",
           "rgb(0, 107, 143)",
           "rgb(0, 114, 152)",
           "rgb(0, 128, 171)",
           "rgb(0, 158, 211)",
           "rgb(0, 139, 186)",
           "rgb(0, 73, 97)",
           "rgb(0, 48, 64)",
           "rgb(0, 57, 76)",
           "rgb(0, 141, 188)",
           "rgb(0, 143, 191)",
           "rgb(0, 116, 154)",
           "rgb(0, 132, 176)",
           "rgb(0, 87, 117)",
           "rgb(0, 160, 213)",
           "rgb(0, 46, 62)",
           "rgb(0, 83, 110)",
           "rgb(0, 46, 61)",
           "rgb(0, 78, 104)",
           "rgb(0, 71, 95)",
           "rgb(0, 191, 255)",
           "rgb(0, 104, 139)",
           "rgb(0, 154, 206)",
           "rgb(0, 180, 241)",
           "rgb(0, 48, 65)",
           "rgb(0, 66, 88)",
           "rgb(0, 61, 81)",
           "rgb(0, 53, 70)",
           "rgb(0, 48, 64)",
           "rgb(0, 62, 83)",
           "rgb(0, 89, 118)",
           "rgb(0, 182, 242)",
           "rgb(0, 84, 112)",
           "rgb(0, 141, 189)",
           "rgb(0, 73, 97)",
           "rgb(0, 133, 177)",
           "rgb(0, 78, 104)",
           "rgb(0, 72, 97)",
           "rgb(0, 133, 177)",
           "rgb(0, 174, 233)",
           "rgb(0, 113, 151)",
           "rgb(0, 181, 242)",
           "rgb(0, 181, 242)",
           "rgb(0, 105, 140)",
           "rgb(0, 76, 101)",
           "rgb(0, 147, 196)",
           "rgb(0, 54, 72)",
           "rgb(0, 147, 197)"
          ],
          "size": [
           100,
           55.4688,
           36.1979,
           15.8854,
           13.2812,
           10.6771,
           10.1562,
           9.6354,
           8.5938,
           8.3333,
           8.0729,
           7.2917,
           7.0312,
           6.7708,
           6.25,
           6.25,
           5.9896,
           4.9479,
           4.9479,
           4.6875,
           4.6875,
           4.6875,
           4.6875,
           4.6875,
           4.6875,
           4.4271,
           4.4271,
           4.4271,
           4.4271,
           4.1667,
           3.9062,
           3.9062,
           3.9062,
           3.9062,
           3.9062,
           3.6458,
           3.6458,
           3.6458,
           3.6458,
           3.6458,
           3.6458,
           3.3854,
           3.3854,
           3.3854,
           3.3854,
           3.3854,
           3.125,
           2.8646,
           2.8646,
           2.8646,
           2.8646,
           2.8646,
           2.8646,
           2.8646,
           2.8646,
           2.8646,
           2.8646,
           2.8646,
           2.6042,
           2.6042,
           2.6042,
           2.6042,
           2.6042,
           2.6042,
           2.6042,
           2.6042,
           2.6042,
           2.6042,
           2.6042,
           2.6042,
           2.6042,
           2.6042,
           2.6042,
           2.6042,
           2.3438,
           2.3438,
           2.3438,
           2.3438,
           2.3438,
           2.3438,
           2.3438,
           2.3438,
           2.3438,
           2.3438,
           2.3438,
           2.3438,
           2.0833,
           2.0833,
           2.0833,
           2.0833,
           2.0833,
           2.0833,
           2.0833,
           2.0833,
           2.0833,
           2.0833,
           2.0833,
           2.0833,
           2.0833,
           2.0833
          ]
         },
         "type": "scattergl",
         "x": [
          109,
          9,
          94,
          147,
          35,
          150,
          72,
          84,
          7,
          6,
          1,
          182,
          2,
          182,
          101,
          75,
          74,
          29,
          103,
          7,
          116,
          121,
          136,
          88,
          131,
          3,
          11,
          177,
          91,
          74,
          24,
          89,
          97,
          90,
          128,
          110,
          70,
          146,
          77,
          53,
          53,
          142,
          192,
          165,
          1,
          45,
          115,
          161,
          190,
          175,
          49,
          70,
          85,
          135,
          27,
          172,
          57,
          160,
          190,
          34,
          118,
          100,
          18,
          151,
          192,
          14,
          107,
          167,
          101,
          7,
          178,
          60,
          134,
          117,
          3,
          7,
          117,
          132,
          23,
          140,
          42,
          108,
          35,
          124,
          1,
          19,
          41,
          66,
          8,
          172,
          34,
          132,
          99,
          181,
          147,
          34,
          39,
          169,
          63,
          106
         ],
         "y": [
          45,
          24,
          170,
          240,
          281,
          146,
          279,
          96,
          122,
          1,
          265,
          159,
          41,
          299,
          25,
          187,
          51,
          339,
          348,
          227,
          81,
          344,
          336,
          54,
          105,
          208,
          353,
          6,
          242,
          130,
          279,
          211,
          289,
          28,
          201,
          147,
          307,
          68,
          84,
          256,
          298,
          42,
          126,
          388,
          352,
          35,
          198,
          216,
          27,
          341,
          166,
          285,
          82,
          174,
          222,
          151,
          166,
          65,
          100,
          173,
          158,
          260,
          32,
          220,
          1,
          114,
          282,
          354,
          44,
          378,
          216,
          210,
          201,
          392,
          12,
          174,
          64,
          360,
          148,
          194,
          91,
          105,
          296,
          281,
          317,
          179,
          387,
          160,
          14,
          67,
          330,
          279,
          347,
          144,
          302,
          122,
          55,
          213,
          127,
          41
         ]
        }
       ],
       "layout": {
        "plot_bgcolor": "rgba(0, 0, 0, 0)",
        "showlegend": false,
        "template": {
         "data": {
          "bar": [
           {
            "error_x": {
             "color": "#2a3f5f"
            },
            "error_y": {
             "color": "#2a3f5f"
            },
            "marker": {
             "line": {
              "color": "#E5ECF6",
              "width": 0.5
             },
             "pattern": {
              "fillmode": "overlay",
              "size": 10,
              "solidity": 0.2
             }
            },
            "type": "bar"
           }
          ],
          "barpolar": [
           {
            "marker": {
             "line": {
              "color": "#E5ECF6",
              "width": 0.5
             },
             "pattern": {
              "fillmode": "overlay",
              "size": 10,
              "solidity": 0.2
             }
            },
            "type": "barpolar"
           }
          ],
          "carpet": [
           {
            "aaxis": {
             "endlinecolor": "#2a3f5f",
             "gridcolor": "white",
             "linecolor": "white",
             "minorgridcolor": "white",
             "startlinecolor": "#2a3f5f"
            },
            "baxis": {
             "endlinecolor": "#2a3f5f",
             "gridcolor": "white",
             "linecolor": "white",
             "minorgridcolor": "white",
             "startlinecolor": "#2a3f5f"
            },
            "type": "carpet"
           }
          ],
          "choropleth": [
           {
            "colorbar": {
             "outlinewidth": 0,
             "ticks": ""
            },
            "type": "choropleth"
           }
          ],
          "contour": [
           {
            "colorbar": {
             "outlinewidth": 0,
             "ticks": ""
            },
            "colorscale": [
             [
              0,
              "#0d0887"
             ],
             [
              0.1111111111111111,
              "#46039f"
             ],
             [
              0.2222222222222222,
              "#7201a8"
             ],
             [
              0.3333333333333333,
              "#9c179e"
             ],
             [
              0.4444444444444444,
              "#bd3786"
             ],
             [
              0.5555555555555556,
              "#d8576b"
             ],
             [
              0.6666666666666666,
              "#ed7953"
             ],
             [
              0.7777777777777778,
              "#fb9f3a"
             ],
             [
              0.8888888888888888,
              "#fdca26"
             ],
             [
              1,
              "#f0f921"
             ]
            ],
            "type": "contour"
           }
          ],
          "contourcarpet": [
           {
            "colorbar": {
             "outlinewidth": 0,
             "ticks": ""
            },
            "type": "contourcarpet"
           }
          ],
          "heatmap": [
           {
            "colorbar": {
             "outlinewidth": 0,
             "ticks": ""
            },
            "colorscale": [
             [
              0,
              "#0d0887"
             ],
             [
              0.1111111111111111,
              "#46039f"
             ],
             [
              0.2222222222222222,
              "#7201a8"
             ],
             [
              0.3333333333333333,
              "#9c179e"
             ],
             [
              0.4444444444444444,
              "#bd3786"
             ],
             [
              0.5555555555555556,
              "#d8576b"
             ],
             [
              0.6666666666666666,
              "#ed7953"
             ],
             [
              0.7777777777777778,
              "#fb9f3a"
             ],
             [
              0.8888888888888888,
              "#fdca26"
             ],
             [
              1,
              "#f0f921"
             ]
            ],
            "type": "heatmap"
           }
          ],
          "heatmapgl": [
           {
            "colorbar": {
             "outlinewidth": 0,
             "ticks": ""
            },
            "colorscale": [
             [
              0,
              "#0d0887"
             ],
             [
              0.1111111111111111,
              "#46039f"
             ],
             [
              0.2222222222222222,
              "#7201a8"
             ],
             [
              0.3333333333333333,
              "#9c179e"
             ],
             [
              0.4444444444444444,
              "#bd3786"
             ],
             [
              0.5555555555555556,
              "#d8576b"
             ],
             [
              0.6666666666666666,
              "#ed7953"
             ],
             [
              0.7777777777777778,
              "#fb9f3a"
             ],
             [
              0.8888888888888888,
              "#fdca26"
             ],
             [
              1,
              "#f0f921"
             ]
            ],
            "type": "heatmapgl"
           }
          ],
          "histogram": [
           {
            "marker": {
             "pattern": {
              "fillmode": "overlay",
              "size": 10,
              "solidity": 0.2
             }
            },
            "type": "histogram"
           }
          ],
          "histogram2d": [
           {
            "colorbar": {
             "outlinewidth": 0,
             "ticks": ""
            },
            "colorscale": [
             [
              0,
              "#0d0887"
             ],
             [
              0.1111111111111111,
              "#46039f"
             ],
             [
              0.2222222222222222,
              "#7201a8"
             ],
             [
              0.3333333333333333,
              "#9c179e"
             ],
             [
              0.4444444444444444,
              "#bd3786"
             ],
             [
              0.5555555555555556,
              "#d8576b"
             ],
             [
              0.6666666666666666,
              "#ed7953"
             ],
             [
              0.7777777777777778,
              "#fb9f3a"
             ],
             [
              0.8888888888888888,
              "#fdca26"
             ],
             [
              1,
              "#f0f921"
             ]
            ],
            "type": "histogram2d"
           }
          ],
          "histogram2dcontour": [
           {
            "colorbar": {
             "outlinewidth": 0,
             "ticks": ""
            },
            "colorscale": [
             [
              0,
              "#0d0887"
             ],
             [
              0.1111111111111111,
              "#46039f"
             ],
             [
              0.2222222222222222,
              "#7201a8"
             ],
             [
              0.3333333333333333,
              "#9c179e"
             ],
             [
              0.4444444444444444,
              "#bd3786"
             ],
             [
              0.5555555555555556,
              "#d8576b"
             ],
             [
              0.6666666666666666,
              "#ed7953"
             ],
             [
              0.7777777777777778,
              "#fb9f3a"
             ],
             [
              0.8888888888888888,
              "#fdca26"
             ],
             [
              1,
              "#f0f921"
             ]
            ],
            "type": "histogram2dcontour"
           }
          ],
          "mesh3d": [
           {
            "colorbar": {
             "outlinewidth": 0,
             "ticks": ""
            },
            "type": "mesh3d"
           }
          ],
          "parcoords": [
           {
            "line": {
             "colorbar": {
              "outlinewidth": 0,
              "ticks": ""
             }
            },
            "type": "parcoords"
           }
          ],
          "pie": [
           {
            "automargin": true,
            "type": "pie"
           }
          ],
          "scatter": [
           {
            "marker": {
             "colorbar": {
              "outlinewidth": 0,
              "ticks": ""
             }
            },
            "type": "scatter"
           }
          ],
          "scatter3d": [
           {
            "line": {
             "colorbar": {
              "outlinewidth": 0,
              "ticks": ""
             }
            },
            "marker": {
             "colorbar": {
              "outlinewidth": 0,
              "ticks": ""
             }
            },
            "type": "scatter3d"
           }
          ],
          "scattercarpet": [
           {
            "marker": {
             "colorbar": {
              "outlinewidth": 0,
              "ticks": ""
             }
            },
            "type": "scattercarpet"
           }
          ],
          "scattergeo": [
           {
            "marker": {
             "colorbar": {
              "outlinewidth": 0,
              "ticks": ""
             }
            },
            "type": "scattergeo"
           }
          ],
          "scattergl": [
           {
            "marker": {
             "colorbar": {
              "outlinewidth": 0,
              "ticks": ""
             }
            },
            "type": "scattergl"
           }
          ],
          "scattermapbox": [
           {
            "marker": {
             "colorbar": {
              "outlinewidth": 0,
              "ticks": ""
             }
            },
            "type": "scattermapbox"
           }
          ],
          "scatterpolar": [
           {
            "marker": {
             "colorbar": {
              "outlinewidth": 0,
              "ticks": ""
             }
            },
            "type": "scatterpolar"
           }
          ],
          "scatterpolargl": [
           {
            "marker": {
             "colorbar": {
              "outlinewidth": 0,
              "ticks": ""
             }
            },
            "type": "scatterpolargl"
           }
          ],
          "scatterternary": [
           {
            "marker": {
             "colorbar": {
              "outlinewidth": 0,
              "ticks": ""
             }
            },
            "type": "scatterternary"
           }
          ],
          "surface": [
           {
            "colorbar": {
             "outlinewidth": 0,
             "ticks": ""
            },
            "colorscale": [
             [
              0,
              "#0d0887"
             ],
             [
              0.1111111111111111,
              "#46039f"
             ],
             [
              0.2222222222222222,
              "#7201a8"
             ],
             [
              0.3333333333333333,
              "#9c179e"
             ],
             [
              0.4444444444444444,
              "#bd3786"
             ],
             [
              0.5555555555555556,
              "#d8576b"
             ],
             [
              0.6666666666666666,
              "#ed7953"
             ],
             [
              0.7777777777777778,
              "#fb9f3a"
             ],
             [
              0.8888888888888888,
              "#fdca26"
             ],
             [
              1,
              "#f0f921"
             ]
            ],
            "type": "surface"
           }
          ],
          "table": [
           {
            "cells": {
             "fill": {
              "color": "#EBF0F8"
             },
             "line": {
              "color": "white"
             }
            },
            "header": {
             "fill": {
              "color": "#C8D4E3"
             },
             "line": {
              "color": "white"
             }
            },
            "type": "table"
           }
          ]
         },
         "layout": {
          "annotationdefaults": {
           "arrowcolor": "#2a3f5f",
           "arrowhead": 0,
           "arrowwidth": 1
          },
          "autotypenumbers": "strict",
          "coloraxis": {
           "colorbar": {
            "outlinewidth": 0,
            "ticks": ""
           }
          },
          "colorscale": {
           "diverging": [
            [
             0,
             "#8e0152"
            ],
            [
             0.1,
             "#c51b7d"
            ],
            [
             0.2,
             "#de77ae"
            ],
            [
             0.3,
             "#f1b6da"
            ],
            [
             0.4,
             "#fde0ef"
            ],
            [
             0.5,
             "#f7f7f7"
            ],
            [
             0.6,
             "#e6f5d0"
            ],
            [
             0.7,
             "#b8e186"
            ],
            [
             0.8,
             "#7fbc41"
            ],
            [
             0.9,
             "#4d9221"
            ],
            [
             1,
             "#276419"
            ]
           ],
           "sequential": [
            [
             0,
             "#0d0887"
            ],
            [
             0.1111111111111111,
             "#46039f"
            ],
            [
             0.2222222222222222,
             "#7201a8"
            ],
            [
             0.3333333333333333,
             "#9c179e"
            ],
            [
             0.4444444444444444,
             "#bd3786"
            ],
            [
             0.5555555555555556,
             "#d8576b"
            ],
            [
             0.6666666666666666,
             "#ed7953"
            ],
            [
             0.7777777777777778,
             "#fb9f3a"
            ],
            [
             0.8888888888888888,
             "#fdca26"
            ],
            [
             1,
             "#f0f921"
            ]
           ],
           "sequentialminus": [
            [
             0,
             "#0d0887"
            ],
            [
             0.1111111111111111,
             "#46039f"
            ],
            [
             0.2222222222222222,
             "#7201a8"
            ],
            [
             0.3333333333333333,
             "#9c179e"
            ],
            [
             0.4444444444444444,
             "#bd3786"
            ],
            [
             0.5555555555555556,
             "#d8576b"
            ],
            [
             0.6666666666666666,
             "#ed7953"
            ],
            [
             0.7777777777777778,
             "#fb9f3a"
            ],
            [
             0.8888888888888888,
             "#fdca26"
            ],
            [
             1,
             "#f0f921"
            ]
           ]
          },
          "colorway": [
           "#636efa",
           "#EF553B",
           "#00cc96",
           "#ab63fa",
           "#FFA15A",
           "#19d3f3",
           "#FF6692",
           "#B6E880",
           "#FF97FF",
           "#FECB52"
          ],
          "font": {
           "color": "#2a3f5f"
          },
          "geo": {
           "bgcolor": "white",
           "lakecolor": "white",
           "landcolor": "#E5ECF6",
           "showlakes": true,
           "showland": true,
           "subunitcolor": "white"
          },
          "hoverlabel": {
           "align": "left"
          },
          "hovermode": "closest",
          "mapbox": {
           "style": "light"
          },
          "paper_bgcolor": "white",
          "plot_bgcolor": "#E5ECF6",
          "polar": {
           "angularaxis": {
            "gridcolor": "white",
            "linecolor": "white",
            "ticks": ""
           },
           "bgcolor": "#E5ECF6",
           "radialaxis": {
            "gridcolor": "white",
            "linecolor": "white",
            "ticks": ""
           }
          },
          "scene": {
           "xaxis": {
            "backgroundcolor": "#E5ECF6",
            "gridcolor": "white",
            "gridwidth": 2,
            "linecolor": "white",
            "showbackground": true,
            "ticks": "",
            "zerolinecolor": "white"
           },
           "yaxis": {
            "backgroundcolor": "#E5ECF6",
            "gridcolor": "white",
            "gridwidth": 2,
            "linecolor": "white",
            "showbackground": true,
            "ticks": "",
            "zerolinecolor": "white"
           },
           "zaxis": {
            "backgroundcolor": "#E5ECF6",
            "gridcolor": "white",
            "gridwidth": 2,
            "linecolor": "white",
            "showbackground": true,
            "ticks": "",
            "zerolinecolor": "white"
           }
          },
          "shapedefaults": {
           "line": {
            "color": "#2a3f5f"
           }
          },
          "ternary": {
           "aaxis": {
            "gridcolor": "white",
            "linecolor": "white",
            "ticks": ""
           },
           "baxis": {
            "gridcolor": "white",
            "linecolor": "white",
            "ticks": ""
           },
           "bgcolor": "#E5ECF6",
           "caxis": {
            "gridcolor": "white",
            "linecolor": "white",
            "ticks": ""
           }
          },
          "title": {
           "x": 0.05
          },
          "xaxis": {
           "automargin": true,
           "gridcolor": "white",
           "linecolor": "white",
           "ticks": "",
           "title": {
            "standoff": 15
           },
           "zerolinecolor": "white",
           "zerolinewidth": 2
          },
          "yaxis": {
           "automargin": true,
           "gridcolor": "white",
           "linecolor": "white",
           "ticks": "",
           "title": {
            "standoff": 15
           },
           "zerolinecolor": "white",
           "zerolinewidth": 2
          }
         }
        },
        "xaxis": {
         "showgrid": false,
         "showticklabels": false,
         "visible": false,
         "zeroline": false
        },
        "yaxis": {
         "showgrid": false,
         "showticklabels": false,
         "visible": false,
         "zeroline": false
        }
       }
      },
      "text/html": [
       "<div>                            <div id=\"99c6e42f-fe47-4c47-84d5-29a9b084e929\" class=\"plotly-graph-div\" style=\"height:525px; width:100%;\"></div>            <script type=\"text/javascript\">                require([\"plotly\"], function(Plotly) {                    window.PLOTLYENV=window.PLOTLYENV || {};                                    if (document.getElementById(\"99c6e42f-fe47-4c47-84d5-29a9b084e929\")) {                    Plotly.newPlot(                        \"99c6e42f-fe47-4c47-84d5-29a9b084e929\",                        [{\"hoverinfo\":\"text\",\"hovertext\":[\"br: 384\",\"movie: 213\",\"film: 139\",\"story: 61\",\"time: 51\",\"way: 41\",\"people: 39\",\"plot: 37\",\"man: 33\",\"character: 32\",\"films: 31\",\"characters: 28\",\"thing: 27\",\"life: 26\",\"movies: 24\",\"something: 24\",\"end: 23\",\"scenes: 19\",\"watch: 19\",\"kind: 18\",\"director: 18\",\"years: 18\",\"actors: 18\",\"lot: 18\",\"family: 18\",\"horror: 17\",\"show: 17\",\"kids: 17\",\"world: 17\",\"minutes: 16\",\"production: 15\",\"job: 15\",\"everything: 15\",\"scene: 15\",\"woman: 15\",\"money: 14\",\"reason: 14\",\"idea: 14\",\"wife: 14\",\"things: 14\",\"see: 14\",\"nothing: 13\",\"course: 13\",\"flick: 13\",\"everyone: 13\",\"anything: 13\",\"action: 12\",\"music: 11\",\"game: 11\",\"place: 11\",\"cinema: 11\",\"cast: 11\",\"anyone: 11\",\"tv: 11\",\"title: 11\",\"audience: 11\",\"budget: 11\",\"work: 11\",\"mind: 10\",\"times: 10\",\"night: 10\",\"couple: 10\",\"performances: 10\",\"killer: 10\",\"space: 10\",\"get: 10\",\"role: 10\",\"bit: 10\",\"case: 10\",\"fact: 10\",\"year: 10\",\"age: 10\",\"water: 10\",\"child: 10\",\"sense: 9\",\"script: 9\",\"john: 9\",\"someone: 9\",\"friends: 9\",\"house: 9\",\"point: 9\",\"performance: 9\",\"murder: 9\",\"look: 9\",\"sex: 9\",\"sequence: 9\",\"kid: 8\",\"death: 8\",\"example: 8\",\"hell: 8\",\"adult: 8\",\"love: 8\",\"madsen: 8\",\"half: 8\",\"actor: 8\",\"children: 8\",\"hollywood: 8\",\"effects: 8\",\"guy: 8\",\"attention: 8\"],\"mode\":\"text\",\"text\":[\"br\",\"movie\",\"film\",\"story\",\"time\",\"way\",\"people\",\"plot\",\"man\",\"character\",\"films\",\"characters\",\"thing\",\"life\",\"movies\",\"something\",\"end\",\"scenes\",\"watch\",\"kind\",\"director\",\"years\",\"actors\",\"lot\",\"family\",\"horror\",\"show\",\"kids\",\"world\",\"minutes\",\"production\",\"job\",\"everything\",\"scene\",\"woman\",\"money\",\"reason\",\"idea\",\"wife\",\"things\",\"see\",\"nothing\",\"course\",\"flick\",\"everyone\",\"anything\",\"action\",\"music\",\"game\",\"place\",\"cinema\",\"cast\",\"anyone\",\"tv\",\"title\",\"audience\",\"budget\",\"work\",\"mind\",\"times\",\"night\",\"couple\",\"performances\",\"killer\",\"space\",\"get\",\"role\",\"bit\",\"case\",\"fact\",\"year\",\"age\",\"water\",\"child\",\"sense\",\"script\",\"john\",\"someone\",\"friends\",\"house\",\"point\",\"performance\",\"murder\",\"look\",\"sex\",\"sequence\",\"kid\",\"death\",\"example\",\"hell\",\"adult\",\"love\",\"madsen\",\"half\",\"actor\",\"children\",\"hollywood\",\"effects\",\"guy\",\"attention\"],\"textfont\":{\"color\":[\"rgb(0, 166, 222)\",\"rgb(0, 134, 179)\",\"rgb(0, 151, 202)\",\"rgb(0, 146, 195)\",\"rgb(0, 69, 92)\",\"rgb(0, 143, 191)\",\"rgb(0, 98, 130)\",\"rgb(0, 64, 86)\",\"rgb(0, 110, 147)\",\"rgb(0, 146, 195)\",\"rgb(0, 58, 78)\",\"rgb(0, 51, 68)\",\"rgb(0, 117, 157)\",\"rgb(0, 177, 236)\",\"rgb(0, 52, 69)\",\"rgb(0, 61, 81)\",\"rgb(0, 175, 233)\",\"rgb(0, 139, 185)\",\"rgb(0, 132, 177)\",\"rgb(0, 106, 141)\",\"rgb(0, 158, 211)\",\"rgb(0, 62, 83)\",\"rgb(0, 187, 250)\",\"rgb(0, 124, 166)\",\"rgb(0, 109, 145)\",\"rgb(0, 94, 126)\",\"rgb(0, 116, 155)\",\"rgb(0, 52, 69)\",\"rgb(0, 131, 175)\",\"rgb(0, 77, 103)\",\"rgb(0, 182, 243)\",\"rgb(0, 157, 210)\",\"rgb(0, 134, 179)\",\"rgb(0, 42, 56)\",\"rgb(0, 93, 124)\",\"rgb(0, 145, 194)\",\"rgb(0, 117, 156)\",\"rgb(0, 182, 243)\",\"rgb(0, 190, 253)\",\"rgb(0, 134, 179)\",\"rgb(0, 138, 184)\",\"rgb(0, 62, 83)\",\"rgb(0, 48, 64)\",\"rgb(0, 93, 124)\",\"rgb(0, 125, 167)\",\"rgb(0, 164, 219)\",\"rgb(0, 98, 131)\",\"rgb(0, 189, 253)\",\"rgb(0, 139, 185)\",\"rgb(0, 176, 235)\",\"rgb(0, 104, 139)\",\"rgb(0, 42, 56)\",\"rgb(0, 150, 201)\",\"rgb(0, 107, 143)\",\"rgb(0, 114, 152)\",\"rgb(0, 128, 171)\",\"rgb(0, 158, 211)\",\"rgb(0, 139, 186)\",\"rgb(0, 73, 97)\",\"rgb(0, 48, 64)\",\"rgb(0, 57, 76)\",\"rgb(0, 141, 188)\",\"rgb(0, 143, 191)\",\"rgb(0, 116, 154)\",\"rgb(0, 132, 176)\",\"rgb(0, 87, 117)\",\"rgb(0, 160, 213)\",\"rgb(0, 46, 62)\",\"rgb(0, 83, 110)\",\"rgb(0, 46, 61)\",\"rgb(0, 78, 104)\",\"rgb(0, 71, 95)\",\"rgb(0, 191, 255)\",\"rgb(0, 104, 139)\",\"rgb(0, 154, 206)\",\"rgb(0, 180, 241)\",\"rgb(0, 48, 65)\",\"rgb(0, 66, 88)\",\"rgb(0, 61, 81)\",\"rgb(0, 53, 70)\",\"rgb(0, 48, 64)\",\"rgb(0, 62, 83)\",\"rgb(0, 89, 118)\",\"rgb(0, 182, 242)\",\"rgb(0, 84, 112)\",\"rgb(0, 141, 189)\",\"rgb(0, 73, 97)\",\"rgb(0, 133, 177)\",\"rgb(0, 78, 104)\",\"rgb(0, 72, 97)\",\"rgb(0, 133, 177)\",\"rgb(0, 174, 233)\",\"rgb(0, 113, 151)\",\"rgb(0, 181, 242)\",\"rgb(0, 181, 242)\",\"rgb(0, 105, 140)\",\"rgb(0, 76, 101)\",\"rgb(0, 147, 196)\",\"rgb(0, 54, 72)\",\"rgb(0, 147, 197)\"],\"size\":[100.0,55.4688,36.1979,15.8854,13.2812,10.6771,10.1562,9.6354,8.5938,8.3333,8.0729,7.2917,7.0312,6.7708,6.25,6.25,5.9896,4.9479,4.9479,4.6875,4.6875,4.6875,4.6875,4.6875,4.6875,4.4271,4.4271,4.4271,4.4271,4.1667,3.9062,3.9062,3.9062,3.9062,3.9062,3.6458,3.6458,3.6458,3.6458,3.6458,3.6458,3.3854,3.3854,3.3854,3.3854,3.3854,3.125,2.8646,2.8646,2.8646,2.8646,2.8646,2.8646,2.8646,2.8646,2.8646,2.8646,2.8646,2.6042,2.6042,2.6042,2.6042,2.6042,2.6042,2.6042,2.6042,2.6042,2.6042,2.6042,2.6042,2.6042,2.6042,2.6042,2.6042,2.3438,2.3438,2.3438,2.3438,2.3438,2.3438,2.3438,2.3438,2.3438,2.3438,2.3438,2.3438,2.0833,2.0833,2.0833,2.0833,2.0833,2.0833,2.0833,2.0833,2.0833,2.0833,2.0833,2.0833,2.0833,2.0833]},\"x\":[109,9,94,147,35,150,72,84,7,6,1,182,2,182,101,75,74,29,103,7,116,121,136,88,131,3,11,177,91,74,24,89,97,90,128,110,70,146,77,53,53,142,192,165,1,45,115,161,190,175,49,70,85,135,27,172,57,160,190,34,118,100,18,151,192,14,107,167,101,7,178,60,134,117,3,7,117,132,23,140,42,108,35,124,1,19,41,66,8,172,34,132,99,181,147,34,39,169,63,106],\"y\":[45,24,170,240,281,146,279,96,122,1,265,159,41,299,25,187,51,339,348,227,81,344,336,54,105,208,353,6,242,130,279,211,289,28,201,147,307,68,84,256,298,42,126,388,352,35,198,216,27,341,166,285,82,174,222,151,166,65,100,173,158,260,32,220,1,114,282,354,44,378,216,210,201,392,12,174,64,360,148,194,91,105,296,281,317,179,387,160,14,67,330,279,347,144,302,122,55,213,127,41],\"type\":\"scattergl\"}],                        {\"template\":{\"data\":{\"bar\":[{\"error_x\":{\"color\":\"#2a3f5f\"},\"error_y\":{\"color\":\"#2a3f5f\"},\"marker\":{\"line\":{\"color\":\"#E5ECF6\",\"width\":0.5},\"pattern\":{\"fillmode\":\"overlay\",\"size\":10,\"solidity\":0.2}},\"type\":\"bar\"}],\"barpolar\":[{\"marker\":{\"line\":{\"color\":\"#E5ECF6\",\"width\":0.5},\"pattern\":{\"fillmode\":\"overlay\",\"size\":10,\"solidity\":0.2}},\"type\":\"barpolar\"}],\"carpet\":[{\"aaxis\":{\"endlinecolor\":\"#2a3f5f\",\"gridcolor\":\"white\",\"linecolor\":\"white\",\"minorgridcolor\":\"white\",\"startlinecolor\":\"#2a3f5f\"},\"baxis\":{\"endlinecolor\":\"#2a3f5f\",\"gridcolor\":\"white\",\"linecolor\":\"white\",\"minorgridcolor\":\"white\",\"startlinecolor\":\"#2a3f5f\"},\"type\":\"carpet\"}],\"choropleth\":[{\"colorbar\":{\"outlinewidth\":0,\"ticks\":\"\"},\"type\":\"choropleth\"}],\"contour\":[{\"colorbar\":{\"outlinewidth\":0,\"ticks\":\"\"},\"colorscale\":[[0.0,\"#0d0887\"],[0.1111111111111111,\"#46039f\"],[0.2222222222222222,\"#7201a8\"],[0.3333333333333333,\"#9c179e\"],[0.4444444444444444,\"#bd3786\"],[0.5555555555555556,\"#d8576b\"],[0.6666666666666666,\"#ed7953\"],[0.7777777777777778,\"#fb9f3a\"],[0.8888888888888888,\"#fdca26\"],[1.0,\"#f0f921\"]],\"type\":\"contour\"}],\"contourcarpet\":[{\"colorbar\":{\"outlinewidth\":0,\"ticks\":\"\"},\"type\":\"contourcarpet\"}],\"heatmap\":[{\"colorbar\":{\"outlinewidth\":0,\"ticks\":\"\"},\"colorscale\":[[0.0,\"#0d0887\"],[0.1111111111111111,\"#46039f\"],[0.2222222222222222,\"#7201a8\"],[0.3333333333333333,\"#9c179e\"],[0.4444444444444444,\"#bd3786\"],[0.5555555555555556,\"#d8576b\"],[0.6666666666666666,\"#ed7953\"],[0.7777777777777778,\"#fb9f3a\"],[0.8888888888888888,\"#fdca26\"],[1.0,\"#f0f921\"]],\"type\":\"heatmap\"}],\"heatmapgl\":[{\"colorbar\":{\"outlinewidth\":0,\"ticks\":\"\"},\"colorscale\":[[0.0,\"#0d0887\"],[0.1111111111111111,\"#46039f\"],[0.2222222222222222,\"#7201a8\"],[0.3333333333333333,\"#9c179e\"],[0.4444444444444444,\"#bd3786\"],[0.5555555555555556,\"#d8576b\"],[0.6666666666666666,\"#ed7953\"],[0.7777777777777778,\"#fb9f3a\"],[0.8888888888888888,\"#fdca26\"],[1.0,\"#f0f921\"]],\"type\":\"heatmapgl\"}],\"histogram\":[{\"marker\":{\"pattern\":{\"fillmode\":\"overlay\",\"size\":10,\"solidity\":0.2}},\"type\":\"histogram\"}],\"histogram2d\":[{\"colorbar\":{\"outlinewidth\":0,\"ticks\":\"\"},\"colorscale\":[[0.0,\"#0d0887\"],[0.1111111111111111,\"#46039f\"],[0.2222222222222222,\"#7201a8\"],[0.3333333333333333,\"#9c179e\"],[0.4444444444444444,\"#bd3786\"],[0.5555555555555556,\"#d8576b\"],[0.6666666666666666,\"#ed7953\"],[0.7777777777777778,\"#fb9f3a\"],[0.8888888888888888,\"#fdca26\"],[1.0,\"#f0f921\"]],\"type\":\"histogram2d\"}],\"histogram2dcontour\":[{\"colorbar\":{\"outlinewidth\":0,\"ticks\":\"\"},\"colorscale\":[[0.0,\"#0d0887\"],[0.1111111111111111,\"#46039f\"],[0.2222222222222222,\"#7201a8\"],[0.3333333333333333,\"#9c179e\"],[0.4444444444444444,\"#bd3786\"],[0.5555555555555556,\"#d8576b\"],[0.6666666666666666,\"#ed7953\"],[0.7777777777777778,\"#fb9f3a\"],[0.8888888888888888,\"#fdca26\"],[1.0,\"#f0f921\"]],\"type\":\"histogram2dcontour\"}],\"mesh3d\":[{\"colorbar\":{\"outlinewidth\":0,\"ticks\":\"\"},\"type\":\"mesh3d\"}],\"parcoords\":[{\"line\":{\"colorbar\":{\"outlinewidth\":0,\"ticks\":\"\"}},\"type\":\"parcoords\"}],\"pie\":[{\"automargin\":true,\"type\":\"pie\"}],\"scatter\":[{\"marker\":{\"colorbar\":{\"outlinewidth\":0,\"ticks\":\"\"}},\"type\":\"scatter\"}],\"scatter3d\":[{\"line\":{\"colorbar\":{\"outlinewidth\":0,\"ticks\":\"\"}},\"marker\":{\"colorbar\":{\"outlinewidth\":0,\"ticks\":\"\"}},\"type\":\"scatter3d\"}],\"scattercarpet\":[{\"marker\":{\"colorbar\":{\"outlinewidth\":0,\"ticks\":\"\"}},\"type\":\"scattercarpet\"}],\"scattergeo\":[{\"marker\":{\"colorbar\":{\"outlinewidth\":0,\"ticks\":\"\"}},\"type\":\"scattergeo\"}],\"scattergl\":[{\"marker\":{\"colorbar\":{\"outlinewidth\":0,\"ticks\":\"\"}},\"type\":\"scattergl\"}],\"scattermapbox\":[{\"marker\":{\"colorbar\":{\"outlinewidth\":0,\"ticks\":\"\"}},\"type\":\"scattermapbox\"}],\"scatterpolar\":[{\"marker\":{\"colorbar\":{\"outlinewidth\":0,\"ticks\":\"\"}},\"type\":\"scatterpolar\"}],\"scatterpolargl\":[{\"marker\":{\"colorbar\":{\"outlinewidth\":0,\"ticks\":\"\"}},\"type\":\"scatterpolargl\"}],\"scatterternary\":[{\"marker\":{\"colorbar\":{\"outlinewidth\":0,\"ticks\":\"\"}},\"type\":\"scatterternary\"}],\"surface\":[{\"colorbar\":{\"outlinewidth\":0,\"ticks\":\"\"},\"colorscale\":[[0.0,\"#0d0887\"],[0.1111111111111111,\"#46039f\"],[0.2222222222222222,\"#7201a8\"],[0.3333333333333333,\"#9c179e\"],[0.4444444444444444,\"#bd3786\"],[0.5555555555555556,\"#d8576b\"],[0.6666666666666666,\"#ed7953\"],[0.7777777777777778,\"#fb9f3a\"],[0.8888888888888888,\"#fdca26\"],[1.0,\"#f0f921\"]],\"type\":\"surface\"}],\"table\":[{\"cells\":{\"fill\":{\"color\":\"#EBF0F8\"},\"line\":{\"color\":\"white\"}},\"header\":{\"fill\":{\"color\":\"#C8D4E3\"},\"line\":{\"color\":\"white\"}},\"type\":\"table\"}]},\"layout\":{\"annotationdefaults\":{\"arrowcolor\":\"#2a3f5f\",\"arrowhead\":0,\"arrowwidth\":1},\"autotypenumbers\":\"strict\",\"coloraxis\":{\"colorbar\":{\"outlinewidth\":0,\"ticks\":\"\"}},\"colorscale\":{\"diverging\":[[0,\"#8e0152\"],[0.1,\"#c51b7d\"],[0.2,\"#de77ae\"],[0.3,\"#f1b6da\"],[0.4,\"#fde0ef\"],[0.5,\"#f7f7f7\"],[0.6,\"#e6f5d0\"],[0.7,\"#b8e186\"],[0.8,\"#7fbc41\"],[0.9,\"#4d9221\"],[1,\"#276419\"]],\"sequential\":[[0.0,\"#0d0887\"],[0.1111111111111111,\"#46039f\"],[0.2222222222222222,\"#7201a8\"],[0.3333333333333333,\"#9c179e\"],[0.4444444444444444,\"#bd3786\"],[0.5555555555555556,\"#d8576b\"],[0.6666666666666666,\"#ed7953\"],[0.7777777777777778,\"#fb9f3a\"],[0.8888888888888888,\"#fdca26\"],[1.0,\"#f0f921\"]],\"sequentialminus\":[[0.0,\"#0d0887\"],[0.1111111111111111,\"#46039f\"],[0.2222222222222222,\"#7201a8\"],[0.3333333333333333,\"#9c179e\"],[0.4444444444444444,\"#bd3786\"],[0.5555555555555556,\"#d8576b\"],[0.6666666666666666,\"#ed7953\"],[0.7777777777777778,\"#fb9f3a\"],[0.8888888888888888,\"#fdca26\"],[1.0,\"#f0f921\"]]},\"colorway\":[\"#636efa\",\"#EF553B\",\"#00cc96\",\"#ab63fa\",\"#FFA15A\",\"#19d3f3\",\"#FF6692\",\"#B6E880\",\"#FF97FF\",\"#FECB52\"],\"font\":{\"color\":\"#2a3f5f\"},\"geo\":{\"bgcolor\":\"white\",\"lakecolor\":\"white\",\"landcolor\":\"#E5ECF6\",\"showlakes\":true,\"showland\":true,\"subunitcolor\":\"white\"},\"hoverlabel\":{\"align\":\"left\"},\"hovermode\":\"closest\",\"mapbox\":{\"style\":\"light\"},\"paper_bgcolor\":\"white\",\"plot_bgcolor\":\"#E5ECF6\",\"polar\":{\"angularaxis\":{\"gridcolor\":\"white\",\"linecolor\":\"white\",\"ticks\":\"\"},\"bgcolor\":\"#E5ECF6\",\"radialaxis\":{\"gridcolor\":\"white\",\"linecolor\":\"white\",\"ticks\":\"\"}},\"scene\":{\"xaxis\":{\"backgroundcolor\":\"#E5ECF6\",\"gridcolor\":\"white\",\"gridwidth\":2,\"linecolor\":\"white\",\"showbackground\":true,\"ticks\":\"\",\"zerolinecolor\":\"white\"},\"yaxis\":{\"backgroundcolor\":\"#E5ECF6\",\"gridcolor\":\"white\",\"gridwidth\":2,\"linecolor\":\"white\",\"showbackground\":true,\"ticks\":\"\",\"zerolinecolor\":\"white\"},\"zaxis\":{\"backgroundcolor\":\"#E5ECF6\",\"gridcolor\":\"white\",\"gridwidth\":2,\"linecolor\":\"white\",\"showbackground\":true,\"ticks\":\"\",\"zerolinecolor\":\"white\"}},\"shapedefaults\":{\"line\":{\"color\":\"#2a3f5f\"}},\"ternary\":{\"aaxis\":{\"gridcolor\":\"white\",\"linecolor\":\"white\",\"ticks\":\"\"},\"baxis\":{\"gridcolor\":\"white\",\"linecolor\":\"white\",\"ticks\":\"\"},\"bgcolor\":\"#E5ECF6\",\"caxis\":{\"gridcolor\":\"white\",\"linecolor\":\"white\",\"ticks\":\"\"}},\"title\":{\"x\":0.05},\"xaxis\":{\"automargin\":true,\"gridcolor\":\"white\",\"linecolor\":\"white\",\"ticks\":\"\",\"title\":{\"standoff\":15},\"zerolinecolor\":\"white\",\"zerolinewidth\":2},\"yaxis\":{\"automargin\":true,\"gridcolor\":\"white\",\"linecolor\":\"white\",\"ticks\":\"\",\"title\":{\"standoff\":15},\"zerolinecolor\":\"white\",\"zerolinewidth\":2}}},\"xaxis\":{\"showgrid\":false,\"zeroline\":false,\"visible\":false,\"showticklabels\":false},\"yaxis\":{\"showgrid\":false,\"zeroline\":false,\"visible\":false,\"showticklabels\":false},\"showlegend\":false,\"plot_bgcolor\":\"rgba(0, 0, 0, 0)\"},                        {\"responsive\": true}                    ).then(function(){\n",
       "                            \n",
       "var gd = document.getElementById('99c6e42f-fe47-4c47-84d5-29a9b084e929');\n",
       "var x = new MutationObserver(function (mutations, observer) {{\n",
       "        var display = window.getComputedStyle(gd).display;\n",
       "        if (!display || display === 'none') {{\n",
       "            console.log([gd, 'removed!']);\n",
       "            Plotly.purge(gd);\n",
       "            observer.disconnect();\n",
       "        }}\n",
       "}});\n",
       "\n",
       "// Listen for the removal of the full notebook cells\n",
       "var notebookContainer = gd.closest('#notebook-container');\n",
       "if (notebookContainer) {{\n",
       "    x.observe(notebookContainer, {childList: true});\n",
       "}}\n",
       "\n",
       "// Listen for the clearing of the current output cell\n",
       "var outputEl = gd.closest('.output');\n",
       "if (outputEl) {{\n",
       "    x.observe(outputEl, {childList: true});\n",
       "}}\n",
       "\n",
       "                        })                };                });            </script>        </div>"
      ]
     },
     "metadata": {},
     "output_type": "display_data"
    }
   ],
   "source": [
    "tsp.show_word_clouds('NN', \n",
    "                    go_plot_settings={'plot_bgcolor': 'rgba(0, 0, 0, 0)','plot_bgcolor': 'rgba(0, 0, 0, 0)'},\n",
    "                    wc_settings={'color':'red', 'max_words':1000})"
   ]
  },
  {
   "cell_type": "code",
   "execution_count": 8,
   "id": "a217c266",
   "metadata": {},
   "outputs": [
    {
     "data": {
      "application/vnd.plotly.v1+json": {
       "config": {
        "plotlyServerURL": "https://plot.ly"
       },
       "data": [
        {
         "hoverinfo": "text",
         "hovertext": [
          "br: 384",
          "movie: 213",
          "film: 139",
          "story: 61",
          "time: 51",
          "way: 41",
          "people: 39",
          "plot: 37",
          "man: 33",
          "character: 32",
          "films: 31",
          "characters: 28",
          "thing: 27",
          "life: 26",
          "movies: 24",
          "something: 24",
          "end: 23",
          "scenes: 19",
          "watch: 19",
          "kind: 18",
          "director: 18",
          "years: 18",
          "actors: 18",
          "lot: 18",
          "family: 18",
          "horror: 17",
          "show: 17",
          "kids: 17",
          "world: 17",
          "minutes: 16",
          "production: 15",
          "job: 15",
          "everything: 15",
          "scene: 15",
          "woman: 15",
          "money: 14",
          "reason: 14",
          "idea: 14",
          "wife: 14",
          "things: 14",
          "see: 14",
          "nothing: 13",
          "course: 13",
          "flick: 13",
          "everyone: 13",
          "anything: 13",
          "action: 12",
          "music: 11",
          "game: 11",
          "place: 11",
          "cinema: 11",
          "cast: 11",
          "anyone: 11",
          "tv: 11",
          "title: 11",
          "audience: 11",
          "budget: 11",
          "work: 11",
          "mind: 10",
          "times: 10",
          "night: 10",
          "couple: 10",
          "performances: 10",
          "killer: 10",
          "space: 10",
          "get: 10",
          "role: 10",
          "bit: 10",
          "case: 10",
          "fact: 10",
          "year: 10",
          "age: 10",
          "water: 10",
          "child: 10",
          "sense: 9",
          "script: 9",
          "john: 9",
          "someone: 9",
          "friends: 9",
          "house: 9",
          "point: 9",
          "performance: 9",
          "murder: 9",
          "look: 9",
          "sex: 9",
          "sequence: 9",
          "kid: 8",
          "death: 8",
          "example: 8",
          "hell: 8",
          "adult: 8",
          "love: 8",
          "madsen: 8",
          "half: 8",
          "actor: 8",
          "children: 8",
          "hollywood: 8",
          "effects: 8",
          "guy: 8",
          "attention: 8"
         ],
         "mode": "text",
         "text": [
          "br",
          "movie",
          "film",
          "story",
          "time",
          "way",
          "people",
          "plot",
          "man",
          "character",
          "films",
          "characters",
          "thing",
          "life",
          "movies",
          "something",
          "end",
          "scenes",
          "watch",
          "kind",
          "director",
          "years",
          "actors",
          "lot",
          "family",
          "horror",
          "show",
          "kids",
          "world",
          "minutes",
          "production",
          "job",
          "everything",
          "scene",
          "woman",
          "money",
          "reason",
          "idea",
          "wife",
          "things",
          "see",
          "nothing",
          "course",
          "flick",
          "everyone",
          "anything",
          "action",
          "music",
          "game",
          "place",
          "cinema",
          "cast",
          "anyone",
          "tv",
          "title",
          "audience",
          "budget",
          "work",
          "mind",
          "times",
          "night",
          "couple",
          "performances",
          "killer",
          "space",
          "get",
          "role",
          "bit",
          "case",
          "fact",
          "year",
          "age",
          "water",
          "child",
          "sense",
          "script",
          "john",
          "someone",
          "friends",
          "house",
          "point",
          "performance",
          "murder",
          "look",
          "sex",
          "sequence",
          "kid",
          "death",
          "example",
          "hell",
          "adult",
          "love",
          "madsen",
          "half",
          "actor",
          "children",
          "hollywood",
          "effects",
          "guy",
          "attention"
         ],
         "textfont": {
          "color": [
           "rgb(0, 130, 173)",
           "rgb(0, 107, 143)",
           "rgb(0, 96, 128)",
           "rgb(0, 80, 107)",
           "rgb(0, 149, 199)",
           "rgb(0, 134, 180)",
           "rgb(0, 85, 114)",
           "rgb(0, 41, 55)",
           "rgb(0, 162, 217)",
           "rgb(0, 101, 135)",
           "rgb(0, 42, 56)",
           "rgb(0, 45, 60)",
           "rgb(0, 61, 82)",
           "rgb(0, 85, 114)",
           "rgb(0, 175, 234)",
           "rgb(0, 45, 59)",
           "rgb(0, 85, 113)",
           "rgb(0, 181, 242)",
           "rgb(0, 71, 94)",
           "rgb(0, 104, 139)",
           "rgb(0, 100, 134)",
           "rgb(0, 84, 112)",
           "rgb(0, 124, 166)",
           "rgb(0, 179, 240)",
           "rgb(0, 77, 102)",
           "rgb(0, 65, 87)",
           "rgb(0, 79, 105)",
           "rgb(0, 93, 124)",
           "rgb(0, 178, 237)",
           "rgb(0, 56, 75)",
           "rgb(0, 73, 97)",
           "rgb(0, 38, 51)",
           "rgb(0, 69, 93)",
           "rgb(0, 95, 127)",
           "rgb(0, 145, 193)",
           "rgb(0, 86, 115)",
           "rgb(0, 190, 253)",
           "rgb(0, 116, 154)",
           "rgb(0, 157, 209)",
           "rgb(0, 117, 156)",
           "rgb(0, 174, 233)",
           "rgb(0, 58, 77)",
           "rgb(0, 134, 178)",
           "rgb(0, 100, 133)",
           "rgb(0, 48, 64)",
           "rgb(0, 89, 118)",
           "rgb(0, 46, 61)",
           "rgb(0, 158, 211)",
           "rgb(0, 182, 243)",
           "rgb(0, 48, 64)",
           "rgb(0, 123, 164)",
           "rgb(0, 47, 63)",
           "rgb(0, 158, 210)",
           "rgb(0, 147, 197)",
           "rgb(0, 89, 118)",
           "rgb(0, 65, 87)",
           "rgb(0, 158, 211)",
           "rgb(0, 64, 85)",
           "rgb(0, 172, 230)",
           "rgb(0, 97, 130)",
           "rgb(0, 160, 213)",
           "rgb(0, 109, 146)",
           "rgb(0, 180, 240)",
           "rgb(0, 49, 65)",
           "rgb(0, 54, 73)",
           "rgb(0, 163, 218)",
           "rgb(0, 63, 84)",
           "rgb(0, 118, 158)",
           "rgb(0, 109, 145)",
           "rgb(0, 175, 234)",
           "rgb(0, 168, 225)",
           "rgb(0, 155, 207)",
           "rgb(0, 80, 106)",
           "rgb(0, 172, 229)",
           "rgb(0, 57, 76)",
           "rgb(0, 141, 188)",
           "rgb(0, 59, 79)",
           "rgb(0, 146, 194)",
           "rgb(0, 43, 57)",
           "rgb(0, 53, 71)",
           "rgb(0, 135, 180)",
           "rgb(0, 143, 191)",
           "rgb(0, 60, 80)",
           "rgb(0, 147, 197)",
           "rgb(0, 77, 103)",
           "rgb(0, 66, 88)",
           "rgb(0, 147, 196)",
           "rgb(0, 103, 138)",
           "rgb(0, 89, 118)",
           "rgb(0, 62, 82)",
           "rgb(0, 98, 131)",
           "rgb(0, 168, 225)",
           "rgb(0, 84, 112)",
           "rgb(0, 110, 147)",
           "rgb(0, 74, 99)",
           "rgb(0, 74, 98)",
           "rgb(0, 157, 210)",
           "rgb(0, 180, 240)",
           "rgb(0, 65, 86)",
           "rgb(0, 43, 57)"
          ],
          "size": [
           100,
           55.4688,
           36.1979,
           15.8854,
           13.2812,
           10.6771,
           10.1562,
           9.6354,
           8.5938,
           8.3333,
           8.0729,
           7.2917,
           7.0312,
           6.7708,
           6.25,
           6.25,
           5.9896,
           4.9479,
           4.9479,
           4.6875,
           4.6875,
           4.6875,
           4.6875,
           4.6875,
           4.6875,
           4.4271,
           4.4271,
           4.4271,
           4.4271,
           4.1667,
           3.9062,
           3.9062,
           3.9062,
           3.9062,
           3.9062,
           3.6458,
           3.6458,
           3.6458,
           3.6458,
           3.6458,
           3.6458,
           3.3854,
           3.3854,
           3.3854,
           3.3854,
           3.3854,
           3.125,
           2.8646,
           2.8646,
           2.8646,
           2.8646,
           2.8646,
           2.8646,
           2.8646,
           2.8646,
           2.8646,
           2.8646,
           2.8646,
           2.6042,
           2.6042,
           2.6042,
           2.6042,
           2.6042,
           2.6042,
           2.6042,
           2.6042,
           2.6042,
           2.6042,
           2.6042,
           2.6042,
           2.6042,
           2.6042,
           2.6042,
           2.6042,
           2.3438,
           2.3438,
           2.3438,
           2.3438,
           2.3438,
           2.3438,
           2.3438,
           2.3438,
           2.3438,
           2.3438,
           2.3438,
           2.3438,
           2.0833,
           2.0833,
           2.0833,
           2.0833,
           2.0833,
           2.0833,
           2.0833,
           2.0833,
           2.0833,
           2.0833,
           2.0833,
           2.0833,
           2.0833,
           2.0833
          ]
         },
         "type": "scattergl",
         "x": [
          2,
          117,
          67,
          109,
          40,
          157,
          28,
          146,
          17,
          171,
          1,
          110,
          78,
          178,
          180,
          83,
          69,
          3,
          114,
          57,
          3,
          44,
          1,
          17,
          109,
          71,
          27,
          92,
          32,
          101,
          171,
          140,
          2,
          104,
          67,
          101,
          26,
          99,
          25,
          52,
          138,
          15,
          58,
          184,
          138,
          19,
          73,
          111,
          72,
          48,
          147,
          86,
          137,
          2,
          67,
          129,
          60,
          33,
          176,
          33,
          74,
          126,
          170,
          108,
          135,
          24,
          170,
          23,
          150,
          193,
          18,
          41,
          187,
          155,
          193,
          192,
          66,
          20,
          153,
          181,
          37,
          169,
          193,
          193,
          123,
          41,
          75,
          135,
          24,
          170,
          109,
          191,
          144,
          33,
          52,
          124,
          95,
          107,
          170,
          97
         ],
         "y": [
          8,
          181,
          125,
          10,
          292,
          81,
          163,
          5,
          280,
          173,
          138,
          164,
          266,
          336,
          30,
          6,
          344,
          307,
          146,
          245,
          33,
          99,
          232,
          338,
          330,
          2,
          116,
          349,
          339,
          47,
          11,
          79,
          1,
          292,
          94,
          3,
          164,
          260,
          203,
          181,
          13,
          231,
          114,
          118,
          163,
          56,
          77,
          4,
          306,
          386,
          100,
          144,
          35,
          384,
          180,
          386,
          216,
          85,
          82,
          290,
          189,
          335,
          342,
          144,
          97,
          259,
          317,
          150,
          237,
          173,
          126,
          83,
          10,
          362,
          300,
          132,
          225,
          373,
          296,
          4,
          277,
          196,
          251,
          324,
          135,
          92,
          291,
          129,
          377,
          248,
          264,
          151,
          5,
          324,
          229,
          351,
          144,
          114,
          138,
          288
         ]
        }
       ],
       "layout": {
        "plot_bgcolor": "rgba(0, 0, 0, 0)",
        "showlegend": false,
        "template": {
         "data": {
          "bar": [
           {
            "error_x": {
             "color": "#2a3f5f"
            },
            "error_y": {
             "color": "#2a3f5f"
            },
            "marker": {
             "line": {
              "color": "#E5ECF6",
              "width": 0.5
             },
             "pattern": {
              "fillmode": "overlay",
              "size": 10,
              "solidity": 0.2
             }
            },
            "type": "bar"
           }
          ],
          "barpolar": [
           {
            "marker": {
             "line": {
              "color": "#E5ECF6",
              "width": 0.5
             },
             "pattern": {
              "fillmode": "overlay",
              "size": 10,
              "solidity": 0.2
             }
            },
            "type": "barpolar"
           }
          ],
          "carpet": [
           {
            "aaxis": {
             "endlinecolor": "#2a3f5f",
             "gridcolor": "white",
             "linecolor": "white",
             "minorgridcolor": "white",
             "startlinecolor": "#2a3f5f"
            },
            "baxis": {
             "endlinecolor": "#2a3f5f",
             "gridcolor": "white",
             "linecolor": "white",
             "minorgridcolor": "white",
             "startlinecolor": "#2a3f5f"
            },
            "type": "carpet"
           }
          ],
          "choropleth": [
           {
            "colorbar": {
             "outlinewidth": 0,
             "ticks": ""
            },
            "type": "choropleth"
           }
          ],
          "contour": [
           {
            "colorbar": {
             "outlinewidth": 0,
             "ticks": ""
            },
            "colorscale": [
             [
              0,
              "#0d0887"
             ],
             [
              0.1111111111111111,
              "#46039f"
             ],
             [
              0.2222222222222222,
              "#7201a8"
             ],
             [
              0.3333333333333333,
              "#9c179e"
             ],
             [
              0.4444444444444444,
              "#bd3786"
             ],
             [
              0.5555555555555556,
              "#d8576b"
             ],
             [
              0.6666666666666666,
              "#ed7953"
             ],
             [
              0.7777777777777778,
              "#fb9f3a"
             ],
             [
              0.8888888888888888,
              "#fdca26"
             ],
             [
              1,
              "#f0f921"
             ]
            ],
            "type": "contour"
           }
          ],
          "contourcarpet": [
           {
            "colorbar": {
             "outlinewidth": 0,
             "ticks": ""
            },
            "type": "contourcarpet"
           }
          ],
          "heatmap": [
           {
            "colorbar": {
             "outlinewidth": 0,
             "ticks": ""
            },
            "colorscale": [
             [
              0,
              "#0d0887"
             ],
             [
              0.1111111111111111,
              "#46039f"
             ],
             [
              0.2222222222222222,
              "#7201a8"
             ],
             [
              0.3333333333333333,
              "#9c179e"
             ],
             [
              0.4444444444444444,
              "#bd3786"
             ],
             [
              0.5555555555555556,
              "#d8576b"
             ],
             [
              0.6666666666666666,
              "#ed7953"
             ],
             [
              0.7777777777777778,
              "#fb9f3a"
             ],
             [
              0.8888888888888888,
              "#fdca26"
             ],
             [
              1,
              "#f0f921"
             ]
            ],
            "type": "heatmap"
           }
          ],
          "heatmapgl": [
           {
            "colorbar": {
             "outlinewidth": 0,
             "ticks": ""
            },
            "colorscale": [
             [
              0,
              "#0d0887"
             ],
             [
              0.1111111111111111,
              "#46039f"
             ],
             [
              0.2222222222222222,
              "#7201a8"
             ],
             [
              0.3333333333333333,
              "#9c179e"
             ],
             [
              0.4444444444444444,
              "#bd3786"
             ],
             [
              0.5555555555555556,
              "#d8576b"
             ],
             [
              0.6666666666666666,
              "#ed7953"
             ],
             [
              0.7777777777777778,
              "#fb9f3a"
             ],
             [
              0.8888888888888888,
              "#fdca26"
             ],
             [
              1,
              "#f0f921"
             ]
            ],
            "type": "heatmapgl"
           }
          ],
          "histogram": [
           {
            "marker": {
             "pattern": {
              "fillmode": "overlay",
              "size": 10,
              "solidity": 0.2
             }
            },
            "type": "histogram"
           }
          ],
          "histogram2d": [
           {
            "colorbar": {
             "outlinewidth": 0,
             "ticks": ""
            },
            "colorscale": [
             [
              0,
              "#0d0887"
             ],
             [
              0.1111111111111111,
              "#46039f"
             ],
             [
              0.2222222222222222,
              "#7201a8"
             ],
             [
              0.3333333333333333,
              "#9c179e"
             ],
             [
              0.4444444444444444,
              "#bd3786"
             ],
             [
              0.5555555555555556,
              "#d8576b"
             ],
             [
              0.6666666666666666,
              "#ed7953"
             ],
             [
              0.7777777777777778,
              "#fb9f3a"
             ],
             [
              0.8888888888888888,
              "#fdca26"
             ],
             [
              1,
              "#f0f921"
             ]
            ],
            "type": "histogram2d"
           }
          ],
          "histogram2dcontour": [
           {
            "colorbar": {
             "outlinewidth": 0,
             "ticks": ""
            },
            "colorscale": [
             [
              0,
              "#0d0887"
             ],
             [
              0.1111111111111111,
              "#46039f"
             ],
             [
              0.2222222222222222,
              "#7201a8"
             ],
             [
              0.3333333333333333,
              "#9c179e"
             ],
             [
              0.4444444444444444,
              "#bd3786"
             ],
             [
              0.5555555555555556,
              "#d8576b"
             ],
             [
              0.6666666666666666,
              "#ed7953"
             ],
             [
              0.7777777777777778,
              "#fb9f3a"
             ],
             [
              0.8888888888888888,
              "#fdca26"
             ],
             [
              1,
              "#f0f921"
             ]
            ],
            "type": "histogram2dcontour"
           }
          ],
          "mesh3d": [
           {
            "colorbar": {
             "outlinewidth": 0,
             "ticks": ""
            },
            "type": "mesh3d"
           }
          ],
          "parcoords": [
           {
            "line": {
             "colorbar": {
              "outlinewidth": 0,
              "ticks": ""
             }
            },
            "type": "parcoords"
           }
          ],
          "pie": [
           {
            "automargin": true,
            "type": "pie"
           }
          ],
          "scatter": [
           {
            "marker": {
             "colorbar": {
              "outlinewidth": 0,
              "ticks": ""
             }
            },
            "type": "scatter"
           }
          ],
          "scatter3d": [
           {
            "line": {
             "colorbar": {
              "outlinewidth": 0,
              "ticks": ""
             }
            },
            "marker": {
             "colorbar": {
              "outlinewidth": 0,
              "ticks": ""
             }
            },
            "type": "scatter3d"
           }
          ],
          "scattercarpet": [
           {
            "marker": {
             "colorbar": {
              "outlinewidth": 0,
              "ticks": ""
             }
            },
            "type": "scattercarpet"
           }
          ],
          "scattergeo": [
           {
            "marker": {
             "colorbar": {
              "outlinewidth": 0,
              "ticks": ""
             }
            },
            "type": "scattergeo"
           }
          ],
          "scattergl": [
           {
            "marker": {
             "colorbar": {
              "outlinewidth": 0,
              "ticks": ""
             }
            },
            "type": "scattergl"
           }
          ],
          "scattermapbox": [
           {
            "marker": {
             "colorbar": {
              "outlinewidth": 0,
              "ticks": ""
             }
            },
            "type": "scattermapbox"
           }
          ],
          "scatterpolar": [
           {
            "marker": {
             "colorbar": {
              "outlinewidth": 0,
              "ticks": ""
             }
            },
            "type": "scatterpolar"
           }
          ],
          "scatterpolargl": [
           {
            "marker": {
             "colorbar": {
              "outlinewidth": 0,
              "ticks": ""
             }
            },
            "type": "scatterpolargl"
           }
          ],
          "scatterternary": [
           {
            "marker": {
             "colorbar": {
              "outlinewidth": 0,
              "ticks": ""
             }
            },
            "type": "scatterternary"
           }
          ],
          "surface": [
           {
            "colorbar": {
             "outlinewidth": 0,
             "ticks": ""
            },
            "colorscale": [
             [
              0,
              "#0d0887"
             ],
             [
              0.1111111111111111,
              "#46039f"
             ],
             [
              0.2222222222222222,
              "#7201a8"
             ],
             [
              0.3333333333333333,
              "#9c179e"
             ],
             [
              0.4444444444444444,
              "#bd3786"
             ],
             [
              0.5555555555555556,
              "#d8576b"
             ],
             [
              0.6666666666666666,
              "#ed7953"
             ],
             [
              0.7777777777777778,
              "#fb9f3a"
             ],
             [
              0.8888888888888888,
              "#fdca26"
             ],
             [
              1,
              "#f0f921"
             ]
            ],
            "type": "surface"
           }
          ],
          "table": [
           {
            "cells": {
             "fill": {
              "color": "#EBF0F8"
             },
             "line": {
              "color": "white"
             }
            },
            "header": {
             "fill": {
              "color": "#C8D4E3"
             },
             "line": {
              "color": "white"
             }
            },
            "type": "table"
           }
          ]
         },
         "layout": {
          "annotationdefaults": {
           "arrowcolor": "#2a3f5f",
           "arrowhead": 0,
           "arrowwidth": 1
          },
          "autotypenumbers": "strict",
          "coloraxis": {
           "colorbar": {
            "outlinewidth": 0,
            "ticks": ""
           }
          },
          "colorscale": {
           "diverging": [
            [
             0,
             "#8e0152"
            ],
            [
             0.1,
             "#c51b7d"
            ],
            [
             0.2,
             "#de77ae"
            ],
            [
             0.3,
             "#f1b6da"
            ],
            [
             0.4,
             "#fde0ef"
            ],
            [
             0.5,
             "#f7f7f7"
            ],
            [
             0.6,
             "#e6f5d0"
            ],
            [
             0.7,
             "#b8e186"
            ],
            [
             0.8,
             "#7fbc41"
            ],
            [
             0.9,
             "#4d9221"
            ],
            [
             1,
             "#276419"
            ]
           ],
           "sequential": [
            [
             0,
             "#0d0887"
            ],
            [
             0.1111111111111111,
             "#46039f"
            ],
            [
             0.2222222222222222,
             "#7201a8"
            ],
            [
             0.3333333333333333,
             "#9c179e"
            ],
            [
             0.4444444444444444,
             "#bd3786"
            ],
            [
             0.5555555555555556,
             "#d8576b"
            ],
            [
             0.6666666666666666,
             "#ed7953"
            ],
            [
             0.7777777777777778,
             "#fb9f3a"
            ],
            [
             0.8888888888888888,
             "#fdca26"
            ],
            [
             1,
             "#f0f921"
            ]
           ],
           "sequentialminus": [
            [
             0,
             "#0d0887"
            ],
            [
             0.1111111111111111,
             "#46039f"
            ],
            [
             0.2222222222222222,
             "#7201a8"
            ],
            [
             0.3333333333333333,
             "#9c179e"
            ],
            [
             0.4444444444444444,
             "#bd3786"
            ],
            [
             0.5555555555555556,
             "#d8576b"
            ],
            [
             0.6666666666666666,
             "#ed7953"
            ],
            [
             0.7777777777777778,
             "#fb9f3a"
            ],
            [
             0.8888888888888888,
             "#fdca26"
            ],
            [
             1,
             "#f0f921"
            ]
           ]
          },
          "colorway": [
           "#636efa",
           "#EF553B",
           "#00cc96",
           "#ab63fa",
           "#FFA15A",
           "#19d3f3",
           "#FF6692",
           "#B6E880",
           "#FF97FF",
           "#FECB52"
          ],
          "font": {
           "color": "#2a3f5f"
          },
          "geo": {
           "bgcolor": "white",
           "lakecolor": "white",
           "landcolor": "#E5ECF6",
           "showlakes": true,
           "showland": true,
           "subunitcolor": "white"
          },
          "hoverlabel": {
           "align": "left"
          },
          "hovermode": "closest",
          "mapbox": {
           "style": "light"
          },
          "paper_bgcolor": "white",
          "plot_bgcolor": "#E5ECF6",
          "polar": {
           "angularaxis": {
            "gridcolor": "white",
            "linecolor": "white",
            "ticks": ""
           },
           "bgcolor": "#E5ECF6",
           "radialaxis": {
            "gridcolor": "white",
            "linecolor": "white",
            "ticks": ""
           }
          },
          "scene": {
           "xaxis": {
            "backgroundcolor": "#E5ECF6",
            "gridcolor": "white",
            "gridwidth": 2,
            "linecolor": "white",
            "showbackground": true,
            "ticks": "",
            "zerolinecolor": "white"
           },
           "yaxis": {
            "backgroundcolor": "#E5ECF6",
            "gridcolor": "white",
            "gridwidth": 2,
            "linecolor": "white",
            "showbackground": true,
            "ticks": "",
            "zerolinecolor": "white"
           },
           "zaxis": {
            "backgroundcolor": "#E5ECF6",
            "gridcolor": "white",
            "gridwidth": 2,
            "linecolor": "white",
            "showbackground": true,
            "ticks": "",
            "zerolinecolor": "white"
           }
          },
          "shapedefaults": {
           "line": {
            "color": "#2a3f5f"
           }
          },
          "ternary": {
           "aaxis": {
            "gridcolor": "white",
            "linecolor": "white",
            "ticks": ""
           },
           "baxis": {
            "gridcolor": "white",
            "linecolor": "white",
            "ticks": ""
           },
           "bgcolor": "#E5ECF6",
           "caxis": {
            "gridcolor": "white",
            "linecolor": "white",
            "ticks": ""
           }
          },
          "title": {
           "x": 0.05
          },
          "xaxis": {
           "automargin": true,
           "gridcolor": "white",
           "linecolor": "white",
           "ticks": "",
           "title": {
            "standoff": 15
           },
           "zerolinecolor": "white",
           "zerolinewidth": 2
          },
          "yaxis": {
           "automargin": true,
           "gridcolor": "white",
           "linecolor": "white",
           "ticks": "",
           "title": {
            "standoff": 15
           },
           "zerolinecolor": "white",
           "zerolinewidth": 2
          }
         }
        },
        "xaxis": {
         "showgrid": false,
         "showticklabels": false,
         "visible": false,
         "zeroline": false
        },
        "yaxis": {
         "showgrid": false,
         "showticklabels": false,
         "visible": false,
         "zeroline": false
        }
       }
      },
      "text/html": [
       "<div>                            <div id=\"6140751c-8963-41ca-9774-592fb081f654\" class=\"plotly-graph-div\" style=\"height:525px; width:100%;\"></div>            <script type=\"text/javascript\">                require([\"plotly\"], function(Plotly) {                    window.PLOTLYENV=window.PLOTLYENV || {};                                    if (document.getElementById(\"6140751c-8963-41ca-9774-592fb081f654\")) {                    Plotly.newPlot(                        \"6140751c-8963-41ca-9774-592fb081f654\",                        [{\"hoverinfo\":\"text\",\"hovertext\":[\"br: 384\",\"movie: 213\",\"film: 139\",\"story: 61\",\"time: 51\",\"way: 41\",\"people: 39\",\"plot: 37\",\"man: 33\",\"character: 32\",\"films: 31\",\"characters: 28\",\"thing: 27\",\"life: 26\",\"movies: 24\",\"something: 24\",\"end: 23\",\"scenes: 19\",\"watch: 19\",\"kind: 18\",\"director: 18\",\"years: 18\",\"actors: 18\",\"lot: 18\",\"family: 18\",\"horror: 17\",\"show: 17\",\"kids: 17\",\"world: 17\",\"minutes: 16\",\"production: 15\",\"job: 15\",\"everything: 15\",\"scene: 15\",\"woman: 15\",\"money: 14\",\"reason: 14\",\"idea: 14\",\"wife: 14\",\"things: 14\",\"see: 14\",\"nothing: 13\",\"course: 13\",\"flick: 13\",\"everyone: 13\",\"anything: 13\",\"action: 12\",\"music: 11\",\"game: 11\",\"place: 11\",\"cinema: 11\",\"cast: 11\",\"anyone: 11\",\"tv: 11\",\"title: 11\",\"audience: 11\",\"budget: 11\",\"work: 11\",\"mind: 10\",\"times: 10\",\"night: 10\",\"couple: 10\",\"performances: 10\",\"killer: 10\",\"space: 10\",\"get: 10\",\"role: 10\",\"bit: 10\",\"case: 10\",\"fact: 10\",\"year: 10\",\"age: 10\",\"water: 10\",\"child: 10\",\"sense: 9\",\"script: 9\",\"john: 9\",\"someone: 9\",\"friends: 9\",\"house: 9\",\"point: 9\",\"performance: 9\",\"murder: 9\",\"look: 9\",\"sex: 9\",\"sequence: 9\",\"kid: 8\",\"death: 8\",\"example: 8\",\"hell: 8\",\"adult: 8\",\"love: 8\",\"madsen: 8\",\"half: 8\",\"actor: 8\",\"children: 8\",\"hollywood: 8\",\"effects: 8\",\"guy: 8\",\"attention: 8\"],\"mode\":\"text\",\"text\":[\"br\",\"movie\",\"film\",\"story\",\"time\",\"way\",\"people\",\"plot\",\"man\",\"character\",\"films\",\"characters\",\"thing\",\"life\",\"movies\",\"something\",\"end\",\"scenes\",\"watch\",\"kind\",\"director\",\"years\",\"actors\",\"lot\",\"family\",\"horror\",\"show\",\"kids\",\"world\",\"minutes\",\"production\",\"job\",\"everything\",\"scene\",\"woman\",\"money\",\"reason\",\"idea\",\"wife\",\"things\",\"see\",\"nothing\",\"course\",\"flick\",\"everyone\",\"anything\",\"action\",\"music\",\"game\",\"place\",\"cinema\",\"cast\",\"anyone\",\"tv\",\"title\",\"audience\",\"budget\",\"work\",\"mind\",\"times\",\"night\",\"couple\",\"performances\",\"killer\",\"space\",\"get\",\"role\",\"bit\",\"case\",\"fact\",\"year\",\"age\",\"water\",\"child\",\"sense\",\"script\",\"john\",\"someone\",\"friends\",\"house\",\"point\",\"performance\",\"murder\",\"look\",\"sex\",\"sequence\",\"kid\",\"death\",\"example\",\"hell\",\"adult\",\"love\",\"madsen\",\"half\",\"actor\",\"children\",\"hollywood\",\"effects\",\"guy\",\"attention\"],\"textfont\":{\"color\":[\"rgb(0, 130, 173)\",\"rgb(0, 107, 143)\",\"rgb(0, 96, 128)\",\"rgb(0, 80, 107)\",\"rgb(0, 149, 199)\",\"rgb(0, 134, 180)\",\"rgb(0, 85, 114)\",\"rgb(0, 41, 55)\",\"rgb(0, 162, 217)\",\"rgb(0, 101, 135)\",\"rgb(0, 42, 56)\",\"rgb(0, 45, 60)\",\"rgb(0, 61, 82)\",\"rgb(0, 85, 114)\",\"rgb(0, 175, 234)\",\"rgb(0, 45, 59)\",\"rgb(0, 85, 113)\",\"rgb(0, 181, 242)\",\"rgb(0, 71, 94)\",\"rgb(0, 104, 139)\",\"rgb(0, 100, 134)\",\"rgb(0, 84, 112)\",\"rgb(0, 124, 166)\",\"rgb(0, 179, 240)\",\"rgb(0, 77, 102)\",\"rgb(0, 65, 87)\",\"rgb(0, 79, 105)\",\"rgb(0, 93, 124)\",\"rgb(0, 178, 237)\",\"rgb(0, 56, 75)\",\"rgb(0, 73, 97)\",\"rgb(0, 38, 51)\",\"rgb(0, 69, 93)\",\"rgb(0, 95, 127)\",\"rgb(0, 145, 193)\",\"rgb(0, 86, 115)\",\"rgb(0, 190, 253)\",\"rgb(0, 116, 154)\",\"rgb(0, 157, 209)\",\"rgb(0, 117, 156)\",\"rgb(0, 174, 233)\",\"rgb(0, 58, 77)\",\"rgb(0, 134, 178)\",\"rgb(0, 100, 133)\",\"rgb(0, 48, 64)\",\"rgb(0, 89, 118)\",\"rgb(0, 46, 61)\",\"rgb(0, 158, 211)\",\"rgb(0, 182, 243)\",\"rgb(0, 48, 64)\",\"rgb(0, 123, 164)\",\"rgb(0, 47, 63)\",\"rgb(0, 158, 210)\",\"rgb(0, 147, 197)\",\"rgb(0, 89, 118)\",\"rgb(0, 65, 87)\",\"rgb(0, 158, 211)\",\"rgb(0, 64, 85)\",\"rgb(0, 172, 230)\",\"rgb(0, 97, 130)\",\"rgb(0, 160, 213)\",\"rgb(0, 109, 146)\",\"rgb(0, 180, 240)\",\"rgb(0, 49, 65)\",\"rgb(0, 54, 73)\",\"rgb(0, 163, 218)\",\"rgb(0, 63, 84)\",\"rgb(0, 118, 158)\",\"rgb(0, 109, 145)\",\"rgb(0, 175, 234)\",\"rgb(0, 168, 225)\",\"rgb(0, 155, 207)\",\"rgb(0, 80, 106)\",\"rgb(0, 172, 229)\",\"rgb(0, 57, 76)\",\"rgb(0, 141, 188)\",\"rgb(0, 59, 79)\",\"rgb(0, 146, 194)\",\"rgb(0, 43, 57)\",\"rgb(0, 53, 71)\",\"rgb(0, 135, 180)\",\"rgb(0, 143, 191)\",\"rgb(0, 60, 80)\",\"rgb(0, 147, 197)\",\"rgb(0, 77, 103)\",\"rgb(0, 66, 88)\",\"rgb(0, 147, 196)\",\"rgb(0, 103, 138)\",\"rgb(0, 89, 118)\",\"rgb(0, 62, 82)\",\"rgb(0, 98, 131)\",\"rgb(0, 168, 225)\",\"rgb(0, 84, 112)\",\"rgb(0, 110, 147)\",\"rgb(0, 74, 99)\",\"rgb(0, 74, 98)\",\"rgb(0, 157, 210)\",\"rgb(0, 180, 240)\",\"rgb(0, 65, 86)\",\"rgb(0, 43, 57)\"],\"size\":[100.0,55.4688,36.1979,15.8854,13.2812,10.6771,10.1562,9.6354,8.5938,8.3333,8.0729,7.2917,7.0312,6.7708,6.25,6.25,5.9896,4.9479,4.9479,4.6875,4.6875,4.6875,4.6875,4.6875,4.6875,4.4271,4.4271,4.4271,4.4271,4.1667,3.9062,3.9062,3.9062,3.9062,3.9062,3.6458,3.6458,3.6458,3.6458,3.6458,3.6458,3.3854,3.3854,3.3854,3.3854,3.3854,3.125,2.8646,2.8646,2.8646,2.8646,2.8646,2.8646,2.8646,2.8646,2.8646,2.8646,2.8646,2.6042,2.6042,2.6042,2.6042,2.6042,2.6042,2.6042,2.6042,2.6042,2.6042,2.6042,2.6042,2.6042,2.6042,2.6042,2.6042,2.3438,2.3438,2.3438,2.3438,2.3438,2.3438,2.3438,2.3438,2.3438,2.3438,2.3438,2.3438,2.0833,2.0833,2.0833,2.0833,2.0833,2.0833,2.0833,2.0833,2.0833,2.0833,2.0833,2.0833,2.0833,2.0833]},\"x\":[2,117,67,109,40,157,28,146,17,171,1,110,78,178,180,83,69,3,114,57,3,44,1,17,109,71,27,92,32,101,171,140,2,104,67,101,26,99,25,52,138,15,58,184,138,19,73,111,72,48,147,86,137,2,67,129,60,33,176,33,74,126,170,108,135,24,170,23,150,193,18,41,187,155,193,192,66,20,153,181,37,169,193,193,123,41,75,135,24,170,109,191,144,33,52,124,95,107,170,97],\"y\":[8,181,125,10,292,81,163,5,280,173,138,164,266,336,30,6,344,307,146,245,33,99,232,338,330,2,116,349,339,47,11,79,1,292,94,3,164,260,203,181,13,231,114,118,163,56,77,4,306,386,100,144,35,384,180,386,216,85,82,290,189,335,342,144,97,259,317,150,237,173,126,83,10,362,300,132,225,373,296,4,277,196,251,324,135,92,291,129,377,248,264,151,5,324,229,351,144,114,138,288],\"type\":\"scattergl\"}],                        {\"template\":{\"data\":{\"bar\":[{\"error_x\":{\"color\":\"#2a3f5f\"},\"error_y\":{\"color\":\"#2a3f5f\"},\"marker\":{\"line\":{\"color\":\"#E5ECF6\",\"width\":0.5},\"pattern\":{\"fillmode\":\"overlay\",\"size\":10,\"solidity\":0.2}},\"type\":\"bar\"}],\"barpolar\":[{\"marker\":{\"line\":{\"color\":\"#E5ECF6\",\"width\":0.5},\"pattern\":{\"fillmode\":\"overlay\",\"size\":10,\"solidity\":0.2}},\"type\":\"barpolar\"}],\"carpet\":[{\"aaxis\":{\"endlinecolor\":\"#2a3f5f\",\"gridcolor\":\"white\",\"linecolor\":\"white\",\"minorgridcolor\":\"white\",\"startlinecolor\":\"#2a3f5f\"},\"baxis\":{\"endlinecolor\":\"#2a3f5f\",\"gridcolor\":\"white\",\"linecolor\":\"white\",\"minorgridcolor\":\"white\",\"startlinecolor\":\"#2a3f5f\"},\"type\":\"carpet\"}],\"choropleth\":[{\"colorbar\":{\"outlinewidth\":0,\"ticks\":\"\"},\"type\":\"choropleth\"}],\"contour\":[{\"colorbar\":{\"outlinewidth\":0,\"ticks\":\"\"},\"colorscale\":[[0.0,\"#0d0887\"],[0.1111111111111111,\"#46039f\"],[0.2222222222222222,\"#7201a8\"],[0.3333333333333333,\"#9c179e\"],[0.4444444444444444,\"#bd3786\"],[0.5555555555555556,\"#d8576b\"],[0.6666666666666666,\"#ed7953\"],[0.7777777777777778,\"#fb9f3a\"],[0.8888888888888888,\"#fdca26\"],[1.0,\"#f0f921\"]],\"type\":\"contour\"}],\"contourcarpet\":[{\"colorbar\":{\"outlinewidth\":0,\"ticks\":\"\"},\"type\":\"contourcarpet\"}],\"heatmap\":[{\"colorbar\":{\"outlinewidth\":0,\"ticks\":\"\"},\"colorscale\":[[0.0,\"#0d0887\"],[0.1111111111111111,\"#46039f\"],[0.2222222222222222,\"#7201a8\"],[0.3333333333333333,\"#9c179e\"],[0.4444444444444444,\"#bd3786\"],[0.5555555555555556,\"#d8576b\"],[0.6666666666666666,\"#ed7953\"],[0.7777777777777778,\"#fb9f3a\"],[0.8888888888888888,\"#fdca26\"],[1.0,\"#f0f921\"]],\"type\":\"heatmap\"}],\"heatmapgl\":[{\"colorbar\":{\"outlinewidth\":0,\"ticks\":\"\"},\"colorscale\":[[0.0,\"#0d0887\"],[0.1111111111111111,\"#46039f\"],[0.2222222222222222,\"#7201a8\"],[0.3333333333333333,\"#9c179e\"],[0.4444444444444444,\"#bd3786\"],[0.5555555555555556,\"#d8576b\"],[0.6666666666666666,\"#ed7953\"],[0.7777777777777778,\"#fb9f3a\"],[0.8888888888888888,\"#fdca26\"],[1.0,\"#f0f921\"]],\"type\":\"heatmapgl\"}],\"histogram\":[{\"marker\":{\"pattern\":{\"fillmode\":\"overlay\",\"size\":10,\"solidity\":0.2}},\"type\":\"histogram\"}],\"histogram2d\":[{\"colorbar\":{\"outlinewidth\":0,\"ticks\":\"\"},\"colorscale\":[[0.0,\"#0d0887\"],[0.1111111111111111,\"#46039f\"],[0.2222222222222222,\"#7201a8\"],[0.3333333333333333,\"#9c179e\"],[0.4444444444444444,\"#bd3786\"],[0.5555555555555556,\"#d8576b\"],[0.6666666666666666,\"#ed7953\"],[0.7777777777777778,\"#fb9f3a\"],[0.8888888888888888,\"#fdca26\"],[1.0,\"#f0f921\"]],\"type\":\"histogram2d\"}],\"histogram2dcontour\":[{\"colorbar\":{\"outlinewidth\":0,\"ticks\":\"\"},\"colorscale\":[[0.0,\"#0d0887\"],[0.1111111111111111,\"#46039f\"],[0.2222222222222222,\"#7201a8\"],[0.3333333333333333,\"#9c179e\"],[0.4444444444444444,\"#bd3786\"],[0.5555555555555556,\"#d8576b\"],[0.6666666666666666,\"#ed7953\"],[0.7777777777777778,\"#fb9f3a\"],[0.8888888888888888,\"#fdca26\"],[1.0,\"#f0f921\"]],\"type\":\"histogram2dcontour\"}],\"mesh3d\":[{\"colorbar\":{\"outlinewidth\":0,\"ticks\":\"\"},\"type\":\"mesh3d\"}],\"parcoords\":[{\"line\":{\"colorbar\":{\"outlinewidth\":0,\"ticks\":\"\"}},\"type\":\"parcoords\"}],\"pie\":[{\"automargin\":true,\"type\":\"pie\"}],\"scatter\":[{\"marker\":{\"colorbar\":{\"outlinewidth\":0,\"ticks\":\"\"}},\"type\":\"scatter\"}],\"scatter3d\":[{\"line\":{\"colorbar\":{\"outlinewidth\":0,\"ticks\":\"\"}},\"marker\":{\"colorbar\":{\"outlinewidth\":0,\"ticks\":\"\"}},\"type\":\"scatter3d\"}],\"scattercarpet\":[{\"marker\":{\"colorbar\":{\"outlinewidth\":0,\"ticks\":\"\"}},\"type\":\"scattercarpet\"}],\"scattergeo\":[{\"marker\":{\"colorbar\":{\"outlinewidth\":0,\"ticks\":\"\"}},\"type\":\"scattergeo\"}],\"scattergl\":[{\"marker\":{\"colorbar\":{\"outlinewidth\":0,\"ticks\":\"\"}},\"type\":\"scattergl\"}],\"scattermapbox\":[{\"marker\":{\"colorbar\":{\"outlinewidth\":0,\"ticks\":\"\"}},\"type\":\"scattermapbox\"}],\"scatterpolar\":[{\"marker\":{\"colorbar\":{\"outlinewidth\":0,\"ticks\":\"\"}},\"type\":\"scatterpolar\"}],\"scatterpolargl\":[{\"marker\":{\"colorbar\":{\"outlinewidth\":0,\"ticks\":\"\"}},\"type\":\"scatterpolargl\"}],\"scatterternary\":[{\"marker\":{\"colorbar\":{\"outlinewidth\":0,\"ticks\":\"\"}},\"type\":\"scatterternary\"}],\"surface\":[{\"colorbar\":{\"outlinewidth\":0,\"ticks\":\"\"},\"colorscale\":[[0.0,\"#0d0887\"],[0.1111111111111111,\"#46039f\"],[0.2222222222222222,\"#7201a8\"],[0.3333333333333333,\"#9c179e\"],[0.4444444444444444,\"#bd3786\"],[0.5555555555555556,\"#d8576b\"],[0.6666666666666666,\"#ed7953\"],[0.7777777777777778,\"#fb9f3a\"],[0.8888888888888888,\"#fdca26\"],[1.0,\"#f0f921\"]],\"type\":\"surface\"}],\"table\":[{\"cells\":{\"fill\":{\"color\":\"#EBF0F8\"},\"line\":{\"color\":\"white\"}},\"header\":{\"fill\":{\"color\":\"#C8D4E3\"},\"line\":{\"color\":\"white\"}},\"type\":\"table\"}]},\"layout\":{\"annotationdefaults\":{\"arrowcolor\":\"#2a3f5f\",\"arrowhead\":0,\"arrowwidth\":1},\"autotypenumbers\":\"strict\",\"coloraxis\":{\"colorbar\":{\"outlinewidth\":0,\"ticks\":\"\"}},\"colorscale\":{\"diverging\":[[0,\"#8e0152\"],[0.1,\"#c51b7d\"],[0.2,\"#de77ae\"],[0.3,\"#f1b6da\"],[0.4,\"#fde0ef\"],[0.5,\"#f7f7f7\"],[0.6,\"#e6f5d0\"],[0.7,\"#b8e186\"],[0.8,\"#7fbc41\"],[0.9,\"#4d9221\"],[1,\"#276419\"]],\"sequential\":[[0.0,\"#0d0887\"],[0.1111111111111111,\"#46039f\"],[0.2222222222222222,\"#7201a8\"],[0.3333333333333333,\"#9c179e\"],[0.4444444444444444,\"#bd3786\"],[0.5555555555555556,\"#d8576b\"],[0.6666666666666666,\"#ed7953\"],[0.7777777777777778,\"#fb9f3a\"],[0.8888888888888888,\"#fdca26\"],[1.0,\"#f0f921\"]],\"sequentialminus\":[[0.0,\"#0d0887\"],[0.1111111111111111,\"#46039f\"],[0.2222222222222222,\"#7201a8\"],[0.3333333333333333,\"#9c179e\"],[0.4444444444444444,\"#bd3786\"],[0.5555555555555556,\"#d8576b\"],[0.6666666666666666,\"#ed7953\"],[0.7777777777777778,\"#fb9f3a\"],[0.8888888888888888,\"#fdca26\"],[1.0,\"#f0f921\"]]},\"colorway\":[\"#636efa\",\"#EF553B\",\"#00cc96\",\"#ab63fa\",\"#FFA15A\",\"#19d3f3\",\"#FF6692\",\"#B6E880\",\"#FF97FF\",\"#FECB52\"],\"font\":{\"color\":\"#2a3f5f\"},\"geo\":{\"bgcolor\":\"white\",\"lakecolor\":\"white\",\"landcolor\":\"#E5ECF6\",\"showlakes\":true,\"showland\":true,\"subunitcolor\":\"white\"},\"hoverlabel\":{\"align\":\"left\"},\"hovermode\":\"closest\",\"mapbox\":{\"style\":\"light\"},\"paper_bgcolor\":\"white\",\"plot_bgcolor\":\"#E5ECF6\",\"polar\":{\"angularaxis\":{\"gridcolor\":\"white\",\"linecolor\":\"white\",\"ticks\":\"\"},\"bgcolor\":\"#E5ECF6\",\"radialaxis\":{\"gridcolor\":\"white\",\"linecolor\":\"white\",\"ticks\":\"\"}},\"scene\":{\"xaxis\":{\"backgroundcolor\":\"#E5ECF6\",\"gridcolor\":\"white\",\"gridwidth\":2,\"linecolor\":\"white\",\"showbackground\":true,\"ticks\":\"\",\"zerolinecolor\":\"white\"},\"yaxis\":{\"backgroundcolor\":\"#E5ECF6\",\"gridcolor\":\"white\",\"gridwidth\":2,\"linecolor\":\"white\",\"showbackground\":true,\"ticks\":\"\",\"zerolinecolor\":\"white\"},\"zaxis\":{\"backgroundcolor\":\"#E5ECF6\",\"gridcolor\":\"white\",\"gridwidth\":2,\"linecolor\":\"white\",\"showbackground\":true,\"ticks\":\"\",\"zerolinecolor\":\"white\"}},\"shapedefaults\":{\"line\":{\"color\":\"#2a3f5f\"}},\"ternary\":{\"aaxis\":{\"gridcolor\":\"white\",\"linecolor\":\"white\",\"ticks\":\"\"},\"baxis\":{\"gridcolor\":\"white\",\"linecolor\":\"white\",\"ticks\":\"\"},\"bgcolor\":\"#E5ECF6\",\"caxis\":{\"gridcolor\":\"white\",\"linecolor\":\"white\",\"ticks\":\"\"}},\"title\":{\"x\":0.05},\"xaxis\":{\"automargin\":true,\"gridcolor\":\"white\",\"linecolor\":\"white\",\"ticks\":\"\",\"title\":{\"standoff\":15},\"zerolinecolor\":\"white\",\"zerolinewidth\":2},\"yaxis\":{\"automargin\":true,\"gridcolor\":\"white\",\"linecolor\":\"white\",\"ticks\":\"\",\"title\":{\"standoff\":15},\"zerolinecolor\":\"white\",\"zerolinewidth\":2}}},\"xaxis\":{\"showgrid\":false,\"zeroline\":false,\"visible\":false,\"showticklabels\":false},\"yaxis\":{\"showgrid\":false,\"zeroline\":false,\"visible\":false,\"showticklabels\":false},\"showlegend\":false,\"plot_bgcolor\":\"rgba(0, 0, 0, 0)\"},                        {\"responsive\": true}                    ).then(function(){\n",
       "                            \n",
       "var gd = document.getElementById('6140751c-8963-41ca-9774-592fb081f654');\n",
       "var x = new MutationObserver(function (mutations, observer) {{\n",
       "        var display = window.getComputedStyle(gd).display;\n",
       "        if (!display || display === 'none') {{\n",
       "            console.log([gd, 'removed!']);\n",
       "            Plotly.purge(gd);\n",
       "            observer.disconnect();\n",
       "        }}\n",
       "}});\n",
       "\n",
       "// Listen for the removal of the full notebook cells\n",
       "var notebookContainer = gd.closest('#notebook-container');\n",
       "if (notebookContainer) {{\n",
       "    x.observe(notebookContainer, {childList: true});\n",
       "}}\n",
       "\n",
       "// Listen for the clearing of the current output cell\n",
       "var outputEl = gd.closest('.output');\n",
       "if (outputEl) {{\n",
       "    x.observe(outputEl, {childList: true});\n",
       "}}\n",
       "\n",
       "                        })                };                });            </script>        </div>"
      ]
     },
     "metadata": {},
     "output_type": "display_data"
    }
   ],
   "source": [
    "tsp.show_word_clouds(pos=\"NN\",\n",
    "                     go_plot_settings={'plot_bgcolor': 'rgba(0, 0, 0, 0)',\n",
    "                                        'plot_bgcolor': 'rgba(0, 0, 0, 0)'},\n",
    "                     wc_settings={'color':'deepskyblue', 'max_words':10}\n",
    "                    )"
   ]
  },
  {
   "cell_type": "code",
   "execution_count": null,
   "id": "8fb4f2c8",
   "metadata": {},
   "outputs": [],
   "source": [
    "tsp.show_distplot('doc_len')"
   ]
  },
  {
   "cell_type": "code",
   "execution_count": null,
   "id": "1a105a29",
   "metadata": {},
   "outputs": [],
   "source": [
    "# IDF\n",
    "# vectorizer = TfidfVectorizer(min_df=1)\n",
    "# X = vectorizer.fit_transform(imdb_train[\"text\"])\n",
    "# idf = vectorizer.idf_\n",
    "# token_score_dict = dict(zip(vectorizer.get_feature_names(), idf))\n",
    "\n",
    "# Word Count\n",
    "token_score_dict = tsp.analysis.token_to_count_dict"
   ]
  },
  {
   "cell_type": "code",
   "execution_count": null,
   "id": "e9241d81",
   "metadata": {},
   "outputs": [],
   "source": [
    "nda = NormalDistAnomalies(items=token_score_dict, gaussianization_strategy='brute')"
   ]
  },
  {
   "cell_type": "code",
   "execution_count": null,
   "id": "61f888a2",
   "metadata": {},
   "outputs": [],
   "source": [
    "nda.item_value_df.head(1000)"
   ]
  },
  {
   "cell_type": "code",
   "execution_count": null,
   "id": "f1192867",
   "metadata": {},
   "outputs": [],
   "source": [
    "nda.show_plot(type='normal', bin_size=1)"
   ]
  },
  {
   "cell_type": "code",
   "execution_count": null,
   "id": "18d3c83b",
   "metadata": {
    "scrolled": true
   },
   "outputs": [],
   "source": [
    "nda.show_plot()"
   ]
  },
  {
   "cell_type": "markdown",
   "id": "ac975326",
   "metadata": {},
   "source": [
    "## Anomaly Experiments"
   ]
  },
  {
   "cell_type": "code",
   "execution_count": null,
   "id": "baf9dafb",
   "metadata": {},
   "outputs": [],
   "source": [
    "from wordview.anomaly import gaussianize\n",
    "from numpy.random import randn\n",
    "\n",
    "# values = data = randn(1000)\n",
    "values = nda.item_value_df['guassian_values']\n",
    "values2 = nda.item_value_df['representative_value']\n",
    "\n",
    "g = gaussianize.Gaussianize(strategy='lambert')\n",
    "g.fit(values)\n",
    "res = g.transform(values)\n",
    "# res = res.flatten().tolist()\n",
    "\n",
    "\n",
    "print(shapiro(res).pvalue)\n",
    "\n",
    "def show_fig(x, curve_type):\n",
    "    fig = ff.create_distplot(\n",
    "            [x],\n",
    "            group_labels=['Value'],\n",
    "            bin_size=1,\n",
    "            curve_type=curve_type,  # override default 'kde'\n",
    "        )\n",
    "    fig.show()\n",
    "\n",
    "# show_fig(x=values, curve_type='normal')\n",
    "# show_fig(x=values2, curve_type='kde')\n",
    "\n",
    "\n",
    "# print(values)\n",
    "# print('==========')\n",
    "# print(res.flatten().tolist())"
   ]
  },
  {
   "cell_type": "markdown",
   "id": "58634a67",
   "metadata": {},
   "source": [
    "### Use of shapiro test"
   ]
  },
  {
   "cell_type": "code",
   "execution_count": null,
   "id": "8bc06acb",
   "metadata": {},
   "outputs": [],
   "source": [
    "# from scipy.stats import norm\n",
    "from scipy.stats import shapiro\n",
    "\n",
    "my_data = nda.item_value_df['representative_value']\n",
    "shapiro(my_data.to_list())"
   ]
  },
  {
   "cell_type": "code",
   "execution_count": null,
   "id": "e798aefa",
   "metadata": {},
   "outputs": [],
   "source": [
    "my_data = nda.item_value_df['guassian_values']\n",
    "shapiro(my_data.to_list())"
   ]
  },
  {
   "cell_type": "code",
   "execution_count": null,
   "id": "305df50a",
   "metadata": {},
   "outputs": [],
   "source": [
    "from numpy.random import randn\n",
    "my_data = randn(1000)\n",
    "print(shapiro(my_data))\n",
    "print(kstest(my_data, 'norm'))"
   ]
  },
  {
   "cell_type": "code",
   "execution_count": null,
   "id": "9e4b663d",
   "metadata": {},
   "outputs": [],
   "source": [
    "print(shapiro(nda.item_value_df['guassian_values'].tolist()))\n",
    "print(kstest(nda.item_value_df['guassian_values'].tolist(), 'norm'))\n",
    "show_fig(x=nda.item_value_df['guassian_values'], curve_type='normal')"
   ]
  },
  {
   "cell_type": "markdown",
   "id": "d6b0c7b9",
   "metadata": {},
   "source": [
    "### Use of px"
   ]
  },
  {
   "cell_type": "code",
   "execution_count": null,
   "id": "e10e293e",
   "metadata": {},
   "outputs": [],
   "source": [
    "import plotly.express as px\n",
    "df = px.data.tips()\n",
    "fig = px.histogram(df, x=\"total_bill\", y=\"tip\", color=\"sex\", marginal=\"rug\",\n",
    "                   hover_data=df.columns)\n",
    "fig.show()\n",
    "df.head()"
   ]
  },
  {
   "cell_type": "code",
   "execution_count": null,
   "id": "9173518b",
   "metadata": {},
   "outputs": [],
   "source": [
    "fig = px.histogram(nda.item_value_df, x=\"guassian_values\")\n",
    "fig.show()\n",
    "fig2 = px.histogram(nda.item_value_df, x=\"representative_value\")\n",
    "fig2.show()"
   ]
  },
  {
   "cell_type": "markdown",
   "id": "46f38316",
   "metadata": {},
   "source": [
    "## Text Analysis"
   ]
  },
  {
   "cell_type": "code",
   "execution_count": null,
   "id": "b11fa835",
   "metadata": {},
   "outputs": [],
   "source": [
    "tsp.show_stats()"
   ]
  },
  {
   "cell_type": "code",
   "execution_count": null,
   "id": "be1b1d2e",
   "metadata": {},
   "outputs": [],
   "source": [
    "# tsp.show_distplot(plot='doc_len')\n",
    "tsp.show_distplot(plot='word_frequency_zipf')"
   ]
  },
  {
   "cell_type": "code",
   "execution_count": null,
   "id": "0b37c7ae",
   "metadata": {},
   "outputs": [],
   "source": [
    "tsp.show_word_clouds(type=\"JJ\")"
   ]
  },
  {
   "cell_type": "code",
   "execution_count": null,
   "id": "7c4cd67f",
   "metadata": {},
   "outputs": [],
   "source": [
    "# import plotly.graph_objs as go\n",
    "# import plotly.figure_factory as ff\n",
    "# fig_w_freq = go.Figure()\n",
    "# fig_w_freq.add_trace(go.Scattergl(x=tsp.analysis.zipf_x,\n",
    "#                                               y=tsp.analysis.zipf_y_emp,\n",
    "#                                               mode='markers',\n",
    "#                                               marker=dict(\n",
    "#                                                     color=tsp.analysis.zipf_x,\n",
    "#                                                     colorscale='Tealgrn',\n",
    "#                                                     )\n",
    "#                                             )\n",
    "#                                 )\n",
    "# fig_w_freq.add_trace(go.Scattergl(x=tsp.analysis.zipf_x,\n",
    "#                                   y=tsp.analysis.zipf_y_theory,\n",
    "#                                   mode='markers',\n",
    "#                                   marker=dict(color=tsp.analysis.zipf_x,\n",
    "#                                               colorscale='Reds'\n",
    "#                                              )\n",
    "#                                  )\n",
    "#                     )\n",
    "\n",
    "# dist_plot_setup = {\n",
    "#             # 'paper_bgcolor': '#007A78',\n",
    "#             'showlegend' : False\n",
    "#             }\n",
    "# fig_w_freq.update_layout(dist_plot_setup)\n",
    "# fig_w_freq.show()"
   ]
  },
  {
   "cell_type": "code",
   "execution_count": null,
   "id": "87bb4ad5",
   "metadata": {},
   "outputs": [],
   "source": [
    "import numpy as np\n",
    "import random\n",
    "\n",
    "# In addition to the original label, for illustration purpose, let's create two random labels:\n",
    "imdb_train['numerical_label'] = np.random.randint(1, 500, imdb_train.shape[0])\n",
    "imdb_train['label2'] = random.choices(['a', 'b', 'c', 'd'], [0.2, 0.5, 0.8, 0.9], k=imdb_train.shape[0])\n",
    "imdb_train['numerical_label2'] = np.random.randint(1, 500, imdb_train.shape[0])"
   ]
  },
  {
   "cell_type": "code",
   "execution_count": null,
   "id": "83c89ab6",
   "metadata": {},
   "outputs": [],
   "source": [
    "lsp = LabelStatsPlots(df=imdb_train, label_columns=[('label', 'categorical'),\n",
    "                                                    ('label2', 'categorical'),\n",
    "                                                    ('numerical_label', 'numerical'),\n",
    "                                                    ('numerical_label2', 'numerical')\n",
    "                                                   ]\n",
    "                     )"
   ]
  },
  {
   "cell_type": "code",
   "execution_count": null,
   "id": "1c104f2d",
   "metadata": {},
   "outputs": [],
   "source": [
    "lsp.show_label_plots()"
   ]
  },
  {
   "cell_type": "code",
   "execution_count": null,
   "id": "316c670f",
   "metadata": {},
   "outputs": [],
   "source": [
    "# lsp.labels_fig.write_html('tmp.html')"
   ]
  },
  {
   "cell_type": "code",
   "execution_count": null,
   "id": "13b42dc2",
   "metadata": {},
   "outputs": [],
   "source": [
    "import plotly.graph_objects as go\n",
    "from plotly.subplots import make_subplots\n",
    "t1 = go.Histogram(x=imdb_train['numerical_labe2'],\n",
    "                  marker=dict(line=dict(width=0.8,\n",
    "                                        color=\"white\")\n",
    "                             )\n",
    "                 )\n",
    "figure = make_subplots(rows=1, cols=1)\n",
    "figure.append_trace(t1, 1, 1)\n",
    "figure.show()"
   ]
  },
  {
   "cell_type": "code",
   "execution_count": null,
   "id": "f451dddd",
   "metadata": {},
   "outputs": [],
   "source": [
    "t1 = go.Histogram(x=imdb_train['numerical_labe2'],\n",
    "                  marker=dict(line=dict(width=0.8,\n",
    "                                        color=\"white\")\n",
    "                             )\n",
    "                 )\n",
    "figure = make_subplots(rows=1, cols=1)\n",
    "figure.append_trace(t1, 1, 1)\n",
    "figure.show()"
   ]
  },
  {
   "cell_type": "code",
   "execution_count": null,
   "id": "0663a142",
   "metadata": {},
   "outputs": [],
   "source": [
    "import plotly.express as px\n",
    "res = imdb_train['new_label'].value_counts()\n",
    "res.columns = ['label', 'count']\n",
    "fig = px.box(res)\n",
    "\n",
    "fig.update_traces(quartilemethod=\"exclusive\") # or \"inclusive\", or \"linear\" by default\n",
    "fig.show()"
   ]
  },
  {
   "cell_type": "code",
   "execution_count": null,
   "id": "b4cbfa32",
   "metadata": {},
   "outputs": [],
   "source": [
    "from wordview.mwes import MWE"
   ]
  },
  {
   "cell_type": "code",
   "execution_count": null,
   "id": "d113aeed",
   "metadata": {},
   "outputs": [],
   "source": [
    "mwe = MWE(df=imdb_train, mwe_types=[\"NC\", \"JNC\"], text_column='text')"
   ]
  },
  {
   "cell_type": "code",
   "execution_count": null,
   "id": "ca69da3f",
   "metadata": {},
   "outputs": [],
   "source": [
    "mwe.build_counts(counts_filename='../tmp/counts.json')"
   ]
  },
  {
   "cell_type": "code",
   "execution_count": null,
   "id": "2eec30d1",
   "metadata": {},
   "outputs": [],
   "source": [
    "mwes_dict = mwe.extract_mwes(counts_filename='../tmp/counts.json', mwes_filename='../tmp/mwes1.json')\n",
    "mwes_nc = {k: v for k, v in mwes_dict['NC'].items()}\n",
    "top_mwes_nc = [[k, v] for k,v in mwes_nc.items()][:10]\n",
    "print(tabulate(top_mwes_nc, tablefmt=\"double_outline\"))"
   ]
  },
  {
   "cell_type": "code",
   "execution_count": null,
   "id": "a03eb424",
   "metadata": {},
   "outputs": [],
   "source": [
    "mwe.extract_mwes(counts_filename='../tmp/counts.json', mwes_filename='../tmp/mwes.json')"
   ]
  },
  {
   "cell_type": "code",
   "execution_count": null,
   "id": "94d83f5f",
   "metadata": {},
   "outputs": [],
   "source": [
    "from wordview.mwes import hyphenate_mwes"
   ]
  },
  {
   "cell_type": "code",
   "execution_count": null,
   "id": "bbb4c377",
   "metadata": {},
   "outputs": [],
   "source": [
    "new_df = hyphenate_mwes(path_to_mwes='../tmp/mwes.json', mwe_types=['NC', 'JNC'], df=imdb_train, text_column='text')"
   ]
  },
  {
   "cell_type": "code",
   "execution_count": null,
   "id": "25d891ff",
   "metadata": {},
   "outputs": [],
   "source": [
    "from wordview.preprocessing import RedunTerms\n",
    "rt = RedunTerms(imdb_train[\"text\"], method='idf')"
   ]
  },
  {
   "cell_type": "code",
   "execution_count": null,
   "id": "1382733a",
   "metadata": {},
   "outputs": [],
   "source": [
    "with open('../tmp/counts.json') as json_file:\n",
    "    counts_dict = json.load(json_file)\n",
    "with open('../tmp/mwes.json') as json_file:\n",
    "    mwes_dict = json.load(json_file)"
   ]
  },
  {
   "cell_type": "code",
   "execution_count": null,
   "id": "911de241",
   "metadata": {},
   "outputs": [],
   "source": [
    "nc_counts = {k: v for k, v in sorted(counts_dict['NC'].items(), key=lambda item: item[1], reverse=True)}\n",
    "nc_association = {k: v for k, v in mwes_dict['NC'].items()}"
   ]
  },
  {
   "cell_type": "code",
   "execution_count": null,
   "id": "d1b8d3cc",
   "metadata": {},
   "outputs": [],
   "source": [
    "top_nc_table = [[k, v] for k,v in nc_counts.items()][:10]\n",
    "top_nc_association_table = [[k, v] for k,v in nc_association.items()][:10]"
   ]
  },
  {
   "cell_type": "code",
   "execution_count": null,
   "id": "0161b1c3",
   "metadata": {},
   "outputs": [],
   "source": [
    "print(tabulate(top_nc_table, tablefmt=\"simple_grid\"))"
   ]
  },
  {
   "cell_type": "code",
   "execution_count": null,
   "id": "c566f4fa",
   "metadata": {},
   "outputs": [],
   "source": [
    "tformat = \"double_outline\" #simple_grid\"\n",
    "print(tabulate(top_nc_association_table, tablefmt=tformat))"
   ]
  },
  {
   "cell_type": "code",
   "execution_count": null,
   "id": "9a3b9045",
   "metadata": {},
   "outputs": [],
   "source": []
  }
 ],
 "metadata": {
  "kernelspec": {
   "display_name": "Python 3 (ipykernel)",
   "language": "python",
   "name": "python3"
  },
  "language_info": {
   "codemirror_mode": {
    "name": "ipython",
    "version": 3
   },
   "file_extension": ".py",
   "mimetype": "text/x-python",
   "name": "python",
   "nbconvert_exporter": "python",
   "pygments_lexer": "ipython3",
   "version": "3.9.10"
  }
 },
 "nbformat": 4,
 "nbformat_minor": 5
}
