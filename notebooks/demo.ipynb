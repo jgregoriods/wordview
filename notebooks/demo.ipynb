{
 "cells": [
  {
   "cell_type": "markdown",
   "id": "192d9a97",
   "metadata": {},
   "source": [
    "## Installtion and Links"
   ]
  },
  {
   "cell_type": "code",
   "execution_count": null,
   "id": "21155605",
   "metadata": {},
   "outputs": [],
   "source": [
    "# pip install wordview\n",
    "# GitHub: https://github.com/meghdadFar/wordview\n",
    "# Demo: https://github.com/meghdadFar/wordview/blob/main/notebooks/demo.ipynb\n",
    "# Docs: https://github.com/meghdadFar/wordview/tree/main/docs"
   ]
  },
  {
   "cell_type": "markdown",
   "id": "b5537aac",
   "metadata": {},
   "source": [
    "## Imports"
   ]
  },
  {
   "cell_type": "code",
   "execution_count": null,
   "id": "cd3a6599",
   "metadata": {},
   "outputs": [],
   "source": [
    "import pandas as pd\n",
    "import numpy as np\n",
    "import random\n",
    "import json\n",
    "\n",
    "from wordview.text_analysis import TextStatsPlots, LabelStatsPlots"
   ]
  },
  {
   "cell_type": "markdown",
   "id": "1b932901",
   "metadata": {},
   "source": [
    "## Data"
   ]
  },
  {
   "cell_type": "code",
   "execution_count": null,
   "id": "48587d0d",
   "metadata": {},
   "outputs": [],
   "source": [
    "imdb_df = pd.read_csv(\"../data/IMDB_Dataset_sample_5k.csv\")"
   ]
  },
  {
   "cell_type": "markdown",
   "id": "8c578bb0",
   "metadata": {},
   "source": [
    "## General Analysis of Text and Labels"
   ]
  },
  {
   "cell_type": "code",
   "execution_count": null,
   "id": "1a67b922",
   "metadata": {},
   "outputs": [],
   "source": [
    "tsp = TextStatsPlots(df=imdb_df, text_column='review')"
   ]
  },
  {
   "cell_type": "markdown",
   "id": "e9b39097",
   "metadata": {},
   "source": [
    "### Distributions"
   ]
  },
  {
   "cell_type": "code",
   "execution_count": null,
   "id": "bc3ad86b",
   "metadata": {},
   "outputs": [],
   "source": [
    "tsp.show_distplot('doc_len')\n",
    "# Pass plot settings via argument: plot_settings={'plot_bgcolor': 'rgba(100, 150, 130, 0)'}\n",
    "# https://plotly.com/python/reference/layout/"
   ]
  },
  {
   "cell_type": "code",
   "execution_count": null,
   "id": "267b3798",
   "metadata": {},
   "outputs": [],
   "source": [
    "tsp.show_distplot('word_frequency_zipf')\n",
    "# https://medium.com/@_init_/using-zipfs-law-to-improve-neural-language-models-4c3d66e6d2f6"
   ]
  },
  {
   "cell_type": "markdown",
   "id": "c0c555b4",
   "metadata": {},
   "source": [
    "### Word Clouds"
   ]
  },
  {
   "cell_type": "code",
   "execution_count": null,
   "id": "03713791",
   "metadata": {},
   "outputs": [],
   "source": [
    "tsp.show_word_clouds('VB')\n",
    "# tsp.show_word_clouds('NN')\n",
    "# tsp.show_word_clouds('JJ')\n",
    "# plot_settings={'plot_bgcolor': 'rgba(0, 0, 0, 0)'},\n",
    "#                     wc_settings={'color':'blue', 'max_words':300}"
   ]
  },
  {
   "cell_type": "markdown",
   "id": "679fb9b5",
   "metadata": {},
   "source": [
    "### Labels"
   ]
  },
  {
   "cell_type": "code",
   "execution_count": null,
   "id": "85d311f3",
   "metadata": {},
   "outputs": [],
   "source": [
    "lsp = LabelStatsPlots(df=imdb_df, label_columns=[('sentiment', 'categorical')])\n",
    "lsp.show_label_plots()"
   ]
  },
  {
   "cell_type": "code",
   "execution_count": null,
   "id": "31b77e8c",
   "metadata": {},
   "outputs": [],
   "source": [
    "imdb_df['numerical_label'] = np.random.randint(1, 500, imdb_df.shape[0])\n",
    "imdb_df['label2'] = random.choices(['a', 'b', 'c', 'd'], [0.2, 0.5, 0.8, 0.9], k=imdb_df.shape[0])\n",
    "imdb_df['numerical_label2'] = np.random.randint(1, 500, imdb_df.shape[0])\n",
    "lsp = LabelStatsPlots(df=imdb_df, label_columns=[('sentiment', 'categorical'),\n",
    "                                                    ('label2', 'categorical'),\n",
    "                                                    ('numerical_label', 'numerical'),\n",
    "                                                    ('numerical_label2', 'numerical')\n",
    "                                                   ]\n",
    "                     )\n",
    "lsp.show_label_plots()"
   ]
  },
  {
   "cell_type": "code",
   "execution_count": null,
   "id": "31a19bd1",
   "metadata": {},
   "outputs": [],
   "source": [
    "lsp.show_label_plots(plot_bgcolor='rgba(0, 0, 0, 0)',\n",
    "                     coloraxis=dict(colorscale='Tealgrn'),\n",
    "                     coloraxis_showscale=False, \n",
    "                     showlegend=False)"
   ]
  },
  {
   "cell_type": "markdown",
   "id": "46f38316",
   "metadata": {},
   "source": [
    "## Extraction & Analysis of MWEs"
   ]
  },
  {
   "cell_type": "code",
   "execution_count": null,
   "id": "b4cbfa32",
   "metadata": {},
   "outputs": [],
   "source": [
    "from wordview.mwes import MWE\n",
    "from wordview.preprocessing import NgramExtractor"
   ]
  },
  {
   "cell_type": "code",
   "execution_count": null,
   "id": "d5324fbf",
   "metadata": {},
   "outputs": [],
   "source": [
    "# If Ngram extraction was not carried out before, we need to run it here as its results are required by MWE\n",
    "extractor = NgramExtractor(imdb_df, \"review\")\n",
    "extractor.extract_ngrams()\n",
    "ngram_counts = extractor.get_ngram_counts()"
   ]
  },
  {
   "cell_type": "code",
   "execution_count": null,
   "id": "b784fb69",
   "metadata": {},
   "outputs": [],
   "source": [
    "mwe_obj = MWE(imdb_df, 'review',\n",
    "              ngram_count_source=ngram_counts,\n",
    "              language='EN', \n",
    "              custom_patterns=\"NP: {<DT>?<JJ>*<NN>}\",\n",
    "              only_custom_patterns=False,\n",
    "              )\n",
    "# You can also pass ngram_count_file_path='data/ngram_counts.json' instead.\n",
    "# If no custom_pattern is passed, LVC, 2-3 word NC, ADJ-NC, and VPCs are returnd (up to 4 grams)"
   ]
  },
  {
   "cell_type": "code",
   "execution_count": null,
   "id": "6906a84a",
   "metadata": {},
   "outputs": [],
   "source": [
    "mwes = mwe_obj.extract_mwes(sort=True, top_n=10)\n",
    "#  If you want, you can store the MWE file in a json or any other format\n",
    "# json.dump(mwes, open('data/mwes.json', 'w'), indent=4)\n",
    "mwe_obj.print_mwe_table()"
   ]
  },
  {
   "cell_type": "markdown",
   "id": "9e02c5b0",
   "metadata": {},
   "source": [
    "## Bias Analysis"
   ]
  },
  {
   "cell_type": "markdown",
   "id": "92853b3f",
   "metadata": {},
   "source": [
    "**Important Note**: Please note that the following examples with biases are constructed using an LLM to illustrate the functionality of the bias detection module. They reflect negative stereotypes or biases and are not to be endorsed or perpetuated. "
   ]
  },
  {
   "cell_type": "code",
   "execution_count": null,
   "id": "30d72e14",
   "metadata": {},
   "outputs": [],
   "source": [
    "biased_df = pd.DataFrame(\n",
    "    {\n",
    "        \"text\": [\n",
    "            # Gender\n",
    "            \"He is always so successful because men are naturally gifted.\",\n",
    "            \"She is too emotional to lead; women cannot handle pressure.\",\n",
    "            # Racial\n",
    "            \"Asians are brilliant at mathematics.\",\n",
    "            \"Black people are not fit for this kind of job.\",\n",
    "            \"Indian food is too spicy, and their traditions are too complex to understand.\",\n",
    "            \"Latinos are one of the many ethnic groups in the region.\",  # neutral\n",
    "            # Religious\n",
    "            \"Christians are the only ones who know the true path to salvation.\",\n",
    "            \"Muslims cannot be trusted in our community.\",\n",
    "            \"Atheists often have a logical and evidence-based approach to understanding the world.\",\n",
    "        ]\n",
    "    }\n",
    ")"
   ]
  },
  {
   "cell_type": "code",
   "execution_count": null,
   "id": "6676993e",
   "metadata": {},
   "outputs": [],
   "source": [
    "from wordview.bias_analysis  import BiasDetector\n",
    "bias_detector = BiasDetector(biased_df, \"text\")\n",
    "bias_detector.detect_bias()"
   ]
  },
  {
   "cell_type": "code",
   "execution_count": null,
   "id": "1baab8cc",
   "metadata": {},
   "outputs": [],
   "source": [
    "bias_detector.show_bias_plot()"
   ]
  },
  {
   "cell_type": "code",
   "execution_count": null,
   "id": "150ee016",
   "metadata": {},
   "outputs": [],
   "source": [
    "bias_detector.print_bias_table()"
   ]
  },
  {
   "cell_type": "code",
   "execution_count": null,
   "id": "591eeb87",
   "metadata": {},
   "outputs": [],
   "source": []
  }
 ],
 "metadata": {
  "kernelspec": {
   "display_name": "Python 3 (ipykernel)",
   "language": "python",
   "name": "python3"
  },
  "language_info": {
   "codemirror_mode": {
    "name": "ipython",
    "version": 3
   },
   "file_extension": ".py",
   "mimetype": "text/x-python",
   "name": "python",
   "nbconvert_exporter": "python",
   "pygments_lexer": "ipython3",
   "version": "3.9.17"
  }
 },
 "nbformat": 4,
 "nbformat_minor": 5
}
