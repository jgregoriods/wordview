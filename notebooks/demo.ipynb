{
 "cells": [
  {
   "cell_type": "code",
   "execution_count": 1,
   "id": "b1ec5af2",
   "metadata": {},
   "outputs": [],
   "source": [
    "from wordview.text_analysis import TextStatsPlots, LabelStatsPlots\n",
    "from wordview.anomaly import NormalDistAnomalies\n",
    "import pandas as pd\n",
    "import json\n",
    "from tabulate import tabulate\n",
    "from sklearn.feature_extraction.text import TfidfVectorizer\n",
    "import plotly.figure_factory as ff"
   ]
  },
  {
   "cell_type": "code",
   "execution_count": 2,
   "id": "a1ea4b12",
   "metadata": {},
   "outputs": [],
   "source": [
    "imdb_train = pd.read_csv('../data/imdb_train_sample.tsv', sep='\\t', names=['label', 'text'])\n",
    "# imdb_train = imdb_train.sample(100)"
   ]
  },
  {
   "cell_type": "code",
   "execution_count": 3,
   "id": "04a7a0a2",
   "metadata": {},
   "outputs": [
    {
     "name": "stderr",
     "output_type": "stream",
     "text": [
      "core            - 257 - INFO - Processing text in text column of the input DataFrame...\n",
      "100%|████████████████████████████████████████████████████████████████████████████████████████████████████████| 5000/5000 [01:26<00:00, 57.97it/s]\n",
      "core            - 298 - INFO - Calculating Empirical and Theoretical Zipf values...\n",
      "core            - 303 - INFO - Time to measure predicted proportion for 48791 rows: 0.03736710548400879\n"
     ]
    }
   ],
   "source": [
    "tsp = TextStatsPlots(df=imdb_train, text_column='text')"
   ]
  },
  {
   "cell_type": "code",
   "execution_count": 4,
   "id": "be2a4be4",
   "metadata": {},
   "outputs": [
    {
     "name": "stdout",
     "output_type": "stream",
     "text": [
      "┌───────────────────┬─────────┐\n",
      "│ Language/s        │ EN      │\n",
      "├───────────────────┼─────────┤\n",
      "│ Unique Words      │ 48,791  │\n",
      "├───────────────────┼─────────┤\n",
      "│ All Words         │ 666,898 │\n",
      "├───────────────────┼─────────┤\n",
      "│ Documents         │ 5,000   │\n",
      "├───────────────────┼─────────┤\n",
      "│ Median Doc Length │ 211.0   │\n",
      "├───────────────────┼─────────┤\n",
      "│ Nouns             │ 28,482  │\n",
      "├───────────────────┼─────────┤\n",
      "│ Adjectives        │ 19,519  │\n",
      "├───────────────────┼─────────┤\n",
      "│ Verbs             │ 15,241  │\n",
      "└───────────────────┴─────────┘\n"
     ]
    }
   ],
   "source": [
    "tsp.show_stats()"
   ]
  },
  {
   "cell_type": "code",
   "execution_count": 7,
   "id": "1caa0d0f",
   "metadata": {},
   "outputs": [
    {
     "ename": "KeyError",
     "evalue": "'color'",
     "output_type": "error",
     "traceback": [
      "\u001b[0;31m---------------------------------------------------------------------------\u001b[0m",
      "\u001b[0;31mKeyError\u001b[0m                                  Traceback (most recent call last)",
      "Cell \u001b[0;32mIn[7], line 1\u001b[0m\n\u001b[0;32m----> 1\u001b[0m \u001b[43mtsp\u001b[49m\u001b[38;5;241;43m.\u001b[39;49m\u001b[43mshow_word_clouds\u001b[49m\u001b[43m(\u001b[49m\u001b[38;5;124;43m'\u001b[39;49m\u001b[38;5;124;43mNN\u001b[39;49m\u001b[38;5;124;43m'\u001b[39;49m\u001b[43m)\u001b[49m\n",
      "File \u001b[0;32m~/Code/wordview/wordview/text_analysis/wrapper.py:176\u001b[0m, in \u001b[0;36mTextStatsPlots.show_word_clouds\u001b[0;34m(self, pos, go_plot_settings, wc_settings)\u001b[0m\n\u001b[1;32m    165\u001b[0m \u001b[38;5;250m\u001b[39m\u001b[38;5;124;03m\"\"\"Shows POS word clouds.\u001b[39;00m\n\u001b[1;32m    166\u001b[0m \n\u001b[1;32m    167\u001b[0m \u001b[38;5;124;03mArgs:\u001b[39;00m\n\u001b[0;32m   (...)\u001b[0m\n\u001b[1;32m    173\u001b[0m \u001b[38;5;124;03m    None\u001b[39;00m\n\u001b[1;32m    174\u001b[0m \u001b[38;5;124;03m\"\"\"\u001b[39;00m\n\u001b[1;32m    175\u001b[0m \u001b[38;5;28;01mif\u001b[39;00m pos \u001b[38;5;241m==\u001b[39m \u001b[38;5;124m\"\u001b[39m\u001b[38;5;124mNN\u001b[39m\u001b[38;5;124m\"\u001b[39m:\n\u001b[0;32m--> 176\u001b[0m     \u001b[38;5;28;43mself\u001b[39;49m\u001b[38;5;241;43m.\u001b[39;49m\u001b[43mcreate_pos_plots\u001b[49m\u001b[43m(\u001b[49m\n\u001b[1;32m    177\u001b[0m \u001b[43m        \u001b[49m\u001b[43mgo_plot_settings\u001b[49m\u001b[38;5;241;43m=\u001b[39;49m\u001b[43mgo_plot_settings\u001b[49m\u001b[43m,\u001b[49m\u001b[43m \u001b[49m\u001b[43mwc_settings\u001b[49m\u001b[38;5;241;43m=\u001b[39;49m\u001b[43mwc_settings\u001b[49m\n\u001b[1;32m    178\u001b[0m \u001b[43m    \u001b[49m\u001b[43m)\u001b[49m[\u001b[38;5;124m\"\u001b[39m\u001b[38;5;124mnoun_cloud\u001b[39m\u001b[38;5;124m\"\u001b[39m]\u001b[38;5;241m.\u001b[39mshow()\n\u001b[1;32m    179\u001b[0m \u001b[38;5;28;01mif\u001b[39;00m pos \u001b[38;5;241m==\u001b[39m \u001b[38;5;124m\"\u001b[39m\u001b[38;5;124mJJ\u001b[39m\u001b[38;5;124m\"\u001b[39m:\n\u001b[1;32m    180\u001b[0m     \u001b[38;5;28mself\u001b[39m\u001b[38;5;241m.\u001b[39mcreate_pos_plots(\n\u001b[1;32m    181\u001b[0m         go_plot_settings\u001b[38;5;241m=\u001b[39mgo_plot_settings,\n\u001b[1;32m    182\u001b[0m     )[\u001b[38;5;124m\"\u001b[39m\u001b[38;5;124madj_cloud\u001b[39m\u001b[38;5;124m\"\u001b[39m]\u001b[38;5;241m.\u001b[39mshow()\n",
      "File \u001b[0;32m~/Code/wordview/wordview/text_analysis/wrapper.py:144\u001b[0m, in \u001b[0;36mTextStatsPlots.create_pos_plots\u001b[0;34m(self, go_plot_settings, wc_settings)\u001b[0m\n\u001b[1;32m    141\u001b[0m res \u001b[38;5;241m=\u001b[39m {}\n\u001b[1;32m    142\u001b[0m \u001b[38;5;28;01mif\u001b[39;00m \u001b[38;5;124m\"\u001b[39m\u001b[38;5;124mNN\u001b[39m\u001b[38;5;124m\"\u001b[39m \u001b[38;5;129;01min\u001b[39;00m \u001b[38;5;28mself\u001b[39m\u001b[38;5;241m.\u001b[39mpos_tags:\n\u001b[1;32m    143\u001b[0m     res[\u001b[38;5;124m\"\u001b[39m\u001b[38;5;124mnoun_cloud\u001b[39m\u001b[38;5;124m\"\u001b[39m] \u001b[38;5;241m=\u001b[39m go\u001b[38;5;241m.\u001b[39mFigure(\n\u001b[0;32m--> 144\u001b[0m         \u001b[43mplotly_wordcloud\u001b[49m\u001b[43m(\u001b[49m\n\u001b[1;32m    145\u001b[0m \u001b[43m            \u001b[49m\u001b[43mtoken_count_dic\u001b[49m\u001b[38;5;241;43m=\u001b[39;49m\u001b[38;5;28;43mself\u001b[39;49m\u001b[38;5;241;43m.\u001b[39;49m\u001b[43manalysis\u001b[49m\u001b[38;5;241;43m.\u001b[39;49m\u001b[43mnns\u001b[49m\u001b[43m,\u001b[49m\u001b[43m \u001b[49m\u001b[43msettings\u001b[49m\u001b[38;5;241;43m=\u001b[39;49m\u001b[43mwc_settings\u001b[49m\n\u001b[1;32m    146\u001b[0m \u001b[43m        \u001b[49m\u001b[43m)\u001b[49m\n\u001b[1;32m    147\u001b[0m     )\n\u001b[1;32m    148\u001b[0m \u001b[38;5;28;01mif\u001b[39;00m \u001b[38;5;124m\"\u001b[39m\u001b[38;5;124mJJ\u001b[39m\u001b[38;5;124m\"\u001b[39m \u001b[38;5;129;01min\u001b[39;00m \u001b[38;5;28mself\u001b[39m\u001b[38;5;241m.\u001b[39mpos_tags:\n\u001b[1;32m    149\u001b[0m     res[\u001b[38;5;124m\"\u001b[39m\u001b[38;5;124madj_cloud\u001b[39m\u001b[38;5;124m\"\u001b[39m] \u001b[38;5;241m=\u001b[39m go\u001b[38;5;241m.\u001b[39mFigure(\n\u001b[1;32m    150\u001b[0m         plotly_wordcloud(\n\u001b[1;32m    151\u001b[0m             token_count_dic\u001b[38;5;241m=\u001b[39m\u001b[38;5;28mself\u001b[39m\u001b[38;5;241m.\u001b[39manalysis\u001b[38;5;241m.\u001b[39mjjs, settings\u001b[38;5;241m=\u001b[39mwc_settings\n\u001b[1;32m    152\u001b[0m         )\n\u001b[1;32m    153\u001b[0m     )\n",
      "File \u001b[0;32m~/Code/wordview/wordview/text_analysis/core.py:34\u001b[0m, in \u001b[0;36mplotly_wordcloud\u001b[0;34m(token_count_dic, settings)\u001b[0m\n\u001b[1;32m     21\u001b[0m \u001b[38;5;28;01mdef\u001b[39;00m \u001b[38;5;21mplotly_wordcloud\u001b[39m(\n\u001b[1;32m     22\u001b[0m     token_count_dic: \u001b[38;5;28mdict\u001b[39m, settings: Dict \u001b[38;5;241m=\u001b[39m {\u001b[38;5;124m\"\u001b[39m\u001b[38;5;124mcolor\u001b[39m\u001b[38;5;124m\"\u001b[39m: \u001b[38;5;124m\"\u001b[39m\u001b[38;5;124mdeepskyblue\u001b[39m\u001b[38;5;124m\"\u001b[39m, \u001b[38;5;124m\"\u001b[39m\u001b[38;5;124mmax_words\u001b[39m\u001b[38;5;124m\"\u001b[39m: \u001b[38;5;241m100\u001b[39m}\n\u001b[1;32m     23\u001b[0m ) \u001b[38;5;241m-\u001b[39m\u001b[38;5;241m>\u001b[39m plotly\u001b[38;5;241m.\u001b[39mgraph_objects\u001b[38;5;241m.\u001b[39mScattergl:\n\u001b[1;32m     24\u001b[0m \u001b[38;5;250m    \u001b[39m\u001b[38;5;124;03m\"\"\"Create a world cloud trace for plotly.\u001b[39;00m\n\u001b[1;32m     25\u001b[0m \n\u001b[1;32m     26\u001b[0m \u001b[38;5;124;03m    Args:\u001b[39;00m\n\u001b[0;32m   (...)\u001b[0m\n\u001b[1;32m     31\u001b[0m \u001b[38;5;124;03m        trace (plotly.graph_objects.Scatter)\u001b[39;00m\n\u001b[1;32m     32\u001b[0m \u001b[38;5;124;03m    \"\"\"\u001b[39;00m\n\u001b[1;32m     33\u001b[0m     wc \u001b[38;5;241m=\u001b[39m WordCloud(\n\u001b[0;32m---> 34\u001b[0m         color_func\u001b[38;5;241m=\u001b[39mget_single_color_func(\u001b[43msettings\u001b[49m\u001b[43m[\u001b[49m\u001b[38;5;124;43m\"\u001b[39;49m\u001b[38;5;124;43mcolor\u001b[39;49m\u001b[38;5;124;43m\"\u001b[39;49m\u001b[43m]\u001b[49m),\n\u001b[1;32m     35\u001b[0m         max_words\u001b[38;5;241m=\u001b[39msettings[\u001b[38;5;124m\"\u001b[39m\u001b[38;5;124mmax_words\u001b[39m\u001b[38;5;124m\"\u001b[39m],\n\u001b[1;32m     36\u001b[0m     )\n\u001b[1;32m     37\u001b[0m     wc\u001b[38;5;241m.\u001b[39mgenerate_from_frequencies(token_count_dic)\n\u001b[1;32m     38\u001b[0m     word_list \u001b[38;5;241m=\u001b[39m []\n",
      "\u001b[0;31mKeyError\u001b[0m: 'color'"
     ]
    }
   ],
   "source": [
    "tsp.show_word_clouds('NN')"
   ]
  },
  {
   "cell_type": "code",
   "execution_count": null,
   "id": "66e38869",
   "metadata": {},
   "outputs": [],
   "source": [
    "tsp.create_pos_plots(go_plot_settings={'plot_bgcolor': 'rgba(0, 0, 0, 0)',\n",
    "                                        'plot_bgcolor': 'rgba(0, 0, 0, 0)'},\n",
    "                     wc_settings={'color':'red', 'max_words':1000})['noun_cloud'].show()"
   ]
  },
  {
   "cell_type": "code",
   "execution_count": 5,
   "id": "a217c266",
   "metadata": {},
   "outputs": [
    {
     "data": {
      "application/vnd.plotly.v1+json": {
       "config": {
        "plotlyServerURL": "https://plot.ly"
       },
       "data": [
        {
         "hoverinfo": "text",
         "hovertext": [
          "br: 16671",
          "movie: 8476",
          "film: 7978",
          "time: 2395",
          "story: 2337",
          "people: 1825",
          "way: 1563",
          "movies: 1507",
          "characters: 1408",
          "character: 1278"
         ],
         "mode": "text",
         "text": [
          "br",
          "movie",
          "film",
          "time",
          "story",
          "people",
          "way",
          "movies",
          "characters",
          "character"
         ],
         "textfont": {
          "color": [
           "rgb(0, 79, 105)",
           "rgb(0, 66, 89)",
           "rgb(0, 168, 224)",
           "rgb(0, 118, 157)",
           "rgb(0, 127, 170)",
           "rgb(0, 184, 246)",
           "rgb(0, 142, 189)",
           "rgb(0, 191, 255)",
           "rgb(0, 91, 121)",
           "rgb(0, 98, 131)"
          ],
          "size": [
           100,
           50.8428,
           47.8556,
           14.3663,
           14.0184,
           10.9472,
           9.3756,
           9.0396,
           8.4458,
           7.666
          ]
         },
         "type": "scattergl",
         "x": [
          28,
          1,
          75,
          151,
          152,
          1,
          61,
          89,
          139,
          78
         ],
         "y": [
          87,
          158,
          177,
          24,
          213,
          19,
          301,
          1,
          258,
          66
         ]
        }
       ],
       "layout": {
        "plot_bgcolor": "rgba(0, 0, 0, 0)",
        "showlegend": false,
        "template": {
         "data": {
          "bar": [
           {
            "error_x": {
             "color": "#2a3f5f"
            },
            "error_y": {
             "color": "#2a3f5f"
            },
            "marker": {
             "line": {
              "color": "#E5ECF6",
              "width": 0.5
             },
             "pattern": {
              "fillmode": "overlay",
              "size": 10,
              "solidity": 0.2
             }
            },
            "type": "bar"
           }
          ],
          "barpolar": [
           {
            "marker": {
             "line": {
              "color": "#E5ECF6",
              "width": 0.5
             },
             "pattern": {
              "fillmode": "overlay",
              "size": 10,
              "solidity": 0.2
             }
            },
            "type": "barpolar"
           }
          ],
          "carpet": [
           {
            "aaxis": {
             "endlinecolor": "#2a3f5f",
             "gridcolor": "white",
             "linecolor": "white",
             "minorgridcolor": "white",
             "startlinecolor": "#2a3f5f"
            },
            "baxis": {
             "endlinecolor": "#2a3f5f",
             "gridcolor": "white",
             "linecolor": "white",
             "minorgridcolor": "white",
             "startlinecolor": "#2a3f5f"
            },
            "type": "carpet"
           }
          ],
          "choropleth": [
           {
            "colorbar": {
             "outlinewidth": 0,
             "ticks": ""
            },
            "type": "choropleth"
           }
          ],
          "contour": [
           {
            "colorbar": {
             "outlinewidth": 0,
             "ticks": ""
            },
            "colorscale": [
             [
              0,
              "#0d0887"
             ],
             [
              0.1111111111111111,
              "#46039f"
             ],
             [
              0.2222222222222222,
              "#7201a8"
             ],
             [
              0.3333333333333333,
              "#9c179e"
             ],
             [
              0.4444444444444444,
              "#bd3786"
             ],
             [
              0.5555555555555556,
              "#d8576b"
             ],
             [
              0.6666666666666666,
              "#ed7953"
             ],
             [
              0.7777777777777778,
              "#fb9f3a"
             ],
             [
              0.8888888888888888,
              "#fdca26"
             ],
             [
              1,
              "#f0f921"
             ]
            ],
            "type": "contour"
           }
          ],
          "contourcarpet": [
           {
            "colorbar": {
             "outlinewidth": 0,
             "ticks": ""
            },
            "type": "contourcarpet"
           }
          ],
          "heatmap": [
           {
            "colorbar": {
             "outlinewidth": 0,
             "ticks": ""
            },
            "colorscale": [
             [
              0,
              "#0d0887"
             ],
             [
              0.1111111111111111,
              "#46039f"
             ],
             [
              0.2222222222222222,
              "#7201a8"
             ],
             [
              0.3333333333333333,
              "#9c179e"
             ],
             [
              0.4444444444444444,
              "#bd3786"
             ],
             [
              0.5555555555555556,
              "#d8576b"
             ],
             [
              0.6666666666666666,
              "#ed7953"
             ],
             [
              0.7777777777777778,
              "#fb9f3a"
             ],
             [
              0.8888888888888888,
              "#fdca26"
             ],
             [
              1,
              "#f0f921"
             ]
            ],
            "type": "heatmap"
           }
          ],
          "heatmapgl": [
           {
            "colorbar": {
             "outlinewidth": 0,
             "ticks": ""
            },
            "colorscale": [
             [
              0,
              "#0d0887"
             ],
             [
              0.1111111111111111,
              "#46039f"
             ],
             [
              0.2222222222222222,
              "#7201a8"
             ],
             [
              0.3333333333333333,
              "#9c179e"
             ],
             [
              0.4444444444444444,
              "#bd3786"
             ],
             [
              0.5555555555555556,
              "#d8576b"
             ],
             [
              0.6666666666666666,
              "#ed7953"
             ],
             [
              0.7777777777777778,
              "#fb9f3a"
             ],
             [
              0.8888888888888888,
              "#fdca26"
             ],
             [
              1,
              "#f0f921"
             ]
            ],
            "type": "heatmapgl"
           }
          ],
          "histogram": [
           {
            "marker": {
             "pattern": {
              "fillmode": "overlay",
              "size": 10,
              "solidity": 0.2
             }
            },
            "type": "histogram"
           }
          ],
          "histogram2d": [
           {
            "colorbar": {
             "outlinewidth": 0,
             "ticks": ""
            },
            "colorscale": [
             [
              0,
              "#0d0887"
             ],
             [
              0.1111111111111111,
              "#46039f"
             ],
             [
              0.2222222222222222,
              "#7201a8"
             ],
             [
              0.3333333333333333,
              "#9c179e"
             ],
             [
              0.4444444444444444,
              "#bd3786"
             ],
             [
              0.5555555555555556,
              "#d8576b"
             ],
             [
              0.6666666666666666,
              "#ed7953"
             ],
             [
              0.7777777777777778,
              "#fb9f3a"
             ],
             [
              0.8888888888888888,
              "#fdca26"
             ],
             [
              1,
              "#f0f921"
             ]
            ],
            "type": "histogram2d"
           }
          ],
          "histogram2dcontour": [
           {
            "colorbar": {
             "outlinewidth": 0,
             "ticks": ""
            },
            "colorscale": [
             [
              0,
              "#0d0887"
             ],
             [
              0.1111111111111111,
              "#46039f"
             ],
             [
              0.2222222222222222,
              "#7201a8"
             ],
             [
              0.3333333333333333,
              "#9c179e"
             ],
             [
              0.4444444444444444,
              "#bd3786"
             ],
             [
              0.5555555555555556,
              "#d8576b"
             ],
             [
              0.6666666666666666,
              "#ed7953"
             ],
             [
              0.7777777777777778,
              "#fb9f3a"
             ],
             [
              0.8888888888888888,
              "#fdca26"
             ],
             [
              1,
              "#f0f921"
             ]
            ],
            "type": "histogram2dcontour"
           }
          ],
          "mesh3d": [
           {
            "colorbar": {
             "outlinewidth": 0,
             "ticks": ""
            },
            "type": "mesh3d"
           }
          ],
          "parcoords": [
           {
            "line": {
             "colorbar": {
              "outlinewidth": 0,
              "ticks": ""
             }
            },
            "type": "parcoords"
           }
          ],
          "pie": [
           {
            "automargin": true,
            "type": "pie"
           }
          ],
          "scatter": [
           {
            "marker": {
             "colorbar": {
              "outlinewidth": 0,
              "ticks": ""
             }
            },
            "type": "scatter"
           }
          ],
          "scatter3d": [
           {
            "line": {
             "colorbar": {
              "outlinewidth": 0,
              "ticks": ""
             }
            },
            "marker": {
             "colorbar": {
              "outlinewidth": 0,
              "ticks": ""
             }
            },
            "type": "scatter3d"
           }
          ],
          "scattercarpet": [
           {
            "marker": {
             "colorbar": {
              "outlinewidth": 0,
              "ticks": ""
             }
            },
            "type": "scattercarpet"
           }
          ],
          "scattergeo": [
           {
            "marker": {
             "colorbar": {
              "outlinewidth": 0,
              "ticks": ""
             }
            },
            "type": "scattergeo"
           }
          ],
          "scattergl": [
           {
            "marker": {
             "colorbar": {
              "outlinewidth": 0,
              "ticks": ""
             }
            },
            "type": "scattergl"
           }
          ],
          "scattermapbox": [
           {
            "marker": {
             "colorbar": {
              "outlinewidth": 0,
              "ticks": ""
             }
            },
            "type": "scattermapbox"
           }
          ],
          "scatterpolar": [
           {
            "marker": {
             "colorbar": {
              "outlinewidth": 0,
              "ticks": ""
             }
            },
            "type": "scatterpolar"
           }
          ],
          "scatterpolargl": [
           {
            "marker": {
             "colorbar": {
              "outlinewidth": 0,
              "ticks": ""
             }
            },
            "type": "scatterpolargl"
           }
          ],
          "scatterternary": [
           {
            "marker": {
             "colorbar": {
              "outlinewidth": 0,
              "ticks": ""
             }
            },
            "type": "scatterternary"
           }
          ],
          "surface": [
           {
            "colorbar": {
             "outlinewidth": 0,
             "ticks": ""
            },
            "colorscale": [
             [
              0,
              "#0d0887"
             ],
             [
              0.1111111111111111,
              "#46039f"
             ],
             [
              0.2222222222222222,
              "#7201a8"
             ],
             [
              0.3333333333333333,
              "#9c179e"
             ],
             [
              0.4444444444444444,
              "#bd3786"
             ],
             [
              0.5555555555555556,
              "#d8576b"
             ],
             [
              0.6666666666666666,
              "#ed7953"
             ],
             [
              0.7777777777777778,
              "#fb9f3a"
             ],
             [
              0.8888888888888888,
              "#fdca26"
             ],
             [
              1,
              "#f0f921"
             ]
            ],
            "type": "surface"
           }
          ],
          "table": [
           {
            "cells": {
             "fill": {
              "color": "#EBF0F8"
             },
             "line": {
              "color": "white"
             }
            },
            "header": {
             "fill": {
              "color": "#C8D4E3"
             },
             "line": {
              "color": "white"
             }
            },
            "type": "table"
           }
          ]
         },
         "layout": {
          "annotationdefaults": {
           "arrowcolor": "#2a3f5f",
           "arrowhead": 0,
           "arrowwidth": 1
          },
          "autotypenumbers": "strict",
          "coloraxis": {
           "colorbar": {
            "outlinewidth": 0,
            "ticks": ""
           }
          },
          "colorscale": {
           "diverging": [
            [
             0,
             "#8e0152"
            ],
            [
             0.1,
             "#c51b7d"
            ],
            [
             0.2,
             "#de77ae"
            ],
            [
             0.3,
             "#f1b6da"
            ],
            [
             0.4,
             "#fde0ef"
            ],
            [
             0.5,
             "#f7f7f7"
            ],
            [
             0.6,
             "#e6f5d0"
            ],
            [
             0.7,
             "#b8e186"
            ],
            [
             0.8,
             "#7fbc41"
            ],
            [
             0.9,
             "#4d9221"
            ],
            [
             1,
             "#276419"
            ]
           ],
           "sequential": [
            [
             0,
             "#0d0887"
            ],
            [
             0.1111111111111111,
             "#46039f"
            ],
            [
             0.2222222222222222,
             "#7201a8"
            ],
            [
             0.3333333333333333,
             "#9c179e"
            ],
            [
             0.4444444444444444,
             "#bd3786"
            ],
            [
             0.5555555555555556,
             "#d8576b"
            ],
            [
             0.6666666666666666,
             "#ed7953"
            ],
            [
             0.7777777777777778,
             "#fb9f3a"
            ],
            [
             0.8888888888888888,
             "#fdca26"
            ],
            [
             1,
             "#f0f921"
            ]
           ],
           "sequentialminus": [
            [
             0,
             "#0d0887"
            ],
            [
             0.1111111111111111,
             "#46039f"
            ],
            [
             0.2222222222222222,
             "#7201a8"
            ],
            [
             0.3333333333333333,
             "#9c179e"
            ],
            [
             0.4444444444444444,
             "#bd3786"
            ],
            [
             0.5555555555555556,
             "#d8576b"
            ],
            [
             0.6666666666666666,
             "#ed7953"
            ],
            [
             0.7777777777777778,
             "#fb9f3a"
            ],
            [
             0.8888888888888888,
             "#fdca26"
            ],
            [
             1,
             "#f0f921"
            ]
           ]
          },
          "colorway": [
           "#636efa",
           "#EF553B",
           "#00cc96",
           "#ab63fa",
           "#FFA15A",
           "#19d3f3",
           "#FF6692",
           "#B6E880",
           "#FF97FF",
           "#FECB52"
          ],
          "font": {
           "color": "#2a3f5f"
          },
          "geo": {
           "bgcolor": "white",
           "lakecolor": "white",
           "landcolor": "#E5ECF6",
           "showlakes": true,
           "showland": true,
           "subunitcolor": "white"
          },
          "hoverlabel": {
           "align": "left"
          },
          "hovermode": "closest",
          "mapbox": {
           "style": "light"
          },
          "paper_bgcolor": "white",
          "plot_bgcolor": "#E5ECF6",
          "polar": {
           "angularaxis": {
            "gridcolor": "white",
            "linecolor": "white",
            "ticks": ""
           },
           "bgcolor": "#E5ECF6",
           "radialaxis": {
            "gridcolor": "white",
            "linecolor": "white",
            "ticks": ""
           }
          },
          "scene": {
           "xaxis": {
            "backgroundcolor": "#E5ECF6",
            "gridcolor": "white",
            "gridwidth": 2,
            "linecolor": "white",
            "showbackground": true,
            "ticks": "",
            "zerolinecolor": "white"
           },
           "yaxis": {
            "backgroundcolor": "#E5ECF6",
            "gridcolor": "white",
            "gridwidth": 2,
            "linecolor": "white",
            "showbackground": true,
            "ticks": "",
            "zerolinecolor": "white"
           },
           "zaxis": {
            "backgroundcolor": "#E5ECF6",
            "gridcolor": "white",
            "gridwidth": 2,
            "linecolor": "white",
            "showbackground": true,
            "ticks": "",
            "zerolinecolor": "white"
           }
          },
          "shapedefaults": {
           "line": {
            "color": "#2a3f5f"
           }
          },
          "ternary": {
           "aaxis": {
            "gridcolor": "white",
            "linecolor": "white",
            "ticks": ""
           },
           "baxis": {
            "gridcolor": "white",
            "linecolor": "white",
            "ticks": ""
           },
           "bgcolor": "#E5ECF6",
           "caxis": {
            "gridcolor": "white",
            "linecolor": "white",
            "ticks": ""
           }
          },
          "title": {
           "x": 0.05
          },
          "xaxis": {
           "automargin": true,
           "gridcolor": "white",
           "linecolor": "white",
           "ticks": "",
           "title": {
            "standoff": 15
           },
           "zerolinecolor": "white",
           "zerolinewidth": 2
          },
          "yaxis": {
           "automargin": true,
           "gridcolor": "white",
           "linecolor": "white",
           "ticks": "",
           "title": {
            "standoff": 15
           },
           "zerolinecolor": "white",
           "zerolinewidth": 2
          }
         }
        },
        "xaxis": {
         "showgrid": false,
         "showticklabels": false,
         "visible": false,
         "zeroline": false
        },
        "yaxis": {
         "showgrid": false,
         "showticklabels": false,
         "visible": false,
         "zeroline": false
        }
       }
      },
      "text/html": [
       "<div>                            <div id=\"42ec629f-8c84-466a-8941-aa8ac6a930f2\" class=\"plotly-graph-div\" style=\"height:525px; width:100%;\"></div>            <script type=\"text/javascript\">                require([\"plotly\"], function(Plotly) {                    window.PLOTLYENV=window.PLOTLYENV || {};                                    if (document.getElementById(\"42ec629f-8c84-466a-8941-aa8ac6a930f2\")) {                    Plotly.newPlot(                        \"42ec629f-8c84-466a-8941-aa8ac6a930f2\",                        [{\"hoverinfo\":\"text\",\"hovertext\":[\"br: 16671\",\"movie: 8476\",\"film: 7978\",\"time: 2395\",\"story: 2337\",\"people: 1825\",\"way: 1563\",\"movies: 1507\",\"characters: 1408\",\"character: 1278\"],\"mode\":\"text\",\"text\":[\"br\",\"movie\",\"film\",\"time\",\"story\",\"people\",\"way\",\"movies\",\"characters\",\"character\"],\"textfont\":{\"color\":[\"rgb(0, 79, 105)\",\"rgb(0, 66, 89)\",\"rgb(0, 168, 224)\",\"rgb(0, 118, 157)\",\"rgb(0, 127, 170)\",\"rgb(0, 184, 246)\",\"rgb(0, 142, 189)\",\"rgb(0, 191, 255)\",\"rgb(0, 91, 121)\",\"rgb(0, 98, 131)\"],\"size\":[100.0,50.8428,47.8556,14.3663,14.0184,10.9472,9.3756,9.0396,8.4458,7.666]},\"x\":[28,1,75,151,152,1,61,89,139,78],\"y\":[87,158,177,24,213,19,301,1,258,66],\"type\":\"scattergl\"}],                        {\"template\":{\"data\":{\"bar\":[{\"error_x\":{\"color\":\"#2a3f5f\"},\"error_y\":{\"color\":\"#2a3f5f\"},\"marker\":{\"line\":{\"color\":\"#E5ECF6\",\"width\":0.5},\"pattern\":{\"fillmode\":\"overlay\",\"size\":10,\"solidity\":0.2}},\"type\":\"bar\"}],\"barpolar\":[{\"marker\":{\"line\":{\"color\":\"#E5ECF6\",\"width\":0.5},\"pattern\":{\"fillmode\":\"overlay\",\"size\":10,\"solidity\":0.2}},\"type\":\"barpolar\"}],\"carpet\":[{\"aaxis\":{\"endlinecolor\":\"#2a3f5f\",\"gridcolor\":\"white\",\"linecolor\":\"white\",\"minorgridcolor\":\"white\",\"startlinecolor\":\"#2a3f5f\"},\"baxis\":{\"endlinecolor\":\"#2a3f5f\",\"gridcolor\":\"white\",\"linecolor\":\"white\",\"minorgridcolor\":\"white\",\"startlinecolor\":\"#2a3f5f\"},\"type\":\"carpet\"}],\"choropleth\":[{\"colorbar\":{\"outlinewidth\":0,\"ticks\":\"\"},\"type\":\"choropleth\"}],\"contour\":[{\"colorbar\":{\"outlinewidth\":0,\"ticks\":\"\"},\"colorscale\":[[0.0,\"#0d0887\"],[0.1111111111111111,\"#46039f\"],[0.2222222222222222,\"#7201a8\"],[0.3333333333333333,\"#9c179e\"],[0.4444444444444444,\"#bd3786\"],[0.5555555555555556,\"#d8576b\"],[0.6666666666666666,\"#ed7953\"],[0.7777777777777778,\"#fb9f3a\"],[0.8888888888888888,\"#fdca26\"],[1.0,\"#f0f921\"]],\"type\":\"contour\"}],\"contourcarpet\":[{\"colorbar\":{\"outlinewidth\":0,\"ticks\":\"\"},\"type\":\"contourcarpet\"}],\"heatmap\":[{\"colorbar\":{\"outlinewidth\":0,\"ticks\":\"\"},\"colorscale\":[[0.0,\"#0d0887\"],[0.1111111111111111,\"#46039f\"],[0.2222222222222222,\"#7201a8\"],[0.3333333333333333,\"#9c179e\"],[0.4444444444444444,\"#bd3786\"],[0.5555555555555556,\"#d8576b\"],[0.6666666666666666,\"#ed7953\"],[0.7777777777777778,\"#fb9f3a\"],[0.8888888888888888,\"#fdca26\"],[1.0,\"#f0f921\"]],\"type\":\"heatmap\"}],\"heatmapgl\":[{\"colorbar\":{\"outlinewidth\":0,\"ticks\":\"\"},\"colorscale\":[[0.0,\"#0d0887\"],[0.1111111111111111,\"#46039f\"],[0.2222222222222222,\"#7201a8\"],[0.3333333333333333,\"#9c179e\"],[0.4444444444444444,\"#bd3786\"],[0.5555555555555556,\"#d8576b\"],[0.6666666666666666,\"#ed7953\"],[0.7777777777777778,\"#fb9f3a\"],[0.8888888888888888,\"#fdca26\"],[1.0,\"#f0f921\"]],\"type\":\"heatmapgl\"}],\"histogram\":[{\"marker\":{\"pattern\":{\"fillmode\":\"overlay\",\"size\":10,\"solidity\":0.2}},\"type\":\"histogram\"}],\"histogram2d\":[{\"colorbar\":{\"outlinewidth\":0,\"ticks\":\"\"},\"colorscale\":[[0.0,\"#0d0887\"],[0.1111111111111111,\"#46039f\"],[0.2222222222222222,\"#7201a8\"],[0.3333333333333333,\"#9c179e\"],[0.4444444444444444,\"#bd3786\"],[0.5555555555555556,\"#d8576b\"],[0.6666666666666666,\"#ed7953\"],[0.7777777777777778,\"#fb9f3a\"],[0.8888888888888888,\"#fdca26\"],[1.0,\"#f0f921\"]],\"type\":\"histogram2d\"}],\"histogram2dcontour\":[{\"colorbar\":{\"outlinewidth\":0,\"ticks\":\"\"},\"colorscale\":[[0.0,\"#0d0887\"],[0.1111111111111111,\"#46039f\"],[0.2222222222222222,\"#7201a8\"],[0.3333333333333333,\"#9c179e\"],[0.4444444444444444,\"#bd3786\"],[0.5555555555555556,\"#d8576b\"],[0.6666666666666666,\"#ed7953\"],[0.7777777777777778,\"#fb9f3a\"],[0.8888888888888888,\"#fdca26\"],[1.0,\"#f0f921\"]],\"type\":\"histogram2dcontour\"}],\"mesh3d\":[{\"colorbar\":{\"outlinewidth\":0,\"ticks\":\"\"},\"type\":\"mesh3d\"}],\"parcoords\":[{\"line\":{\"colorbar\":{\"outlinewidth\":0,\"ticks\":\"\"}},\"type\":\"parcoords\"}],\"pie\":[{\"automargin\":true,\"type\":\"pie\"}],\"scatter\":[{\"marker\":{\"colorbar\":{\"outlinewidth\":0,\"ticks\":\"\"}},\"type\":\"scatter\"}],\"scatter3d\":[{\"line\":{\"colorbar\":{\"outlinewidth\":0,\"ticks\":\"\"}},\"marker\":{\"colorbar\":{\"outlinewidth\":0,\"ticks\":\"\"}},\"type\":\"scatter3d\"}],\"scattercarpet\":[{\"marker\":{\"colorbar\":{\"outlinewidth\":0,\"ticks\":\"\"}},\"type\":\"scattercarpet\"}],\"scattergeo\":[{\"marker\":{\"colorbar\":{\"outlinewidth\":0,\"ticks\":\"\"}},\"type\":\"scattergeo\"}],\"scattergl\":[{\"marker\":{\"colorbar\":{\"outlinewidth\":0,\"ticks\":\"\"}},\"type\":\"scattergl\"}],\"scattermapbox\":[{\"marker\":{\"colorbar\":{\"outlinewidth\":0,\"ticks\":\"\"}},\"type\":\"scattermapbox\"}],\"scatterpolar\":[{\"marker\":{\"colorbar\":{\"outlinewidth\":0,\"ticks\":\"\"}},\"type\":\"scatterpolar\"}],\"scatterpolargl\":[{\"marker\":{\"colorbar\":{\"outlinewidth\":0,\"ticks\":\"\"}},\"type\":\"scatterpolargl\"}],\"scatterternary\":[{\"marker\":{\"colorbar\":{\"outlinewidth\":0,\"ticks\":\"\"}},\"type\":\"scatterternary\"}],\"surface\":[{\"colorbar\":{\"outlinewidth\":0,\"ticks\":\"\"},\"colorscale\":[[0.0,\"#0d0887\"],[0.1111111111111111,\"#46039f\"],[0.2222222222222222,\"#7201a8\"],[0.3333333333333333,\"#9c179e\"],[0.4444444444444444,\"#bd3786\"],[0.5555555555555556,\"#d8576b\"],[0.6666666666666666,\"#ed7953\"],[0.7777777777777778,\"#fb9f3a\"],[0.8888888888888888,\"#fdca26\"],[1.0,\"#f0f921\"]],\"type\":\"surface\"}],\"table\":[{\"cells\":{\"fill\":{\"color\":\"#EBF0F8\"},\"line\":{\"color\":\"white\"}},\"header\":{\"fill\":{\"color\":\"#C8D4E3\"},\"line\":{\"color\":\"white\"}},\"type\":\"table\"}]},\"layout\":{\"annotationdefaults\":{\"arrowcolor\":\"#2a3f5f\",\"arrowhead\":0,\"arrowwidth\":1},\"autotypenumbers\":\"strict\",\"coloraxis\":{\"colorbar\":{\"outlinewidth\":0,\"ticks\":\"\"}},\"colorscale\":{\"diverging\":[[0,\"#8e0152\"],[0.1,\"#c51b7d\"],[0.2,\"#de77ae\"],[0.3,\"#f1b6da\"],[0.4,\"#fde0ef\"],[0.5,\"#f7f7f7\"],[0.6,\"#e6f5d0\"],[0.7,\"#b8e186\"],[0.8,\"#7fbc41\"],[0.9,\"#4d9221\"],[1,\"#276419\"]],\"sequential\":[[0.0,\"#0d0887\"],[0.1111111111111111,\"#46039f\"],[0.2222222222222222,\"#7201a8\"],[0.3333333333333333,\"#9c179e\"],[0.4444444444444444,\"#bd3786\"],[0.5555555555555556,\"#d8576b\"],[0.6666666666666666,\"#ed7953\"],[0.7777777777777778,\"#fb9f3a\"],[0.8888888888888888,\"#fdca26\"],[1.0,\"#f0f921\"]],\"sequentialminus\":[[0.0,\"#0d0887\"],[0.1111111111111111,\"#46039f\"],[0.2222222222222222,\"#7201a8\"],[0.3333333333333333,\"#9c179e\"],[0.4444444444444444,\"#bd3786\"],[0.5555555555555556,\"#d8576b\"],[0.6666666666666666,\"#ed7953\"],[0.7777777777777778,\"#fb9f3a\"],[0.8888888888888888,\"#fdca26\"],[1.0,\"#f0f921\"]]},\"colorway\":[\"#636efa\",\"#EF553B\",\"#00cc96\",\"#ab63fa\",\"#FFA15A\",\"#19d3f3\",\"#FF6692\",\"#B6E880\",\"#FF97FF\",\"#FECB52\"],\"font\":{\"color\":\"#2a3f5f\"},\"geo\":{\"bgcolor\":\"white\",\"lakecolor\":\"white\",\"landcolor\":\"#E5ECF6\",\"showlakes\":true,\"showland\":true,\"subunitcolor\":\"white\"},\"hoverlabel\":{\"align\":\"left\"},\"hovermode\":\"closest\",\"mapbox\":{\"style\":\"light\"},\"paper_bgcolor\":\"white\",\"plot_bgcolor\":\"#E5ECF6\",\"polar\":{\"angularaxis\":{\"gridcolor\":\"white\",\"linecolor\":\"white\",\"ticks\":\"\"},\"bgcolor\":\"#E5ECF6\",\"radialaxis\":{\"gridcolor\":\"white\",\"linecolor\":\"white\",\"ticks\":\"\"}},\"scene\":{\"xaxis\":{\"backgroundcolor\":\"#E5ECF6\",\"gridcolor\":\"white\",\"gridwidth\":2,\"linecolor\":\"white\",\"showbackground\":true,\"ticks\":\"\",\"zerolinecolor\":\"white\"},\"yaxis\":{\"backgroundcolor\":\"#E5ECF6\",\"gridcolor\":\"white\",\"gridwidth\":2,\"linecolor\":\"white\",\"showbackground\":true,\"ticks\":\"\",\"zerolinecolor\":\"white\"},\"zaxis\":{\"backgroundcolor\":\"#E5ECF6\",\"gridcolor\":\"white\",\"gridwidth\":2,\"linecolor\":\"white\",\"showbackground\":true,\"ticks\":\"\",\"zerolinecolor\":\"white\"}},\"shapedefaults\":{\"line\":{\"color\":\"#2a3f5f\"}},\"ternary\":{\"aaxis\":{\"gridcolor\":\"white\",\"linecolor\":\"white\",\"ticks\":\"\"},\"baxis\":{\"gridcolor\":\"white\",\"linecolor\":\"white\",\"ticks\":\"\"},\"bgcolor\":\"#E5ECF6\",\"caxis\":{\"gridcolor\":\"white\",\"linecolor\":\"white\",\"ticks\":\"\"}},\"title\":{\"x\":0.05},\"xaxis\":{\"automargin\":true,\"gridcolor\":\"white\",\"linecolor\":\"white\",\"ticks\":\"\",\"title\":{\"standoff\":15},\"zerolinecolor\":\"white\",\"zerolinewidth\":2},\"yaxis\":{\"automargin\":true,\"gridcolor\":\"white\",\"linecolor\":\"white\",\"ticks\":\"\",\"title\":{\"standoff\":15},\"zerolinecolor\":\"white\",\"zerolinewidth\":2}}},\"xaxis\":{\"showgrid\":false,\"zeroline\":false,\"visible\":false,\"showticklabels\":false},\"yaxis\":{\"showgrid\":false,\"zeroline\":false,\"visible\":false,\"showticklabels\":false},\"showlegend\":false,\"plot_bgcolor\":\"rgba(0, 0, 0, 0)\"},                        {\"responsive\": true}                    ).then(function(){\n",
       "                            \n",
       "var gd = document.getElementById('42ec629f-8c84-466a-8941-aa8ac6a930f2');\n",
       "var x = new MutationObserver(function (mutations, observer) {{\n",
       "        var display = window.getComputedStyle(gd).display;\n",
       "        if (!display || display === 'none') {{\n",
       "            console.log([gd, 'removed!']);\n",
       "            Plotly.purge(gd);\n",
       "            observer.disconnect();\n",
       "        }}\n",
       "}});\n",
       "\n",
       "// Listen for the removal of the full notebook cells\n",
       "var notebookContainer = gd.closest('#notebook-container');\n",
       "if (notebookContainer) {{\n",
       "    x.observe(notebookContainer, {childList: true});\n",
       "}}\n",
       "\n",
       "// Listen for the clearing of the current output cell\n",
       "var outputEl = gd.closest('.output');\n",
       "if (outputEl) {{\n",
       "    x.observe(outputEl, {childList: true});\n",
       "}}\n",
       "\n",
       "                        })                };                });            </script>        </div>"
      ]
     },
     "metadata": {},
     "output_type": "display_data"
    }
   ],
   "source": [
    "tsp.show_word_clouds(pos=\"NN\",\n",
    "                     go_plot_settings={'plot_bgcolor': 'rgba(0, 0, 0, 0)',\n",
    "                                        'plot_bgcolor': 'rgba(0, 0, 0, 0)'},\n",
    "                     wc_settings={'color':'deepskyblue', 'max_words':10}\n",
    "                    )"
   ]
  },
  {
   "cell_type": "code",
   "execution_count": null,
   "id": "8fb4f2c8",
   "metadata": {},
   "outputs": [],
   "source": [
    "tsp.show_distplot('doc_len')"
   ]
  },
  {
   "cell_type": "code",
   "execution_count": null,
   "id": "1a105a29",
   "metadata": {},
   "outputs": [],
   "source": [
    "# IDF\n",
    "# vectorizer = TfidfVectorizer(min_df=1)\n",
    "# X = vectorizer.fit_transform(imdb_train[\"text\"])\n",
    "# idf = vectorizer.idf_\n",
    "# token_score_dict = dict(zip(vectorizer.get_feature_names(), idf))\n",
    "\n",
    "# Word Count\n",
    "token_score_dict = tsp.analysis.token_to_count_dict"
   ]
  },
  {
   "cell_type": "code",
   "execution_count": null,
   "id": "e9241d81",
   "metadata": {},
   "outputs": [],
   "source": [
    "nda = NormalDistAnomalies(items=token_score_dict, gaussianization_strategy='brute')"
   ]
  },
  {
   "cell_type": "code",
   "execution_count": null,
   "id": "61f888a2",
   "metadata": {},
   "outputs": [],
   "source": [
    "nda.item_value_df.head(1000)"
   ]
  },
  {
   "cell_type": "code",
   "execution_count": null,
   "id": "f1192867",
   "metadata": {},
   "outputs": [],
   "source": [
    "nda.show_plot(type='normal', bin_size=1)"
   ]
  },
  {
   "cell_type": "code",
   "execution_count": null,
   "id": "18d3c83b",
   "metadata": {
    "scrolled": true
   },
   "outputs": [],
   "source": [
    "nda.show_plot()"
   ]
  },
  {
   "cell_type": "markdown",
   "id": "ac975326",
   "metadata": {},
   "source": [
    "## Anomaly Experiments"
   ]
  },
  {
   "cell_type": "code",
   "execution_count": null,
   "id": "baf9dafb",
   "metadata": {},
   "outputs": [],
   "source": [
    "from wordview.anomaly import gaussianize\n",
    "from numpy.random import randn\n",
    "\n",
    "# values = data = randn(1000)\n",
    "values = nda.item_value_df['guassian_values']\n",
    "values2 = nda.item_value_df['representative_value']\n",
    "\n",
    "g = gaussianize.Gaussianize(strategy='lambert')\n",
    "g.fit(values)\n",
    "res = g.transform(values)\n",
    "# res = res.flatten().tolist()\n",
    "\n",
    "\n",
    "print(shapiro(res).pvalue)\n",
    "\n",
    "def show_fig(x, curve_type):\n",
    "    fig = ff.create_distplot(\n",
    "            [x],\n",
    "            group_labels=['Value'],\n",
    "            bin_size=1,\n",
    "            curve_type=curve_type,  # override default 'kde'\n",
    "        )\n",
    "    fig.show()\n",
    "\n",
    "# show_fig(x=values, curve_type='normal')\n",
    "# show_fig(x=values2, curve_type='kde')\n",
    "\n",
    "\n",
    "# print(values)\n",
    "# print('==========')\n",
    "# print(res.flatten().tolist())"
   ]
  },
  {
   "cell_type": "markdown",
   "id": "58634a67",
   "metadata": {},
   "source": [
    "### Use of shapiro test"
   ]
  },
  {
   "cell_type": "code",
   "execution_count": null,
   "id": "8bc06acb",
   "metadata": {},
   "outputs": [],
   "source": [
    "# from scipy.stats import norm\n",
    "from scipy.stats import shapiro\n",
    "\n",
    "my_data = nda.item_value_df['representative_value']\n",
    "shapiro(my_data.to_list())"
   ]
  },
  {
   "cell_type": "code",
   "execution_count": null,
   "id": "e798aefa",
   "metadata": {},
   "outputs": [],
   "source": [
    "my_data = nda.item_value_df['guassian_values']\n",
    "shapiro(my_data.to_list())"
   ]
  },
  {
   "cell_type": "code",
   "execution_count": null,
   "id": "305df50a",
   "metadata": {},
   "outputs": [],
   "source": [
    "from numpy.random import randn\n",
    "my_data = randn(1000)\n",
    "print(shapiro(my_data))\n",
    "print(kstest(my_data, 'norm'))"
   ]
  },
  {
   "cell_type": "code",
   "execution_count": null,
   "id": "9e4b663d",
   "metadata": {},
   "outputs": [],
   "source": [
    "print(shapiro(nda.item_value_df['guassian_values'].tolist()))\n",
    "print(kstest(nda.item_value_df['guassian_values'].tolist(), 'norm'))\n",
    "show_fig(x=nda.item_value_df['guassian_values'], curve_type='normal')"
   ]
  },
  {
   "cell_type": "markdown",
   "id": "d6b0c7b9",
   "metadata": {},
   "source": [
    "### Use of px"
   ]
  },
  {
   "cell_type": "code",
   "execution_count": null,
   "id": "e10e293e",
   "metadata": {},
   "outputs": [],
   "source": [
    "import plotly.express as px\n",
    "df = px.data.tips()\n",
    "fig = px.histogram(df, x=\"total_bill\", y=\"tip\", color=\"sex\", marginal=\"rug\",\n",
    "                   hover_data=df.columns)\n",
    "fig.show()\n",
    "df.head()"
   ]
  },
  {
   "cell_type": "code",
   "execution_count": null,
   "id": "9173518b",
   "metadata": {},
   "outputs": [],
   "source": [
    "fig = px.histogram(nda.item_value_df, x=\"guassian_values\")\n",
    "fig.show()\n",
    "fig2 = px.histogram(nda.item_value_df, x=\"representative_value\")\n",
    "fig2.show()"
   ]
  },
  {
   "cell_type": "markdown",
   "id": "46f38316",
   "metadata": {},
   "source": [
    "## Text Analysis"
   ]
  },
  {
   "cell_type": "code",
   "execution_count": null,
   "id": "b11fa835",
   "metadata": {},
   "outputs": [],
   "source": [
    "tsp.show_stats()"
   ]
  },
  {
   "cell_type": "code",
   "execution_count": null,
   "id": "be1b1d2e",
   "metadata": {},
   "outputs": [],
   "source": [
    "# tsp.show_distplot(plot='doc_len')\n",
    "tsp.show_distplot(plot='word_frequency_zipf')"
   ]
  },
  {
   "cell_type": "code",
   "execution_count": null,
   "id": "0b37c7ae",
   "metadata": {},
   "outputs": [],
   "source": [
    "tsp.show_word_clouds(type=\"JJ\")"
   ]
  },
  {
   "cell_type": "code",
   "execution_count": null,
   "id": "7c4cd67f",
   "metadata": {},
   "outputs": [],
   "source": [
    "# import plotly.graph_objs as go\n",
    "# import plotly.figure_factory as ff\n",
    "# fig_w_freq = go.Figure()\n",
    "# fig_w_freq.add_trace(go.Scattergl(x=tsp.analysis.zipf_x,\n",
    "#                                               y=tsp.analysis.zipf_y_emp,\n",
    "#                                               mode='markers',\n",
    "#                                               marker=dict(\n",
    "#                                                     color=tsp.analysis.zipf_x,\n",
    "#                                                     colorscale='Tealgrn',\n",
    "#                                                     )\n",
    "#                                             )\n",
    "#                                 )\n",
    "# fig_w_freq.add_trace(go.Scattergl(x=tsp.analysis.zipf_x,\n",
    "#                                   y=tsp.analysis.zipf_y_theory,\n",
    "#                                   mode='markers',\n",
    "#                                   marker=dict(color=tsp.analysis.zipf_x,\n",
    "#                                               colorscale='Reds'\n",
    "#                                              )\n",
    "#                                  )\n",
    "#                     )\n",
    "\n",
    "# dist_plot_setup = {\n",
    "#             # 'paper_bgcolor': '#007A78',\n",
    "#             'showlegend' : False\n",
    "#             }\n",
    "# fig_w_freq.update_layout(dist_plot_setup)\n",
    "# fig_w_freq.show()"
   ]
  },
  {
   "cell_type": "code",
   "execution_count": null,
   "id": "87bb4ad5",
   "metadata": {},
   "outputs": [],
   "source": [
    "import numpy as np\n",
    "import random\n",
    "\n",
    "# In addition to the original label, for illustration purpose, let's create two random labels:\n",
    "imdb_train['numerical_label'] = np.random.randint(1, 500, imdb_train.shape[0])\n",
    "imdb_train['label2'] = random.choices(['a', 'b', 'c', 'd'], [0.2, 0.5, 0.8, 0.9], k=imdb_train.shape[0])\n",
    "imdb_train['numerical_label2'] = np.random.randint(1, 500, imdb_train.shape[0])"
   ]
  },
  {
   "cell_type": "code",
   "execution_count": null,
   "id": "83c89ab6",
   "metadata": {},
   "outputs": [],
   "source": [
    "lsp = LabelStatsPlots(df=imdb_train, label_columns=[('label', 'categorical'),\n",
    "                                                    ('label2', 'categorical'),\n",
    "                                                    ('numerical_label', 'numerical'),\n",
    "                                                    ('numerical_label2', 'numerical')\n",
    "                                                   ]\n",
    "                     )"
   ]
  },
  {
   "cell_type": "code",
   "execution_count": null,
   "id": "1c104f2d",
   "metadata": {},
   "outputs": [],
   "source": [
    "lsp.show_label_plots()"
   ]
  },
  {
   "cell_type": "code",
   "execution_count": null,
   "id": "316c670f",
   "metadata": {},
   "outputs": [],
   "source": [
    "# lsp.labels_fig.write_html('tmp.html')"
   ]
  },
  {
   "cell_type": "code",
   "execution_count": null,
   "id": "13b42dc2",
   "metadata": {},
   "outputs": [],
   "source": [
    "import plotly.graph_objects as go\n",
    "from plotly.subplots import make_subplots\n",
    "t1 = go.Histogram(x=imdb_train['numerical_labe2'],\n",
    "                  marker=dict(line=dict(width=0.8,\n",
    "                                        color=\"white\")\n",
    "                             )\n",
    "                 )\n",
    "figure = make_subplots(rows=1, cols=1)\n",
    "figure.append_trace(t1, 1, 1)\n",
    "figure.show()"
   ]
  },
  {
   "cell_type": "code",
   "execution_count": null,
   "id": "f451dddd",
   "metadata": {},
   "outputs": [],
   "source": [
    "t1 = go.Histogram(x=imdb_train['numerical_labe2'],\n",
    "                  marker=dict(line=dict(width=0.8,\n",
    "                                        color=\"white\")\n",
    "                             )\n",
    "                 )\n",
    "figure = make_subplots(rows=1, cols=1)\n",
    "figure.append_trace(t1, 1, 1)\n",
    "figure.show()"
   ]
  },
  {
   "cell_type": "code",
   "execution_count": null,
   "id": "0663a142",
   "metadata": {},
   "outputs": [],
   "source": [
    "import plotly.express as px\n",
    "res = imdb_train['new_label'].value_counts()\n",
    "res.columns = ['label', 'count']\n",
    "fig = px.box(res)\n",
    "\n",
    "fig.update_traces(quartilemethod=\"exclusive\") # or \"inclusive\", or \"linear\" by default\n",
    "fig.show()"
   ]
  },
  {
   "cell_type": "code",
   "execution_count": null,
   "id": "b4cbfa32",
   "metadata": {},
   "outputs": [],
   "source": [
    "from wordview.mwes import MWE"
   ]
  },
  {
   "cell_type": "code",
   "execution_count": null,
   "id": "d113aeed",
   "metadata": {},
   "outputs": [],
   "source": [
    "mwe = MWE(df=imdb_train, mwe_types=[\"NC\", \"JNC\"], text_column='text')"
   ]
  },
  {
   "cell_type": "code",
   "execution_count": null,
   "id": "ca69da3f",
   "metadata": {},
   "outputs": [],
   "source": [
    "mwe.build_counts(counts_filename='../tmp/counts.json')"
   ]
  },
  {
   "cell_type": "code",
   "execution_count": null,
   "id": "2eec30d1",
   "metadata": {},
   "outputs": [],
   "source": [
    "mwes_dict = mwe.extract_mwes(counts_filename='../tmp/counts.json', mwes_filename='../tmp/mwes1.json')\n",
    "mwes_nc = {k: v for k, v in mwes_dict['NC'].items()}\n",
    "top_mwes_nc = [[k, v] for k,v in mwes_nc.items()][:10]\n",
    "print(tabulate(top_mwes_nc, tablefmt=\"double_outline\"))"
   ]
  },
  {
   "cell_type": "code",
   "execution_count": null,
   "id": "a03eb424",
   "metadata": {},
   "outputs": [],
   "source": [
    "mwe.extract_mwes(counts_filename='../tmp/counts.json', mwes_filename='../tmp/mwes.json')"
   ]
  },
  {
   "cell_type": "code",
   "execution_count": null,
   "id": "94d83f5f",
   "metadata": {},
   "outputs": [],
   "source": [
    "from wordview.mwes import hyphenate_mwes"
   ]
  },
  {
   "cell_type": "code",
   "execution_count": null,
   "id": "bbb4c377",
   "metadata": {},
   "outputs": [],
   "source": [
    "new_df = hyphenate_mwes(path_to_mwes='../tmp/mwes.json', mwe_types=['NC', 'JNC'], df=imdb_train, text_column='text')"
   ]
  },
  {
   "cell_type": "code",
   "execution_count": null,
   "id": "25d891ff",
   "metadata": {},
   "outputs": [],
   "source": [
    "from wordview.preprocessing import RedunTerms\n",
    "rt = RedunTerms(imdb_train[\"text\"], method='idf')"
   ]
  },
  {
   "cell_type": "code",
   "execution_count": null,
   "id": "1382733a",
   "metadata": {},
   "outputs": [],
   "source": [
    "with open('../tmp/counts.json') as json_file:\n",
    "    counts_dict = json.load(json_file)\n",
    "with open('../tmp/mwes.json') as json_file:\n",
    "    mwes_dict = json.load(json_file)"
   ]
  },
  {
   "cell_type": "code",
   "execution_count": null,
   "id": "911de241",
   "metadata": {},
   "outputs": [],
   "source": [
    "nc_counts = {k: v for k, v in sorted(counts_dict['NC'].items(), key=lambda item: item[1], reverse=True)}\n",
    "nc_association = {k: v for k, v in mwes_dict['NC'].items()}"
   ]
  },
  {
   "cell_type": "code",
   "execution_count": null,
   "id": "d1b8d3cc",
   "metadata": {},
   "outputs": [],
   "source": [
    "top_nc_table = [[k, v] for k,v in nc_counts.items()][:10]\n",
    "top_nc_association_table = [[k, v] for k,v in nc_association.items()][:10]"
   ]
  },
  {
   "cell_type": "code",
   "execution_count": null,
   "id": "0161b1c3",
   "metadata": {},
   "outputs": [],
   "source": [
    "print(tabulate(top_nc_table, tablefmt=\"simple_grid\"))"
   ]
  },
  {
   "cell_type": "code",
   "execution_count": null,
   "id": "c566f4fa",
   "metadata": {},
   "outputs": [],
   "source": [
    "tformat = \"double_outline\" #simple_grid\"\n",
    "print(tabulate(top_nc_association_table, tablefmt=tformat))"
   ]
  },
  {
   "cell_type": "code",
   "execution_count": null,
   "id": "9a3b9045",
   "metadata": {},
   "outputs": [],
   "source": []
  }
 ],
 "metadata": {
  "kernelspec": {
   "display_name": "Python 3 (ipykernel)",
   "language": "python",
   "name": "python3"
  },
  "language_info": {
   "codemirror_mode": {
    "name": "ipython",
    "version": 3
   },
   "file_extension": ".py",
   "mimetype": "text/x-python",
   "name": "python",
   "nbconvert_exporter": "python",
   "pygments_lexer": "ipython3",
   "version": "3.9.10"
  }
 },
 "nbformat": 4,
 "nbformat_minor": 5
}
