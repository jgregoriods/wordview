{
 "cells": [
  {
   "cell_type": "markdown",
   "id": "192d9a97",
   "metadata": {},
   "source": [
    "## Installtion and Links"
   ]
  },
  {
   "cell_type": "code",
   "execution_count": 19,
   "id": "21155605",
   "metadata": {},
   "outputs": [],
   "source": [
    "# pip install wordview\n",
    "# GitHub: https://github.com/meghdadFar/wordview\n",
    "# Demo: https://github.com/meghdadFar/wordview/blob/main/notebooks/demo.ipynb\n",
    "# Docs: https://github.com/meghdadFar/wordview/tree/main/docs"
   ]
  },
  {
   "cell_type": "markdown",
   "id": "b5537aac",
   "metadata": {},
   "source": [
    "## Imports"
   ]
  },
  {
   "cell_type": "code",
   "execution_count": 1,
   "id": "cd3a6599",
   "metadata": {},
   "outputs": [],
   "source": [
    "import pandas as pd\n",
    "import numpy as np\n",
    "import random\n",
    "import json\n",
    "from wordview.text_analysis import TextStatsPlots, LabelStatsPlots\n",
    "\n",
    "# Ensure plots are properly rendered in Jupyter Lab\n",
    "import plotly.io as pio\n",
    "pio.renderers.default = 'iframe'"
   ]
  },
  {
   "cell_type": "markdown",
   "id": "1b932901",
   "metadata": {},
   "source": [
    "## Data"
   ]
  },
  {
   "cell_type": "code",
   "execution_count": 2,
   "id": "48587d0d",
   "metadata": {},
   "outputs": [],
   "source": [
    "imdb_df = pd.read_csv(\"../data/IMDB_Dataset_sample_5k.csv\")"
   ]
  },
  {
   "cell_type": "markdown",
   "id": "8c578bb0",
   "metadata": {},
   "source": [
    "## General Analysis of Text and Labels"
   ]
  },
  {
   "cell_type": "code",
   "execution_count": 22,
   "id": "1a67b922",
   "metadata": {},
   "outputs": [
    {
     "name": "stderr",
     "output_type": "stream",
     "text": [
      "core            - 313 - INFO - Processing text in review column of the input DataFrame...\n",
      "100%|█████████████████████████████████████████████████████████████████████████████████████████████| 5000/5000 [00:30<00:00, 162.53it/s]\n",
      "core            - 354 - INFO - Calculating Empirical and Theoretical Zipf values...\n",
      "core            - 359 - INFO - Time to measure predicted proportion for 91519 rows: 0.02927112579345703\n"
     ]
    }
   ],
   "source": [
    "tsp = TextStatsPlots(df=imdb_df, text_column='review')"
   ]
  },
  {
   "cell_type": "markdown",
   "id": "b2bbbc42",
   "metadata": {},
   "source": [
    "### Describe"
   ]
  },
  {
   "cell_type": "code",
   "execution_count": 23,
   "id": "9bad5bb6",
   "metadata": {},
   "outputs": [
    {
     "name": "stdout",
     "output_type": "stream",
     "text": [
      "┌───────────────────┬─────────┐\n",
      "│ Language/s        │ EN      │\n",
      "├───────────────────┼─────────┤\n",
      "│ Unique Words      │ 91,519  │\n",
      "├───────────────────┼─────────┤\n",
      "│ All Words         │ 625,022 │\n",
      "├───────────────────┼─────────┤\n",
      "│ Documents         │ 5,000   │\n",
      "├───────────────────┼─────────┤\n",
      "│ Median Doc Length │ 174.0   │\n",
      "├───────────────────┼─────────┤\n",
      "│ Nouns             │ 57,001  │\n",
      "├───────────────────┼─────────┤\n",
      "│ Adjectives        │ 32,191  │\n",
      "├───────────────────┼─────────┤\n",
      "│ Verbs             │ 21,244  │\n",
      "└───────────────────┴─────────┘\n"
     ]
    }
   ],
   "source": [
    "tsp.show_stats()"
   ]
  },
  {
   "cell_type": "markdown",
   "id": "e9b39097",
   "metadata": {},
   "source": [
    "### Distributions"
   ]
  },
  {
   "cell_type": "code",
   "execution_count": 24,
   "id": "bc3ad86b",
   "metadata": {},
   "outputs": [
    {
     "data": {
      "text/html": [
       "<iframe\n",
       "    scrolling=\"no\"\n",
       "    width=\"100%\"\n",
       "    height=\"545px\"\n",
       "    src=\"iframe_figures/figure_24.html\"\n",
       "    frameborder=\"0\"\n",
       "    allowfullscreen\n",
       "></iframe>\n"
      ]
     },
     "metadata": {},
     "output_type": "display_data"
    }
   ],
   "source": [
    "# tsp.show_distplot('doc_len')\n",
    "\n",
    "# You can customize the layout using the argument: `layout_settings`.\n",
    "# E.g.\n",
    "layout_settings = {'plot_bgcolor':'rgba(245, 245, 245, 1)',\n",
    "                   'paper_bgcolor': 'rgba(255, 255, 255, 1)',\n",
    "                   'hovermode': 'y'\n",
    "                  }\n",
    "# For a full list of possible options, see:\n",
    "# https://plotly.com/python/reference/layout/\n",
    "\n",
    "\n",
    "plot_settings = {'color': 'chartreuse'}\n",
    "# aliceblue, antiquewhite, aqua, aquamarine, azure,\n",
    "# beige, bisque, black, blanchedalmond, blue,\n",
    "# blueviolet, brown, burlywood, cadetblue,\n",
    "# chartreuse, chocolate, coral, cornflowerblue,\n",
    "# cornsilk, crimson, cyan, darkblue, darkcyan,\n",
    "# darkgoldenrod, darkgray, darkgrey, darkgreen,\n",
    "tsp.show_distplot('doc_len',\n",
    "                  layout_settings=layout_settings,\n",
    "                  plot_settings=plot_settings)"
   ]
  },
  {
   "cell_type": "code",
   "execution_count": 25,
   "id": "267b3798",
   "metadata": {},
   "outputs": [
    {
     "data": {
      "text/html": [
       "<iframe\n",
       "    scrolling=\"no\"\n",
       "    width=\"100%\"\n",
       "    height=\"545px\"\n",
       "    src=\"iframe_figures/figure_25.html\"\n",
       "    frameborder=\"0\"\n",
       "    allowfullscreen\n",
       "></iframe>\n"
      ]
     },
     "metadata": {},
     "output_type": "display_data"
    }
   ],
   "source": [
    "plot_settings = {'theoritical_zipf_colorscale': 'Reds',\n",
    "                 'emperical_zipf_colorscale': 'Greens',\n",
    "                 'mode': 'markers'}\n",
    "layout_settings = {'plot_bgcolor':'rgba(245, 245, 245, 1)',\n",
    "                   'paper_bgcolor': 'rgba(255, 255, 255, 1)',\n",
    "                   'hovermode': 'y'\n",
    "                  }\n",
    "tsp.show_distplot('word_frequency_zipf',\n",
    "                  layout_settings=layout_settings,\n",
    "                  plot_settings=plot_settings)\n",
    "# https://medium.com/@_init_/using-zipfs-law-to-improve-neural-language-models-4c3d66e6d2f6"
   ]
  },
  {
   "cell_type": "markdown",
   "id": "c0c555b4",
   "metadata": {},
   "source": [
    "### Word Clouds"
   ]
  },
  {
   "cell_type": "code",
   "execution_count": 26,
   "id": "03713791",
   "metadata": {},
   "outputs": [
    {
     "data": {
      "text/html": [
       "<iframe\n",
       "    scrolling=\"no\"\n",
       "    width=\"100%\"\n",
       "    height=\"545px\"\n",
       "    src=\"iframe_figures/figure_26.html\"\n",
       "    frameborder=\"0\"\n",
       "    allowfullscreen\n",
       "></iframe>\n"
      ]
     },
     "metadata": {},
     "output_type": "display_data"
    }
   ],
   "source": [
    "layout_settings = {'plot_bgcolor':'rgba(245, 245, 245, 1)',\n",
    "                   'paper_bgcolor': 'rgba(255, 255, 255, 1)',\n",
    "                   'hovermode': 'y'\n",
    "                  }\n",
    "\n",
    "plot_settings = {'color': 'darkgreen',\n",
    "                 'max_words': 200}\n",
    "tsp.show_word_clouds('VB', layout_settings=layout_settings, plot_settings=plot_settings)\n",
    "# tsp.show_word_clouds('NN')\n",
    "# tsp.show_word_clouds('JJ')"
   ]
  },
  {
   "cell_type": "markdown",
   "id": "679fb9b5",
   "metadata": {},
   "source": [
    "### Labels"
   ]
  },
  {
   "cell_type": "code",
   "execution_count": 27,
   "id": "85d311f3",
   "metadata": {},
   "outputs": [
    {
     "data": {
      "text/html": [
       "<iframe\n",
       "    scrolling=\"no\"\n",
       "    width=\"100%\"\n",
       "    height=\"545px\"\n",
       "    src=\"iframe_figures/figure_27.html\"\n",
       "    frameborder=\"0\"\n",
       "    allowfullscreen\n",
       "></iframe>\n"
      ]
     },
     "metadata": {},
     "output_type": "display_data"
    }
   ],
   "source": [
    "lsp = LabelStatsPlots(df=imdb_df, label_columns=[('sentiment', 'categorical')])\n",
    "lsp.show_label_plots()"
   ]
  },
  {
   "cell_type": "code",
   "execution_count": 28,
   "id": "31b77e8c",
   "metadata": {},
   "outputs": [
    {
     "data": {
      "text/html": [
       "<iframe\n",
       "    scrolling=\"no\"\n",
       "    width=\"100%\"\n",
       "    height=\"545px\"\n",
       "    src=\"iframe_figures/figure_28.html\"\n",
       "    frameborder=\"0\"\n",
       "    allowfullscreen\n",
       "></iframe>\n"
      ]
     },
     "metadata": {},
     "output_type": "display_data"
    }
   ],
   "source": [
    "imdb_df['numerical_label'] = np.random.randint(1, 500, imdb_df.shape[0])\n",
    "imdb_df['label2'] = random.choices(['a', 'b', 'c', 'd'], [0.2, 0.5, 0.8, 0.9], k=imdb_df.shape[0])\n",
    "imdb_df['numerical_label2'] = np.random.randint(1, 500, imdb_df.shape[0])\n",
    "lsp = LabelStatsPlots(df=imdb_df, label_columns=[('sentiment', 'categorical'),\n",
    "                                                    ('label2', 'categorical'),\n",
    "                                                    ('numerical_label', 'numerical'),\n",
    "                                                    ('numerical_label2', 'numerical')\n",
    "                                                   ]\n",
    "                     )\n",
    "lsp.show_label_plots()"
   ]
  },
  {
   "cell_type": "code",
   "execution_count": 29,
   "id": "30bc2758-cb40-40fd-9c57-07abadc8c9df",
   "metadata": {},
   "outputs": [
    {
     "data": {
      "text/html": [
       "<iframe\n",
       "    scrolling=\"no\"\n",
       "    width=\"100%\"\n",
       "    height=\"545px\"\n",
       "    src=\"iframe_figures/figure_29.html\"\n",
       "    frameborder=\"0\"\n",
       "    allowfullscreen\n",
       "></iframe>\n"
      ]
     },
     "metadata": {},
     "output_type": "display_data"
    }
   ],
   "source": [
    "layout_settings = {'plot_bgcolor':'rgba(245, 245, 245, 1)',\n",
    "                   'paper_bgcolor': 'rgba(255, 255, 255, 1)',\n",
    "                   'hovermode': 'y',\n",
    "                   'coloraxis': {'colorscale': 'peach'},\n",
    "                   'coloraxis_showscale':True\n",
    "                  }\n",
    "# See here for a list of named color scales:\n",
    "# https://plotly.com/python/builtin-colorscales/\n",
    "lsp.show_label_plots(layout_settings=layout_settings)"
   ]
  },
  {
   "cell_type": "markdown",
   "id": "46f38316",
   "metadata": {},
   "source": [
    "## Extraction & Analysis of MWEs"
   ]
  },
  {
   "cell_type": "code",
   "execution_count": 2,
   "id": "b4cbfa32",
   "metadata": {},
   "outputs": [],
   "source": [
    "from wordview.mwes import MWE\n",
    "from wordview.preprocessing import NgramExtractor"
   ]
  },
  {
   "cell_type": "code",
   "execution_count": 3,
   "id": "d5324fbf",
   "metadata": {},
   "outputs": [
    {
     "ename": "NameError",
     "evalue": "name 'imdb_df' is not defined",
     "output_type": "error",
     "traceback": [
      "\u001b[0;31m---------------------------------------------------------------------------\u001b[0m",
      "\u001b[0;31mNameError\u001b[0m                                 Traceback (most recent call last)",
      "Cell \u001b[0;32mIn[3], line 2\u001b[0m\n\u001b[1;32m      1\u001b[0m \u001b[38;5;66;03m# If Ngram extraction was not carried out before, we need to run it here as its results are required by MWE\u001b[39;00m\n\u001b[0;32m----> 2\u001b[0m extractor \u001b[38;5;241m=\u001b[39m NgramExtractor(\u001b[43mimdb_df\u001b[49m, \u001b[38;5;124m\"\u001b[39m\u001b[38;5;124mreview\u001b[39m\u001b[38;5;124m\"\u001b[39m)\n\u001b[1;32m      3\u001b[0m extractor\u001b[38;5;241m.\u001b[39mextract_ngrams()\n\u001b[1;32m      4\u001b[0m ngram_counts \u001b[38;5;241m=\u001b[39m extractor\u001b[38;5;241m.\u001b[39mget_ngram_counts()\n",
      "\u001b[0;31mNameError\u001b[0m: name 'imdb_df' is not defined"
     ]
    }
   ],
   "source": [
    "# If Ngram extraction was not carried out before, we need to run it here as its results are required by MWE\n",
    "extractor = NgramExtractor(imdb_df, \"review\")\n",
    "extractor.extract_ngrams()\n",
    "ngram_counts = extractor.get_ngram_counts()"
   ]
  },
  {
   "cell_type": "code",
   "execution_count": 32,
   "id": "b784fb69",
   "metadata": {},
   "outputs": [],
   "source": [
    "mwe_obj = MWE(imdb_df, 'review',\n",
    "              ngram_count_source=ngram_counts,\n",
    "              language='EN', \n",
    "              custom_patterns=\"NP: {<DT>?<JJ>*<NN>}\",\n",
    "              only_custom_patterns=False,\n",
    "              )\n",
    "# You can also pass ngram_count_file_path='data/ngram_counts.json' instead.\n",
    "# If no custom_pattern is passed, LVC, 2-3 word NC, ADJ-NC, and VPCs are returnd (up to 4 grams)"
   ]
  },
  {
   "cell_type": "code",
   "execution_count": 33,
   "id": "6906a84a",
   "metadata": {},
   "outputs": [
    {
     "name": "stderr",
     "output_type": "stream",
     "text": [
      "0it [00:00, ?it/s]mwe             - 213 - WARNING - Could not word tokenize sentence: . ..                            \n",
      "list index out of range.                            \n",
      "Skipping this sentence.\n",
      "4674it [00:03, 1322.83it/s]dataframe_reader - 40 - WARNING - Could not sentence tokenize text: . . . or type on a computer keyboard, they'd probably give this eponymous film a rating of \"10.\" After all, no elephants are shown being killed during the movie; it is not even implied that any are hurt. To the contrary, the master of ELEPHANT WALK, John Wiley (Peter Finch), complains that he cannot shoot any of the pachyderms--no matter how menacing--without a permit from the government (and his tone suggests such permits are not within the realm of probability). Furthermore, the elements conspire--in the form of an unusual drought and a human cholera epidemic--to leave the Wiley plantation house vulnerable to total destruction by the Elephant People (as the natives dub them) to close the story. If you happen to see the current release EARTH, you'll detect the Elephant People are faring less well today.\n",
      "dataframe_reader - 41 - WARNING - list index out of range\n",
      "24585it [00:17, 1476.49it/s]mwe             - 213 - WARNING - Could not word tokenize sentence: . ..                            \n",
      "list index out of range.                            \n",
      "Skipping this sentence.\n",
      "52984it [00:38, 1380.98it/s]"
     ]
    },
    {
     "name": "stdout",
     "output_type": "stream",
     "text": [
      "╔════════════════════════╦═══════════════╗\n",
      "║ LVC                    ║   Association ║\n",
      "╠════════════════════════╬═══════════════╣\n",
      "║ predate both Click     ║         34.9  ║\n",
      "║ favorize any sex.      ║         32.66 ║\n",
      "║ fight tooth decay      ║         32.17 ║\n",
      "║ sue these a-holes      ║         31.24 ║\n",
      "║ spur some enterprising ║         31.12 ║\n",
      "║ undergo any catharsis  ║         30.66 ║\n",
      "║ outsmart this egghead  ║         30.64 ║\n",
      "║ apply any sterner      ║         30.33 ║\n",
      "║ grace another set.I    ║         29.63 ║\n",
      "║ announce another PPV   ║         29.59 ║\n",
      "╚════════════════════════╩═══════════════╝\n",
      "\n",
      "╔════════════════════════╦═══════════════╗\n",
      "║ NC2                    ║   Association ║\n",
      "╠════════════════════════╬═══════════════╣\n",
      "║ fantasyland intermixed ║         22.08 ║\n",
      "║ ducat ducats           ║         22.08 ║\n",
      "║ liver pate             ║         22.08 ║\n",
      "║ chenshaw melon         ║         22.08 ║\n",
      "║ raisin loaf            ║         22.08 ║\n",
      "║ enemiesthe Ancients                        ║         22.08 ║\n",
      "║ Audience pleasers      ║         22.08 ║\n",
      "║ pollution additives    ║         22.08 ║\n",
      "║ basalt cliffs          ║         22.08 ║\n",
      "║ rien d'autre           ║         22.08 ║\n",
      "╚════════════════════════╩═══════════════╝\n",
      "\n",
      "╔══════════════════════════════╦═══════════════╗\n",
      "║ ANC2                         ║   Association ║\n",
      "╠══════════════════════════════╬═══════════════╣\n",
      "║ video-clip bummy             ║         22.08 ║\n",
      "║ denim hot-pants              ║         22.08 ║\n",
      "║ love-lorn chevaliers         ║         22.08 ║\n",
      "║ mind-manipulating man-beasts ║         22.08 ║\n",
      "║ involuntary defecation       ║         22.08 ║\n",
      "║ creator67 pipinternet.net    ║         22.08 ║\n",
      "║ hippie-hating androids       ║         22.08 ║\n",
      "║ mayoral candidacy            ║         22.08 ║\n",
      "║ not-stereotypical benny      ║         22.08 ║\n",
      "║ swivel cabinet               ║         22.08 ║\n",
      "╚══════════════════════════════╩═══════════════╝\n",
      "\n",
      "╔════════════════╦═══════════════╗\n",
      "║ VPC            ║   Association ║\n",
      "╠════════════════╬═══════════════╣\n",
      "║ GET OUT        ║         16.76 ║\n",
      "║ revolve around ║         12.76 ║\n",
      "║ bogs down      ║         12.71 ║\n",
      "║ bog down       ║         12.71 ║\n",
      "║ 'shut down     ║         12.71 ║\n",
      "║ curry down     ║         12.71 ║\n",
      "║ Make Out       ║         12.59 ║\n",
      "║ Look Up        ║         12.17 ║\n",
      "║ slobber over   ║         12.08 ║\n",
      "║ 'turn off      ║         12.03 ║\n",
      "╚════════════════╩═══════════════╝\n",
      "\n",
      "╔═════════════════════╦═══════════════╗\n",
      "║ NP                  ║   Association ║\n",
      "╠═════════════════════╬═══════════════╣\n",
      "║ goldtooth chesthair ║         22.08 ║\n",
      "║ NO YELLING          ║         16.5  ║\n",
      "║ wall crawler        ║         16.47 ║\n",
      "║ Tall blond          ║         15.76 ║\n",
      "║ Every brushstroke   ║         15.64 ║\n",
      "║ An induction        ║         14.74 ║\n",
      "║ An ambassador       ║         14.74 ║\n",
      "║ An anti-Fascist     ║         14.74 ║\n",
      "║ An allegation       ║         14.74 ║\n",
      "║ An advicecall                     ║         14.74 ║\n",
      "╚═════════════════════╩═══════════════╝\n"
     ]
    },
    {
     "name": "stderr",
     "output_type": "stream",
     "text": [
      "\n"
     ]
    }
   ],
   "source": [
    "mwes = mwe_obj.extract_mwes(sort=True, top_n=10)\n",
    "#  If you want, you can store the MWE file in a json or any other format\n",
    "# json.dump(mwes, open('data/mwes.json', 'w'), indent=4)\n",
    "mwe_obj.print_mwe_table()"
   ]
  },
  {
   "cell_type": "markdown",
   "id": "9e02c5b0",
   "metadata": {},
   "source": [
    "## Bias Analysis"
   ]
  },
  {
   "cell_type": "markdown",
   "id": "92853b3f",
   "metadata": {},
   "source": [
    "**Important Note**: Please note that the following examples with biases are constructed using an LLM to illustrate the functionality of the bias detection module. They reflect negative stereotypes or biases and are not to be endorsed or perpetuated. "
   ]
  },
  {
   "cell_type": "code",
   "execution_count": 29,
   "id": "30d72e14",
   "metadata": {},
   "outputs": [],
   "source": [
    "biased_df = pd.DataFrame(\n",
    "    {\n",
    "        \"text\": [\n",
    "            # Gender\n",
    "            \"He is always so successful because men are naturally gifted.\",\n",
    "            \"She is too emotional to lead; women cannot handle pressure.\",\n",
    "            # Racial\n",
    "            \"Asians are brilliant at mathematics.\",\n",
    "            \"Black people are not fit for this kind of job.\",\n",
    "            \"Indian food is too spicy, and their traditions are too complex to understand.\",\n",
    "            \"Latinos are one of the many ethnic groups in the region.\",  # neutral\n",
    "            \"White people can be found living in many regions around the world.\"\n",
    "            # Religious\n",
    "            \"Christians are the only ones who know the true path to salvation.\",\n",
    "            \"Muslims cannot be trusted in our community.\",\n",
    "            \"Atheists often have a logical and evidence-based approach to understanding the world.\",\n",
    "        ]\n",
    "    }\n",
    ")"
   ]
  },
  {
   "cell_type": "code",
   "execution_count": 30,
   "id": "6676993e",
   "metadata": {},
   "outputs": [
    {
     "name": "stderr",
     "output_type": "stream",
     "text": [
      "SentenceTransformer - 66 - INFO - Load pretrained SentenceTransformer: distiluse-base-multilingual-cased-v2\n",
      "SentenceTransformer - 105 - INFO - Use pytorch device: cpu\n",
      "9it [00:00, 99.87it/s]\n",
      "9it [00:00, 107.93it/s]\n",
      "9it [00:00, 12783.18it/s]\n",
      "9it [00:00, 12927.65it/s]\n",
      "9it [00:00, 115.63it/s]\n",
      "9it [00:00, 221.36it/s]\n",
      "9it [00:00, 227.06it/s]\n",
      "9it [00:00, 217.92it/s]\n",
      "9it [00:00, 200.17it/s]\n",
      "9it [00:00, 13467.26it/s]\n",
      "9it [00:00, 12663.11it/s]\n",
      "9it [00:00, 226.63it/s]\n",
      "9it [00:00, 11278.38it/s]\n",
      "9it [00:00, 13212.72it/s]\n",
      "9it [00:00, 15147.97it/s]\n",
      "9it [00:00, 211.88it/s]\n"
     ]
    },
    {
     "data": {
      "text/plain": [
       "{'gender': {'male': 4.0,\n",
       "  'female': 1.0,\n",
       "  'transgender': '-inf',\n",
       "  'nonbinary': '-inf'},\n",
       " 'racial': {'white': 3.0,\n",
       "  'black': 0.0,\n",
       "  'asian': 4.0,\n",
       "  'latino': 2.0,\n",
       "  'indian': 1.0,\n",
       "  'middle_eastern': '-inf'},\n",
       " 'religion': {'christian': '-inf',\n",
       "  'muslim': 0.0,\n",
       "  'jew': '-inf',\n",
       "  'hindu': '-inf',\n",
       "  'buddhist': '-inf',\n",
       "  'atheist': 2.0}}"
      ]
     },
     "execution_count": 30,
     "metadata": {},
     "output_type": "execute_result"
    }
   ],
   "source": [
    "from wordview.bias_analysis  import BiasDetector\n",
    "bias_detector = BiasDetector(biased_df, \"text\")\n",
    "bias_detector.detect_bias()"
   ]
  },
  {
   "cell_type": "code",
   "execution_count": 32,
   "id": "1baab8cc",
   "metadata": {},
   "outputs": [
    {
     "data": {
      "text/html": [
       "<iframe\n",
       "    scrolling=\"no\"\n",
       "    width=\"1020px\"\n",
       "    height=\"770\"\n",
       "    src=\"iframe_figures/figure_32.html\"\n",
       "    frameborder=\"0\"\n",
       "    allowfullscreen\n",
       "></iframe>\n"
      ]
     },
     "metadata": {},
     "output_type": "display_data"
    }
   ],
   "source": [
    "cyan_scopecolorscale = [\n",
    "    [0.0, \"#E0FFFF\"],  # Lightest Cyan\n",
    "    [0.25, \"#B3E4E4\"],  # Lighter Cyan\n",
    "    [0.5, \"#66C2C2\"],   # Neutral Cyan\n",
    "    [0.75, \"#339999\"],  # Darker Cyan\n",
    "    [1.0, \"#006666\"],   # Darkest Cyan\n",
    "]\n",
    "\n",
    "built_in_CS = \"algae\"\n",
    "\n",
    "# Example of available colorscales are:\n",
    "# 'aggrnyl', 'agsunset', 'algae', 'amp', 'armyrose', 'balance',\n",
    "# 'blackbody', 'bluered', 'blues', 'blugrn', 'bluyl', 'brbg',\n",
    "# 'brwnyl', 'bugn', 'bupu', 'burg', 'burgyl', 'cividis', 'curl',\n",
    "\n",
    "# You can reverse a colorscale by appending an _r to it, e.g. \n",
    "\n",
    "built_in_CS = \"algae_r\"\n",
    "\n",
    "# See here for a full list:\n",
    "# https://plotly.com/python/builtin-colorscales/\n",
    "\n",
    "bias_detector.show_bias_plot(colorscale=cyan_scopecolorscale)"
   ]
  },
  {
   "cell_type": "code",
   "execution_count": 19,
   "id": "150ee016",
   "metadata": {},
   "outputs": [
    {
     "name": "stdout",
     "output_type": "stream",
     "text": [
      "╔═════════════╦═══════════════╗\n",
      "║ Gender      ║ Bias          ║\n",
      "╠═════════════╬═══════════════╣\n",
      "║ Male        ║ Very Positive ║\n",
      "║ Female      ║ Negative      ║\n",
      "║ Transgender ║ Unknown       ║\n",
      "║ Nonbinary   ║ Unknown       ║\n",
      "╚═════════════╩═══════════════╝\n",
      "\n",
      "╔════════════════╦═══════════════╗\n",
      "║ Racial         ║ Bias          ║\n",
      "╠════════════════╬═══════════════╣\n",
      "║ White          ║ Very Positive ║\n",
      "║ Black          ║ Very Negative ║\n",
      "║ Asian          ║ Very Positive ║\n",
      "║ Latino         ║ Neutral       ║\n",
      "║ Indian         ║ Negative      ║\n",
      "║ Middle_eastern ║ Unknown       ║\n",
      "╚════════════════╩═══════════════╝\n",
      "\n",
      "╔════════════╦═══════════════╗\n",
      "║ Religion   ║ Bias          ║\n",
      "╠════════════╬═══════════════╣\n",
      "║ Christian  ║ Unknown       ║\n",
      "║ Muslim     ║ Very Negative ║\n",
      "║ Jew        ║ Unknown       ║\n",
      "║ Hindu      ║ Unknown       ║\n",
      "║ Buddhist   ║ Unknown       ║\n",
      "║ Atheist    ║ Neutral       ║\n",
      "╚════════════╩═══════════════╝\n"
     ]
    }
   ],
   "source": [
    "bias_detector.print_bias_table()"
   ]
  }
 ],
 "metadata": {
  "kernelspec": {
   "display_name": "Python 3 (ipykernel)",
   "language": "python",
   "name": "python3"
  },
  "language_info": {
   "codemirror_mode": {
    "name": "ipython",
    "version": 3
   },
   "file_extension": ".py",
   "mimetype": "text/x-python",
   "name": "python",
   "nbconvert_exporter": "python",
   "pygments_lexer": "ipython3",
   "version": "3.9.17"
  }
 },
 "nbformat": 4,
 "nbformat_minor": 5
}
