{
 "cells": [
  {
   "cell_type": "code",
   "execution_count": 1,
   "id": "b1ec5af2",
   "metadata": {},
   "outputs": [],
   "source": [
    "from wordview.text_analysis import TextStatsPlots, LabelStatsPlots\n",
    "from wordview.anomaly import NormalDistAnomalies\n",
    "import pandas as pd\n",
    "import json\n",
    "from tabulate import tabulate\n",
    "from sklearn.feature_extraction.text import TfidfVectorizer\n",
    "import plotly.figure_factory as ff"
   ]
  },
  {
   "cell_type": "code",
   "execution_count": 2,
   "id": "a1ea4b12",
   "metadata": {},
   "outputs": [],
   "source": [
    "imdb_train = pd.read_csv('../data/imdb_train_sample.tsv', sep='\\t', names=['label', 'text'])\n",
    "imdb_train = imdb_train.sample(100)"
   ]
  },
  {
   "cell_type": "code",
   "execution_count": 3,
   "id": "04a7a0a2",
   "metadata": {},
   "outputs": [
    {
     "name": "stderr",
     "output_type": "stream",
     "text": [
      "core            - 260 - INFO - Processing text in text column of the input DataFrame...\n",
      "100%|██████████████████████████████████████████████████████████████████████████████████████████████████████████| 100/100 [00:02<00:00, 46.16it/s]\n",
      "core            - 301 - INFO - Calculating Empirical and Theoretical Zipf values...\n",
      "core            - 306 - INFO - Time to measure predicted proportion for 4187 rows: 0.004212856292724609\n"
     ]
    }
   ],
   "source": [
    "tsp = TextStatsPlots(df=imdb_train, text_column='text')"
   ]
  },
  {
   "cell_type": "code",
   "execution_count": null,
   "id": "1caa0d0f",
   "metadata": {},
   "outputs": [
    {
     "name": "stdout",
     "output_type": "stream",
     "text": [
      "wc_settings\n",
      "{'color': 'deepskyblue', 'max_words': 100}\n",
      "wc_settings\n",
      "{'color': 'red', 'max_words': 10}\n",
      "wc_settings\n",
      "{'color': 'red', 'max_words': 10}\n"
     ]
    }
   ],
   "source": [
    "tsp.show_word_clouds('NN', \n",
    "                    go_plot_settings={'plot_bgcolor': 'rgba(174, 254, 254, 0.8)'},\n",
    "                    wc_settings={'color':'red', 'max_words':10})"
   ]
  },
  {
   "cell_type": "code",
   "execution_count": 8,
   "id": "a217c266",
   "metadata": {},
   "outputs": [
    {
     "data": {
      "application/vnd.plotly.v1+json": {
       "config": {
        "plotlyServerURL": "https://plot.ly"
       },
       "data": [
        {
         "hoverinfo": "text",
         "hovertext": [
          "br: 384",
          "movie: 213",
          "film: 139",
          "story: 61",
          "time: 51",
          "way: 41",
          "people: 39",
          "plot: 37",
          "man: 33",
          "character: 32",
          "films: 31",
          "characters: 28",
          "thing: 27",
          "life: 26",
          "movies: 24",
          "something: 24",
          "end: 23",
          "scenes: 19",
          "watch: 19",
          "kind: 18",
          "director: 18",
          "years: 18",
          "actors: 18",
          "lot: 18",
          "family: 18",
          "horror: 17",
          "show: 17",
          "kids: 17",
          "world: 17",
          "minutes: 16",
          "production: 15",
          "job: 15",
          "everything: 15",
          "scene: 15",
          "woman: 15",
          "money: 14",
          "reason: 14",
          "idea: 14",
          "wife: 14",
          "things: 14",
          "see: 14",
          "nothing: 13",
          "course: 13",
          "flick: 13",
          "everyone: 13",
          "anything: 13",
          "action: 12",
          "music: 11",
          "game: 11",
          "place: 11",
          "cinema: 11",
          "cast: 11",
          "anyone: 11",
          "tv: 11",
          "title: 11",
          "audience: 11",
          "budget: 11",
          "work: 11",
          "mind: 10",
          "times: 10",
          "night: 10",
          "couple: 10",
          "performances: 10",
          "killer: 10",
          "space: 10",
          "get: 10",
          "role: 10",
          "bit: 10",
          "case: 10",
          "fact: 10",
          "year: 10",
          "age: 10",
          "water: 10",
          "child: 10",
          "sense: 9",
          "script: 9",
          "john: 9",
          "someone: 9",
          "friends: 9",
          "house: 9",
          "point: 9",
          "performance: 9",
          "murder: 9",
          "look: 9",
          "sex: 9",
          "sequence: 9",
          "kid: 8",
          "death: 8",
          "example: 8",
          "hell: 8",
          "adult: 8",
          "love: 8",
          "madsen: 8",
          "half: 8",
          "actor: 8",
          "children: 8",
          "hollywood: 8",
          "effects: 8",
          "guy: 8",
          "attention: 8"
         ],
         "mode": "text",
         "text": [
          "br",
          "movie",
          "film",
          "story",
          "time",
          "way",
          "people",
          "plot",
          "man",
          "character",
          "films",
          "characters",
          "thing",
          "life",
          "movies",
          "something",
          "end",
          "scenes",
          "watch",
          "kind",
          "director",
          "years",
          "actors",
          "lot",
          "family",
          "horror",
          "show",
          "kids",
          "world",
          "minutes",
          "production",
          "job",
          "everything",
          "scene",
          "woman",
          "money",
          "reason",
          "idea",
          "wife",
          "things",
          "see",
          "nothing",
          "course",
          "flick",
          "everyone",
          "anything",
          "action",
          "music",
          "game",
          "place",
          "cinema",
          "cast",
          "anyone",
          "tv",
          "title",
          "audience",
          "budget",
          "work",
          "mind",
          "times",
          "night",
          "couple",
          "performances",
          "killer",
          "space",
          "get",
          "role",
          "bit",
          "case",
          "fact",
          "year",
          "age",
          "water",
          "child",
          "sense",
          "script",
          "john",
          "someone",
          "friends",
          "house",
          "point",
          "performance",
          "murder",
          "look",
          "sex",
          "sequence",
          "kid",
          "death",
          "example",
          "hell",
          "adult",
          "love",
          "madsen",
          "half",
          "actor",
          "children",
          "hollywood",
          "effects",
          "guy",
          "attention"
         ],
         "textfont": {
          "color": [
           "rgb(0, 130, 173)",
           "rgb(0, 107, 143)",
           "rgb(0, 96, 128)",
           "rgb(0, 80, 107)",
           "rgb(0, 149, 199)",
           "rgb(0, 134, 180)",
           "rgb(0, 85, 114)",
           "rgb(0, 41, 55)",
           "rgb(0, 162, 217)",
           "rgb(0, 101, 135)",
           "rgb(0, 42, 56)",
           "rgb(0, 45, 60)",
           "rgb(0, 61, 82)",
           "rgb(0, 85, 114)",
           "rgb(0, 175, 234)",
           "rgb(0, 45, 59)",
           "rgb(0, 85, 113)",
           "rgb(0, 181, 242)",
           "rgb(0, 71, 94)",
           "rgb(0, 104, 139)",
           "rgb(0, 100, 134)",
           "rgb(0, 84, 112)",
           "rgb(0, 124, 166)",
           "rgb(0, 179, 240)",
           "rgb(0, 77, 102)",
           "rgb(0, 65, 87)",
           "rgb(0, 79, 105)",
           "rgb(0, 93, 124)",
           "rgb(0, 178, 237)",
           "rgb(0, 56, 75)",
           "rgb(0, 73, 97)",
           "rgb(0, 38, 51)",
           "rgb(0, 69, 93)",
           "rgb(0, 95, 127)",
           "rgb(0, 145, 193)",
           "rgb(0, 86, 115)",
           "rgb(0, 190, 253)",
           "rgb(0, 116, 154)",
           "rgb(0, 157, 209)",
           "rgb(0, 117, 156)",
           "rgb(0, 174, 233)",
           "rgb(0, 58, 77)",
           "rgb(0, 134, 178)",
           "rgb(0, 100, 133)",
           "rgb(0, 48, 64)",
           "rgb(0, 89, 118)",
           "rgb(0, 46, 61)",
           "rgb(0, 158, 211)",
           "rgb(0, 182, 243)",
           "rgb(0, 48, 64)",
           "rgb(0, 123, 164)",
           "rgb(0, 47, 63)",
           "rgb(0, 158, 210)",
           "rgb(0, 147, 197)",
           "rgb(0, 89, 118)",
           "rgb(0, 65, 87)",
           "rgb(0, 158, 211)",
           "rgb(0, 64, 85)",
           "rgb(0, 172, 230)",
           "rgb(0, 97, 130)",
           "rgb(0, 160, 213)",
           "rgb(0, 109, 146)",
           "rgb(0, 180, 240)",
           "rgb(0, 49, 65)",
           "rgb(0, 54, 73)",
           "rgb(0, 163, 218)",
           "rgb(0, 63, 84)",
           "rgb(0, 118, 158)",
           "rgb(0, 109, 145)",
           "rgb(0, 175, 234)",
           "rgb(0, 168, 225)",
           "rgb(0, 155, 207)",
           "rgb(0, 80, 106)",
           "rgb(0, 172, 229)",
           "rgb(0, 57, 76)",
           "rgb(0, 141, 188)",
           "rgb(0, 59, 79)",
           "rgb(0, 146, 194)",
           "rgb(0, 43, 57)",
           "rgb(0, 53, 71)",
           "rgb(0, 135, 180)",
           "rgb(0, 143, 191)",
           "rgb(0, 60, 80)",
           "rgb(0, 147, 197)",
           "rgb(0, 77, 103)",
           "rgb(0, 66, 88)",
           "rgb(0, 147, 196)",
           "rgb(0, 103, 138)",
           "rgb(0, 89, 118)",
           "rgb(0, 62, 82)",
           "rgb(0, 98, 131)",
           "rgb(0, 168, 225)",
           "rgb(0, 84, 112)",
           "rgb(0, 110, 147)",
           "rgb(0, 74, 99)",
           "rgb(0, 74, 98)",
           "rgb(0, 157, 210)",
           "rgb(0, 180, 240)",
           "rgb(0, 65, 86)",
           "rgb(0, 43, 57)"
          ],
          "size": [
           100,
           55.4688,
           36.1979,
           15.8854,
           13.2812,
           10.6771,
           10.1562,
           9.6354,
           8.5938,
           8.3333,
           8.0729,
           7.2917,
           7.0312,
           6.7708,
           6.25,
           6.25,
           5.9896,
           4.9479,
           4.9479,
           4.6875,
           4.6875,
           4.6875,
           4.6875,
           4.6875,
           4.6875,
           4.4271,
           4.4271,
           4.4271,
           4.4271,
           4.1667,
           3.9062,
           3.9062,
           3.9062,
           3.9062,
           3.9062,
           3.6458,
           3.6458,
           3.6458,
           3.6458,
           3.6458,
           3.6458,
           3.3854,
           3.3854,
           3.3854,
           3.3854,
           3.3854,
           3.125,
           2.8646,
           2.8646,
           2.8646,
           2.8646,
           2.8646,
           2.8646,
           2.8646,
           2.8646,
           2.8646,
           2.8646,
           2.8646,
           2.6042,
           2.6042,
           2.6042,
           2.6042,
           2.6042,
           2.6042,
           2.6042,
           2.6042,
           2.6042,
           2.6042,
           2.6042,
           2.6042,
           2.6042,
           2.6042,
           2.6042,
           2.6042,
           2.3438,
           2.3438,
           2.3438,
           2.3438,
           2.3438,
           2.3438,
           2.3438,
           2.3438,
           2.3438,
           2.3438,
           2.3438,
           2.3438,
           2.0833,
           2.0833,
           2.0833,
           2.0833,
           2.0833,
           2.0833,
           2.0833,
           2.0833,
           2.0833,
           2.0833,
           2.0833,
           2.0833,
           2.0833,
           2.0833
          ]
         },
         "type": "scattergl",
         "x": [
          2,
          117,
          67,
          109,
          40,
          157,
          28,
          146,
          17,
          171,
          1,
          110,
          78,
          178,
          180,
          83,
          69,
          3,
          114,
          57,
          3,
          44,
          1,
          17,
          109,
          71,
          27,
          92,
          32,
          101,
          171,
          140,
          2,
          104,
          67,
          101,
          26,
          99,
          25,
          52,
          138,
          15,
          58,
          184,
          138,
          19,
          73,
          111,
          72,
          48,
          147,
          86,
          137,
          2,
          67,
          129,
          60,
          33,
          176,
          33,
          74,
          126,
          170,
          108,
          135,
          24,
          170,
          23,
          150,
          193,
          18,
          41,
          187,
          155,
          193,
          192,
          66,
          20,
          153,
          181,
          37,
          169,
          193,
          193,
          123,
          41,
          75,
          135,
          24,
          170,
          109,
          191,
          144,
          33,
          52,
          124,
          95,
          107,
          170,
          97
         ],
         "y": [
          8,
          181,
          125,
          10,
          292,
          81,
          163,
          5,
          280,
          173,
          138,
          164,
          266,
          336,
          30,
          6,
          344,
          307,
          146,
          245,
          33,
          99,
          232,
          338,
          330,
          2,
          116,
          349,
          339,
          47,
          11,
          79,
          1,
          292,
          94,
          3,
          164,
          260,
          203,
          181,
          13,
          231,
          114,
          118,
          163,
          56,
          77,
          4,
          306,
          386,
          100,
          144,
          35,
          384,
          180,
          386,
          216,
          85,
          82,
          290,
          189,
          335,
          342,
          144,
          97,
          259,
          317,
          150,
          237,
          173,
          126,
          83,
          10,
          362,
          300,
          132,
          225,
          373,
          296,
          4,
          277,
          196,
          251,
          324,
          135,
          92,
          291,
          129,
          377,
          248,
          264,
          151,
          5,
          324,
          229,
          351,
          144,
          114,
          138,
          288
         ]
        }
       ],
       "layout": {
        "plot_bgcolor": "rgba(0, 0, 0, 0)",
        "showlegend": false,
        "template": {
         "data": {
          "bar": [
           {
            "error_x": {
             "color": "#2a3f5f"
            },
            "error_y": {
             "color": "#2a3f5f"
            },
            "marker": {
             "line": {
              "color": "#E5ECF6",
              "width": 0.5
             },
             "pattern": {
              "fillmode": "overlay",
              "size": 10,
              "solidity": 0.2
             }
            },
            "type": "bar"
           }
          ],
          "barpolar": [
           {
            "marker": {
             "line": {
              "color": "#E5ECF6",
              "width": 0.5
             },
             "pattern": {
              "fillmode": "overlay",
              "size": 10,
              "solidity": 0.2
             }
            },
            "type": "barpolar"
           }
          ],
          "carpet": [
           {
            "aaxis": {
             "endlinecolor": "#2a3f5f",
             "gridcolor": "white",
             "linecolor": "white",
             "minorgridcolor": "white",
             "startlinecolor": "#2a3f5f"
            },
            "baxis": {
             "endlinecolor": "#2a3f5f",
             "gridcolor": "white",
             "linecolor": "white",
             "minorgridcolor": "white",
             "startlinecolor": "#2a3f5f"
            },
            "type": "carpet"
           }
          ],
          "choropleth": [
           {
            "colorbar": {
             "outlinewidth": 0,
             "ticks": ""
            },
            "type": "choropleth"
           }
          ],
          "contour": [
           {
            "colorbar": {
             "outlinewidth": 0,
             "ticks": ""
            },
            "colorscale": [
             [
              0,
              "#0d0887"
             ],
             [
              0.1111111111111111,
              "#46039f"
             ],
             [
              0.2222222222222222,
              "#7201a8"
             ],
             [
              0.3333333333333333,
              "#9c179e"
             ],
             [
              0.4444444444444444,
              "#bd3786"
             ],
             [
              0.5555555555555556,
              "#d8576b"
             ],
             [
              0.6666666666666666,
              "#ed7953"
             ],
             [
              0.7777777777777778,
              "#fb9f3a"
             ],
             [
              0.8888888888888888,
              "#fdca26"
             ],
             [
              1,
              "#f0f921"
             ]
            ],
            "type": "contour"
           }
          ],
          "contourcarpet": [
           {
            "colorbar": {
             "outlinewidth": 0,
             "ticks": ""
            },
            "type": "contourcarpet"
           }
          ],
          "heatmap": [
           {
            "colorbar": {
             "outlinewidth": 0,
             "ticks": ""
            },
            "colorscale": [
             [
              0,
              "#0d0887"
             ],
             [
              0.1111111111111111,
              "#46039f"
             ],
             [
              0.2222222222222222,
              "#7201a8"
             ],
             [
              0.3333333333333333,
              "#9c179e"
             ],
             [
              0.4444444444444444,
              "#bd3786"
             ],
             [
              0.5555555555555556,
              "#d8576b"
             ],
             [
              0.6666666666666666,
              "#ed7953"
             ],
             [
              0.7777777777777778,
              "#fb9f3a"
             ],
             [
              0.8888888888888888,
              "#fdca26"
             ],
             [
              1,
              "#f0f921"
             ]
            ],
            "type": "heatmap"
           }
          ],
          "heatmapgl": [
           {
            "colorbar": {
             "outlinewidth": 0,
             "ticks": ""
            },
            "colorscale": [
             [
              0,
              "#0d0887"
             ],
             [
              0.1111111111111111,
              "#46039f"
             ],
             [
              0.2222222222222222,
              "#7201a8"
             ],
             [
              0.3333333333333333,
              "#9c179e"
             ],
             [
              0.4444444444444444,
              "#bd3786"
             ],
             [
              0.5555555555555556,
              "#d8576b"
             ],
             [
              0.6666666666666666,
              "#ed7953"
             ],
             [
              0.7777777777777778,
              "#fb9f3a"
             ],
             [
              0.8888888888888888,
              "#fdca26"
             ],
             [
              1,
              "#f0f921"
             ]
            ],
            "type": "heatmapgl"
           }
          ],
          "histogram": [
           {
            "marker": {
             "pattern": {
              "fillmode": "overlay",
              "size": 10,
              "solidity": 0.2
             }
            },
            "type": "histogram"
           }
          ],
          "histogram2d": [
           {
            "colorbar": {
             "outlinewidth": 0,
             "ticks": ""
            },
            "colorscale": [
             [
              0,
              "#0d0887"
             ],
             [
              0.1111111111111111,
              "#46039f"
             ],
             [
              0.2222222222222222,
              "#7201a8"
             ],
             [
              0.3333333333333333,
              "#9c179e"
             ],
             [
              0.4444444444444444,
              "#bd3786"
             ],
             [
              0.5555555555555556,
              "#d8576b"
             ],
             [
              0.6666666666666666,
              "#ed7953"
             ],
             [
              0.7777777777777778,
              "#fb9f3a"
             ],
             [
              0.8888888888888888,
              "#fdca26"
             ],
             [
              1,
              "#f0f921"
             ]
            ],
            "type": "histogram2d"
           }
          ],
          "histogram2dcontour": [
           {
            "colorbar": {
             "outlinewidth": 0,
             "ticks": ""
            },
            "colorscale": [
             [
              0,
              "#0d0887"
             ],
             [
              0.1111111111111111,
              "#46039f"
             ],
             [
              0.2222222222222222,
              "#7201a8"
             ],
             [
              0.3333333333333333,
              "#9c179e"
             ],
             [
              0.4444444444444444,
              "#bd3786"
             ],
             [
              0.5555555555555556,
              "#d8576b"
             ],
             [
              0.6666666666666666,
              "#ed7953"
             ],
             [
              0.7777777777777778,
              "#fb9f3a"
             ],
             [
              0.8888888888888888,
              "#fdca26"
             ],
             [
              1,
              "#f0f921"
             ]
            ],
            "type": "histogram2dcontour"
           }
          ],
          "mesh3d": [
           {
            "colorbar": {
             "outlinewidth": 0,
             "ticks": ""
            },
            "type": "mesh3d"
           }
          ],
          "parcoords": [
           {
            "line": {
             "colorbar": {
              "outlinewidth": 0,
              "ticks": ""
             }
            },
            "type": "parcoords"
           }
          ],
          "pie": [
           {
            "automargin": true,
            "type": "pie"
           }
          ],
          "scatter": [
           {
            "marker": {
             "colorbar": {
              "outlinewidth": 0,
              "ticks": ""
             }
            },
            "type": "scatter"
           }
          ],
          "scatter3d": [
           {
            "line": {
             "colorbar": {
              "outlinewidth": 0,
              "ticks": ""
             }
            },
            "marker": {
             "colorbar": {
              "outlinewidth": 0,
              "ticks": ""
             }
            },
            "type": "scatter3d"
           }
          ],
          "scattercarpet": [
           {
            "marker": {
             "colorbar": {
              "outlinewidth": 0,
              "ticks": ""
             }
            },
            "type": "scattercarpet"
           }
          ],
          "scattergeo": [
           {
            "marker": {
             "colorbar": {
              "outlinewidth": 0,
              "ticks": ""
             }
            },
            "type": "scattergeo"
           }
          ],
          "scattergl": [
           {
            "marker": {
             "colorbar": {
              "outlinewidth": 0,
              "ticks": ""
             }
            },
            "type": "scattergl"
           }
          ],
          "scattermapbox": [
           {
            "marker": {
             "colorbar": {
              "outlinewidth": 0,
              "ticks": ""
             }
            },
            "type": "scattermapbox"
           }
          ],
          "scatterpolar": [
           {
            "marker": {
             "colorbar": {
              "outlinewidth": 0,
              "ticks": ""
             }
            },
            "type": "scatterpolar"
           }
          ],
          "scatterpolargl": [
           {
            "marker": {
             "colorbar": {
              "outlinewidth": 0,
              "ticks": ""
             }
            },
            "type": "scatterpolargl"
           }
          ],
          "scatterternary": [
           {
            "marker": {
             "colorbar": {
              "outlinewidth": 0,
              "ticks": ""
             }
            },
            "type": "scatterternary"
           }
          ],
          "surface": [
           {
            "colorbar": {
             "outlinewidth": 0,
             "ticks": ""
            },
            "colorscale": [
             [
              0,
              "#0d0887"
             ],
             [
              0.1111111111111111,
              "#46039f"
             ],
             [
              0.2222222222222222,
              "#7201a8"
             ],
             [
              0.3333333333333333,
              "#9c179e"
             ],
             [
              0.4444444444444444,
              "#bd3786"
             ],
             [
              0.5555555555555556,
              "#d8576b"
             ],
             [
              0.6666666666666666,
              "#ed7953"
             ],
             [
              0.7777777777777778,
              "#fb9f3a"
             ],
             [
              0.8888888888888888,
              "#fdca26"
             ],
             [
              1,
              "#f0f921"
             ]
            ],
            "type": "surface"
           }
          ],
          "table": [
           {
            "cells": {
             "fill": {
              "color": "#EBF0F8"
             },
             "line": {
              "color": "white"
             }
            },
            "header": {
             "fill": {
              "color": "#C8D4E3"
             },
             "line": {
              "color": "white"
             }
            },
            "type": "table"
           }
          ]
         },
         "layout": {
          "annotationdefaults": {
           "arrowcolor": "#2a3f5f",
           "arrowhead": 0,
           "arrowwidth": 1
          },
          "autotypenumbers": "strict",
          "coloraxis": {
           "colorbar": {
            "outlinewidth": 0,
            "ticks": ""
           }
          },
          "colorscale": {
           "diverging": [
            [
             0,
             "#8e0152"
            ],
            [
             0.1,
             "#c51b7d"
            ],
            [
             0.2,
             "#de77ae"
            ],
            [
             0.3,
             "#f1b6da"
            ],
            [
             0.4,
             "#fde0ef"
            ],
            [
             0.5,
             "#f7f7f7"
            ],
            [
             0.6,
             "#e6f5d0"
            ],
            [
             0.7,
             "#b8e186"
            ],
            [
             0.8,
             "#7fbc41"
            ],
            [
             0.9,
             "#4d9221"
            ],
            [
             1,
             "#276419"
            ]
           ],
           "sequential": [
            [
             0,
             "#0d0887"
            ],
            [
             0.1111111111111111,
             "#46039f"
            ],
            [
             0.2222222222222222,
             "#7201a8"
            ],
            [
             0.3333333333333333,
             "#9c179e"
            ],
            [
             0.4444444444444444,
             "#bd3786"
            ],
            [
             0.5555555555555556,
             "#d8576b"
            ],
            [
             0.6666666666666666,
             "#ed7953"
            ],
            [
             0.7777777777777778,
             "#fb9f3a"
            ],
            [
             0.8888888888888888,
             "#fdca26"
            ],
            [
             1,
             "#f0f921"
            ]
           ],
           "sequentialminus": [
            [
             0,
             "#0d0887"
            ],
            [
             0.1111111111111111,
             "#46039f"
            ],
            [
             0.2222222222222222,
             "#7201a8"
            ],
            [
             0.3333333333333333,
             "#9c179e"
            ],
            [
             0.4444444444444444,
             "#bd3786"
            ],
            [
             0.5555555555555556,
             "#d8576b"
            ],
            [
             0.6666666666666666,
             "#ed7953"
            ],
            [
             0.7777777777777778,
             "#fb9f3a"
            ],
            [
             0.8888888888888888,
             "#fdca26"
            ],
            [
             1,
             "#f0f921"
            ]
           ]
          },
          "colorway": [
           "#636efa",
           "#EF553B",
           "#00cc96",
           "#ab63fa",
           "#FFA15A",
           "#19d3f3",
           "#FF6692",
           "#B6E880",
           "#FF97FF",
           "#FECB52"
          ],
          "font": {
           "color": "#2a3f5f"
          },
          "geo": {
           "bgcolor": "white",
           "lakecolor": "white",
           "landcolor": "#E5ECF6",
           "showlakes": true,
           "showland": true,
           "subunitcolor": "white"
          },
          "hoverlabel": {
           "align": "left"
          },
          "hovermode": "closest",
          "mapbox": {
           "style": "light"
          },
          "paper_bgcolor": "white",
          "plot_bgcolor": "#E5ECF6",
          "polar": {
           "angularaxis": {
            "gridcolor": "white",
            "linecolor": "white",
            "ticks": ""
           },
           "bgcolor": "#E5ECF6",
           "radialaxis": {
            "gridcolor": "white",
            "linecolor": "white",
            "ticks": ""
           }
          },
          "scene": {
           "xaxis": {
            "backgroundcolor": "#E5ECF6",
            "gridcolor": "white",
            "gridwidth": 2,
            "linecolor": "white",
            "showbackground": true,
            "ticks": "",
            "zerolinecolor": "white"
           },
           "yaxis": {
            "backgroundcolor": "#E5ECF6",
            "gridcolor": "white",
            "gridwidth": 2,
            "linecolor": "white",
            "showbackground": true,
            "ticks": "",
            "zerolinecolor": "white"
           },
           "zaxis": {
            "backgroundcolor": "#E5ECF6",
            "gridcolor": "white",
            "gridwidth": 2,
            "linecolor": "white",
            "showbackground": true,
            "ticks": "",
            "zerolinecolor": "white"
           }
          },
          "shapedefaults": {
           "line": {
            "color": "#2a3f5f"
           }
          },
          "ternary": {
           "aaxis": {
            "gridcolor": "white",
            "linecolor": "white",
            "ticks": ""
           },
           "baxis": {
            "gridcolor": "white",
            "linecolor": "white",
            "ticks": ""
           },
           "bgcolor": "#E5ECF6",
           "caxis": {
            "gridcolor": "white",
            "linecolor": "white",
            "ticks": ""
           }
          },
          "title": {
           "x": 0.05
          },
          "xaxis": {
           "automargin": true,
           "gridcolor": "white",
           "linecolor": "white",
           "ticks": "",
           "title": {
            "standoff": 15
           },
           "zerolinecolor": "white",
           "zerolinewidth": 2
          },
          "yaxis": {
           "automargin": true,
           "gridcolor": "white",
           "linecolor": "white",
           "ticks": "",
           "title": {
            "standoff": 15
           },
           "zerolinecolor": "white",
           "zerolinewidth": 2
          }
         }
        },
        "xaxis": {
         "showgrid": false,
         "showticklabels": false,
         "visible": false,
         "zeroline": false
        },
        "yaxis": {
         "showgrid": false,
         "showticklabels": false,
         "visible": false,
         "zeroline": false
        }
       }
      },
      "text/html": [
       "<div>                            <div id=\"6140751c-8963-41ca-9774-592fb081f654\" class=\"plotly-graph-div\" style=\"height:525px; width:100%;\"></div>            <script type=\"text/javascript\">                require([\"plotly\"], function(Plotly) {                    window.PLOTLYENV=window.PLOTLYENV || {};                                    if (document.getElementById(\"6140751c-8963-41ca-9774-592fb081f654\")) {                    Plotly.newPlot(                        \"6140751c-8963-41ca-9774-592fb081f654\",                        [{\"hoverinfo\":\"text\",\"hovertext\":[\"br: 384\",\"movie: 213\",\"film: 139\",\"story: 61\",\"time: 51\",\"way: 41\",\"people: 39\",\"plot: 37\",\"man: 33\",\"character: 32\",\"films: 31\",\"characters: 28\",\"thing: 27\",\"life: 26\",\"movies: 24\",\"something: 24\",\"end: 23\",\"scenes: 19\",\"watch: 19\",\"kind: 18\",\"director: 18\",\"years: 18\",\"actors: 18\",\"lot: 18\",\"family: 18\",\"horror: 17\",\"show: 17\",\"kids: 17\",\"world: 17\",\"minutes: 16\",\"production: 15\",\"job: 15\",\"everything: 15\",\"scene: 15\",\"woman: 15\",\"money: 14\",\"reason: 14\",\"idea: 14\",\"wife: 14\",\"things: 14\",\"see: 14\",\"nothing: 13\",\"course: 13\",\"flick: 13\",\"everyone: 13\",\"anything: 13\",\"action: 12\",\"music: 11\",\"game: 11\",\"place: 11\",\"cinema: 11\",\"cast: 11\",\"anyone: 11\",\"tv: 11\",\"title: 11\",\"audience: 11\",\"budget: 11\",\"work: 11\",\"mind: 10\",\"times: 10\",\"night: 10\",\"couple: 10\",\"performances: 10\",\"killer: 10\",\"space: 10\",\"get: 10\",\"role: 10\",\"bit: 10\",\"case: 10\",\"fact: 10\",\"year: 10\",\"age: 10\",\"water: 10\",\"child: 10\",\"sense: 9\",\"script: 9\",\"john: 9\",\"someone: 9\",\"friends: 9\",\"house: 9\",\"point: 9\",\"performance: 9\",\"murder: 9\",\"look: 9\",\"sex: 9\",\"sequence: 9\",\"kid: 8\",\"death: 8\",\"example: 8\",\"hell: 8\",\"adult: 8\",\"love: 8\",\"madsen: 8\",\"half: 8\",\"actor: 8\",\"children: 8\",\"hollywood: 8\",\"effects: 8\",\"guy: 8\",\"attention: 8\"],\"mode\":\"text\",\"text\":[\"br\",\"movie\",\"film\",\"story\",\"time\",\"way\",\"people\",\"plot\",\"man\",\"character\",\"films\",\"characters\",\"thing\",\"life\",\"movies\",\"something\",\"end\",\"scenes\",\"watch\",\"kind\",\"director\",\"years\",\"actors\",\"lot\",\"family\",\"horror\",\"show\",\"kids\",\"world\",\"minutes\",\"production\",\"job\",\"everything\",\"scene\",\"woman\",\"money\",\"reason\",\"idea\",\"wife\",\"things\",\"see\",\"nothing\",\"course\",\"flick\",\"everyone\",\"anything\",\"action\",\"music\",\"game\",\"place\",\"cinema\",\"cast\",\"anyone\",\"tv\",\"title\",\"audience\",\"budget\",\"work\",\"mind\",\"times\",\"night\",\"couple\",\"performances\",\"killer\",\"space\",\"get\",\"role\",\"bit\",\"case\",\"fact\",\"year\",\"age\",\"water\",\"child\",\"sense\",\"script\",\"john\",\"someone\",\"friends\",\"house\",\"point\",\"performance\",\"murder\",\"look\",\"sex\",\"sequence\",\"kid\",\"death\",\"example\",\"hell\",\"adult\",\"love\",\"madsen\",\"half\",\"actor\",\"children\",\"hollywood\",\"effects\",\"guy\",\"attention\"],\"textfont\":{\"color\":[\"rgb(0, 130, 173)\",\"rgb(0, 107, 143)\",\"rgb(0, 96, 128)\",\"rgb(0, 80, 107)\",\"rgb(0, 149, 199)\",\"rgb(0, 134, 180)\",\"rgb(0, 85, 114)\",\"rgb(0, 41, 55)\",\"rgb(0, 162, 217)\",\"rgb(0, 101, 135)\",\"rgb(0, 42, 56)\",\"rgb(0, 45, 60)\",\"rgb(0, 61, 82)\",\"rgb(0, 85, 114)\",\"rgb(0, 175, 234)\",\"rgb(0, 45, 59)\",\"rgb(0, 85, 113)\",\"rgb(0, 181, 242)\",\"rgb(0, 71, 94)\",\"rgb(0, 104, 139)\",\"rgb(0, 100, 134)\",\"rgb(0, 84, 112)\",\"rgb(0, 124, 166)\",\"rgb(0, 179, 240)\",\"rgb(0, 77, 102)\",\"rgb(0, 65, 87)\",\"rgb(0, 79, 105)\",\"rgb(0, 93, 124)\",\"rgb(0, 178, 237)\",\"rgb(0, 56, 75)\",\"rgb(0, 73, 97)\",\"rgb(0, 38, 51)\",\"rgb(0, 69, 93)\",\"rgb(0, 95, 127)\",\"rgb(0, 145, 193)\",\"rgb(0, 86, 115)\",\"rgb(0, 190, 253)\",\"rgb(0, 116, 154)\",\"rgb(0, 157, 209)\",\"rgb(0, 117, 156)\",\"rgb(0, 174, 233)\",\"rgb(0, 58, 77)\",\"rgb(0, 134, 178)\",\"rgb(0, 100, 133)\",\"rgb(0, 48, 64)\",\"rgb(0, 89, 118)\",\"rgb(0, 46, 61)\",\"rgb(0, 158, 211)\",\"rgb(0, 182, 243)\",\"rgb(0, 48, 64)\",\"rgb(0, 123, 164)\",\"rgb(0, 47, 63)\",\"rgb(0, 158, 210)\",\"rgb(0, 147, 197)\",\"rgb(0, 89, 118)\",\"rgb(0, 65, 87)\",\"rgb(0, 158, 211)\",\"rgb(0, 64, 85)\",\"rgb(0, 172, 230)\",\"rgb(0, 97, 130)\",\"rgb(0, 160, 213)\",\"rgb(0, 109, 146)\",\"rgb(0, 180, 240)\",\"rgb(0, 49, 65)\",\"rgb(0, 54, 73)\",\"rgb(0, 163, 218)\",\"rgb(0, 63, 84)\",\"rgb(0, 118, 158)\",\"rgb(0, 109, 145)\",\"rgb(0, 175, 234)\",\"rgb(0, 168, 225)\",\"rgb(0, 155, 207)\",\"rgb(0, 80, 106)\",\"rgb(0, 172, 229)\",\"rgb(0, 57, 76)\",\"rgb(0, 141, 188)\",\"rgb(0, 59, 79)\",\"rgb(0, 146, 194)\",\"rgb(0, 43, 57)\",\"rgb(0, 53, 71)\",\"rgb(0, 135, 180)\",\"rgb(0, 143, 191)\",\"rgb(0, 60, 80)\",\"rgb(0, 147, 197)\",\"rgb(0, 77, 103)\",\"rgb(0, 66, 88)\",\"rgb(0, 147, 196)\",\"rgb(0, 103, 138)\",\"rgb(0, 89, 118)\",\"rgb(0, 62, 82)\",\"rgb(0, 98, 131)\",\"rgb(0, 168, 225)\",\"rgb(0, 84, 112)\",\"rgb(0, 110, 147)\",\"rgb(0, 74, 99)\",\"rgb(0, 74, 98)\",\"rgb(0, 157, 210)\",\"rgb(0, 180, 240)\",\"rgb(0, 65, 86)\",\"rgb(0, 43, 57)\"],\"size\":[100.0,55.4688,36.1979,15.8854,13.2812,10.6771,10.1562,9.6354,8.5938,8.3333,8.0729,7.2917,7.0312,6.7708,6.25,6.25,5.9896,4.9479,4.9479,4.6875,4.6875,4.6875,4.6875,4.6875,4.6875,4.4271,4.4271,4.4271,4.4271,4.1667,3.9062,3.9062,3.9062,3.9062,3.9062,3.6458,3.6458,3.6458,3.6458,3.6458,3.6458,3.3854,3.3854,3.3854,3.3854,3.3854,3.125,2.8646,2.8646,2.8646,2.8646,2.8646,2.8646,2.8646,2.8646,2.8646,2.8646,2.8646,2.6042,2.6042,2.6042,2.6042,2.6042,2.6042,2.6042,2.6042,2.6042,2.6042,2.6042,2.6042,2.6042,2.6042,2.6042,2.6042,2.3438,2.3438,2.3438,2.3438,2.3438,2.3438,2.3438,2.3438,2.3438,2.3438,2.3438,2.3438,2.0833,2.0833,2.0833,2.0833,2.0833,2.0833,2.0833,2.0833,2.0833,2.0833,2.0833,2.0833,2.0833,2.0833]},\"x\":[2,117,67,109,40,157,28,146,17,171,1,110,78,178,180,83,69,3,114,57,3,44,1,17,109,71,27,92,32,101,171,140,2,104,67,101,26,99,25,52,138,15,58,184,138,19,73,111,72,48,147,86,137,2,67,129,60,33,176,33,74,126,170,108,135,24,170,23,150,193,18,41,187,155,193,192,66,20,153,181,37,169,193,193,123,41,75,135,24,170,109,191,144,33,52,124,95,107,170,97],\"y\":[8,181,125,10,292,81,163,5,280,173,138,164,266,336,30,6,344,307,146,245,33,99,232,338,330,2,116,349,339,47,11,79,1,292,94,3,164,260,203,181,13,231,114,118,163,56,77,4,306,386,100,144,35,384,180,386,216,85,82,290,189,335,342,144,97,259,317,150,237,173,126,83,10,362,300,132,225,373,296,4,277,196,251,324,135,92,291,129,377,248,264,151,5,324,229,351,144,114,138,288],\"type\":\"scattergl\"}],                        {\"template\":{\"data\":{\"bar\":[{\"error_x\":{\"color\":\"#2a3f5f\"},\"error_y\":{\"color\":\"#2a3f5f\"},\"marker\":{\"line\":{\"color\":\"#E5ECF6\",\"width\":0.5},\"pattern\":{\"fillmode\":\"overlay\",\"size\":10,\"solidity\":0.2}},\"type\":\"bar\"}],\"barpolar\":[{\"marker\":{\"line\":{\"color\":\"#E5ECF6\",\"width\":0.5},\"pattern\":{\"fillmode\":\"overlay\",\"size\":10,\"solidity\":0.2}},\"type\":\"barpolar\"}],\"carpet\":[{\"aaxis\":{\"endlinecolor\":\"#2a3f5f\",\"gridcolor\":\"white\",\"linecolor\":\"white\",\"minorgridcolor\":\"white\",\"startlinecolor\":\"#2a3f5f\"},\"baxis\":{\"endlinecolor\":\"#2a3f5f\",\"gridcolor\":\"white\",\"linecolor\":\"white\",\"minorgridcolor\":\"white\",\"startlinecolor\":\"#2a3f5f\"},\"type\":\"carpet\"}],\"choropleth\":[{\"colorbar\":{\"outlinewidth\":0,\"ticks\":\"\"},\"type\":\"choropleth\"}],\"contour\":[{\"colorbar\":{\"outlinewidth\":0,\"ticks\":\"\"},\"colorscale\":[[0.0,\"#0d0887\"],[0.1111111111111111,\"#46039f\"],[0.2222222222222222,\"#7201a8\"],[0.3333333333333333,\"#9c179e\"],[0.4444444444444444,\"#bd3786\"],[0.5555555555555556,\"#d8576b\"],[0.6666666666666666,\"#ed7953\"],[0.7777777777777778,\"#fb9f3a\"],[0.8888888888888888,\"#fdca26\"],[1.0,\"#f0f921\"]],\"type\":\"contour\"}],\"contourcarpet\":[{\"colorbar\":{\"outlinewidth\":0,\"ticks\":\"\"},\"type\":\"contourcarpet\"}],\"heatmap\":[{\"colorbar\":{\"outlinewidth\":0,\"ticks\":\"\"},\"colorscale\":[[0.0,\"#0d0887\"],[0.1111111111111111,\"#46039f\"],[0.2222222222222222,\"#7201a8\"],[0.3333333333333333,\"#9c179e\"],[0.4444444444444444,\"#bd3786\"],[0.5555555555555556,\"#d8576b\"],[0.6666666666666666,\"#ed7953\"],[0.7777777777777778,\"#fb9f3a\"],[0.8888888888888888,\"#fdca26\"],[1.0,\"#f0f921\"]],\"type\":\"heatmap\"}],\"heatmapgl\":[{\"colorbar\":{\"outlinewidth\":0,\"ticks\":\"\"},\"colorscale\":[[0.0,\"#0d0887\"],[0.1111111111111111,\"#46039f\"],[0.2222222222222222,\"#7201a8\"],[0.3333333333333333,\"#9c179e\"],[0.4444444444444444,\"#bd3786\"],[0.5555555555555556,\"#d8576b\"],[0.6666666666666666,\"#ed7953\"],[0.7777777777777778,\"#fb9f3a\"],[0.8888888888888888,\"#fdca26\"],[1.0,\"#f0f921\"]],\"type\":\"heatmapgl\"}],\"histogram\":[{\"marker\":{\"pattern\":{\"fillmode\":\"overlay\",\"size\":10,\"solidity\":0.2}},\"type\":\"histogram\"}],\"histogram2d\":[{\"colorbar\":{\"outlinewidth\":0,\"ticks\":\"\"},\"colorscale\":[[0.0,\"#0d0887\"],[0.1111111111111111,\"#46039f\"],[0.2222222222222222,\"#7201a8\"],[0.3333333333333333,\"#9c179e\"],[0.4444444444444444,\"#bd3786\"],[0.5555555555555556,\"#d8576b\"],[0.6666666666666666,\"#ed7953\"],[0.7777777777777778,\"#fb9f3a\"],[0.8888888888888888,\"#fdca26\"],[1.0,\"#f0f921\"]],\"type\":\"histogram2d\"}],\"histogram2dcontour\":[{\"colorbar\":{\"outlinewidth\":0,\"ticks\":\"\"},\"colorscale\":[[0.0,\"#0d0887\"],[0.1111111111111111,\"#46039f\"],[0.2222222222222222,\"#7201a8\"],[0.3333333333333333,\"#9c179e\"],[0.4444444444444444,\"#bd3786\"],[0.5555555555555556,\"#d8576b\"],[0.6666666666666666,\"#ed7953\"],[0.7777777777777778,\"#fb9f3a\"],[0.8888888888888888,\"#fdca26\"],[1.0,\"#f0f921\"]],\"type\":\"histogram2dcontour\"}],\"mesh3d\":[{\"colorbar\":{\"outlinewidth\":0,\"ticks\":\"\"},\"type\":\"mesh3d\"}],\"parcoords\":[{\"line\":{\"colorbar\":{\"outlinewidth\":0,\"ticks\":\"\"}},\"type\":\"parcoords\"}],\"pie\":[{\"automargin\":true,\"type\":\"pie\"}],\"scatter\":[{\"marker\":{\"colorbar\":{\"outlinewidth\":0,\"ticks\":\"\"}},\"type\":\"scatter\"}],\"scatter3d\":[{\"line\":{\"colorbar\":{\"outlinewidth\":0,\"ticks\":\"\"}},\"marker\":{\"colorbar\":{\"outlinewidth\":0,\"ticks\":\"\"}},\"type\":\"scatter3d\"}],\"scattercarpet\":[{\"marker\":{\"colorbar\":{\"outlinewidth\":0,\"ticks\":\"\"}},\"type\":\"scattercarpet\"}],\"scattergeo\":[{\"marker\":{\"colorbar\":{\"outlinewidth\":0,\"ticks\":\"\"}},\"type\":\"scattergeo\"}],\"scattergl\":[{\"marker\":{\"colorbar\":{\"outlinewidth\":0,\"ticks\":\"\"}},\"type\":\"scattergl\"}],\"scattermapbox\":[{\"marker\":{\"colorbar\":{\"outlinewidth\":0,\"ticks\":\"\"}},\"type\":\"scattermapbox\"}],\"scatterpolar\":[{\"marker\":{\"colorbar\":{\"outlinewidth\":0,\"ticks\":\"\"}},\"type\":\"scatterpolar\"}],\"scatterpolargl\":[{\"marker\":{\"colorbar\":{\"outlinewidth\":0,\"ticks\":\"\"}},\"type\":\"scatterpolargl\"}],\"scatterternary\":[{\"marker\":{\"colorbar\":{\"outlinewidth\":0,\"ticks\":\"\"}},\"type\":\"scatterternary\"}],\"surface\":[{\"colorbar\":{\"outlinewidth\":0,\"ticks\":\"\"},\"colorscale\":[[0.0,\"#0d0887\"],[0.1111111111111111,\"#46039f\"],[0.2222222222222222,\"#7201a8\"],[0.3333333333333333,\"#9c179e\"],[0.4444444444444444,\"#bd3786\"],[0.5555555555555556,\"#d8576b\"],[0.6666666666666666,\"#ed7953\"],[0.7777777777777778,\"#fb9f3a\"],[0.8888888888888888,\"#fdca26\"],[1.0,\"#f0f921\"]],\"type\":\"surface\"}],\"table\":[{\"cells\":{\"fill\":{\"color\":\"#EBF0F8\"},\"line\":{\"color\":\"white\"}},\"header\":{\"fill\":{\"color\":\"#C8D4E3\"},\"line\":{\"color\":\"white\"}},\"type\":\"table\"}]},\"layout\":{\"annotationdefaults\":{\"arrowcolor\":\"#2a3f5f\",\"arrowhead\":0,\"arrowwidth\":1},\"autotypenumbers\":\"strict\",\"coloraxis\":{\"colorbar\":{\"outlinewidth\":0,\"ticks\":\"\"}},\"colorscale\":{\"diverging\":[[0,\"#8e0152\"],[0.1,\"#c51b7d\"],[0.2,\"#de77ae\"],[0.3,\"#f1b6da\"],[0.4,\"#fde0ef\"],[0.5,\"#f7f7f7\"],[0.6,\"#e6f5d0\"],[0.7,\"#b8e186\"],[0.8,\"#7fbc41\"],[0.9,\"#4d9221\"],[1,\"#276419\"]],\"sequential\":[[0.0,\"#0d0887\"],[0.1111111111111111,\"#46039f\"],[0.2222222222222222,\"#7201a8\"],[0.3333333333333333,\"#9c179e\"],[0.4444444444444444,\"#bd3786\"],[0.5555555555555556,\"#d8576b\"],[0.6666666666666666,\"#ed7953\"],[0.7777777777777778,\"#fb9f3a\"],[0.8888888888888888,\"#fdca26\"],[1.0,\"#f0f921\"]],\"sequentialminus\":[[0.0,\"#0d0887\"],[0.1111111111111111,\"#46039f\"],[0.2222222222222222,\"#7201a8\"],[0.3333333333333333,\"#9c179e\"],[0.4444444444444444,\"#bd3786\"],[0.5555555555555556,\"#d8576b\"],[0.6666666666666666,\"#ed7953\"],[0.7777777777777778,\"#fb9f3a\"],[0.8888888888888888,\"#fdca26\"],[1.0,\"#f0f921\"]]},\"colorway\":[\"#636efa\",\"#EF553B\",\"#00cc96\",\"#ab63fa\",\"#FFA15A\",\"#19d3f3\",\"#FF6692\",\"#B6E880\",\"#FF97FF\",\"#FECB52\"],\"font\":{\"color\":\"#2a3f5f\"},\"geo\":{\"bgcolor\":\"white\",\"lakecolor\":\"white\",\"landcolor\":\"#E5ECF6\",\"showlakes\":true,\"showland\":true,\"subunitcolor\":\"white\"},\"hoverlabel\":{\"align\":\"left\"},\"hovermode\":\"closest\",\"mapbox\":{\"style\":\"light\"},\"paper_bgcolor\":\"white\",\"plot_bgcolor\":\"#E5ECF6\",\"polar\":{\"angularaxis\":{\"gridcolor\":\"white\",\"linecolor\":\"white\",\"ticks\":\"\"},\"bgcolor\":\"#E5ECF6\",\"radialaxis\":{\"gridcolor\":\"white\",\"linecolor\":\"white\",\"ticks\":\"\"}},\"scene\":{\"xaxis\":{\"backgroundcolor\":\"#E5ECF6\",\"gridcolor\":\"white\",\"gridwidth\":2,\"linecolor\":\"white\",\"showbackground\":true,\"ticks\":\"\",\"zerolinecolor\":\"white\"},\"yaxis\":{\"backgroundcolor\":\"#E5ECF6\",\"gridcolor\":\"white\",\"gridwidth\":2,\"linecolor\":\"white\",\"showbackground\":true,\"ticks\":\"\",\"zerolinecolor\":\"white\"},\"zaxis\":{\"backgroundcolor\":\"#E5ECF6\",\"gridcolor\":\"white\",\"gridwidth\":2,\"linecolor\":\"white\",\"showbackground\":true,\"ticks\":\"\",\"zerolinecolor\":\"white\"}},\"shapedefaults\":{\"line\":{\"color\":\"#2a3f5f\"}},\"ternary\":{\"aaxis\":{\"gridcolor\":\"white\",\"linecolor\":\"white\",\"ticks\":\"\"},\"baxis\":{\"gridcolor\":\"white\",\"linecolor\":\"white\",\"ticks\":\"\"},\"bgcolor\":\"#E5ECF6\",\"caxis\":{\"gridcolor\":\"white\",\"linecolor\":\"white\",\"ticks\":\"\"}},\"title\":{\"x\":0.05},\"xaxis\":{\"automargin\":true,\"gridcolor\":\"white\",\"linecolor\":\"white\",\"ticks\":\"\",\"title\":{\"standoff\":15},\"zerolinecolor\":\"white\",\"zerolinewidth\":2},\"yaxis\":{\"automargin\":true,\"gridcolor\":\"white\",\"linecolor\":\"white\",\"ticks\":\"\",\"title\":{\"standoff\":15},\"zerolinecolor\":\"white\",\"zerolinewidth\":2}}},\"xaxis\":{\"showgrid\":false,\"zeroline\":false,\"visible\":false,\"showticklabels\":false},\"yaxis\":{\"showgrid\":false,\"zeroline\":false,\"visible\":false,\"showticklabels\":false},\"showlegend\":false,\"plot_bgcolor\":\"rgba(0, 0, 0, 0)\"},                        {\"responsive\": true}                    ).then(function(){\n",
       "                            \n",
       "var gd = document.getElementById('6140751c-8963-41ca-9774-592fb081f654');\n",
       "var x = new MutationObserver(function (mutations, observer) {{\n",
       "        var display = window.getComputedStyle(gd).display;\n",
       "        if (!display || display === 'none') {{\n",
       "            console.log([gd, 'removed!']);\n",
       "            Plotly.purge(gd);\n",
       "            observer.disconnect();\n",
       "        }}\n",
       "}});\n",
       "\n",
       "// Listen for the removal of the full notebook cells\n",
       "var notebookContainer = gd.closest('#notebook-container');\n",
       "if (notebookContainer) {{\n",
       "    x.observe(notebookContainer, {childList: true});\n",
       "}}\n",
       "\n",
       "// Listen for the clearing of the current output cell\n",
       "var outputEl = gd.closest('.output');\n",
       "if (outputEl) {{\n",
       "    x.observe(outputEl, {childList: true});\n",
       "}}\n",
       "\n",
       "                        })                };                });            </script>        </div>"
      ]
     },
     "metadata": {},
     "output_type": "display_data"
    }
   ],
   "source": [
    "tsp.show_word_clouds(pos=\"NN\",\n",
    "                     go_plot_settings={'plot_bgcolor': 'rgba(0, 0, 0, 0)',\n",
    "                                        'plot_bgcolor': 'rgba(0, 0, 0, 0)'},\n",
    "                     wc_settings={'color':'deepskyblue', 'max_words':10}\n",
    "                    )"
   ]
  },
  {
   "cell_type": "code",
   "execution_count": 9,
   "id": "8fb4f2c8",
   "metadata": {},
   "outputs": [
    {
     "data": {
      "application/vnd.plotly.v1+json": {
       "config": {
        "plotlyServerURL": "https://plot.ly"
       },
       "data": [
        {
         "autobinx": false,
         "histnorm": "probability density",
         "legendgroup": "distplot",
         "marker": {
          "color": "blue"
         },
         "name": "distplot",
         "opacity": 0.7,
         "type": "histogram",
         "x": [
          167,
          138,
          165,
          100,
          964,
          134,
          284,
          527,
          139,
          340,
          285,
          761,
          156,
          288,
          899,
          142,
          647,
          161,
          740,
          266,
          246,
          129,
          467,
          155,
          309,
          260,
          711,
          253,
          381,
          862,
          181,
          123,
          533,
          264,
          158,
          213,
          232,
          184,
          1018,
          147,
          105,
          196,
          110,
          602,
          195,
          170,
          321,
          273,
          312,
          465,
          148,
          209,
          492,
          170,
          492,
          63,
          492,
          146,
          231,
          263,
          53,
          160,
          234,
          441,
          181,
          245,
          381,
          327,
          138,
          441,
          193,
          149,
          267,
          279,
          554,
          173,
          405,
          191,
          424,
          141,
          202,
          161,
          833,
          241,
          201,
          290,
          433,
          306,
          393,
          287,
          1097,
          160,
          197,
          605,
          252,
          312,
          146,
          248,
          226,
          297
         ],
         "xaxis": "x",
         "xbins": {
          "end": 1097,
          "size": 1,
          "start": 53
         },
         "yaxis": "y"
        },
        {
         "legendgroup": "distplot",
         "marker": {
          "color": "blue"
         },
         "mode": "lines",
         "name": "distplot",
         "showlegend": false,
         "type": "scatter",
         "x": [
          53,
          55.088,
          57.176,
          59.264,
          61.352000000000004,
          63.44,
          65.528,
          67.616,
          69.70400000000001,
          71.792,
          73.88,
          75.968,
          78.056,
          80.144,
          82.232,
          84.32,
          86.408,
          88.49600000000001,
          90.584,
          92.672,
          94.75999999999999,
          96.848,
          98.936,
          101.024,
          103.112,
          105.2,
          107.288,
          109.376,
          111.464,
          113.55199999999999,
          115.64,
          117.728,
          119.816,
          121.904,
          123.992,
          126.08,
          128.168,
          130.256,
          132.344,
          134.43200000000002,
          136.51999999999998,
          138.608,
          140.696,
          142.784,
          144.872,
          146.95999999999998,
          149.048,
          151.136,
          153.224,
          155.312,
          157.4,
          159.488,
          161.576,
          163.664,
          165.752,
          167.84,
          169.928,
          172.01600000000002,
          174.10399999999998,
          176.192,
          178.28,
          180.368,
          182.456,
          184.544,
          186.632,
          188.72,
          190.808,
          192.896,
          194.984,
          197.072,
          199.16,
          201.248,
          203.336,
          205.424,
          207.512,
          209.6,
          211.688,
          213.776,
          215.864,
          217.952,
          220.04,
          222.128,
          224.216,
          226.304,
          228.392,
          230.48,
          232.568,
          234.656,
          236.744,
          238.832,
          240.92,
          243.008,
          245.096,
          247.184,
          249.272,
          251.36,
          253.448,
          255.536,
          257.624,
          259.712,
          261.8,
          263.88800000000003,
          265.976,
          268.06399999999996,
          270.152,
          272.24,
          274.328,
          276.416,
          278.504,
          280.592,
          282.68,
          284.76800000000003,
          286.856,
          288.94399999999996,
          291.03200000000004,
          293.12,
          295.20799999999997,
          297.296,
          299.384,
          301.472,
          303.56,
          305.648,
          307.736,
          309.824,
          311.912,
          314,
          316.088,
          318.176,
          320.264,
          322.352,
          324.44,
          326.528,
          328.616,
          330.704,
          332.792,
          334.88,
          336.968,
          339.056,
          341.144,
          343.232,
          345.32,
          347.408,
          349.496,
          351.584,
          353.672,
          355.76,
          357.848,
          359.936,
          362.024,
          364.112,
          366.2,
          368.288,
          370.376,
          372.464,
          374.552,
          376.64,
          378.728,
          380.816,
          382.904,
          384.992,
          387.08,
          389.168,
          391.256,
          393.344,
          395.432,
          397.52,
          399.608,
          401.696,
          403.784,
          405.872,
          407.96,
          410.048,
          412.136,
          414.224,
          416.312,
          418.4,
          420.488,
          422.576,
          424.664,
          426.752,
          428.84,
          430.928,
          433.016,
          435.104,
          437.192,
          439.28,
          441.368,
          443.456,
          445.544,
          447.632,
          449.72,
          451.808,
          453.896,
          455.984,
          458.072,
          460.16,
          462.248,
          464.336,
          466.424,
          468.512,
          470.6,
          472.688,
          474.776,
          476.864,
          478.952,
          481.04,
          483.128,
          485.216,
          487.304,
          489.392,
          491.48,
          493.568,
          495.656,
          497.744,
          499.832,
          501.92,
          504.008,
          506.096,
          508.184,
          510.272,
          512.36,
          514.448,
          516.5360000000001,
          518.624,
          520.712,
          522.8,
          524.8879999999999,
          526.976,
          529.0640000000001,
          531.152,
          533.24,
          535.328,
          537.4159999999999,
          539.504,
          541.592,
          543.6800000000001,
          545.768,
          547.856,
          549.944,
          552.0319999999999,
          554.12,
          556.2080000000001,
          558.296,
          560.384,
          562.472,
          564.56,
          566.648,
          568.736,
          570.824,
          572.912,
          575,
          577.088,
          579.176,
          581.264,
          583.352,
          585.44,
          587.528,
          589.616,
          591.704,
          593.792,
          595.88,
          597.968,
          600.056,
          602.144,
          604.232,
          606.32,
          608.408,
          610.496,
          612.584,
          614.672,
          616.76,
          618.848,
          620.936,
          623.024,
          625.112,
          627.2,
          629.288,
          631.376,
          633.464,
          635.552,
          637.64,
          639.728,
          641.816,
          643.904,
          645.992,
          648.08,
          650.168,
          652.256,
          654.344,
          656.432,
          658.52,
          660.608,
          662.696,
          664.784,
          666.872,
          668.96,
          671.048,
          673.136,
          675.224,
          677.312,
          679.4,
          681.488,
          683.576,
          685.664,
          687.752,
          689.84,
          691.928,
          694.016,
          696.104,
          698.192,
          700.28,
          702.368,
          704.456,
          706.544,
          708.632,
          710.72,
          712.808,
          714.896,
          716.984,
          719.072,
          721.16,
          723.248,
          725.336,
          727.424,
          729.512,
          731.6,
          733.688,
          735.776,
          737.864,
          739.952,
          742.04,
          744.128,
          746.216,
          748.304,
          750.392,
          752.48,
          754.568,
          756.656,
          758.744,
          760.832,
          762.92,
          765.008,
          767.096,
          769.184,
          771.272,
          773.36,
          775.448,
          777.536,
          779.624,
          781.712,
          783.8,
          785.888,
          787.976,
          790.064,
          792.152,
          794.24,
          796.328,
          798.416,
          800.504,
          802.592,
          804.68,
          806.768,
          808.856,
          810.944,
          813.032,
          815.12,
          817.208,
          819.296,
          821.384,
          823.472,
          825.56,
          827.648,
          829.736,
          831.824,
          833.912,
          836,
          838.088,
          840.176,
          842.264,
          844.352,
          846.44,
          848.528,
          850.616,
          852.704,
          854.792,
          856.88,
          858.968,
          861.056,
          863.144,
          865.232,
          867.32,
          869.408,
          871.496,
          873.584,
          875.672,
          877.76,
          879.848,
          881.936,
          884.024,
          886.112,
          888.2,
          890.288,
          892.376,
          894.464,
          896.552,
          898.64,
          900.728,
          902.816,
          904.904,
          906.992,
          909.08,
          911.168,
          913.256,
          915.344,
          917.432,
          919.52,
          921.608,
          923.696,
          925.784,
          927.872,
          929.96,
          932.048,
          934.136,
          936.224,
          938.312,
          940.4,
          942.488,
          944.576,
          946.664,
          948.752,
          950.84,
          952.928,
          955.016,
          957.104,
          959.192,
          961.28,
          963.368,
          965.456,
          967.544,
          969.632,
          971.72,
          973.808,
          975.896,
          977.984,
          980.072,
          982.16,
          984.248,
          986.336,
          988.424,
          990.512,
          992.6,
          994.688,
          996.776,
          998.864,
          1000.952,
          1003.04,
          1005.128,
          1007.216,
          1009.304,
          1011.392,
          1013.48,
          1015.568,
          1017.656,
          1019.744,
          1021.832,
          1023.92,
          1026.008,
          1028.096,
          1030.184,
          1032.272,
          1034.3600000000001,
          1036.4479999999999,
          1038.536,
          1040.624,
          1042.712,
          1044.8,
          1046.888,
          1048.976,
          1051.0639999999999,
          1053.152,
          1055.24,
          1057.328,
          1059.4160000000002,
          1061.504,
          1063.592,
          1065.6799999999998,
          1067.768,
          1069.856,
          1071.944,
          1074.0320000000002,
          1076.12,
          1078.208,
          1080.296,
          1082.384,
          1084.472,
          1086.56,
          1088.648,
          1090.736,
          1092.824,
          1094.912
         ],
         "xaxis": "x",
         "y": [
          0.0010377202416153707,
          0.001065149237578548,
          0.0010928590385259826,
          0.0011208348184331693,
          0.0011490611244487563,
          0.0011775218909437267,
          0.0012062004551820055,
          0.0012350795745966372,
          0.001264141445649809,
          0.0012933677242491957,
          0.001322739547687231,
          0.0013522375580641097,
          0.0013818419271496656,
          0.001411532382633593,
          0.0014412882357080353,
          0.0014710884099212514,
          0.0015009114712358925,
          0.0015307356592205777,
          0.0015605389192987276,
          0.0015902989359742664,
          0.00161999316694965,
          0.0016495988780479644,
          0.0016790931788473187,
          0.0017084530589327582,
          0.0017376554246681625,
          0.0017666771363883344,
          0.001795495045909581,
          0.0018240860342556267,
          0.0018524270494946714,
          0.0018804951445828238,
          0.0019082675151089923,
          0.0019357215368366412,
          0.0019628348029385335,
          0.001989585160821874,
          0.0020159507484428106,
          0.002041910030011406,
          0.0020674418309906744,
          0.002092525372296163,
          0.002117140303605903,
          0.002141266735694227,
          0.002164885271706952,
          0.0021879770372998674,
          0.002210523709567075,
          0.0022325075446907403,
          0.002253911404249027,
          0.0022747187801244006,
          0.0022949138179601787,
          0.0023144813391189466,
          0.002333406861102446,
          0.0023516766163985685,
          0.0023692775697271118,
          0.002386197433662217,
          0.0024024246826153733,
          0.0024179485651690826,
          0.002432759114757234,
          0.002446847158694146,
          0.0024602043255600383,
          0.0024728230509562877,
          0.002484696581649258,
          0.0024958189781266573,
          0.0025061851155953837,
          0.002515790683454456,
          0.0025246321832810424,
          0.00253270692537165,
          0.002540013023884362,
          0.0025465493906313185,
          0.0025523157275737797,
          0.002557312518074763,
          0.0025615410169665706,
          0.002565003239492476,
          0.002567701949183429,
          0.0025696406447317677,
          0.0025708235459248646,
          0.0025712555787019593,
          0.002570942359397656,
          0.002569890178235236,
          0.0025681059821323978,
          0.002565597356881154,
          0.0025623725087624014,
          0.0025584402456542256,
          0.0025538099576912798,
          0.002548491597530584,
          0.002542495660276979,
          0.0025358331631189896,
          0.0025285156247234868,
          0.002520555044434703,
          0.0025119638813205177,
          0.002502755033105984,
          0.0024929418150312368,
          0.0024825379386678725,
          0.0024715574907250865,
          0.0024600149118737887,
          0.002447924975614155,
          0.002435302767209205,
          0.0024221636627042957,
          0.0024085233080498444,
          0.0023943975983421024,
          0.002379802657194489,
          0.0023647548162498877,
          0.002349270594842262,
          0.0023333666798142764,
          0.002317059905495942,
          0.0023003672338480336,
          0.002283305734772812,
          0.002265892566593731,
          0.002248144956705085,
          0.0022300801823920543,
          0.0022117155518214153,
          0.00219306838520311,
          0.002174155996123009,
          0.002154995673047668,
          0.002135604661002332,
          0.002116000143424266,
          0.002096199224194367,
          0.002076218909851041,
          0.002056076091991593,
          0.0020357875298675976,
          0.002015369833182206,
          0.001994839445098772,
          0.0019742126254717746,
          0.0019535054343125594,
          0.0019327337155040998,
          0.0019119130807804972,
          0.0018910588939886432,
          0.001870186255650924,
          0.0018493099878494142,
          0.0018284446194534064,
          0.0018076043717134304,
          0.0017868031442461732,
          0.0017660545014357891,
          0.0017453716592780001,
          0.0017247674726942712,
          0.0017042544233438488,
          0.0016838446079620352,
          0.0016635497272532267,
          0.0016433810753673842,
          0.0016233495299884156,
          0.0016034655430626928,
          0.0015837391321952927,
          0.0015641798727408789,
          0.0015447968906151497,
          0.0015255988558516144,
          0.00150659397692713,
          0.0014877899958780358,
          0.0014691941842270293,
          0.0014508133397389625,
          0.0014326537840216843,
          0.0014147213609857973,
          0.0013970214361748016,
          0.0013795588969745991,
          0.0013623381537086767,
          0.0013453631416225627,
          0.0013286373237583209,
          0.0013121636947169583,
          0.001295944785303712,
          0.0012799826680481288,
          0.0012642789635879672,
          0.0012488348479028752,
          0.0012336510603808669,
          0.001218727912697701,
          0.0012040652984863479,
          0.0011896627037709592,
          0.0011755192181370315,
          0.0011616335466068078,
          0.0011480040221865102,
          0.0011346286190495813,
          0.0011215049663179225,
          0.0011086303624010404,
          0.0010960017898511039,
          0.0010836159306902126,
          0.0010714691821646278,
          0.0010595576728793872,
          0.0010478772792655753,
          0.001036423642331593,
          0.0010251921846490494,
          0.0010141781275233696,
          0.0010033765082989316,
          0.0009927821977484372,
          0.0009823899174963703,
          0.0009721942574266937,
          0.0009621896930255206,
          0.0009523706026101874,
          0.00094273128439713,
          0.0009332659733620604,
          0.0009239688578472539,
          0.0009148340958722429,
          0.0009058558311058159,
          0.0008970282084590558,
          0.0008883453892610387,
          0.000879801565980897,
          0.0008713909764621234,
          0.0008631079176372701,
          0.0008549467586935719,
          0.0008469019536624828,
          0.0008389680534086226,
          0.0008311397169962204,
          0.0008234117224137355,
          0.000815778976639993,
          0.0008082365250378142,
          0.0008007795600637759,
          0.0007934034292853894,
          0.0007861036426995758,
          0.0007788758793489434,
          0.0007717159932348706,
          0.0007646200185288871,
          0.0007575841740862699,
          0.0007506048672680917,
          0.0007436786970801996,
          0.0007368024566397853,
          0.0007299731349822113,
          0.000723187918222756,
          0.000716444190089719,
          0.0007097395318470651,
          0.0007030717216263628,
          0.0006964387331892245,
          0.0006898387341427845,
          0.0006832700836319433,
          0.0006767313295331598,
          0.0006702212051755094,
          0.0006637386256154888,
          0.0006572826834927343,
          0.0006508526444943173,
          0.0006444479424556867,
          0.0006380681741265812,
          0.0006317130936303839,
          0.0006253826066454138,
          0.0006190767643365322,
          0.0006127957570652675,
          0.0006065399079063151,
          0.0006003096659978875,
          0.0005941055997528531,
          0.0005879283899570377,
          0.0005817788227803605,
          0.0005756577827257398,
          0.0005695662455398887,
          0.000563505271109217,
          0.0005574759963631638,
          0.0005514796282062647,
          0.0005455174364992539,
          0.0005395907471084585,
          0.000533700935041637,
          0.0005278494176873397,
          0.0005220376481737354,
          0.000516267108861739,
          0.0005105393049861504,
          0.0005048557584573997,
          0.0004992180018353706,
          0.0004936275724857081,
          0.00048808600692791174,
          0.00048259483538349175,
          0.000477155576531421,
          0.00047176973247713605,
          0.0004664387839403801,
          0.000461164185666261,
          0.00045594736206300295,
          0.00045078970306905615,
          0.00044569256025140167,
          0.00044065724313615385,
          0.00043568501577184786,
          0.0004307770935251316,
          0.0004259346401079717,
          0.00042115876483488996,
          0.00041645052010824224,
          0.0004118108991290451,
          0.0004072408338304084,
          0.00040274119303025245,
          0.0003983127807995882,
          0.00039395633504234,
          0.0003896725262823839,
          0.0003854619566532135,
          0.0003813251590854268,
          0.0003772625966870126,
          0.0003732746623112586,
          0.00036936167830693386,
          0.0003655238964452825,
          0.0003617614980182559,
          0.0003580745941023044,
          0.0003544632259819862,
          0.0003509273657275675,
          0.0003474669169207549,
          0.00034408171552261874,
          0.00034077153087776283,
          0.00033753606684872294,
          0.00033437496307456825,
          0.0003312877963476387,
          0.0003282740821023177,
          0.00032533327600971906,
          0.00032246477567213184,
          0.0003196679224110357,
          0.00031694200314247593,
          0.0003142862523335444,
          0.00031169985403369573,
          0.00030918194397458167,
          0.0003067316117320688,
          0.0003043479029440626,
          0.00030202982157774474,
          0.0002997763322398002,
          0.00029758636252319215,
          0.0002954588053840256,
          0.00029339252154204703,
          0.00029138634189830527,
          0.0002894390699635345,
          0.0002875494842908275,
          0.00028571634090620326,
          0.00028393837573073344,
          0.0002822143069879363,
          0.00028054283759025323,
          0.00027892265749849334,
          0.00027735244604827446,
          0.0002758308742376051,
          0.0002743566069699255,
          0.0002729283052470891,
          0.00027154462830697836,
          0.0002702042357006601,
          0.00026890578930423346,
          0.0002676479552607861,
          0.0002664294058481538,
          0.0002652488212685001,
          0.0002641048913560303,
          0.00026299631719952786,
          0.0002619218126767366,
          0.0002608801058980028,
          0.0002598699405569762,
          0.0002588900771865731,
          0.000257939294318813,
          0.00025701638954757274,
          0.00025612018049371034,
          0.00025524950567246086,
          0.0002544032252634239,
          0.00025358022178389506,
          0.0002527794006667233,
          0.0002519996907442868,
          0.00025124004464059706,
          0.00025049943907392577,
          0.00024977687507274474,
          0.0002490713781081164,
          0.0002483819981460315,
          0.00024770780962350203,
          0.00024704791135251653,
          0.0002464014263562396,
          0.0002457675016420719,
          0.00024514530791640635,
          0.0002445340392460915,
          0.0002439329126717585,
          0.00024334116777829083,
          0.0002427580662277811,
          0.00024218289126037298,
          0.00024161494716839257,
          0.00024105355874914078,
          0.00024049807074166113,
          0.00023994784725269816,
          0.00023940227117693296,
          0.00023886074361641508,
          0.00023832268330391685,
          0.0002377875260347167,
          0.00023725472411105554,
          0.00023672374580324372,
          0.00023619407483108502,
          0.0002356652098689663,
          0.00023513666407761854,
          0.00023460796466519762,
          0.0002340786524799601,
          0.0002335482816364351,
          0.0002330164191765945,
          0.0002324826447671427,
          0.00023194655043364505,
          0.00023140774033182798,
          0.00023086583055599135,
          0.00023032044898410066,
          0.00022977123515875318,
          0.00022921784020286086,
          0.00022865992676854736,
          0.00022809716901744644,
          0.00022752925263027542,
          0.0002269558748432953,
          0.0002263767445090009,
          0.00022579158217817406,
          0.00022520012020022363,
          0.00022460210283857163,
          0.00022399728639771046,
          0.0002233854393584385,
          0.0002227663425177173,
          0.0002221397891295398,
          0.0002215055850431906,
          0.00022086354883529678,
          0.00022021351193212018,
          0.0002195553187186091,
          0.0002188888266308583,
          0.00021821390622873513,
          0.00021753044124561658,
          0.00021683832861234842,
          0.00021613747845276716,
          0.00021542781404833693,
          0.0002147092717697219,
          0.00021398180097336676,
          0.0002132453638614475,
          0.00021249993530384642,
          0.0002117455026211035,
          0.00021098206532761278,
          0.00021020963483464117,
          0.00020942823411306617,
          0.00020863789731604735,
          0.00020783866936215228,
          0.0002070306054797763,
          0.0002062137707139887,
          0.00020538823939723143,
          0.00020455409458557943,
          0.00020371142746253453,
          0.00020286033671257519,
          0.00020200092786692634,
          0.0002011333126242186,
          0.00020025760814891352,
          0.00019937393635053688,
          0.00019848242314692843,
          0.00019758319771483388,
          0.0001966763917312885,
          0.00019576213860931726,
          0.0001948405727315401,
          0.00019391182868531862,
          0.00019297604050307778,
          0.00019203334091145308,
          0.00019108386059285958,
          0.00019012772746304635,
          0.0001891650659681152,
          0.0001881959964043974,
          0.00018722063426446564,
          0.00018623908961243197,
          0.00018525146649153354,
          0.00018425786236685103,
          0.00018325836760582073,
          0.00018225306499902513,
          0.00018124202932353484,
          0.00018022532695087726,
          0.00017920301550148208,
          0.00017817514354723674,
          0.00017714175036355129,
          0.00017610286573210455,
          0.00017505850979520626,
          0.0001740086929624742,
          0.00017295341587029634,
          0.0001718926693943034,
          0.0001708264347148638,
          0.00016975468343536832,
          0.0001686773777528679,
          0.0001675944706803999,
          0.00016650590632013798,
          0.00016541162018629703,
          0.00016431153957653175,
          0.0001632055839903864,
          0.000162093665593177,
          0.00016097568972352295,
          0.00015985155544259402,
          0.00015872115612298787,
          0.0001575843800750292,
          0.00015644111120814973,
          0.00015529122972490238,
          0.0001541346128450571,
          0.00015297113555714058,
          0.00015180067139469147,
          0.00015062309323444616,
          0.00014943827411359483,
          0.00014824608806321055,
          0.00014704641095490304,
          0.00014583912135772444,
          0.00014462410140232744,
          0.0001434012376493631,
          0.00014217042195910451,
          0.0001409315523592798,
          0.00013968453390811336,
          0.00013842927954959154,
          0.00013716571095799516,
          0.00013589375936877803,
          0.0001346133663929047,
          0.00013332448481181993,
          0.00013202707935026367,
          0.00013072112742421876,
          0.0001294066198613403,
          0.00012808356159128975,
          0.00012675197230348415,
          0.00012541188706984726,
          0.00012406335693025843,
          0.0001227064494384761,
          0.00012134124916643757,
          0.00011996785816493469,
          0.00011858639637878864,
          0.00011719700201477615,
          0.00011579983186067524,
          0.00011439506155395324,
          0.00011298288579874243,
          0.00011156351852990946,
          0.00011013719302316956,
          0.00010870416195035328,
          0.00010726469737910243,
          0.00010581909071642489,
          0.00010436765259572476,
          0.0001029107127070829,
          0.00010144861957075184,
          9.998174025400063e-05,
          9.851046003163556e-05,
          9.703518199069809e-05
         ],
         "yaxis": "y"
        },
        {
         "legendgroup": "distplot",
         "marker": {
          "color": "blue",
          "symbol": "line-ns-open"
         },
         "mode": "markers",
         "name": "distplot",
         "showlegend": false,
         "type": "scatter",
         "x": [
          167,
          138,
          165,
          100,
          964,
          134,
          284,
          527,
          139,
          340,
          285,
          761,
          156,
          288,
          899,
          142,
          647,
          161,
          740,
          266,
          246,
          129,
          467,
          155,
          309,
          260,
          711,
          253,
          381,
          862,
          181,
          123,
          533,
          264,
          158,
          213,
          232,
          184,
          1018,
          147,
          105,
          196,
          110,
          602,
          195,
          170,
          321,
          273,
          312,
          465,
          148,
          209,
          492,
          170,
          492,
          63,
          492,
          146,
          231,
          263,
          53,
          160,
          234,
          441,
          181,
          245,
          381,
          327,
          138,
          441,
          193,
          149,
          267,
          279,
          554,
          173,
          405,
          191,
          424,
          141,
          202,
          161,
          833,
          241,
          201,
          290,
          433,
          306,
          393,
          287,
          1097,
          160,
          197,
          605,
          252,
          312,
          146,
          248,
          226,
          297
         ],
         "xaxis": "x",
         "y": [
          "distplot",
          "distplot",
          "distplot",
          "distplot",
          "distplot",
          "distplot",
          "distplot",
          "distplot",
          "distplot",
          "distplot",
          "distplot",
          "distplot",
          "distplot",
          "distplot",
          "distplot",
          "distplot",
          "distplot",
          "distplot",
          "distplot",
          "distplot",
          "distplot",
          "distplot",
          "distplot",
          "distplot",
          "distplot",
          "distplot",
          "distplot",
          "distplot",
          "distplot",
          "distplot",
          "distplot",
          "distplot",
          "distplot",
          "distplot",
          "distplot",
          "distplot",
          "distplot",
          "distplot",
          "distplot",
          "distplot",
          "distplot",
          "distplot",
          "distplot",
          "distplot",
          "distplot",
          "distplot",
          "distplot",
          "distplot",
          "distplot",
          "distplot",
          "distplot",
          "distplot",
          "distplot",
          "distplot",
          "distplot",
          "distplot",
          "distplot",
          "distplot",
          "distplot",
          "distplot",
          "distplot",
          "distplot",
          "distplot",
          "distplot",
          "distplot",
          "distplot",
          "distplot",
          "distplot",
          "distplot",
          "distplot",
          "distplot",
          "distplot",
          "distplot",
          "distplot",
          "distplot",
          "distplot",
          "distplot",
          "distplot",
          "distplot",
          "distplot",
          "distplot",
          "distplot",
          "distplot",
          "distplot",
          "distplot",
          "distplot",
          "distplot",
          "distplot",
          "distplot",
          "distplot",
          "distplot",
          "distplot",
          "distplot",
          "distplot",
          "distplot",
          "distplot",
          "distplot",
          "distplot",
          "distplot",
          "distplot"
         ],
         "yaxis": "y2"
        }
       ],
       "layout": {
        "barmode": "overlay",
        "hovermode": "closest",
        "legend": {
         "traceorder": "reversed"
        },
        "showlegend": false,
        "template": {
         "data": {
          "bar": [
           {
            "error_x": {
             "color": "#2a3f5f"
            },
            "error_y": {
             "color": "#2a3f5f"
            },
            "marker": {
             "line": {
              "color": "#E5ECF6",
              "width": 0.5
             },
             "pattern": {
              "fillmode": "overlay",
              "size": 10,
              "solidity": 0.2
             }
            },
            "type": "bar"
           }
          ],
          "barpolar": [
           {
            "marker": {
             "line": {
              "color": "#E5ECF6",
              "width": 0.5
             },
             "pattern": {
              "fillmode": "overlay",
              "size": 10,
              "solidity": 0.2
             }
            },
            "type": "barpolar"
           }
          ],
          "carpet": [
           {
            "aaxis": {
             "endlinecolor": "#2a3f5f",
             "gridcolor": "white",
             "linecolor": "white",
             "minorgridcolor": "white",
             "startlinecolor": "#2a3f5f"
            },
            "baxis": {
             "endlinecolor": "#2a3f5f",
             "gridcolor": "white",
             "linecolor": "white",
             "minorgridcolor": "white",
             "startlinecolor": "#2a3f5f"
            },
            "type": "carpet"
           }
          ],
          "choropleth": [
           {
            "colorbar": {
             "outlinewidth": 0,
             "ticks": ""
            },
            "type": "choropleth"
           }
          ],
          "contour": [
           {
            "colorbar": {
             "outlinewidth": 0,
             "ticks": ""
            },
            "colorscale": [
             [
              0,
              "#0d0887"
             ],
             [
              0.1111111111111111,
              "#46039f"
             ],
             [
              0.2222222222222222,
              "#7201a8"
             ],
             [
              0.3333333333333333,
              "#9c179e"
             ],
             [
              0.4444444444444444,
              "#bd3786"
             ],
             [
              0.5555555555555556,
              "#d8576b"
             ],
             [
              0.6666666666666666,
              "#ed7953"
             ],
             [
              0.7777777777777778,
              "#fb9f3a"
             ],
             [
              0.8888888888888888,
              "#fdca26"
             ],
             [
              1,
              "#f0f921"
             ]
            ],
            "type": "contour"
           }
          ],
          "contourcarpet": [
           {
            "colorbar": {
             "outlinewidth": 0,
             "ticks": ""
            },
            "type": "contourcarpet"
           }
          ],
          "heatmap": [
           {
            "colorbar": {
             "outlinewidth": 0,
             "ticks": ""
            },
            "colorscale": [
             [
              0,
              "#0d0887"
             ],
             [
              0.1111111111111111,
              "#46039f"
             ],
             [
              0.2222222222222222,
              "#7201a8"
             ],
             [
              0.3333333333333333,
              "#9c179e"
             ],
             [
              0.4444444444444444,
              "#bd3786"
             ],
             [
              0.5555555555555556,
              "#d8576b"
             ],
             [
              0.6666666666666666,
              "#ed7953"
             ],
             [
              0.7777777777777778,
              "#fb9f3a"
             ],
             [
              0.8888888888888888,
              "#fdca26"
             ],
             [
              1,
              "#f0f921"
             ]
            ],
            "type": "heatmap"
           }
          ],
          "heatmapgl": [
           {
            "colorbar": {
             "outlinewidth": 0,
             "ticks": ""
            },
            "colorscale": [
             [
              0,
              "#0d0887"
             ],
             [
              0.1111111111111111,
              "#46039f"
             ],
             [
              0.2222222222222222,
              "#7201a8"
             ],
             [
              0.3333333333333333,
              "#9c179e"
             ],
             [
              0.4444444444444444,
              "#bd3786"
             ],
             [
              0.5555555555555556,
              "#d8576b"
             ],
             [
              0.6666666666666666,
              "#ed7953"
             ],
             [
              0.7777777777777778,
              "#fb9f3a"
             ],
             [
              0.8888888888888888,
              "#fdca26"
             ],
             [
              1,
              "#f0f921"
             ]
            ],
            "type": "heatmapgl"
           }
          ],
          "histogram": [
           {
            "marker": {
             "pattern": {
              "fillmode": "overlay",
              "size": 10,
              "solidity": 0.2
             }
            },
            "type": "histogram"
           }
          ],
          "histogram2d": [
           {
            "colorbar": {
             "outlinewidth": 0,
             "ticks": ""
            },
            "colorscale": [
             [
              0,
              "#0d0887"
             ],
             [
              0.1111111111111111,
              "#46039f"
             ],
             [
              0.2222222222222222,
              "#7201a8"
             ],
             [
              0.3333333333333333,
              "#9c179e"
             ],
             [
              0.4444444444444444,
              "#bd3786"
             ],
             [
              0.5555555555555556,
              "#d8576b"
             ],
             [
              0.6666666666666666,
              "#ed7953"
             ],
             [
              0.7777777777777778,
              "#fb9f3a"
             ],
             [
              0.8888888888888888,
              "#fdca26"
             ],
             [
              1,
              "#f0f921"
             ]
            ],
            "type": "histogram2d"
           }
          ],
          "histogram2dcontour": [
           {
            "colorbar": {
             "outlinewidth": 0,
             "ticks": ""
            },
            "colorscale": [
             [
              0,
              "#0d0887"
             ],
             [
              0.1111111111111111,
              "#46039f"
             ],
             [
              0.2222222222222222,
              "#7201a8"
             ],
             [
              0.3333333333333333,
              "#9c179e"
             ],
             [
              0.4444444444444444,
              "#bd3786"
             ],
             [
              0.5555555555555556,
              "#d8576b"
             ],
             [
              0.6666666666666666,
              "#ed7953"
             ],
             [
              0.7777777777777778,
              "#fb9f3a"
             ],
             [
              0.8888888888888888,
              "#fdca26"
             ],
             [
              1,
              "#f0f921"
             ]
            ],
            "type": "histogram2dcontour"
           }
          ],
          "mesh3d": [
           {
            "colorbar": {
             "outlinewidth": 0,
             "ticks": ""
            },
            "type": "mesh3d"
           }
          ],
          "parcoords": [
           {
            "line": {
             "colorbar": {
              "outlinewidth": 0,
              "ticks": ""
             }
            },
            "type": "parcoords"
           }
          ],
          "pie": [
           {
            "automargin": true,
            "type": "pie"
           }
          ],
          "scatter": [
           {
            "marker": {
             "colorbar": {
              "outlinewidth": 0,
              "ticks": ""
             }
            },
            "type": "scatter"
           }
          ],
          "scatter3d": [
           {
            "line": {
             "colorbar": {
              "outlinewidth": 0,
              "ticks": ""
             }
            },
            "marker": {
             "colorbar": {
              "outlinewidth": 0,
              "ticks": ""
             }
            },
            "type": "scatter3d"
           }
          ],
          "scattercarpet": [
           {
            "marker": {
             "colorbar": {
              "outlinewidth": 0,
              "ticks": ""
             }
            },
            "type": "scattercarpet"
           }
          ],
          "scattergeo": [
           {
            "marker": {
             "colorbar": {
              "outlinewidth": 0,
              "ticks": ""
             }
            },
            "type": "scattergeo"
           }
          ],
          "scattergl": [
           {
            "marker": {
             "colorbar": {
              "outlinewidth": 0,
              "ticks": ""
             }
            },
            "type": "scattergl"
           }
          ],
          "scattermapbox": [
           {
            "marker": {
             "colorbar": {
              "outlinewidth": 0,
              "ticks": ""
             }
            },
            "type": "scattermapbox"
           }
          ],
          "scatterpolar": [
           {
            "marker": {
             "colorbar": {
              "outlinewidth": 0,
              "ticks": ""
             }
            },
            "type": "scatterpolar"
           }
          ],
          "scatterpolargl": [
           {
            "marker": {
             "colorbar": {
              "outlinewidth": 0,
              "ticks": ""
             }
            },
            "type": "scatterpolargl"
           }
          ],
          "scatterternary": [
           {
            "marker": {
             "colorbar": {
              "outlinewidth": 0,
              "ticks": ""
             }
            },
            "type": "scatterternary"
           }
          ],
          "surface": [
           {
            "colorbar": {
             "outlinewidth": 0,
             "ticks": ""
            },
            "colorscale": [
             [
              0,
              "#0d0887"
             ],
             [
              0.1111111111111111,
              "#46039f"
             ],
             [
              0.2222222222222222,
              "#7201a8"
             ],
             [
              0.3333333333333333,
              "#9c179e"
             ],
             [
              0.4444444444444444,
              "#bd3786"
             ],
             [
              0.5555555555555556,
              "#d8576b"
             ],
             [
              0.6666666666666666,
              "#ed7953"
             ],
             [
              0.7777777777777778,
              "#fb9f3a"
             ],
             [
              0.8888888888888888,
              "#fdca26"
             ],
             [
              1,
              "#f0f921"
             ]
            ],
            "type": "surface"
           }
          ],
          "table": [
           {
            "cells": {
             "fill": {
              "color": "#EBF0F8"
             },
             "line": {
              "color": "white"
             }
            },
            "header": {
             "fill": {
              "color": "#C8D4E3"
             },
             "line": {
              "color": "white"
             }
            },
            "type": "table"
           }
          ]
         },
         "layout": {
          "annotationdefaults": {
           "arrowcolor": "#2a3f5f",
           "arrowhead": 0,
           "arrowwidth": 1
          },
          "autotypenumbers": "strict",
          "coloraxis": {
           "colorbar": {
            "outlinewidth": 0,
            "ticks": ""
           }
          },
          "colorscale": {
           "diverging": [
            [
             0,
             "#8e0152"
            ],
            [
             0.1,
             "#c51b7d"
            ],
            [
             0.2,
             "#de77ae"
            ],
            [
             0.3,
             "#f1b6da"
            ],
            [
             0.4,
             "#fde0ef"
            ],
            [
             0.5,
             "#f7f7f7"
            ],
            [
             0.6,
             "#e6f5d0"
            ],
            [
             0.7,
             "#b8e186"
            ],
            [
             0.8,
             "#7fbc41"
            ],
            [
             0.9,
             "#4d9221"
            ],
            [
             1,
             "#276419"
            ]
           ],
           "sequential": [
            [
             0,
             "#0d0887"
            ],
            [
             0.1111111111111111,
             "#46039f"
            ],
            [
             0.2222222222222222,
             "#7201a8"
            ],
            [
             0.3333333333333333,
             "#9c179e"
            ],
            [
             0.4444444444444444,
             "#bd3786"
            ],
            [
             0.5555555555555556,
             "#d8576b"
            ],
            [
             0.6666666666666666,
             "#ed7953"
            ],
            [
             0.7777777777777778,
             "#fb9f3a"
            ],
            [
             0.8888888888888888,
             "#fdca26"
            ],
            [
             1,
             "#f0f921"
            ]
           ],
           "sequentialminus": [
            [
             0,
             "#0d0887"
            ],
            [
             0.1111111111111111,
             "#46039f"
            ],
            [
             0.2222222222222222,
             "#7201a8"
            ],
            [
             0.3333333333333333,
             "#9c179e"
            ],
            [
             0.4444444444444444,
             "#bd3786"
            ],
            [
             0.5555555555555556,
             "#d8576b"
            ],
            [
             0.6666666666666666,
             "#ed7953"
            ],
            [
             0.7777777777777778,
             "#fb9f3a"
            ],
            [
             0.8888888888888888,
             "#fdca26"
            ],
            [
             1,
             "#f0f921"
            ]
           ]
          },
          "colorway": [
           "#636efa",
           "#EF553B",
           "#00cc96",
           "#ab63fa",
           "#FFA15A",
           "#19d3f3",
           "#FF6692",
           "#B6E880",
           "#FF97FF",
           "#FECB52"
          ],
          "font": {
           "color": "#2a3f5f"
          },
          "geo": {
           "bgcolor": "white",
           "lakecolor": "white",
           "landcolor": "#E5ECF6",
           "showlakes": true,
           "showland": true,
           "subunitcolor": "white"
          },
          "hoverlabel": {
           "align": "left"
          },
          "hovermode": "closest",
          "mapbox": {
           "style": "light"
          },
          "paper_bgcolor": "white",
          "plot_bgcolor": "#E5ECF6",
          "polar": {
           "angularaxis": {
            "gridcolor": "white",
            "linecolor": "white",
            "ticks": ""
           },
           "bgcolor": "#E5ECF6",
           "radialaxis": {
            "gridcolor": "white",
            "linecolor": "white",
            "ticks": ""
           }
          },
          "scene": {
           "xaxis": {
            "backgroundcolor": "#E5ECF6",
            "gridcolor": "white",
            "gridwidth": 2,
            "linecolor": "white",
            "showbackground": true,
            "ticks": "",
            "zerolinecolor": "white"
           },
           "yaxis": {
            "backgroundcolor": "#E5ECF6",
            "gridcolor": "white",
            "gridwidth": 2,
            "linecolor": "white",
            "showbackground": true,
            "ticks": "",
            "zerolinecolor": "white"
           },
           "zaxis": {
            "backgroundcolor": "#E5ECF6",
            "gridcolor": "white",
            "gridwidth": 2,
            "linecolor": "white",
            "showbackground": true,
            "ticks": "",
            "zerolinecolor": "white"
           }
          },
          "shapedefaults": {
           "line": {
            "color": "#2a3f5f"
           }
          },
          "ternary": {
           "aaxis": {
            "gridcolor": "white",
            "linecolor": "white",
            "ticks": ""
           },
           "baxis": {
            "gridcolor": "white",
            "linecolor": "white",
            "ticks": ""
           },
           "bgcolor": "#E5ECF6",
           "caxis": {
            "gridcolor": "white",
            "linecolor": "white",
            "ticks": ""
           }
          },
          "title": {
           "x": 0.05
          },
          "xaxis": {
           "automargin": true,
           "gridcolor": "white",
           "linecolor": "white",
           "ticks": "",
           "title": {
            "standoff": 15
           },
           "zerolinecolor": "white",
           "zerolinewidth": 2
          },
          "yaxis": {
           "automargin": true,
           "gridcolor": "white",
           "linecolor": "white",
           "ticks": "",
           "title": {
            "standoff": 15
           },
           "zerolinecolor": "white",
           "zerolinewidth": 2
          }
         }
        },
        "xaxis": {
         "anchor": "y2",
         "domain": [
          0,
          1
         ],
         "zeroline": false
        },
        "yaxis": {
         "anchor": "free",
         "domain": [
          0.35,
          1
         ],
         "position": 0
        },
        "yaxis2": {
         "anchor": "x",
         "domain": [
          0,
          0.25
         ],
         "dtick": 1,
         "showticklabels": false
        }
       }
      },
      "text/html": [
       "<div>                            <div id=\"be63c1ff-7517-4e62-abf9-bd131f042b78\" class=\"plotly-graph-div\" style=\"height:525px; width:100%;\"></div>            <script type=\"text/javascript\">                require([\"plotly\"], function(Plotly) {                    window.PLOTLYENV=window.PLOTLYENV || {};                                    if (document.getElementById(\"be63c1ff-7517-4e62-abf9-bd131f042b78\")) {                    Plotly.newPlot(                        \"be63c1ff-7517-4e62-abf9-bd131f042b78\",                        [{\"autobinx\":false,\"histnorm\":\"probability density\",\"legendgroup\":\"distplot\",\"marker\":{\"color\":\"blue\"},\"name\":\"distplot\",\"opacity\":0.7,\"x\":[167,138,165,100,964,134,284,527,139,340,285,761,156,288,899,142,647,161,740,266,246,129,467,155,309,260,711,253,381,862,181,123,533,264,158,213,232,184,1018,147,105,196,110,602,195,170,321,273,312,465,148,209,492,170,492,63,492,146,231,263,53,160,234,441,181,245,381,327,138,441,193,149,267,279,554,173,405,191,424,141,202,161,833,241,201,290,433,306,393,287,1097,160,197,605,252,312,146,248,226,297],\"xaxis\":\"x\",\"xbins\":{\"end\":1097.0,\"size\":1.0,\"start\":53.0},\"yaxis\":\"y\",\"type\":\"histogram\"},{\"legendgroup\":\"distplot\",\"marker\":{\"color\":\"blue\"},\"mode\":\"lines\",\"name\":\"distplot\",\"showlegend\":false,\"x\":[53.0,55.088,57.176,59.264,61.352000000000004,63.44,65.528,67.616,69.70400000000001,71.792,73.88,75.968,78.056,80.144,82.232,84.32,86.408,88.49600000000001,90.584,92.672,94.75999999999999,96.848,98.936,101.024,103.112,105.2,107.288,109.376,111.464,113.55199999999999,115.64,117.728,119.816,121.904,123.992,126.08,128.168,130.256,132.344,134.43200000000002,136.51999999999998,138.608,140.696,142.784,144.872,146.95999999999998,149.048,151.136,153.224,155.312,157.4,159.488,161.576,163.664,165.752,167.84,169.928,172.01600000000002,174.10399999999998,176.192,178.28,180.368,182.456,184.544,186.632,188.72,190.808,192.896,194.984,197.072,199.16,201.248,203.336,205.424,207.512,209.6,211.688,213.776,215.864,217.952,220.04,222.128,224.216,226.304,228.392,230.48,232.568,234.656,236.744,238.832,240.92,243.008,245.096,247.184,249.272,251.36,253.448,255.536,257.624,259.712,261.8,263.88800000000003,265.976,268.06399999999996,270.152,272.24,274.328,276.416,278.504,280.592,282.68,284.76800000000003,286.856,288.94399999999996,291.03200000000004,293.12,295.20799999999997,297.296,299.384,301.472,303.56,305.648,307.736,309.824,311.912,314.0,316.088,318.176,320.264,322.352,324.44,326.528,328.616,330.704,332.792,334.88,336.968,339.056,341.144,343.232,345.32,347.408,349.496,351.584,353.672,355.76,357.848,359.936,362.024,364.112,366.2,368.288,370.376,372.464,374.552,376.64,378.728,380.816,382.904,384.992,387.08,389.168,391.256,393.344,395.432,397.52,399.608,401.696,403.784,405.872,407.96,410.048,412.136,414.224,416.312,418.4,420.488,422.576,424.664,426.752,428.84,430.928,433.016,435.104,437.192,439.28,441.368,443.456,445.544,447.632,449.72,451.808,453.896,455.984,458.072,460.16,462.248,464.336,466.424,468.512,470.6,472.688,474.776,476.864,478.952,481.04,483.128,485.216,487.304,489.392,491.48,493.568,495.656,497.744,499.832,501.92,504.008,506.096,508.184,510.272,512.36,514.448,516.5360000000001,518.624,520.712,522.8,524.8879999999999,526.976,529.0640000000001,531.152,533.24,535.328,537.4159999999999,539.504,541.592,543.6800000000001,545.768,547.856,549.944,552.0319999999999,554.12,556.2080000000001,558.296,560.384,562.472,564.56,566.648,568.736,570.824,572.912,575.0,577.088,579.176,581.264,583.352,585.44,587.528,589.616,591.704,593.792,595.88,597.968,600.056,602.144,604.232,606.32,608.408,610.496,612.584,614.672,616.76,618.848,620.936,623.024,625.112,627.2,629.288,631.376,633.464,635.552,637.64,639.728,641.816,643.904,645.992,648.08,650.168,652.256,654.344,656.432,658.52,660.608,662.696,664.784,666.872,668.96,671.048,673.136,675.224,677.312,679.4,681.488,683.576,685.664,687.752,689.84,691.928,694.016,696.104,698.192,700.28,702.368,704.456,706.544,708.632,710.72,712.808,714.896,716.984,719.072,721.16,723.248,725.336,727.424,729.512,731.6,733.688,735.776,737.864,739.952,742.04,744.128,746.216,748.304,750.392,752.48,754.568,756.656,758.744,760.832,762.92,765.008,767.096,769.184,771.272,773.36,775.448,777.536,779.624,781.712,783.8,785.888,787.976,790.064,792.152,794.24,796.328,798.416,800.504,802.592,804.68,806.768,808.856,810.944,813.032,815.12,817.208,819.296,821.384,823.472,825.56,827.648,829.736,831.824,833.912,836.0,838.088,840.176,842.264,844.352,846.44,848.528,850.616,852.704,854.792,856.88,858.968,861.056,863.144,865.232,867.32,869.408,871.496,873.584,875.672,877.76,879.848,881.936,884.024,886.112,888.2,890.288,892.376,894.464,896.552,898.64,900.728,902.816,904.904,906.992,909.08,911.168,913.256,915.344,917.432,919.52,921.608,923.696,925.784,927.872,929.96,932.048,934.136,936.224,938.312,940.4,942.488,944.576,946.664,948.752,950.84,952.928,955.016,957.104,959.192,961.28,963.368,965.456,967.544,969.632,971.72,973.808,975.896,977.984,980.072,982.16,984.248,986.336,988.424,990.512,992.6,994.688,996.776,998.864,1000.952,1003.04,1005.128,1007.216,1009.304,1011.392,1013.48,1015.568,1017.656,1019.744,1021.832,1023.92,1026.008,1028.096,1030.184,1032.272,1034.3600000000001,1036.4479999999999,1038.536,1040.624,1042.712,1044.8,1046.888,1048.976,1051.0639999999999,1053.152,1055.24,1057.328,1059.4160000000002,1061.504,1063.592,1065.6799999999998,1067.768,1069.856,1071.944,1074.0320000000002,1076.12,1078.208,1080.296,1082.384,1084.472,1086.56,1088.648,1090.736,1092.824,1094.912],\"xaxis\":\"x\",\"y\":[0.0010377202416153707,0.001065149237578548,0.0010928590385259826,0.0011208348184331693,0.0011490611244487563,0.0011775218909437267,0.0012062004551820055,0.0012350795745966372,0.001264141445649809,0.0012933677242491957,0.001322739547687231,0.0013522375580641097,0.0013818419271496656,0.001411532382633593,0.0014412882357080353,0.0014710884099212514,0.0015009114712358925,0.0015307356592205777,0.0015605389192987276,0.0015902989359742664,0.00161999316694965,0.0016495988780479644,0.0016790931788473187,0.0017084530589327582,0.0017376554246681625,0.0017666771363883344,0.001795495045909581,0.0018240860342556267,0.0018524270494946714,0.0018804951445828238,0.0019082675151089923,0.0019357215368366412,0.0019628348029385335,0.001989585160821874,0.0020159507484428106,0.002041910030011406,0.0020674418309906744,0.002092525372296163,0.002117140303605903,0.002141266735694227,0.002164885271706952,0.0021879770372998674,0.002210523709567075,0.0022325075446907403,0.002253911404249027,0.0022747187801244006,0.0022949138179601787,0.0023144813391189466,0.002333406861102446,0.0023516766163985685,0.0023692775697271118,0.002386197433662217,0.0024024246826153733,0.0024179485651690826,0.002432759114757234,0.002446847158694146,0.0024602043255600383,0.0024728230509562877,0.002484696581649258,0.0024958189781266573,0.0025061851155953837,0.002515790683454456,0.0025246321832810424,0.00253270692537165,0.002540013023884362,0.0025465493906313185,0.0025523157275737797,0.002557312518074763,0.0025615410169665706,0.002565003239492476,0.002567701949183429,0.0025696406447317677,0.0025708235459248646,0.0025712555787019593,0.002570942359397656,0.002569890178235236,0.0025681059821323978,0.002565597356881154,0.0025623725087624014,0.0025584402456542256,0.0025538099576912798,0.002548491597530584,0.002542495660276979,0.0025358331631189896,0.0025285156247234868,0.002520555044434703,0.0025119638813205177,0.002502755033105984,0.0024929418150312368,0.0024825379386678725,0.0024715574907250865,0.0024600149118737887,0.002447924975614155,0.002435302767209205,0.0024221636627042957,0.0024085233080498444,0.0023943975983421024,0.002379802657194489,0.0023647548162498877,0.002349270594842262,0.0023333666798142764,0.002317059905495942,0.0023003672338480336,0.002283305734772812,0.002265892566593731,0.002248144956705085,0.0022300801823920543,0.0022117155518214153,0.00219306838520311,0.002174155996123009,0.002154995673047668,0.002135604661002332,0.002116000143424266,0.002096199224194367,0.002076218909851041,0.002056076091991593,0.0020357875298675976,0.002015369833182206,0.001994839445098772,0.0019742126254717746,0.0019535054343125594,0.0019327337155040998,0.0019119130807804972,0.0018910588939886432,0.001870186255650924,0.0018493099878494142,0.0018284446194534064,0.0018076043717134304,0.0017868031442461732,0.0017660545014357891,0.0017453716592780001,0.0017247674726942712,0.0017042544233438488,0.0016838446079620352,0.0016635497272532267,0.0016433810753673842,0.0016233495299884156,0.0016034655430626928,0.0015837391321952927,0.0015641798727408789,0.0015447968906151497,0.0015255988558516144,0.00150659397692713,0.0014877899958780358,0.0014691941842270293,0.0014508133397389625,0.0014326537840216843,0.0014147213609857973,0.0013970214361748016,0.0013795588969745991,0.0013623381537086767,0.0013453631416225627,0.0013286373237583209,0.0013121636947169583,0.001295944785303712,0.0012799826680481288,0.0012642789635879672,0.0012488348479028752,0.0012336510603808669,0.001218727912697701,0.0012040652984863479,0.0011896627037709592,0.0011755192181370315,0.0011616335466068078,0.0011480040221865102,0.0011346286190495813,0.0011215049663179225,0.0011086303624010404,0.0010960017898511039,0.0010836159306902126,0.0010714691821646278,0.0010595576728793872,0.0010478772792655753,0.001036423642331593,0.0010251921846490494,0.0010141781275233696,0.0010033765082989316,0.0009927821977484372,0.0009823899174963703,0.0009721942574266937,0.0009621896930255206,0.0009523706026101874,0.00094273128439713,0.0009332659733620604,0.0009239688578472539,0.0009148340958722429,0.0009058558311058159,0.0008970282084590558,0.0008883453892610387,0.000879801565980897,0.0008713909764621234,0.0008631079176372701,0.0008549467586935719,0.0008469019536624828,0.0008389680534086226,0.0008311397169962204,0.0008234117224137355,0.000815778976639993,0.0008082365250378142,0.0008007795600637759,0.0007934034292853894,0.0007861036426995758,0.0007788758793489434,0.0007717159932348706,0.0007646200185288871,0.0007575841740862699,0.0007506048672680917,0.0007436786970801996,0.0007368024566397853,0.0007299731349822113,0.000723187918222756,0.000716444190089719,0.0007097395318470651,0.0007030717216263628,0.0006964387331892245,0.0006898387341427845,0.0006832700836319433,0.0006767313295331598,0.0006702212051755094,0.0006637386256154888,0.0006572826834927343,0.0006508526444943173,0.0006444479424556867,0.0006380681741265812,0.0006317130936303839,0.0006253826066454138,0.0006190767643365322,0.0006127957570652675,0.0006065399079063151,0.0006003096659978875,0.0005941055997528531,0.0005879283899570377,0.0005817788227803605,0.0005756577827257398,0.0005695662455398887,0.000563505271109217,0.0005574759963631638,0.0005514796282062647,0.0005455174364992539,0.0005395907471084585,0.000533700935041637,0.0005278494176873397,0.0005220376481737354,0.000516267108861739,0.0005105393049861504,0.0005048557584573997,0.0004992180018353706,0.0004936275724857081,0.00048808600692791174,0.00048259483538349175,0.000477155576531421,0.00047176973247713605,0.0004664387839403801,0.000461164185666261,0.00045594736206300295,0.00045078970306905615,0.00044569256025140167,0.00044065724313615385,0.00043568501577184786,0.0004307770935251316,0.0004259346401079717,0.00042115876483488996,0.00041645052010824224,0.0004118108991290451,0.0004072408338304084,0.00040274119303025245,0.0003983127807995882,0.00039395633504234,0.0003896725262823839,0.0003854619566532135,0.0003813251590854268,0.0003772625966870126,0.0003732746623112586,0.00036936167830693386,0.0003655238964452825,0.0003617614980182559,0.0003580745941023044,0.0003544632259819862,0.0003509273657275675,0.0003474669169207549,0.00034408171552261874,0.00034077153087776283,0.00033753606684872294,0.00033437496307456825,0.0003312877963476387,0.0003282740821023177,0.00032533327600971906,0.00032246477567213184,0.0003196679224110357,0.00031694200314247593,0.0003142862523335444,0.00031169985403369573,0.00030918194397458167,0.0003067316117320688,0.0003043479029440626,0.00030202982157774474,0.0002997763322398002,0.00029758636252319215,0.0002954588053840256,0.00029339252154204703,0.00029138634189830527,0.0002894390699635345,0.0002875494842908275,0.00028571634090620326,0.00028393837573073344,0.0002822143069879363,0.00028054283759025323,0.00027892265749849334,0.00027735244604827446,0.0002758308742376051,0.0002743566069699255,0.0002729283052470891,0.00027154462830697836,0.0002702042357006601,0.00026890578930423346,0.0002676479552607861,0.0002664294058481538,0.0002652488212685001,0.0002641048913560303,0.00026299631719952786,0.0002619218126767366,0.0002608801058980028,0.0002598699405569762,0.0002588900771865731,0.000257939294318813,0.00025701638954757274,0.00025612018049371034,0.00025524950567246086,0.0002544032252634239,0.00025358022178389506,0.0002527794006667233,0.0002519996907442868,0.00025124004464059706,0.00025049943907392577,0.00024977687507274474,0.0002490713781081164,0.0002483819981460315,0.00024770780962350203,0.00024704791135251653,0.0002464014263562396,0.0002457675016420719,0.00024514530791640635,0.0002445340392460915,0.0002439329126717585,0.00024334116777829083,0.0002427580662277811,0.00024218289126037298,0.00024161494716839257,0.00024105355874914078,0.00024049807074166113,0.00023994784725269816,0.00023940227117693296,0.00023886074361641508,0.00023832268330391685,0.0002377875260347167,0.00023725472411105554,0.00023672374580324372,0.00023619407483108502,0.0002356652098689663,0.00023513666407761854,0.00023460796466519762,0.0002340786524799601,0.0002335482816364351,0.0002330164191765945,0.0002324826447671427,0.00023194655043364505,0.00023140774033182798,0.00023086583055599135,0.00023032044898410066,0.00022977123515875318,0.00022921784020286086,0.00022865992676854736,0.00022809716901744644,0.00022752925263027542,0.0002269558748432953,0.0002263767445090009,0.00022579158217817406,0.00022520012020022363,0.00022460210283857163,0.00022399728639771046,0.0002233854393584385,0.0002227663425177173,0.0002221397891295398,0.0002215055850431906,0.00022086354883529678,0.00022021351193212018,0.0002195553187186091,0.0002188888266308583,0.00021821390622873513,0.00021753044124561658,0.00021683832861234842,0.00021613747845276716,0.00021542781404833693,0.0002147092717697219,0.00021398180097336676,0.0002132453638614475,0.00021249993530384642,0.0002117455026211035,0.00021098206532761278,0.00021020963483464117,0.00020942823411306617,0.00020863789731604735,0.00020783866936215228,0.0002070306054797763,0.0002062137707139887,0.00020538823939723143,0.00020455409458557943,0.00020371142746253453,0.00020286033671257519,0.00020200092786692634,0.0002011333126242186,0.00020025760814891352,0.00019937393635053688,0.00019848242314692843,0.00019758319771483388,0.0001966763917312885,0.00019576213860931726,0.0001948405727315401,0.00019391182868531862,0.00019297604050307778,0.00019203334091145308,0.00019108386059285958,0.00019012772746304635,0.0001891650659681152,0.0001881959964043974,0.00018722063426446564,0.00018623908961243197,0.00018525146649153354,0.00018425786236685103,0.00018325836760582073,0.00018225306499902513,0.00018124202932353484,0.00018022532695087726,0.00017920301550148208,0.00017817514354723674,0.00017714175036355129,0.00017610286573210455,0.00017505850979520626,0.0001740086929624742,0.00017295341587029634,0.0001718926693943034,0.0001708264347148638,0.00016975468343536832,0.0001686773777528679,0.0001675944706803999,0.00016650590632013798,0.00016541162018629703,0.00016431153957653175,0.0001632055839903864,0.000162093665593177,0.00016097568972352295,0.00015985155544259402,0.00015872115612298787,0.0001575843800750292,0.00015644111120814973,0.00015529122972490238,0.0001541346128450571,0.00015297113555714058,0.00015180067139469147,0.00015062309323444616,0.00014943827411359483,0.00014824608806321055,0.00014704641095490304,0.00014583912135772444,0.00014462410140232744,0.0001434012376493631,0.00014217042195910451,0.0001409315523592798,0.00013968453390811336,0.00013842927954959154,0.00013716571095799516,0.00013589375936877803,0.0001346133663929047,0.00013332448481181993,0.00013202707935026367,0.00013072112742421876,0.0001294066198613403,0.00012808356159128975,0.00012675197230348415,0.00012541188706984726,0.00012406335693025843,0.0001227064494384761,0.00012134124916643757,0.00011996785816493469,0.00011858639637878864,0.00011719700201477615,0.00011579983186067524,0.00011439506155395324,0.00011298288579874243,0.00011156351852990946,0.00011013719302316956,0.00010870416195035328,0.00010726469737910243,0.00010581909071642489,0.00010436765259572476,0.0001029107127070829,0.00010144861957075184,9.998174025400063e-05,9.851046003163556e-05,9.703518199069809e-05],\"yaxis\":\"y\",\"type\":\"scatter\"},{\"legendgroup\":\"distplot\",\"marker\":{\"color\":\"blue\",\"symbol\":\"line-ns-open\"},\"mode\":\"markers\",\"name\":\"distplot\",\"showlegend\":false,\"x\":[167,138,165,100,964,134,284,527,139,340,285,761,156,288,899,142,647,161,740,266,246,129,467,155,309,260,711,253,381,862,181,123,533,264,158,213,232,184,1018,147,105,196,110,602,195,170,321,273,312,465,148,209,492,170,492,63,492,146,231,263,53,160,234,441,181,245,381,327,138,441,193,149,267,279,554,173,405,191,424,141,202,161,833,241,201,290,433,306,393,287,1097,160,197,605,252,312,146,248,226,297],\"xaxis\":\"x\",\"y\":[\"distplot\",\"distplot\",\"distplot\",\"distplot\",\"distplot\",\"distplot\",\"distplot\",\"distplot\",\"distplot\",\"distplot\",\"distplot\",\"distplot\",\"distplot\",\"distplot\",\"distplot\",\"distplot\",\"distplot\",\"distplot\",\"distplot\",\"distplot\",\"distplot\",\"distplot\",\"distplot\",\"distplot\",\"distplot\",\"distplot\",\"distplot\",\"distplot\",\"distplot\",\"distplot\",\"distplot\",\"distplot\",\"distplot\",\"distplot\",\"distplot\",\"distplot\",\"distplot\",\"distplot\",\"distplot\",\"distplot\",\"distplot\",\"distplot\",\"distplot\",\"distplot\",\"distplot\",\"distplot\",\"distplot\",\"distplot\",\"distplot\",\"distplot\",\"distplot\",\"distplot\",\"distplot\",\"distplot\",\"distplot\",\"distplot\",\"distplot\",\"distplot\",\"distplot\",\"distplot\",\"distplot\",\"distplot\",\"distplot\",\"distplot\",\"distplot\",\"distplot\",\"distplot\",\"distplot\",\"distplot\",\"distplot\",\"distplot\",\"distplot\",\"distplot\",\"distplot\",\"distplot\",\"distplot\",\"distplot\",\"distplot\",\"distplot\",\"distplot\",\"distplot\",\"distplot\",\"distplot\",\"distplot\",\"distplot\",\"distplot\",\"distplot\",\"distplot\",\"distplot\",\"distplot\",\"distplot\",\"distplot\",\"distplot\",\"distplot\",\"distplot\",\"distplot\",\"distplot\",\"distplot\",\"distplot\",\"distplot\"],\"yaxis\":\"y2\",\"type\":\"scatter\"}],                        {\"barmode\":\"overlay\",\"hovermode\":\"closest\",\"legend\":{\"traceorder\":\"reversed\"},\"xaxis\":{\"anchor\":\"y2\",\"domain\":[0.0,1.0],\"zeroline\":false},\"yaxis\":{\"anchor\":\"free\",\"domain\":[0.35,1],\"position\":0.0},\"yaxis2\":{\"anchor\":\"x\",\"domain\":[0,0.25],\"dtick\":1,\"showticklabels\":false},\"template\":{\"data\":{\"bar\":[{\"error_x\":{\"color\":\"#2a3f5f\"},\"error_y\":{\"color\":\"#2a3f5f\"},\"marker\":{\"line\":{\"color\":\"#E5ECF6\",\"width\":0.5},\"pattern\":{\"fillmode\":\"overlay\",\"size\":10,\"solidity\":0.2}},\"type\":\"bar\"}],\"barpolar\":[{\"marker\":{\"line\":{\"color\":\"#E5ECF6\",\"width\":0.5},\"pattern\":{\"fillmode\":\"overlay\",\"size\":10,\"solidity\":0.2}},\"type\":\"barpolar\"}],\"carpet\":[{\"aaxis\":{\"endlinecolor\":\"#2a3f5f\",\"gridcolor\":\"white\",\"linecolor\":\"white\",\"minorgridcolor\":\"white\",\"startlinecolor\":\"#2a3f5f\"},\"baxis\":{\"endlinecolor\":\"#2a3f5f\",\"gridcolor\":\"white\",\"linecolor\":\"white\",\"minorgridcolor\":\"white\",\"startlinecolor\":\"#2a3f5f\"},\"type\":\"carpet\"}],\"choropleth\":[{\"colorbar\":{\"outlinewidth\":0,\"ticks\":\"\"},\"type\":\"choropleth\"}],\"contour\":[{\"colorbar\":{\"outlinewidth\":0,\"ticks\":\"\"},\"colorscale\":[[0.0,\"#0d0887\"],[0.1111111111111111,\"#46039f\"],[0.2222222222222222,\"#7201a8\"],[0.3333333333333333,\"#9c179e\"],[0.4444444444444444,\"#bd3786\"],[0.5555555555555556,\"#d8576b\"],[0.6666666666666666,\"#ed7953\"],[0.7777777777777778,\"#fb9f3a\"],[0.8888888888888888,\"#fdca26\"],[1.0,\"#f0f921\"]],\"type\":\"contour\"}],\"contourcarpet\":[{\"colorbar\":{\"outlinewidth\":0,\"ticks\":\"\"},\"type\":\"contourcarpet\"}],\"heatmap\":[{\"colorbar\":{\"outlinewidth\":0,\"ticks\":\"\"},\"colorscale\":[[0.0,\"#0d0887\"],[0.1111111111111111,\"#46039f\"],[0.2222222222222222,\"#7201a8\"],[0.3333333333333333,\"#9c179e\"],[0.4444444444444444,\"#bd3786\"],[0.5555555555555556,\"#d8576b\"],[0.6666666666666666,\"#ed7953\"],[0.7777777777777778,\"#fb9f3a\"],[0.8888888888888888,\"#fdca26\"],[1.0,\"#f0f921\"]],\"type\":\"heatmap\"}],\"heatmapgl\":[{\"colorbar\":{\"outlinewidth\":0,\"ticks\":\"\"},\"colorscale\":[[0.0,\"#0d0887\"],[0.1111111111111111,\"#46039f\"],[0.2222222222222222,\"#7201a8\"],[0.3333333333333333,\"#9c179e\"],[0.4444444444444444,\"#bd3786\"],[0.5555555555555556,\"#d8576b\"],[0.6666666666666666,\"#ed7953\"],[0.7777777777777778,\"#fb9f3a\"],[0.8888888888888888,\"#fdca26\"],[1.0,\"#f0f921\"]],\"type\":\"heatmapgl\"}],\"histogram\":[{\"marker\":{\"pattern\":{\"fillmode\":\"overlay\",\"size\":10,\"solidity\":0.2}},\"type\":\"histogram\"}],\"histogram2d\":[{\"colorbar\":{\"outlinewidth\":0,\"ticks\":\"\"},\"colorscale\":[[0.0,\"#0d0887\"],[0.1111111111111111,\"#46039f\"],[0.2222222222222222,\"#7201a8\"],[0.3333333333333333,\"#9c179e\"],[0.4444444444444444,\"#bd3786\"],[0.5555555555555556,\"#d8576b\"],[0.6666666666666666,\"#ed7953\"],[0.7777777777777778,\"#fb9f3a\"],[0.8888888888888888,\"#fdca26\"],[1.0,\"#f0f921\"]],\"type\":\"histogram2d\"}],\"histogram2dcontour\":[{\"colorbar\":{\"outlinewidth\":0,\"ticks\":\"\"},\"colorscale\":[[0.0,\"#0d0887\"],[0.1111111111111111,\"#46039f\"],[0.2222222222222222,\"#7201a8\"],[0.3333333333333333,\"#9c179e\"],[0.4444444444444444,\"#bd3786\"],[0.5555555555555556,\"#d8576b\"],[0.6666666666666666,\"#ed7953\"],[0.7777777777777778,\"#fb9f3a\"],[0.8888888888888888,\"#fdca26\"],[1.0,\"#f0f921\"]],\"type\":\"histogram2dcontour\"}],\"mesh3d\":[{\"colorbar\":{\"outlinewidth\":0,\"ticks\":\"\"},\"type\":\"mesh3d\"}],\"parcoords\":[{\"line\":{\"colorbar\":{\"outlinewidth\":0,\"ticks\":\"\"}},\"type\":\"parcoords\"}],\"pie\":[{\"automargin\":true,\"type\":\"pie\"}],\"scatter\":[{\"marker\":{\"colorbar\":{\"outlinewidth\":0,\"ticks\":\"\"}},\"type\":\"scatter\"}],\"scatter3d\":[{\"line\":{\"colorbar\":{\"outlinewidth\":0,\"ticks\":\"\"}},\"marker\":{\"colorbar\":{\"outlinewidth\":0,\"ticks\":\"\"}},\"type\":\"scatter3d\"}],\"scattercarpet\":[{\"marker\":{\"colorbar\":{\"outlinewidth\":0,\"ticks\":\"\"}},\"type\":\"scattercarpet\"}],\"scattergeo\":[{\"marker\":{\"colorbar\":{\"outlinewidth\":0,\"ticks\":\"\"}},\"type\":\"scattergeo\"}],\"scattergl\":[{\"marker\":{\"colorbar\":{\"outlinewidth\":0,\"ticks\":\"\"}},\"type\":\"scattergl\"}],\"scattermapbox\":[{\"marker\":{\"colorbar\":{\"outlinewidth\":0,\"ticks\":\"\"}},\"type\":\"scattermapbox\"}],\"scatterpolar\":[{\"marker\":{\"colorbar\":{\"outlinewidth\":0,\"ticks\":\"\"}},\"type\":\"scatterpolar\"}],\"scatterpolargl\":[{\"marker\":{\"colorbar\":{\"outlinewidth\":0,\"ticks\":\"\"}},\"type\":\"scatterpolargl\"}],\"scatterternary\":[{\"marker\":{\"colorbar\":{\"outlinewidth\":0,\"ticks\":\"\"}},\"type\":\"scatterternary\"}],\"surface\":[{\"colorbar\":{\"outlinewidth\":0,\"ticks\":\"\"},\"colorscale\":[[0.0,\"#0d0887\"],[0.1111111111111111,\"#46039f\"],[0.2222222222222222,\"#7201a8\"],[0.3333333333333333,\"#9c179e\"],[0.4444444444444444,\"#bd3786\"],[0.5555555555555556,\"#d8576b\"],[0.6666666666666666,\"#ed7953\"],[0.7777777777777778,\"#fb9f3a\"],[0.8888888888888888,\"#fdca26\"],[1.0,\"#f0f921\"]],\"type\":\"surface\"}],\"table\":[{\"cells\":{\"fill\":{\"color\":\"#EBF0F8\"},\"line\":{\"color\":\"white\"}},\"header\":{\"fill\":{\"color\":\"#C8D4E3\"},\"line\":{\"color\":\"white\"}},\"type\":\"table\"}]},\"layout\":{\"annotationdefaults\":{\"arrowcolor\":\"#2a3f5f\",\"arrowhead\":0,\"arrowwidth\":1},\"autotypenumbers\":\"strict\",\"coloraxis\":{\"colorbar\":{\"outlinewidth\":0,\"ticks\":\"\"}},\"colorscale\":{\"diverging\":[[0,\"#8e0152\"],[0.1,\"#c51b7d\"],[0.2,\"#de77ae\"],[0.3,\"#f1b6da\"],[0.4,\"#fde0ef\"],[0.5,\"#f7f7f7\"],[0.6,\"#e6f5d0\"],[0.7,\"#b8e186\"],[0.8,\"#7fbc41\"],[0.9,\"#4d9221\"],[1,\"#276419\"]],\"sequential\":[[0.0,\"#0d0887\"],[0.1111111111111111,\"#46039f\"],[0.2222222222222222,\"#7201a8\"],[0.3333333333333333,\"#9c179e\"],[0.4444444444444444,\"#bd3786\"],[0.5555555555555556,\"#d8576b\"],[0.6666666666666666,\"#ed7953\"],[0.7777777777777778,\"#fb9f3a\"],[0.8888888888888888,\"#fdca26\"],[1.0,\"#f0f921\"]],\"sequentialminus\":[[0.0,\"#0d0887\"],[0.1111111111111111,\"#46039f\"],[0.2222222222222222,\"#7201a8\"],[0.3333333333333333,\"#9c179e\"],[0.4444444444444444,\"#bd3786\"],[0.5555555555555556,\"#d8576b\"],[0.6666666666666666,\"#ed7953\"],[0.7777777777777778,\"#fb9f3a\"],[0.8888888888888888,\"#fdca26\"],[1.0,\"#f0f921\"]]},\"colorway\":[\"#636efa\",\"#EF553B\",\"#00cc96\",\"#ab63fa\",\"#FFA15A\",\"#19d3f3\",\"#FF6692\",\"#B6E880\",\"#FF97FF\",\"#FECB52\"],\"font\":{\"color\":\"#2a3f5f\"},\"geo\":{\"bgcolor\":\"white\",\"lakecolor\":\"white\",\"landcolor\":\"#E5ECF6\",\"showlakes\":true,\"showland\":true,\"subunitcolor\":\"white\"},\"hoverlabel\":{\"align\":\"left\"},\"hovermode\":\"closest\",\"mapbox\":{\"style\":\"light\"},\"paper_bgcolor\":\"white\",\"plot_bgcolor\":\"#E5ECF6\",\"polar\":{\"angularaxis\":{\"gridcolor\":\"white\",\"linecolor\":\"white\",\"ticks\":\"\"},\"bgcolor\":\"#E5ECF6\",\"radialaxis\":{\"gridcolor\":\"white\",\"linecolor\":\"white\",\"ticks\":\"\"}},\"scene\":{\"xaxis\":{\"backgroundcolor\":\"#E5ECF6\",\"gridcolor\":\"white\",\"gridwidth\":2,\"linecolor\":\"white\",\"showbackground\":true,\"ticks\":\"\",\"zerolinecolor\":\"white\"},\"yaxis\":{\"backgroundcolor\":\"#E5ECF6\",\"gridcolor\":\"white\",\"gridwidth\":2,\"linecolor\":\"white\",\"showbackground\":true,\"ticks\":\"\",\"zerolinecolor\":\"white\"},\"zaxis\":{\"backgroundcolor\":\"#E5ECF6\",\"gridcolor\":\"white\",\"gridwidth\":2,\"linecolor\":\"white\",\"showbackground\":true,\"ticks\":\"\",\"zerolinecolor\":\"white\"}},\"shapedefaults\":{\"line\":{\"color\":\"#2a3f5f\"}},\"ternary\":{\"aaxis\":{\"gridcolor\":\"white\",\"linecolor\":\"white\",\"ticks\":\"\"},\"baxis\":{\"gridcolor\":\"white\",\"linecolor\":\"white\",\"ticks\":\"\"},\"bgcolor\":\"#E5ECF6\",\"caxis\":{\"gridcolor\":\"white\",\"linecolor\":\"white\",\"ticks\":\"\"}},\"title\":{\"x\":0.05},\"xaxis\":{\"automargin\":true,\"gridcolor\":\"white\",\"linecolor\":\"white\",\"ticks\":\"\",\"title\":{\"standoff\":15},\"zerolinecolor\":\"white\",\"zerolinewidth\":2},\"yaxis\":{\"automargin\":true,\"gridcolor\":\"white\",\"linecolor\":\"white\",\"ticks\":\"\",\"title\":{\"standoff\":15},\"zerolinecolor\":\"white\",\"zerolinewidth\":2}}},\"showlegend\":false},                        {\"responsive\": true}                    ).then(function(){\n",
       "                            \n",
       "var gd = document.getElementById('be63c1ff-7517-4e62-abf9-bd131f042b78');\n",
       "var x = new MutationObserver(function (mutations, observer) {{\n",
       "        var display = window.getComputedStyle(gd).display;\n",
       "        if (!display || display === 'none') {{\n",
       "            console.log([gd, 'removed!']);\n",
       "            Plotly.purge(gd);\n",
       "            observer.disconnect();\n",
       "        }}\n",
       "}});\n",
       "\n",
       "// Listen for the removal of the full notebook cells\n",
       "var notebookContainer = gd.closest('#notebook-container');\n",
       "if (notebookContainer) {{\n",
       "    x.observe(notebookContainer, {childList: true});\n",
       "}}\n",
       "\n",
       "// Listen for the clearing of the current output cell\n",
       "var outputEl = gd.closest('.output');\n",
       "if (outputEl) {{\n",
       "    x.observe(outputEl, {childList: true});\n",
       "}}\n",
       "\n",
       "                        })                };                });            </script>        </div>"
      ]
     },
     "metadata": {},
     "output_type": "display_data"
    }
   ],
   "source": [
    "tsp.show_distplot('doc_len')"
   ]
  },
  {
   "cell_type": "code",
   "execution_count": 10,
   "id": "1a105a29",
   "metadata": {},
   "outputs": [],
   "source": [
    "# IDF\n",
    "# vectorizer = TfidfVectorizer(min_df=1)\n",
    "# X = vectorizer.fit_transform(imdb_train[\"text\"])\n",
    "# idf = vectorizer.idf_\n",
    "# token_score_dict = dict(zip(vectorizer.get_feature_names(), idf))\n",
    "\n",
    "# Word Count\n",
    "token_score_dict = tsp.analysis.token_to_count_dict"
   ]
  },
  {
   "cell_type": "code",
   "execution_count": 11,
   "id": "e9241d81",
   "metadata": {},
   "outputs": [
    {
     "name": "stderr",
     "output_type": "stream",
     "text": [
      "/Users/meghdad/Code/wordview/venv/lib/python3.9/site-packages/scipy/stats/_morestats.py:1816: UserWarning:\n",
      "\n",
      "p-value may not be accurate for N > 5000.\n",
      "\n",
      "normaldist      - 50 - ERROR - The provided values cannot be gaussanized. Please consider using another anomaly detection method.\n"
     ]
    }
   ],
   "source": [
    "nda = NormalDistAnomalies(items=token_score_dict, gaussianization_strategy='brute')"
   ]
  },
  {
   "cell_type": "code",
   "execution_count": 12,
   "id": "61f888a2",
   "metadata": {},
   "outputs": [
    {
     "data": {
      "text/html": [
       "<div>\n",
       "<style scoped>\n",
       "    .dataframe tbody tr th:only-of-type {\n",
       "        vertical-align: middle;\n",
       "    }\n",
       "\n",
       "    .dataframe tbody tr th {\n",
       "        vertical-align: top;\n",
       "    }\n",
       "\n",
       "    .dataframe thead th {\n",
       "        text-align: right;\n",
       "    }\n",
       "</style>\n",
       "<table border=\"1\" class=\"dataframe\">\n",
       "  <thead>\n",
       "    <tr style=\"text-align: right;\">\n",
       "      <th></th>\n",
       "      <th>item</th>\n",
       "      <th>representative_value</th>\n",
       "    </tr>\n",
       "  </thead>\n",
       "  <tbody>\n",
       "    <tr>\n",
       "      <th>0</th>\n",
       "      <td>``</td>\n",
       "      <td>174</td>\n",
       "    </tr>\n",
       "    <tr>\n",
       "      <th>1</th>\n",
       "      <td>laughter</td>\n",
       "      <td>2</td>\n",
       "    </tr>\n",
       "    <tr>\n",
       "      <th>2</th>\n",
       "      <td>state</td>\n",
       "      <td>1</td>\n",
       "    </tr>\n",
       "    <tr>\n",
       "      <th>3</th>\n",
       "      <td>mind</td>\n",
       "      <td>12</td>\n",
       "    </tr>\n",
       "    <tr>\n",
       "      <th>4</th>\n",
       "      <td>''</td>\n",
       "      <td>201</td>\n",
       "    </tr>\n",
       "    <tr>\n",
       "      <th>...</th>\n",
       "      <td>...</td>\n",
       "      <td>...</td>\n",
       "    </tr>\n",
       "    <tr>\n",
       "      <th>995</th>\n",
       "      <td>respect</td>\n",
       "      <td>2</td>\n",
       "    </tr>\n",
       "    <tr>\n",
       "      <th>996</th>\n",
       "      <td>madsen.</td>\n",
       "      <td>1</td>\n",
       "    </tr>\n",
       "    <tr>\n",
       "      <th>997</th>\n",
       "      <td>madsen</td>\n",
       "      <td>10</td>\n",
       "    </tr>\n",
       "    <tr>\n",
       "      <th>998</th>\n",
       "      <td>drops</td>\n",
       "      <td>3</td>\n",
       "    </tr>\n",
       "    <tr>\n",
       "      <th>999</th>\n",
       "      <td>knees</td>\n",
       "      <td>2</td>\n",
       "    </tr>\n",
       "  </tbody>\n",
       "</table>\n",
       "<p>1000 rows × 2 columns</p>\n",
       "</div>"
      ],
      "text/plain": [
       "         item  representative_value\n",
       "0          ``                   174\n",
       "1    laughter                     2\n",
       "2       state                     1\n",
       "3        mind                    12\n",
       "4          ''                   201\n",
       "..        ...                   ...\n",
       "995   respect                     2\n",
       "996   madsen.                     1\n",
       "997    madsen                    10\n",
       "998     drops                     3\n",
       "999     knees                     2\n",
       "\n",
       "[1000 rows x 2 columns]"
      ]
     },
     "execution_count": 12,
     "metadata": {},
     "output_type": "execute_result"
    }
   ],
   "source": [
    "nda.item_value_df.head(1000)"
   ]
  },
  {
   "cell_type": "code",
   "execution_count": 13,
   "id": "f1192867",
   "metadata": {},
   "outputs": [
    {
     "ename": "AttributeError",
     "evalue": "'NormalDistAnomalies' object has no attribute 'show_plot'",
     "output_type": "error",
     "traceback": [
      "\u001b[0;31m---------------------------------------------------------------------------\u001b[0m",
      "\u001b[0;31mAttributeError\u001b[0m                            Traceback (most recent call last)",
      "Cell \u001b[0;32mIn[13], line 1\u001b[0m\n\u001b[0;32m----> 1\u001b[0m \u001b[43mnda\u001b[49m\u001b[38;5;241;43m.\u001b[39;49m\u001b[43mshow_plot\u001b[49m(\u001b[38;5;28mtype\u001b[39m\u001b[38;5;241m=\u001b[39m\u001b[38;5;124m'\u001b[39m\u001b[38;5;124mnormal\u001b[39m\u001b[38;5;124m'\u001b[39m, bin_size\u001b[38;5;241m=\u001b[39m\u001b[38;5;241m1\u001b[39m)\n",
      "\u001b[0;31mAttributeError\u001b[0m: 'NormalDistAnomalies' object has no attribute 'show_plot'"
     ]
    }
   ],
   "source": [
    "nda.show_plot(type='normal', bin_size=1)"
   ]
  },
  {
   "cell_type": "code",
   "execution_count": 14,
   "id": "18d3c83b",
   "metadata": {
    "scrolled": true
   },
   "outputs": [
    {
     "ename": "AttributeError",
     "evalue": "'NormalDistAnomalies' object has no attribute 'show_plot'",
     "output_type": "error",
     "traceback": [
      "\u001b[0;31m---------------------------------------------------------------------------\u001b[0m",
      "\u001b[0;31mAttributeError\u001b[0m                            Traceback (most recent call last)",
      "Cell \u001b[0;32mIn[14], line 1\u001b[0m\n\u001b[0;32m----> 1\u001b[0m \u001b[43mnda\u001b[49m\u001b[38;5;241;43m.\u001b[39;49m\u001b[43mshow_plot\u001b[49m()\n",
      "\u001b[0;31mAttributeError\u001b[0m: 'NormalDistAnomalies' object has no attribute 'show_plot'"
     ]
    }
   ],
   "source": [
    "nda.show_plot()"
   ]
  },
  {
   "cell_type": "markdown",
   "id": "ac975326",
   "metadata": {},
   "source": [
    "## Anomaly Experiments"
   ]
  },
  {
   "cell_type": "code",
   "execution_count": null,
   "id": "baf9dafb",
   "metadata": {},
   "outputs": [],
   "source": [
    "from wordview.anomaly import gaussianize\n",
    "from numpy.random import randn\n",
    "\n",
    "# values = data = randn(1000)\n",
    "values = nda.item_value_df['guassian_values']\n",
    "values2 = nda.item_value_df['representative_value']\n",
    "\n",
    "g = gaussianize.Gaussianize(strategy='lambert')\n",
    "g.fit(values)\n",
    "res = g.transform(values)\n",
    "# res = res.flatten().tolist()\n",
    "\n",
    "\n",
    "print(shapiro(res).pvalue)\n",
    "\n",
    "def show_fig(x, curve_type):\n",
    "    fig = ff.create_distplot(\n",
    "            [x],\n",
    "            group_labels=['Value'],\n",
    "            bin_size=1,\n",
    "            curve_type=curve_type,  # override default 'kde'\n",
    "        )\n",
    "    fig.show()\n",
    "\n",
    "# show_fig(x=values, curve_type='normal')\n",
    "# show_fig(x=values2, curve_type='kde')\n",
    "\n",
    "\n",
    "# print(values)\n",
    "# print('==========')\n",
    "# print(res.flatten().tolist())"
   ]
  },
  {
   "cell_type": "markdown",
   "id": "58634a67",
   "metadata": {},
   "source": [
    "### Use of shapiro test"
   ]
  },
  {
   "cell_type": "code",
   "execution_count": null,
   "id": "8bc06acb",
   "metadata": {},
   "outputs": [],
   "source": [
    "# from scipy.stats import norm\n",
    "from scipy.stats import shapiro\n",
    "\n",
    "my_data = nda.item_value_df['representative_value']\n",
    "shapiro(my_data.to_list())"
   ]
  },
  {
   "cell_type": "code",
   "execution_count": null,
   "id": "e798aefa",
   "metadata": {},
   "outputs": [],
   "source": [
    "my_data = nda.item_value_df['guassian_values']\n",
    "shapiro(my_data.to_list())"
   ]
  },
  {
   "cell_type": "code",
   "execution_count": null,
   "id": "305df50a",
   "metadata": {},
   "outputs": [],
   "source": [
    "from numpy.random import randn\n",
    "my_data = randn(1000)\n",
    "print(shapiro(my_data))\n",
    "print(kstest(my_data, 'norm'))"
   ]
  },
  {
   "cell_type": "code",
   "execution_count": null,
   "id": "9e4b663d",
   "metadata": {},
   "outputs": [],
   "source": [
    "print(shapiro(nda.item_value_df['guassian_values'].tolist()))\n",
    "print(kstest(nda.item_value_df['guassian_values'].tolist(), 'norm'))\n",
    "show_fig(x=nda.item_value_df['guassian_values'], curve_type='normal')"
   ]
  },
  {
   "cell_type": "markdown",
   "id": "d6b0c7b9",
   "metadata": {},
   "source": [
    "### Use of px"
   ]
  },
  {
   "cell_type": "code",
   "execution_count": null,
   "id": "e10e293e",
   "metadata": {},
   "outputs": [],
   "source": [
    "import plotly.express as px\n",
    "df = px.data.tips()\n",
    "fig = px.histogram(df, x=\"total_bill\", y=\"tip\", color=\"sex\", marginal=\"rug\",\n",
    "                   hover_data=df.columns)\n",
    "fig.show()\n",
    "df.head()"
   ]
  },
  {
   "cell_type": "code",
   "execution_count": null,
   "id": "9173518b",
   "metadata": {},
   "outputs": [],
   "source": [
    "fig = px.histogram(nda.item_value_df, x=\"guassian_values\")\n",
    "fig.show()\n",
    "fig2 = px.histogram(nda.item_value_df, x=\"representative_value\")\n",
    "fig2.show()"
   ]
  },
  {
   "cell_type": "markdown",
   "id": "46f38316",
   "metadata": {},
   "source": [
    "## Text Analysis"
   ]
  },
  {
   "cell_type": "code",
   "execution_count": null,
   "id": "b11fa835",
   "metadata": {},
   "outputs": [],
   "source": [
    "tsp.show_stats()"
   ]
  },
  {
   "cell_type": "code",
   "execution_count": null,
   "id": "be1b1d2e",
   "metadata": {},
   "outputs": [],
   "source": [
    "# tsp.show_distplot(plot='doc_len')\n",
    "tsp.show_distplot(plot='word_frequency_zipf')"
   ]
  },
  {
   "cell_type": "code",
   "execution_count": null,
   "id": "0b37c7ae",
   "metadata": {},
   "outputs": [],
   "source": [
    "tsp.show_word_clouds(type=\"JJ\")"
   ]
  },
  {
   "cell_type": "code",
   "execution_count": null,
   "id": "7c4cd67f",
   "metadata": {},
   "outputs": [],
   "source": [
    "# import plotly.graph_objs as go\n",
    "# import plotly.figure_factory as ff\n",
    "# fig_w_freq = go.Figure()\n",
    "# fig_w_freq.add_trace(go.Scattergl(x=tsp.analysis.zipf_x,\n",
    "#                                               y=tsp.analysis.zipf_y_emp,\n",
    "#                                               mode='markers',\n",
    "#                                               marker=dict(\n",
    "#                                                     color=tsp.analysis.zipf_x,\n",
    "#                                                     colorscale='Tealgrn',\n",
    "#                                                     )\n",
    "#                                             )\n",
    "#                                 )\n",
    "# fig_w_freq.add_trace(go.Scattergl(x=tsp.analysis.zipf_x,\n",
    "#                                   y=tsp.analysis.zipf_y_theory,\n",
    "#                                   mode='markers',\n",
    "#                                   marker=dict(color=tsp.analysis.zipf_x,\n",
    "#                                               colorscale='Reds'\n",
    "#                                              )\n",
    "#                                  )\n",
    "#                     )\n",
    "\n",
    "# dist_plot_setup = {\n",
    "#             # 'paper_bgcolor': '#007A78',\n",
    "#             'showlegend' : False\n",
    "#             }\n",
    "# fig_w_freq.update_layout(dist_plot_setup)\n",
    "# fig_w_freq.show()"
   ]
  },
  {
   "cell_type": "code",
   "execution_count": null,
   "id": "87bb4ad5",
   "metadata": {},
   "outputs": [],
   "source": [
    "import numpy as np\n",
    "import random\n",
    "\n",
    "# In addition to the original label, for illustration purpose, let's create two random labels:\n",
    "imdb_train['numerical_label'] = np.random.randint(1, 500, imdb_train.shape[0])\n",
    "imdb_train['label2'] = random.choices(['a', 'b', 'c', 'd'], [0.2, 0.5, 0.8, 0.9], k=imdb_train.shape[0])\n",
    "imdb_train['numerical_label2'] = np.random.randint(1, 500, imdb_train.shape[0])"
   ]
  },
  {
   "cell_type": "code",
   "execution_count": null,
   "id": "83c89ab6",
   "metadata": {},
   "outputs": [],
   "source": [
    "lsp = LabelStatsPlots(df=imdb_train, label_columns=[('label', 'categorical'),\n",
    "                                                    ('label2', 'categorical'),\n",
    "                                                    ('numerical_label', 'numerical'),\n",
    "                                                    ('numerical_label2', 'numerical')\n",
    "                                                   ]\n",
    "                     )"
   ]
  },
  {
   "cell_type": "code",
   "execution_count": null,
   "id": "1c104f2d",
   "metadata": {},
   "outputs": [],
   "source": [
    "lsp.show_label_plots()"
   ]
  },
  {
   "cell_type": "code",
   "execution_count": null,
   "id": "316c670f",
   "metadata": {},
   "outputs": [],
   "source": [
    "# lsp.labels_fig.write_html('tmp.html')"
   ]
  },
  {
   "cell_type": "code",
   "execution_count": null,
   "id": "13b42dc2",
   "metadata": {},
   "outputs": [],
   "source": [
    "import plotly.graph_objects as go\n",
    "from plotly.subplots import make_subplots\n",
    "t1 = go.Histogram(x=imdb_train['numerical_labe2'],\n",
    "                  marker=dict(line=dict(width=0.8,\n",
    "                                        color=\"white\")\n",
    "                             )\n",
    "                 )\n",
    "figure = make_subplots(rows=1, cols=1)\n",
    "figure.append_trace(t1, 1, 1)\n",
    "figure.show()"
   ]
  },
  {
   "cell_type": "code",
   "execution_count": null,
   "id": "f451dddd",
   "metadata": {},
   "outputs": [],
   "source": [
    "t1 = go.Histogram(x=imdb_train['numerical_labe2'],\n",
    "                  marker=dict(line=dict(width=0.8,\n",
    "                                        color=\"white\")\n",
    "                             )\n",
    "                 )\n",
    "figure = make_subplots(rows=1, cols=1)\n",
    "figure.append_trace(t1, 1, 1)\n",
    "figure.show()"
   ]
  },
  {
   "cell_type": "code",
   "execution_count": null,
   "id": "0663a142",
   "metadata": {},
   "outputs": [],
   "source": [
    "import plotly.express as px\n",
    "res = imdb_train['new_label'].value_counts()\n",
    "res.columns = ['label', 'count']\n",
    "fig = px.box(res)\n",
    "\n",
    "fig.update_traces(quartilemethod=\"exclusive\") # or \"inclusive\", or \"linear\" by default\n",
    "fig.show()"
   ]
  },
  {
   "cell_type": "code",
   "execution_count": null,
   "id": "b4cbfa32",
   "metadata": {},
   "outputs": [],
   "source": [
    "from wordview.mwes import MWE"
   ]
  },
  {
   "cell_type": "code",
   "execution_count": null,
   "id": "d113aeed",
   "metadata": {},
   "outputs": [],
   "source": [
    "mwe = MWE(df=imdb_train, mwe_types=[\"NC\", \"JNC\"], text_column='text')"
   ]
  },
  {
   "cell_type": "code",
   "execution_count": null,
   "id": "ca69da3f",
   "metadata": {},
   "outputs": [],
   "source": [
    "mwe.build_counts(counts_filename='../tmp/counts.json')"
   ]
  },
  {
   "cell_type": "code",
   "execution_count": null,
   "id": "2eec30d1",
   "metadata": {},
   "outputs": [],
   "source": [
    "mwes_dict = mwe.extract_mwes(counts_filename='../tmp/counts.json', mwes_filename='../tmp/mwes1.json')\n",
    "mwes_nc = {k: v for k, v in mwes_dict['NC'].items()}\n",
    "top_mwes_nc = [[k, v] for k,v in mwes_nc.items()][:10]\n",
    "print(tabulate(top_mwes_nc, tablefmt=\"double_outline\"))"
   ]
  },
  {
   "cell_type": "code",
   "execution_count": null,
   "id": "a03eb424",
   "metadata": {},
   "outputs": [],
   "source": [
    "mwe.extract_mwes(counts_filename='../tmp/counts.json', mwes_filename='../tmp/mwes.json')"
   ]
  },
  {
   "cell_type": "code",
   "execution_count": null,
   "id": "94d83f5f",
   "metadata": {},
   "outputs": [],
   "source": [
    "from wordview.mwes import hyphenate_mwes"
   ]
  },
  {
   "cell_type": "code",
   "execution_count": null,
   "id": "bbb4c377",
   "metadata": {},
   "outputs": [],
   "source": [
    "new_df = hyphenate_mwes(path_to_mwes='../tmp/mwes.json', mwe_types=['NC', 'JNC'], df=imdb_train, text_column='text')"
   ]
  },
  {
   "cell_type": "code",
   "execution_count": null,
   "id": "25d891ff",
   "metadata": {},
   "outputs": [],
   "source": [
    "from wordview.preprocessing import RedunTerms\n",
    "rt = RedunTerms(imdb_train[\"text\"], method='idf')"
   ]
  },
  {
   "cell_type": "code",
   "execution_count": null,
   "id": "1382733a",
   "metadata": {},
   "outputs": [],
   "source": [
    "with open('../tmp/counts.json') as json_file:\n",
    "    counts_dict = json.load(json_file)\n",
    "with open('../tmp/mwes.json') as json_file:\n",
    "    mwes_dict = json.load(json_file)"
   ]
  },
  {
   "cell_type": "code",
   "execution_count": null,
   "id": "911de241",
   "metadata": {},
   "outputs": [],
   "source": [
    "nc_counts = {k: v for k, v in sorted(counts_dict['NC'].items(), key=lambda item: item[1], reverse=True)}\n",
    "nc_association = {k: v for k, v in mwes_dict['NC'].items()}"
   ]
  },
  {
   "cell_type": "code",
   "execution_count": null,
   "id": "d1b8d3cc",
   "metadata": {},
   "outputs": [],
   "source": [
    "top_nc_table = [[k, v] for k,v in nc_counts.items()][:10]\n",
    "top_nc_association_table = [[k, v] for k,v in nc_association.items()][:10]"
   ]
  },
  {
   "cell_type": "code",
   "execution_count": null,
   "id": "0161b1c3",
   "metadata": {},
   "outputs": [],
   "source": [
    "print(tabulate(top_nc_table, tablefmt=\"simple_grid\"))"
   ]
  },
  {
   "cell_type": "code",
   "execution_count": null,
   "id": "c566f4fa",
   "metadata": {},
   "outputs": [],
   "source": [
    "tformat = \"double_outline\" #simple_grid\"\n",
    "print(tabulate(top_nc_association_table, tablefmt=tformat))"
   ]
  },
  {
   "cell_type": "code",
   "execution_count": null,
   "id": "9a3b9045",
   "metadata": {},
   "outputs": [],
   "source": []
  }
 ],
 "metadata": {
  "kernelspec": {
   "display_name": "Python 3 (ipykernel)",
   "language": "python",
   "name": "python3"
  },
  "language_info": {
   "codemirror_mode": {
    "name": "ipython",
    "version": 3
   },
   "file_extension": ".py",
   "mimetype": "text/x-python",
   "name": "python",
   "nbconvert_exporter": "python",
   "pygments_lexer": "ipython3",
   "version": "3.9.10"
  }
 },
 "nbformat": 4,
 "nbformat_minor": 5
}
