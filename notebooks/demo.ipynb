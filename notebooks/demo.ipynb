{
 "cells": [
  {
   "cell_type": "code",
   "execution_count": null,
   "id": "b1ec5af2",
   "metadata": {},
   "outputs": [],
   "source": [
    "from wordview.text_analysis import TextStatsPlots, LabelStatsPlots\n",
    "from wordview.anomaly import NormalDistAnomalies\n",
    "import pandas as pd\n",
    "import json\n",
    "from tabulate import tabulate\n",
    "from sklearn.feature_extraction.text import TfidfVectorizer\n",
    "import plotly.figure_factory as ff"
   ]
  },
  {
   "cell_type": "code",
   "execution_count": null,
   "id": "a1ea4b12",
   "metadata": {},
   "outputs": [],
   "source": [
    "imdb_train = pd.read_csv('../data/imdb_train_sample.tsv', sep='\\t', names=['label', 'text'])\n",
    "imdb_train = imdb_train.sample(100)"
   ]
  },
  {
   "cell_type": "code",
   "execution_count": null,
   "id": "04a7a0a2",
   "metadata": {},
   "outputs": [],
   "source": [
    "tsp = TextStatsPlots(df=imdb_train, text_column='text')"
   ]
  },
  {
   "cell_type": "code",
   "execution_count": null,
   "id": "1caa0d0f",
   "metadata": {},
   "outputs": [],
   "source": [
    "tsp.show_word_clouds('NN')"
   ]
  },
  {
   "cell_type": "code",
   "execution_count": null,
   "id": "66e38869",
   "metadata": {},
   "outputs": [],
   "source": [
    "tsp.create_pos_plots(go_plot_settings={'plot_bgcolor': 'rgba(0, 0, 0, 0)',\n",
    "                                        'plot_bgcolor': 'rgba(0, 0, 0, 0)'},\n",
    "                     wc_settings={'color':'red', 'max_words':1000})['noun_cloud'].show()"
   ]
  },
  {
   "cell_type": "code",
   "execution_count": null,
   "id": "a217c266",
   "metadata": {},
   "outputs": [],
   "source": [
    "tsp.show_word_clouds(pos=\"NN\",\n",
    "                     go_plot_settings={'plot_bgcolor': 'rgba(0, 0, 0, 0)',\n",
    "                                        'plot_bgcolor': 'rgba(0, 0, 0, 0)'},\n",
    "                     wc_settings={'color':'deepskyblue', 'max_words':10}\n",
    "                    )"
   ]
  },
  {
   "cell_type": "code",
   "execution_count": null,
   "id": "8fb4f2c8",
   "metadata": {},
   "outputs": [],
   "source": [
    "tsp.show_distplot('doc_len')"
   ]
  },
  {
   "cell_type": "code",
   "execution_count": null,
   "id": "1a105a29",
   "metadata": {},
   "outputs": [],
   "source": [
    "# IDF\n",
    "# vectorizer = TfidfVectorizer(min_df=1)\n",
    "# X = vectorizer.fit_transform(imdb_train[\"text\"])\n",
    "# idf = vectorizer.idf_\n",
    "# token_score_dict = dict(zip(vectorizer.get_feature_names(), idf))\n",
    "\n",
    "# Word Count\n",
    "token_score_dict = tsp.analysis.token_to_count_dict"
   ]
  },
  {
   "cell_type": "code",
   "execution_count": null,
   "id": "e9241d81",
   "metadata": {},
   "outputs": [],
   "source": [
    "nda = NormalDistAnomalies(items=token_score_dict, gaussianization_strategy='brute')"
   ]
  },
  {
   "cell_type": "code",
   "execution_count": null,
   "id": "61f888a2",
   "metadata": {},
   "outputs": [],
   "source": [
    "nda.item_value_df.head(1000)"
   ]
  },
  {
   "cell_type": "code",
   "execution_count": null,
   "id": "f1192867",
   "metadata": {},
   "outputs": [],
   "source": [
    "nda.show_plot(type='normal', bin_size=1)"
   ]
  },
  {
   "cell_type": "code",
   "execution_count": null,
   "id": "18d3c83b",
   "metadata": {
    "scrolled": true
   },
   "outputs": [],
   "source": [
    "nda.show_plot()"
   ]
  },
  {
   "cell_type": "markdown",
   "id": "ac975326",
   "metadata": {},
   "source": [
    "## Anomaly Experiments"
   ]
  },
  {
   "cell_type": "code",
   "execution_count": null,
   "id": "baf9dafb",
   "metadata": {},
   "outputs": [],
   "source": [
    "from wordview.anomaly import gaussianize\n",
    "from numpy.random import randn\n",
    "\n",
    "# values = data = randn(1000)\n",
    "values = nda.item_value_df['guassian_values']\n",
    "values2 = nda.item_value_df['representative_value']\n",
    "\n",
    "g = gaussianize.Gaussianize(strategy='lambert')\n",
    "g.fit(values)\n",
    "res = g.transform(values)\n",
    "# res = res.flatten().tolist()\n",
    "\n",
    "\n",
    "print(shapiro(res).pvalue)\n",
    "\n",
    "def show_fig(x, curve_type):\n",
    "    fig = ff.create_distplot(\n",
    "            [x],\n",
    "            group_labels=['Value'],\n",
    "            bin_size=1,\n",
    "            curve_type=curve_type,  # override default 'kde'\n",
    "        )\n",
    "    fig.show()\n",
    "\n",
    "# show_fig(x=values, curve_type='normal')\n",
    "# show_fig(x=values2, curve_type='kde')\n",
    "\n",
    "\n",
    "# print(values)\n",
    "# print('==========')\n",
    "# print(res.flatten().tolist())"
   ]
  },
  {
   "cell_type": "markdown",
   "id": "58634a67",
   "metadata": {},
   "source": [
    "### Use of shapiro test"
   ]
  },
  {
   "cell_type": "code",
   "execution_count": null,
   "id": "8bc06acb",
   "metadata": {},
   "outputs": [],
   "source": [
    "# from scipy.stats import norm\n",
    "from scipy.stats import shapiro\n",
    "\n",
    "my_data = nda.item_value_df['representative_value']\n",
    "shapiro(my_data.to_list())"
   ]
  },
  {
   "cell_type": "code",
   "execution_count": null,
   "id": "e798aefa",
   "metadata": {},
   "outputs": [],
   "source": [
    "my_data = nda.item_value_df['guassian_values']\n",
    "shapiro(my_data.to_list())"
   ]
  },
  {
   "cell_type": "code",
   "execution_count": null,
   "id": "305df50a",
   "metadata": {},
   "outputs": [],
   "source": [
    "from numpy.random import randn\n",
    "my_data = randn(1000)\n",
    "print(shapiro(my_data))\n",
    "print(kstest(my_data, 'norm'))"
   ]
  },
  {
   "cell_type": "code",
   "execution_count": null,
   "id": "9e4b663d",
   "metadata": {},
   "outputs": [],
   "source": [
    "print(shapiro(nda.item_value_df['guassian_values'].tolist()))\n",
    "print(kstest(nda.item_value_df['guassian_values'].tolist(), 'norm'))\n",
    "show_fig(x=nda.item_value_df['guassian_values'], curve_type='normal')"
   ]
  },
  {
   "cell_type": "markdown",
   "id": "d6b0c7b9",
   "metadata": {},
   "source": [
    "### Use of px"
   ]
  },
  {
   "cell_type": "code",
   "execution_count": null,
   "id": "e10e293e",
   "metadata": {},
   "outputs": [],
   "source": [
    "import plotly.express as px\n",
    "df = px.data.tips()\n",
    "fig = px.histogram(df, x=\"total_bill\", y=\"tip\", color=\"sex\", marginal=\"rug\",\n",
    "                   hover_data=df.columns)\n",
    "fig.show()\n",
    "df.head()"
   ]
  },
  {
   "cell_type": "code",
   "execution_count": null,
   "id": "9173518b",
   "metadata": {},
   "outputs": [],
   "source": [
    "fig = px.histogram(nda.item_value_df, x=\"guassian_values\")\n",
    "fig.show()\n",
    "fig2 = px.histogram(nda.item_value_df, x=\"representative_value\")\n",
    "fig2.show()"
   ]
  },
  {
   "cell_type": "markdown",
   "id": "46f38316",
   "metadata": {},
   "source": [
    "## Text Analysis"
   ]
  },
  {
   "cell_type": "code",
   "execution_count": null,
   "id": "b11fa835",
   "metadata": {},
   "outputs": [],
   "source": [
    "tsp.show_stats()"
   ]
  },
  {
   "cell_type": "code",
   "execution_count": null,
   "id": "be1b1d2e",
   "metadata": {},
   "outputs": [],
   "source": [
    "# tsp.show_distplot(plot='doc_len')\n",
    "tsp.show_distplot(plot='word_frequency_zipf')"
   ]
  },
  {
   "cell_type": "code",
   "execution_count": null,
   "id": "0b37c7ae",
   "metadata": {},
   "outputs": [],
   "source": [
    "tsp.show_word_clouds(type=\"JJ\")"
   ]
  },
  {
   "cell_type": "code",
   "execution_count": null,
   "id": "7c4cd67f",
   "metadata": {},
   "outputs": [],
   "source": [
    "# import plotly.graph_objs as go\n",
    "# import plotly.figure_factory as ff\n",
    "# fig_w_freq = go.Figure()\n",
    "# fig_w_freq.add_trace(go.Scattergl(x=tsp.analysis.zipf_x,\n",
    "#                                               y=tsp.analysis.zipf_y_emp,\n",
    "#                                               mode='markers',\n",
    "#                                               marker=dict(\n",
    "#                                                     color=tsp.analysis.zipf_x,\n",
    "#                                                     colorscale='Tealgrn',\n",
    "#                                                     )\n",
    "#                                             )\n",
    "#                                 )\n",
    "# fig_w_freq.add_trace(go.Scattergl(x=tsp.analysis.zipf_x,\n",
    "#                                   y=tsp.analysis.zipf_y_theory,\n",
    "#                                   mode='markers',\n",
    "#                                   marker=dict(color=tsp.analysis.zipf_x,\n",
    "#                                               colorscale='Reds'\n",
    "#                                              )\n",
    "#                                  )\n",
    "#                     )\n",
    "\n",
    "# dist_plot_setup = {\n",
    "#             # 'paper_bgcolor': '#007A78',\n",
    "#             'showlegend' : False\n",
    "#             }\n",
    "# fig_w_freq.update_layout(dist_plot_setup)\n",
    "# fig_w_freq.show()"
   ]
  },
  {
   "cell_type": "code",
   "execution_count": null,
   "id": "87bb4ad5",
   "metadata": {},
   "outputs": [],
   "source": [
    "import numpy as np\n",
    "import random\n",
    "\n",
    "# In addition to the original label, for illustration purpose, let's create two random labels:\n",
    "imdb_train['numerical_label'] = np.random.randint(1, 500, imdb_train.shape[0])\n",
    "imdb_train['label2'] = random.choices(['a', 'b', 'c', 'd'], [0.2, 0.5, 0.8, 0.9], k=imdb_train.shape[0])\n",
    "imdb_train['numerical_label2'] = np.random.randint(1, 500, imdb_train.shape[0])"
   ]
  },
  {
   "cell_type": "code",
   "execution_count": null,
   "id": "83c89ab6",
   "metadata": {},
   "outputs": [],
   "source": [
    "lsp = LabelStatsPlots(df=imdb_train, label_columns=[('label', 'categorical'),\n",
    "                                                    ('label2', 'categorical'),\n",
    "                                                    ('numerical_label', 'numerical'),\n",
    "                                                    ('numerical_label2', 'numerical')\n",
    "                                                   ]\n",
    "                     )"
   ]
  },
  {
   "cell_type": "code",
   "execution_count": null,
   "id": "1c104f2d",
   "metadata": {},
   "outputs": [],
   "source": [
    "lsp.show_label_plots()"
   ]
  },
  {
   "cell_type": "code",
   "execution_count": null,
   "id": "316c670f",
   "metadata": {},
   "outputs": [],
   "source": [
    "# lsp.labels_fig.write_html('tmp.html')"
   ]
  },
  {
   "cell_type": "code",
   "execution_count": null,
   "id": "13b42dc2",
   "metadata": {},
   "outputs": [],
   "source": [
    "import plotly.graph_objects as go\n",
    "from plotly.subplots import make_subplots\n",
    "t1 = go.Histogram(x=imdb_train['numerical_labe2'],\n",
    "                  marker=dict(line=dict(width=0.8,\n",
    "                                        color=\"white\")\n",
    "                             )\n",
    "                 )\n",
    "figure = make_subplots(rows=1, cols=1)\n",
    "figure.append_trace(t1, 1, 1)\n",
    "figure.show()"
   ]
  },
  {
   "cell_type": "code",
   "execution_count": null,
   "id": "f451dddd",
   "metadata": {},
   "outputs": [],
   "source": [
    "t1 = go.Histogram(x=imdb_train['numerical_labe2'],\n",
    "                  marker=dict(line=dict(width=0.8,\n",
    "                                        color=\"white\")\n",
    "                             )\n",
    "                 )\n",
    "figure = make_subplots(rows=1, cols=1)\n",
    "figure.append_trace(t1, 1, 1)\n",
    "figure.show()"
   ]
  },
  {
   "cell_type": "code",
   "execution_count": null,
   "id": "0663a142",
   "metadata": {},
   "outputs": [],
   "source": [
    "import plotly.express as px\n",
    "res = imdb_train['new_label'].value_counts()\n",
    "res.columns = ['label', 'count']\n",
    "fig = px.box(res)\n",
    "\n",
    "fig.update_traces(quartilemethod=\"exclusive\") # or \"inclusive\", or \"linear\" by default\n",
    "fig.show()"
   ]
  },
  {
   "cell_type": "code",
   "execution_count": null,
   "id": "b4cbfa32",
   "metadata": {},
   "outputs": [],
   "source": [
    "from wordview.mwes import MWE"
   ]
  },
  {
   "cell_type": "code",
   "execution_count": null,
   "id": "d113aeed",
   "metadata": {},
   "outputs": [],
   "source": [
    "mwe = MWE(df=imdb_train, mwe_types=[\"NC\", \"JNC\"], text_column='text')"
   ]
  },
  {
   "cell_type": "code",
   "execution_count": null,
   "id": "ca69da3f",
   "metadata": {},
   "outputs": [],
   "source": [
    "mwe.build_counts(counts_filename='../tmp/counts.json')"
   ]
  },
  {
   "cell_type": "code",
   "execution_count": null,
   "id": "2eec30d1",
   "metadata": {},
   "outputs": [],
   "source": [
    "mwes_dict = mwe.extract_mwes(counts_filename='../tmp/counts.json', mwes_filename='../tmp/mwes1.json')\n",
    "mwes_nc = {k: v for k, v in mwes_dict['NC'].items()}\n",
    "top_mwes_nc = [[k, v] for k,v in mwes_nc.items()][:10]\n",
    "print(tabulate(top_mwes_nc, tablefmt=\"double_outline\"))"
   ]
  },
  {
   "cell_type": "code",
   "execution_count": null,
   "id": "a03eb424",
   "metadata": {},
   "outputs": [],
   "source": [
    "mwe.extract_mwes(counts_filename='../tmp/counts.json', mwes_filename='../tmp/mwes.json')"
   ]
  },
  {
   "cell_type": "code",
   "execution_count": null,
   "id": "94d83f5f",
   "metadata": {},
   "outputs": [],
   "source": [
    "from wordview.mwes import hyphenate_mwes"
   ]
  },
  {
   "cell_type": "code",
   "execution_count": null,
   "id": "bbb4c377",
   "metadata": {},
   "outputs": [],
   "source": [
    "new_df = hyphenate_mwes(path_to_mwes='../tmp/mwes.json', mwe_types=['NC', 'JNC'], df=imdb_train, text_column='text')"
   ]
  },
  {
   "cell_type": "code",
   "execution_count": null,
   "id": "25d891ff",
   "metadata": {},
   "outputs": [],
   "source": [
    "from wordview.preprocessing import RedunTerms\n",
    "rt = RedunTerms(imdb_train[\"text\"], method='idf')"
   ]
  },
  {
   "cell_type": "code",
   "execution_count": null,
   "id": "1382733a",
   "metadata": {},
   "outputs": [],
   "source": [
    "with open('../tmp/counts.json') as json_file:\n",
    "    counts_dict = json.load(json_file)\n",
    "with open('../tmp/mwes.json') as json_file:\n",
    "    mwes_dict = json.load(json_file)"
   ]
  },
  {
   "cell_type": "code",
   "execution_count": null,
   "id": "911de241",
   "metadata": {},
   "outputs": [],
   "source": [
    "nc_counts = {k: v for k, v in sorted(counts_dict['NC'].items(), key=lambda item: item[1], reverse=True)}\n",
    "nc_association = {k: v for k, v in mwes_dict['NC'].items()}"
   ]
  },
  {
   "cell_type": "code",
   "execution_count": null,
   "id": "d1b8d3cc",
   "metadata": {},
   "outputs": [],
   "source": [
    "top_nc_table = [[k, v] for k,v in nc_counts.items()][:10]\n",
    "top_nc_association_table = [[k, v] for k,v in nc_association.items()][:10]"
   ]
  },
  {
   "cell_type": "code",
   "execution_count": null,
   "id": "0161b1c3",
   "metadata": {},
   "outputs": [],
   "source": [
    "print(tabulate(top_nc_table, tablefmt=\"simple_grid\"))"
   ]
  },
  {
   "cell_type": "code",
   "execution_count": null,
   "id": "c566f4fa",
   "metadata": {},
   "outputs": [],
   "source": [
    "tformat = \"double_outline\" #simple_grid\"\n",
    "print(tabulate(top_nc_association_table, tablefmt=tformat))"
   ]
  },
  {
   "cell_type": "code",
   "execution_count": null,
   "id": "9a3b9045",
   "metadata": {},
   "outputs": [],
   "source": []
  }
 ],
 "metadata": {
  "kernelspec": {
   "display_name": "Python 3 (ipykernel)",
   "language": "python",
   "name": "python3"
  },
  "language_info": {
   "codemirror_mode": {
    "name": "ipython",
    "version": 3
   },
   "file_extension": ".py",
   "mimetype": "text/x-python",
   "name": "python",
   "nbconvert_exporter": "python",
   "pygments_lexer": "ipython3",
   "version": "3.9.10"
  }
 },
 "nbformat": 4,
 "nbformat_minor": 5
}
