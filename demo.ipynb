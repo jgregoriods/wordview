{
 "cells": [
  {
   "cell_type": "code",
   "execution_count": 3,
   "id": "b1ec5af2",
   "metadata": {},
   "outputs": [],
   "source": [
    "from wordview.text_analysis import do_analysis\n",
    "import pandas as pd"
   ]
  },
  {
   "cell_type": "code",
   "execution_count": 4,
   "id": "a1ea4b12",
   "metadata": {},
   "outputs": [],
   "source": [
    "imdb_train = pd.read_csv('data/imdb_train_sample.tsv', sep='\\t', names=['label', 'text'])"
   ]
  },
  {
   "cell_type": "code",
   "execution_count": null,
   "id": "04a7a0a2",
   "metadata": {},
   "outputs": [],
   "source": [
    "\n",
    "do_analysis(\n",
    "    df=imdb_train,\n",
    "    out_dir='output_dir',\n",
    "    text_col: 'text',\n",
    "    label_cols: 'label',\n",
    "    language: str = \"english\",\n",
    "    skip_stopwords_punc: bool = True,\n",
    "    save_report: bool = False,\n",
    ")"
   ]
  }
 ],
 "metadata": {
  "kernelspec": {
   "display_name": "Python 3 (ipykernel)",
   "language": "python",
   "name": "python3"
  },
  "language_info": {
   "codemirror_mode": {
    "name": "ipython",
    "version": 3
   },
   "file_extension": ".py",
   "mimetype": "text/x-python",
   "name": "python",
   "nbconvert_exporter": "python",
   "pygments_lexer": "ipython3",
   "version": "3.9.10"
  }
 },
 "nbformat": 4,
 "nbformat_minor": 5
}
