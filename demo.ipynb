{
 "cells": [
  {
   "cell_type": "code",
   "execution_count": 1,
   "id": "b1ec5af2",
   "metadata": {},
   "outputs": [
    {
     "name": "stderr",
     "output_type": "stream",
     "text": [
      "Warning : `load_model` does not return WordVectorModel or SupervisedModel any more, but a `FastText` object which is very similar.\n"
     ]
    }
   ],
   "source": [
    "from wordview.text_analysis import TextStatsPlots\n",
    "import pandas as pd"
   ]
  },
  {
   "cell_type": "code",
   "execution_count": 2,
   "id": "a1ea4b12",
   "metadata": {},
   "outputs": [],
   "source": [
    "imdb_train = pd.read_csv('data/imdb_train_sample.tsv', sep='\\t', names=['label', 'text'])\n",
    "imdb_train = imdb_train.sample(100)"
   ]
  },
  {
   "cell_type": "code",
   "execution_count": 6,
   "id": "04a7a0a2",
   "metadata": {},
   "outputs": [
    {
     "name": "stderr",
     "output_type": "stream",
     "text": [
      "core            - 450 - INFO - Processing text in text column of the input DataFrame...\n",
      "100%|████████████████████████████████████████████████████████████████████████████████████████████████████████████████████████| 100/100 [00:00<00:00, 119.98it/s]\n",
      "core            - 485 - INFO - Calculating Empirical and Theoretical Zipf values...\n",
      "core            - 490 - INFO - Time to measure predicted proportion for 4807 rows: 0.004616975784301758\n"
     ]
    }
   ],
   "source": [
    "tsp = TextStatsPlots(df=imdb_train, text_column='text')"
   ]
  },
  {
   "cell_type": "code",
   "execution_count": 7,
   "id": "b11fa835",
   "metadata": {},
   "outputs": [
    {
     "data": {
      "text/plain": [
       "{'EN'}"
      ]
     },
     "execution_count": 7,
     "metadata": {},
     "output_type": "execute_result"
    }
   ],
   "source": [
    "tsp.languages"
   ]
  },
  {
   "cell_type": "code",
   "execution_count": 10,
   "id": "be1b1d2e",
   "metadata": {},
   "outputs": [
    {
     "data": {
      "text/plain": [
       "{'doc_len': Figure({\n",
       "     'data': [{'autobinx': False,\n",
       "               'histnorm': 'probability density',\n",
       "               'legendgroup': 'distplot',\n",
       "               'marker': {'color': 'blue'},\n",
       "               'name': 'distplot',\n",
       "               'opacity': 0.7,\n",
       "               'type': 'histogram',\n",
       "               'x': [147, 317, 682, 1071, 99, 131, 164, 487, 145, 167, 184, 206,\n",
       "                     134, 256, 184, 162, 54, 831, 250, 152, 752, 331, 397, 138, 128,\n",
       "                     653, 377, 252, 494, 257, 143, 90, 123, 311, 354, 197, 141, 424,\n",
       "                     392, 35, 171, 178, 231, 161, 234, 339, 567, 437, 288, 143, 418,\n",
       "                     139, 179, 166, 239, 222, 196, 232, 128, 173, 249, 270, 222,\n",
       "                     346, 206, 77, 123, 491, 291, 156, 475, 302, 571, 513, 230, 178,\n",
       "                     145, 233, 35, 136, 138, 812, 161, 423, 77, 432, 56, 164, 296,\n",
       "                     211, 193, 244, 100, 136, 228, 28, 330, 583, 341, 227],\n",
       "               'xaxis': 'x',\n",
       "               'xbins': {'end': 1071.0, 'size': 1.0, 'start': 28.0},\n",
       "               'yaxis': 'y'},\n",
       "              {'legendgroup': 'distplot',\n",
       "               'marker': {'color': 'blue'},\n",
       "               'mode': 'lines',\n",
       "               'name': 'distplot',\n",
       "               'showlegend': False,\n",
       "               'type': 'scatter',\n",
       "               'x': [28.0, 30.086, 32.172, ..., 1064.742, 1066.828, 1068.914],\n",
       "               'xaxis': 'x',\n",
       "               'y': array([9.56829575e-04, 9.85940904e-04, 1.01552459e-03, ..., 5.39199210e-05,\n",
       "                           5.39751969e-05, 5.39926391e-05]),\n",
       "               'yaxis': 'y'},\n",
       "              {'legendgroup': 'distplot',\n",
       "               'marker': {'color': 'blue', 'symbol': 'line-ns-open'},\n",
       "               'mode': 'markers',\n",
       "               'name': 'distplot',\n",
       "               'showlegend': False,\n",
       "               'type': 'scatter',\n",
       "               'x': [147, 317, 682, 1071, 99, 131, 164, 487, 145, 167, 184, 206,\n",
       "                     134, 256, 184, 162, 54, 831, 250, 152, 752, 331, 397, 138, 128,\n",
       "                     653, 377, 252, 494, 257, 143, 90, 123, 311, 354, 197, 141, 424,\n",
       "                     392, 35, 171, 178, 231, 161, 234, 339, 567, 437, 288, 143, 418,\n",
       "                     139, 179, 166, 239, 222, 196, 232, 128, 173, 249, 270, 222,\n",
       "                     346, 206, 77, 123, 491, 291, 156, 475, 302, 571, 513, 230, 178,\n",
       "                     145, 233, 35, 136, 138, 812, 161, 423, 77, 432, 56, 164, 296,\n",
       "                     211, 193, 244, 100, 136, 228, 28, 330, 583, 341, 227],\n",
       "               'xaxis': 'x',\n",
       "               'y': [distplot, distplot, distplot, distplot, distplot, distplot,\n",
       "                     distplot, distplot, distplot, distplot, distplot, distplot,\n",
       "                     distplot, distplot, distplot, distplot, distplot, distplot,\n",
       "                     distplot, distplot, distplot, distplot, distplot, distplot,\n",
       "                     distplot, distplot, distplot, distplot, distplot, distplot,\n",
       "                     distplot, distplot, distplot, distplot, distplot, distplot,\n",
       "                     distplot, distplot, distplot, distplot, distplot, distplot,\n",
       "                     distplot, distplot, distplot, distplot, distplot, distplot,\n",
       "                     distplot, distplot, distplot, distplot, distplot, distplot,\n",
       "                     distplot, distplot, distplot, distplot, distplot, distplot,\n",
       "                     distplot, distplot, distplot, distplot, distplot, distplot,\n",
       "                     distplot, distplot, distplot, distplot, distplot, distplot,\n",
       "                     distplot, distplot, distplot, distplot, distplot, distplot,\n",
       "                     distplot, distplot, distplot, distplot, distplot, distplot,\n",
       "                     distplot, distplot, distplot, distplot, distplot, distplot,\n",
       "                     distplot, distplot, distplot, distplot, distplot, distplot,\n",
       "                     distplot, distplot, distplot, distplot],\n",
       "               'yaxis': 'y2'}],\n",
       "     'layout': {'barmode': 'overlay',\n",
       "                'hovermode': 'closest',\n",
       "                'legend': {'traceorder': 'reversed'},\n",
       "                'paper_bgcolor': '#007A78',\n",
       "                'template': '...',\n",
       "                'xaxis': {'anchor': 'y2', 'domain': [0.0, 1.0], 'zeroline': False},\n",
       "                'yaxis': {'anchor': 'free', 'domain': [0.35, 1], 'position': 0.0},\n",
       "                'yaxis2': {'anchor': 'x', 'domain': [0, 0.25], 'dtick': 1, 'showticklabels': False}}\n",
       " }),\n",
       " 'word_frequency_zipf': Figure({\n",
       "     'data': [{'mode': 'markers',\n",
       "               'type': 'scattergl',\n",
       "               'x': array([0.        , 0.69314718, 1.09861229, ..., 8.47741232, 8.47762042,\n",
       "                           8.47782847]),\n",
       "               'y': array([2.19722458, 3.21887582, 3.09104245, ..., 0.        , 0.        ,\n",
       "                           0.        ])},\n",
       "              {'mode': 'markers',\n",
       "               'type': 'scattergl',\n",
       "               'x': array([0.        , 0.69314718, 1.09861229, ..., 8.47741232, 8.47762042,\n",
       "                           8.47782847]),\n",
       "               'y': array([ 7.14807554,  6.45492836,  6.04946326, ..., -1.32933678, -1.32954487,\n",
       "                           -1.32975292])}],\n",
       "     'layout': {'paper_bgcolor': '#007A78', 'template': '...'}\n",
       " })}"
      ]
     },
     "execution_count": 10,
     "metadata": {},
     "output_type": "execute_result"
    }
   ],
   "source": [
    "tsp.dist_plots.doc_len"
   ]
  },
  {
   "cell_type": "code",
   "execution_count": null,
   "id": "a19031d8",
   "metadata": {},
   "outputs": [],
   "source": []
  }
 ],
 "metadata": {
  "kernelspec": {
   "display_name": "Python 3 (ipykernel)",
   "language": "python",
   "name": "python3"
  },
  "language_info": {
   "codemirror_mode": {
    "name": "ipython",
    "version": 3
   },
   "file_extension": ".py",
   "mimetype": "text/x-python",
   "name": "python",
   "nbconvert_exporter": "python",
   "pygments_lexer": "ipython3",
   "version": "3.9.10"
  }
 },
 "nbformat": 4,
 "nbformat_minor": 5
}
